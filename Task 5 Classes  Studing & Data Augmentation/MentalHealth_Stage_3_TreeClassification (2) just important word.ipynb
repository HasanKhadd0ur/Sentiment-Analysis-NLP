{
  "cells": [
    {
      "cell_type": "markdown",
      "metadata": {
        "id": "m8rEkxRwtt4k"
      },
      "source": [
        "# Dataset Loading from previous stage"
      ]
    },
    {
      "cell_type": "markdown",
      "metadata": {
        "id": "fBOZoO39FiBE"
      },
      "source": [
        "### Constants"
      ]
    },
    {
      "cell_type": "code",
      "execution_count": 90,
      "metadata": {
        "id": "Q7Io-5N4Fk5x"
      },
      "outputs": [],
      "source": [
        "data_read_path = '/content/drive/MyDrive/CombinedData.csv'\n",
        "data_clean_path='/content/drive/MyDrive/CombinedDataCleaned.csv'\n",
        "data_nlped_path='/content/drive/MyDrive/CombinedDataNLPed.csv'\n"
      ]
    },
    {
      "cell_type": "markdown",
      "metadata": {
        "id": "af1gvf4LexF1"
      },
      "source": [
        "## Import Libraries\n",
        "---\n",
        "lets start by importing the nessacary libraries"
      ]
    },
    {
      "cell_type": "markdown",
      "metadata": {
        "id": "Z7ppN7R6VVZK"
      },
      "source": [
        "#### insatll stanza"
      ]
    },
    {
      "cell_type": "code",
      "execution_count": 91,
      "metadata": {
        "colab": {
          "base_uri": "https://localhost:8080/"
        },
        "id": "b-6CwuswmqE8",
        "outputId": "08754f5b-4682-4539-d645-964e7bd4b89f"
      },
      "outputs": [
        {
          "output_type": "stream",
          "name": "stdout",
          "text": [
            "Requirement already satisfied: contractions in /usr/local/lib/python3.10/dist-packages (0.1.73)\n",
            "Requirement already satisfied: textsearch>=0.0.21 in /usr/local/lib/python3.10/dist-packages (from contractions) (0.0.24)\n",
            "Requirement already satisfied: anyascii in /usr/local/lib/python3.10/dist-packages (from textsearch>=0.0.21->contractions) (0.3.2)\n",
            "Requirement already satisfied: pyahocorasick in /usr/local/lib/python3.10/dist-packages (from textsearch>=0.0.21->contractions) (2.1.0)\n"
          ]
        }
      ],
      "source": [
        "pip install contractions"
      ]
    },
    {
      "cell_type": "code",
      "execution_count": 92,
      "metadata": {
        "colab": {
          "base_uri": "https://localhost:8080/"
        },
        "id": "JzYMui5-Va8Y",
        "outputId": "07cb848d-f24f-4a77-8df7-c0efdf6c5908"
      },
      "outputs": [
        {
          "output_type": "stream",
          "name": "stdout",
          "text": [
            "Requirement already satisfied: stanza in /usr/local/lib/python3.10/dist-packages (1.10.1)\n",
            "Requirement already satisfied: emoji in /usr/local/lib/python3.10/dist-packages (from stanza) (2.14.0)\n",
            "Requirement already satisfied: numpy in /usr/local/lib/python3.10/dist-packages (from stanza) (1.26.4)\n",
            "Requirement already satisfied: protobuf>=3.15.0 in /usr/local/lib/python3.10/dist-packages (from stanza) (4.25.5)\n",
            "Requirement already satisfied: requests in /usr/local/lib/python3.10/dist-packages (from stanza) (2.32.3)\n",
            "Requirement already satisfied: networkx in /usr/local/lib/python3.10/dist-packages (from stanza) (3.4.2)\n",
            "Requirement already satisfied: tomli in /usr/local/lib/python3.10/dist-packages (from stanza) (2.2.1)\n",
            "Requirement already satisfied: torch>=1.3.0 in /usr/local/lib/python3.10/dist-packages (from stanza) (2.5.1+cu121)\n",
            "Requirement already satisfied: tqdm in /usr/local/lib/python3.10/dist-packages (from stanza) (4.67.1)\n",
            "Requirement already satisfied: filelock in /usr/local/lib/python3.10/dist-packages (from torch>=1.3.0->stanza) (3.16.1)\n",
            "Requirement already satisfied: typing-extensions>=4.8.0 in /usr/local/lib/python3.10/dist-packages (from torch>=1.3.0->stanza) (4.12.2)\n",
            "Requirement already satisfied: jinja2 in /usr/local/lib/python3.10/dist-packages (from torch>=1.3.0->stanza) (3.1.5)\n",
            "Requirement already satisfied: fsspec in /usr/local/lib/python3.10/dist-packages (from torch>=1.3.0->stanza) (2024.10.0)\n",
            "Requirement already satisfied: sympy==1.13.1 in /usr/local/lib/python3.10/dist-packages (from torch>=1.3.0->stanza) (1.13.1)\n",
            "Requirement already satisfied: mpmath<1.4,>=1.1.0 in /usr/local/lib/python3.10/dist-packages (from sympy==1.13.1->torch>=1.3.0->stanza) (1.3.0)\n",
            "Requirement already satisfied: charset-normalizer<4,>=2 in /usr/local/lib/python3.10/dist-packages (from requests->stanza) (3.4.1)\n",
            "Requirement already satisfied: idna<4,>=2.5 in /usr/local/lib/python3.10/dist-packages (from requests->stanza) (3.10)\n",
            "Requirement already satisfied: urllib3<3,>=1.21.1 in /usr/local/lib/python3.10/dist-packages (from requests->stanza) (2.3.0)\n",
            "Requirement already satisfied: certifi>=2017.4.17 in /usr/local/lib/python3.10/dist-packages (from requests->stanza) (2024.12.14)\n",
            "Requirement already satisfied: MarkupSafe>=2.0 in /usr/local/lib/python3.10/dist-packages (from jinja2->torch>=1.3.0->stanza) (3.0.2)\n"
          ]
        }
      ],
      "source": [
        "pip install stanza"
      ]
    },
    {
      "cell_type": "markdown",
      "metadata": {
        "id": "D7sgY1lGFDs6"
      },
      "source": [
        "### import"
      ]
    },
    {
      "cell_type": "code",
      "execution_count": 93,
      "metadata": {
        "id": "Krv1D_e3eWlK"
      },
      "outputs": [],
      "source": [
        "import pandas as pd\n",
        "import numpy as np\n",
        "import matplotlib.pyplot as plt\n",
        "import seaborn as sns\n",
        "%matplotlib inline\n",
        "from nltk.corpus import stopwords\n",
        "from imblearn.over_sampling import SMOTE\n",
        "from sklearn.feature_extraction.text import TfidfVectorizer\n",
        "from scipy.sparse import hstack\n",
        "import emoji\n",
        "from sklearn.metrics import make_scorer, recall_score, precision_score\n",
        "import contractions\n",
        "import re\n",
        "import numpy as np\n",
        "import matplotlib.pyplot as plt\n",
        "from sklearn.feature_selection import SelectKBest, mutual_info_classif ,chi2\n",
        "from sklearn.linear_model import LogisticRegression\n",
        "from sklearn.metrics import accuracy_score\n",
        "from sklearn.model_selection import train_test_split\n",
        "import random\n",
        "#from imblearn.over_sampling import RandomOverSampler\n",
        "from scipy.sparse import hstack  # To combine sparse matrices\n",
        "from wordcloud import WordCloud\n",
        "from tensorflow.keras.models import Sequential\n",
        "from tensorflow.keras.layers import Dense, Dropout\n",
        "from tensorflow.keras.optimizers import Adam\n",
        "from tensorflow.keras.layers import BatchNormalization\n",
        "from sklearn.metrics import accuracy_score, confusion_matrix, classification_report\n",
        "from tensorflow.keras.regularizers import l2\n",
        "\n",
        "from sklearn.svm import SVC\n",
        "from sklearn.model_selection import GridSearchCV\n",
        "from sklearn.metrics import accuracy_score, confusion_matrix, classification_report\n",
        "from sklearn.neighbors import KNeighborsClassifier\n",
        "from sklearn.model_selection import GridSearchCV\n",
        "from sklearn.metrics import accuracy_score, confusion_matrix, classification_report\n",
        "from sklearn.linear_model import LogisticRegression\n",
        "from sklearn.model_selection import GridSearchCV\n",
        "from sklearn.metrics import accuracy_score, confusion_matrix, classification_report\n",
        "from google.colab import drive\n",
        "from textblob import TextBlob\n",
        "\n",
        "\n",
        "import nltk\n",
        "from nltk.tokenize import word_tokenize\n",
        "from nltk.stem import PorterStemmer\n",
        "\n",
        "import stanza\n",
        "from sklearn.feature_extraction.text import TfidfVectorizer\n",
        "from sklearn.model_selection import train_test_split, GridSearchCV\n",
        "from sklearn.preprocessing import LabelEncoder\n",
        "from sklearn.linear_model import LogisticRegression\n",
        "from sklearn.naive_bayes import BernoulliNB\n",
        "from sklearn.tree import DecisionTreeClassifier\n",
        "from sklearn.metrics import accuracy_score, classification_report, confusion_matrix\n",
        "\n",
        "import warnings\n",
        "warnings.filterwarnings(\"ignore\")"
      ]
    },
    {
      "cell_type": "code",
      "execution_count": 94,
      "metadata": {
        "colab": {
          "base_uri": "https://localhost:8080/"
        },
        "id": "_haVmI4LYEId",
        "outputId": "992a2b83-156f-441a-8c0c-95ee2c4cef6e"
      },
      "outputs": [
        {
          "output_type": "stream",
          "name": "stdout",
          "text": [
            "Num GPUs Available:  0\n"
          ]
        }
      ],
      "source": [
        "import tensorflow as tf\n",
        "\n",
        "# Check if GPU is available\n",
        "print(\"Num GPUs Available: \", len(tf.config.list_physical_devices('GPU')))\n"
      ]
    },
    {
      "cell_type": "markdown",
      "metadata": {
        "id": "jH6im3xME6T_"
      },
      "source": [
        "### Download packages"
      ]
    },
    {
      "cell_type": "code",
      "execution_count": 95,
      "metadata": {
        "colab": {
          "base_uri": "https://localhost:8080/"
        },
        "id": "pC17Na0_FAkf",
        "outputId": "3a2cd25e-8656-4bd9-f366-a73ab83e4993"
      },
      "outputs": [
        {
          "output_type": "stream",
          "name": "stderr",
          "text": [
            "[nltk_data] Downloading package stopwords to /root/nltk_data...\n",
            "[nltk_data]   Package stopwords is already up-to-date!\n",
            "[nltk_data] Downloading package punkt to /root/nltk_data...\n",
            "[nltk_data]   Package punkt is already up-to-date!\n",
            "[nltk_data] Downloading package punkt_tab to /root/nltk_data...\n",
            "[nltk_data]   Package punkt_tab is already up-to-date!\n",
            "[nltk_data] Downloading package averaged_perceptron_tagger_eng to\n",
            "[nltk_data]     /root/nltk_data...\n",
            "[nltk_data]   Package averaged_perceptron_tagger_eng is already up-to-\n",
            "[nltk_data]       date!\n"
          ]
        },
        {
          "output_type": "execute_result",
          "data": {
            "text/plain": [
              "True"
            ]
          },
          "metadata": {},
          "execution_count": 95
        }
      ],
      "source": [
        "nltk.download('stopwords')\n",
        "nltk.download('punkt')\n",
        "nltk.download('punkt_tab')\n",
        "nltk.download('averaged_perceptron_tagger_eng')\n"
      ]
    },
    {
      "cell_type": "markdown",
      "metadata": {
        "id": "NlQxSzrWk51W"
      },
      "source": [
        "## Loading the dataset"
      ]
    },
    {
      "cell_type": "code",
      "execution_count": 96,
      "metadata": {
        "colab": {
          "base_uri": "https://localhost:8080/"
        },
        "id": "4keFRwVDzDvC",
        "outputId": "8eb386f2-8488-48cc-8671-987a8e91ae6f"
      },
      "outputs": [
        {
          "output_type": "stream",
          "name": "stdout",
          "text": [
            "Drive already mounted at /content/drive; to attempt to forcibly remount, call drive.mount(\"/content/drive\", force_remount=True).\n"
          ]
        }
      ],
      "source": [
        "drive.mount('/content/drive')"
      ]
    },
    {
      "cell_type": "code",
      "execution_count": 97,
      "metadata": {
        "id": "HYum3Ub9fOa-"
      },
      "outputs": [],
      "source": [
        "df = pd.read_csv(data_nlped_path)"
      ]
    },
    {
      "cell_type": "code",
      "execution_count": 98,
      "metadata": {
        "id": "fNnBBB_6ecXi"
      },
      "outputs": [],
      "source": [
        "df.fillna(\"\", inplace=True)"
      ]
    },
    {
      "cell_type": "code",
      "execution_count": 99,
      "metadata": {
        "colab": {
          "base_uri": "https://localhost:8080/",
          "height": 354
        },
        "id": "XWnQ63c-fOPv",
        "outputId": "083ece66-190d-4230-8cef-abf986bfff91"
      },
      "outputs": [
        {
          "output_type": "execute_result",
          "data": {
            "text/plain": [
              "                                           statement   status  \\\n",
              "0                                         oh my gosh  Anxiety   \n",
              "1  trouble sleeping confused mind restless heart ...  Anxiety   \n",
              "2  all wrong back off dear forward doubt stay in ...  Anxiety   \n",
              "\n",
              "   statemnent_length  num_of_words  num_of_sentences  \\\n",
              "0                 10             3                 1   \n",
              "1                 64            10                 2   \n",
              "2                 78            14                 2   \n",
              "\n",
              "                               statement_with_emojis  \\\n",
              "0                                         oh my gosh   \n",
              "1  trouble sleeping confused mind restless heart ...   \n",
              "2  all wrong back off dear forward doubt stay in ...   \n",
              "\n",
              "                                              tokens  \\\n",
              "0                               ['oh', 'my', 'gosh']   \n",
              "1  ['trouble', 'sleeping', 'confused', 'mind', 'r...   \n",
              "2  ['all', 'wrong', 'back', 'off', 'dear', 'forwa...   \n",
              "\n",
              "                                      tokens_stemmed       tokens_verbs  \\\n",
              "0                                         oh my gosh                      \n",
              "1  troubl sleep confus mind restless heart all ou...  sleeping confused   \n",
              "2  all wrong back off dear forward doubt stay in ...                      \n",
              "\n",
              "                     tokens_nouns      tokens_adj  \\\n",
              "0                            gosh                   \n",
              "1         trouble mind heart tune        restless   \n",
              "2  dear doubt stay restless place  wrong restless   \n",
              "\n",
              "                                     important_words  \n",
              "0                                         gosh my oh  \n",
              "1  out mind all tune sleeping confused restless h...  \n",
              "2  wrong all place stay doubt dear a restless off...  "
            ],
            "text/html": [
              "\n",
              "  <div id=\"df-87909f81-78f4-4c53-81af-c74889ae4b8b\" class=\"colab-df-container\">\n",
              "    <div>\n",
              "<style scoped>\n",
              "    .dataframe tbody tr th:only-of-type {\n",
              "        vertical-align: middle;\n",
              "    }\n",
              "\n",
              "    .dataframe tbody tr th {\n",
              "        vertical-align: top;\n",
              "    }\n",
              "\n",
              "    .dataframe thead th {\n",
              "        text-align: right;\n",
              "    }\n",
              "</style>\n",
              "<table border=\"1\" class=\"dataframe\">\n",
              "  <thead>\n",
              "    <tr style=\"text-align: right;\">\n",
              "      <th></th>\n",
              "      <th>statement</th>\n",
              "      <th>status</th>\n",
              "      <th>statemnent_length</th>\n",
              "      <th>num_of_words</th>\n",
              "      <th>num_of_sentences</th>\n",
              "      <th>statement_with_emojis</th>\n",
              "      <th>tokens</th>\n",
              "      <th>tokens_stemmed</th>\n",
              "      <th>tokens_verbs</th>\n",
              "      <th>tokens_nouns</th>\n",
              "      <th>tokens_adj</th>\n",
              "      <th>important_words</th>\n",
              "    </tr>\n",
              "  </thead>\n",
              "  <tbody>\n",
              "    <tr>\n",
              "      <th>0</th>\n",
              "      <td>oh my gosh</td>\n",
              "      <td>Anxiety</td>\n",
              "      <td>10</td>\n",
              "      <td>3</td>\n",
              "      <td>1</td>\n",
              "      <td>oh my gosh</td>\n",
              "      <td>['oh', 'my', 'gosh']</td>\n",
              "      <td>oh my gosh</td>\n",
              "      <td></td>\n",
              "      <td>gosh</td>\n",
              "      <td></td>\n",
              "      <td>gosh my oh</td>\n",
              "    </tr>\n",
              "    <tr>\n",
              "      <th>1</th>\n",
              "      <td>trouble sleeping confused mind restless heart ...</td>\n",
              "      <td>Anxiety</td>\n",
              "      <td>64</td>\n",
              "      <td>10</td>\n",
              "      <td>2</td>\n",
              "      <td>trouble sleeping confused mind restless heart ...</td>\n",
              "      <td>['trouble', 'sleeping', 'confused', 'mind', 'r...</td>\n",
              "      <td>troubl sleep confus mind restless heart all ou...</td>\n",
              "      <td>sleeping confused</td>\n",
              "      <td>trouble mind heart tune</td>\n",
              "      <td>restless</td>\n",
              "      <td>out mind all tune sleeping confused restless h...</td>\n",
              "    </tr>\n",
              "    <tr>\n",
              "      <th>2</th>\n",
              "      <td>all wrong back off dear forward doubt stay in ...</td>\n",
              "      <td>Anxiety</td>\n",
              "      <td>78</td>\n",
              "      <td>14</td>\n",
              "      <td>2</td>\n",
              "      <td>all wrong back off dear forward doubt stay in ...</td>\n",
              "      <td>['all', 'wrong', 'back', 'off', 'dear', 'forwa...</td>\n",
              "      <td>all wrong back off dear forward doubt stay in ...</td>\n",
              "      <td></td>\n",
              "      <td>dear doubt stay restless place</td>\n",
              "      <td>wrong restless</td>\n",
              "      <td>wrong all place stay doubt dear a restless off...</td>\n",
              "    </tr>\n",
              "  </tbody>\n",
              "</table>\n",
              "</div>\n",
              "    <div class=\"colab-df-buttons\">\n",
              "\n",
              "  <div class=\"colab-df-container\">\n",
              "    <button class=\"colab-df-convert\" onclick=\"convertToInteractive('df-87909f81-78f4-4c53-81af-c74889ae4b8b')\"\n",
              "            title=\"Convert this dataframe to an interactive table.\"\n",
              "            style=\"display:none;\">\n",
              "\n",
              "  <svg xmlns=\"http://www.w3.org/2000/svg\" height=\"24px\" viewBox=\"0 -960 960 960\">\n",
              "    <path d=\"M120-120v-720h720v720H120Zm60-500h600v-160H180v160Zm220 220h160v-160H400v160Zm0 220h160v-160H400v160ZM180-400h160v-160H180v160Zm440 0h160v-160H620v160ZM180-180h160v-160H180v160Zm440 0h160v-160H620v160Z\"/>\n",
              "  </svg>\n",
              "    </button>\n",
              "\n",
              "  <style>\n",
              "    .colab-df-container {\n",
              "      display:flex;\n",
              "      gap: 12px;\n",
              "    }\n",
              "\n",
              "    .colab-df-convert {\n",
              "      background-color: #E8F0FE;\n",
              "      border: none;\n",
              "      border-radius: 50%;\n",
              "      cursor: pointer;\n",
              "      display: none;\n",
              "      fill: #1967D2;\n",
              "      height: 32px;\n",
              "      padding: 0 0 0 0;\n",
              "      width: 32px;\n",
              "    }\n",
              "\n",
              "    .colab-df-convert:hover {\n",
              "      background-color: #E2EBFA;\n",
              "      box-shadow: 0px 1px 2px rgba(60, 64, 67, 0.3), 0px 1px 3px 1px rgba(60, 64, 67, 0.15);\n",
              "      fill: #174EA6;\n",
              "    }\n",
              "\n",
              "    .colab-df-buttons div {\n",
              "      margin-bottom: 4px;\n",
              "    }\n",
              "\n",
              "    [theme=dark] .colab-df-convert {\n",
              "      background-color: #3B4455;\n",
              "      fill: #D2E3FC;\n",
              "    }\n",
              "\n",
              "    [theme=dark] .colab-df-convert:hover {\n",
              "      background-color: #434B5C;\n",
              "      box-shadow: 0px 1px 3px 1px rgba(0, 0, 0, 0.15);\n",
              "      filter: drop-shadow(0px 1px 2px rgba(0, 0, 0, 0.3));\n",
              "      fill: #FFFFFF;\n",
              "    }\n",
              "  </style>\n",
              "\n",
              "    <script>\n",
              "      const buttonEl =\n",
              "        document.querySelector('#df-87909f81-78f4-4c53-81af-c74889ae4b8b button.colab-df-convert');\n",
              "      buttonEl.style.display =\n",
              "        google.colab.kernel.accessAllowed ? 'block' : 'none';\n",
              "\n",
              "      async function convertToInteractive(key) {\n",
              "        const element = document.querySelector('#df-87909f81-78f4-4c53-81af-c74889ae4b8b');\n",
              "        const dataTable =\n",
              "          await google.colab.kernel.invokeFunction('convertToInteractive',\n",
              "                                                    [key], {});\n",
              "        if (!dataTable) return;\n",
              "\n",
              "        const docLinkHtml = 'Like what you see? Visit the ' +\n",
              "          '<a target=\"_blank\" href=https://colab.research.google.com/notebooks/data_table.ipynb>data table notebook</a>'\n",
              "          + ' to learn more about interactive tables.';\n",
              "        element.innerHTML = '';\n",
              "        dataTable['output_type'] = 'display_data';\n",
              "        await google.colab.output.renderOutput(dataTable, element);\n",
              "        const docLink = document.createElement('div');\n",
              "        docLink.innerHTML = docLinkHtml;\n",
              "        element.appendChild(docLink);\n",
              "      }\n",
              "    </script>\n",
              "  </div>\n",
              "\n",
              "\n",
              "<div id=\"df-4ad081fb-1319-4340-bbee-4680907fe5b6\">\n",
              "  <button class=\"colab-df-quickchart\" onclick=\"quickchart('df-4ad081fb-1319-4340-bbee-4680907fe5b6')\"\n",
              "            title=\"Suggest charts\"\n",
              "            style=\"display:none;\">\n",
              "\n",
              "<svg xmlns=\"http://www.w3.org/2000/svg\" height=\"24px\"viewBox=\"0 0 24 24\"\n",
              "     width=\"24px\">\n",
              "    <g>\n",
              "        <path d=\"M19 3H5c-1.1 0-2 .9-2 2v14c0 1.1.9 2 2 2h14c1.1 0 2-.9 2-2V5c0-1.1-.9-2-2-2zM9 17H7v-7h2v7zm4 0h-2V7h2v10zm4 0h-2v-4h2v4z\"/>\n",
              "    </g>\n",
              "</svg>\n",
              "  </button>\n",
              "\n",
              "<style>\n",
              "  .colab-df-quickchart {\n",
              "      --bg-color: #E8F0FE;\n",
              "      --fill-color: #1967D2;\n",
              "      --hover-bg-color: #E2EBFA;\n",
              "      --hover-fill-color: #174EA6;\n",
              "      --disabled-fill-color: #AAA;\n",
              "      --disabled-bg-color: #DDD;\n",
              "  }\n",
              "\n",
              "  [theme=dark] .colab-df-quickchart {\n",
              "      --bg-color: #3B4455;\n",
              "      --fill-color: #D2E3FC;\n",
              "      --hover-bg-color: #434B5C;\n",
              "      --hover-fill-color: #FFFFFF;\n",
              "      --disabled-bg-color: #3B4455;\n",
              "      --disabled-fill-color: #666;\n",
              "  }\n",
              "\n",
              "  .colab-df-quickchart {\n",
              "    background-color: var(--bg-color);\n",
              "    border: none;\n",
              "    border-radius: 50%;\n",
              "    cursor: pointer;\n",
              "    display: none;\n",
              "    fill: var(--fill-color);\n",
              "    height: 32px;\n",
              "    padding: 0;\n",
              "    width: 32px;\n",
              "  }\n",
              "\n",
              "  .colab-df-quickchart:hover {\n",
              "    background-color: var(--hover-bg-color);\n",
              "    box-shadow: 0 1px 2px rgba(60, 64, 67, 0.3), 0 1px 3px 1px rgba(60, 64, 67, 0.15);\n",
              "    fill: var(--button-hover-fill-color);\n",
              "  }\n",
              "\n",
              "  .colab-df-quickchart-complete:disabled,\n",
              "  .colab-df-quickchart-complete:disabled:hover {\n",
              "    background-color: var(--disabled-bg-color);\n",
              "    fill: var(--disabled-fill-color);\n",
              "    box-shadow: none;\n",
              "  }\n",
              "\n",
              "  .colab-df-spinner {\n",
              "    border: 2px solid var(--fill-color);\n",
              "    border-color: transparent;\n",
              "    border-bottom-color: var(--fill-color);\n",
              "    animation:\n",
              "      spin 1s steps(1) infinite;\n",
              "  }\n",
              "\n",
              "  @keyframes spin {\n",
              "    0% {\n",
              "      border-color: transparent;\n",
              "      border-bottom-color: var(--fill-color);\n",
              "      border-left-color: var(--fill-color);\n",
              "    }\n",
              "    20% {\n",
              "      border-color: transparent;\n",
              "      border-left-color: var(--fill-color);\n",
              "      border-top-color: var(--fill-color);\n",
              "    }\n",
              "    30% {\n",
              "      border-color: transparent;\n",
              "      border-left-color: var(--fill-color);\n",
              "      border-top-color: var(--fill-color);\n",
              "      border-right-color: var(--fill-color);\n",
              "    }\n",
              "    40% {\n",
              "      border-color: transparent;\n",
              "      border-right-color: var(--fill-color);\n",
              "      border-top-color: var(--fill-color);\n",
              "    }\n",
              "    60% {\n",
              "      border-color: transparent;\n",
              "      border-right-color: var(--fill-color);\n",
              "    }\n",
              "    80% {\n",
              "      border-color: transparent;\n",
              "      border-right-color: var(--fill-color);\n",
              "      border-bottom-color: var(--fill-color);\n",
              "    }\n",
              "    90% {\n",
              "      border-color: transparent;\n",
              "      border-bottom-color: var(--fill-color);\n",
              "    }\n",
              "  }\n",
              "</style>\n",
              "\n",
              "  <script>\n",
              "    async function quickchart(key) {\n",
              "      const quickchartButtonEl =\n",
              "        document.querySelector('#' + key + ' button');\n",
              "      quickchartButtonEl.disabled = true;  // To prevent multiple clicks.\n",
              "      quickchartButtonEl.classList.add('colab-df-spinner');\n",
              "      try {\n",
              "        const charts = await google.colab.kernel.invokeFunction(\n",
              "            'suggestCharts', [key], {});\n",
              "      } catch (error) {\n",
              "        console.error('Error during call to suggestCharts:', error);\n",
              "      }\n",
              "      quickchartButtonEl.classList.remove('colab-df-spinner');\n",
              "      quickchartButtonEl.classList.add('colab-df-quickchart-complete');\n",
              "    }\n",
              "    (() => {\n",
              "      let quickchartButtonEl =\n",
              "        document.querySelector('#df-4ad081fb-1319-4340-bbee-4680907fe5b6 button');\n",
              "      quickchartButtonEl.style.display =\n",
              "        google.colab.kernel.accessAllowed ? 'block' : 'none';\n",
              "    })();\n",
              "  </script>\n",
              "</div>\n",
              "\n",
              "    </div>\n",
              "  </div>\n"
            ],
            "application/vnd.google.colaboratory.intrinsic+json": {
              "type": "dataframe",
              "variable_name": "df",
              "summary": "{\n  \"name\": \"df\",\n  \"rows\": 52681,\n  \"fields\": [\n    {\n      \"column\": \"statement\",\n      \"properties\": {\n        \"dtype\": \"string\",\n        \"num_unique_values\": 50954,\n        \"samples\": [\n          \"tldr just some selfloathing deep seated depressive issues of disappointment and suicidal wishes moving right along blablabla nevermind ehi am a loser to be honest i do not think i can achieve anything in the face of this world i see people so much better than me so much smarter and more dedicated and more put together and more successfulthey can achieve anything then i see people that are poorer than me less fortunate than me have suffered more than me look more disheveled and more less educated but then i see they too are successfulthey can achieve anythingi cannot achieve anythingi am stuck in a dull sinking horrible prison of failure and hopelessness lost alone and above all far from any sort of success i look at myself and i am disappointed more disappointed than anyone on this planeti put on my selfloathing gloves and i start to punch myself repeatedly with itagainyou are your problem they are so right it is pointless pointless to try and help youyou will never amount to anything because no one cares no one cares about helping you what makes you so special nothing there are people just like you and they are all betteryou cannot even try your best is pathetic you are weakyou cannot be like them you will never be like them you will never see any fragment of happiness and peace that they have taken for themselves because you cannot take anythingyou have become a revolting she will of your better years it is sickening to look at you 27 friendless helpless living in your own hell just to make you feel like you can relate to othersyou do not belong you should not be alive you should crawl under the earth like the pathetic useless rotten little pest you are you have no purpose here you are not even wantedgo ahead and cry oh that is right you are too embarrassed and empty to cry good if you will not cry no one can hear me tell you that you will never amount to anything for as long as you live because you will be doing everyone a favor to just stop breathing up the air they deserve more than you dowhat is wrong with you really it is pathetic you are the worst living thing in existence and i have been stung by waspsyou are a burden to be around to look at to even talk to look at youyou cannot even comfort yourself without looking like a sad ragdoll and nobody is going to come and help you no one is there for you no one you are nothing you will never be anythingjust a sorry piece of meat slowly decaying awayi leave myself alonei have dealt enough blows to equate to seven or eight cuts on my arm even thenthose cuts would heal faster i am in the dark i am silenti look around i want to go home i am homeno i am noti am someplace strange and distant i am trapped in this weak little womans body lamenting resentingregrettingi fade i turn off my emotions i am numbi am scared why why do i have to be so afraid all the time why do i feel it is alwaysalways my fault why cannot i just feel alive instead of already dead i do not like this i do not like me i want to be liked i want to be treasured i do not want to be alonei do not want to be in pain i do not want to face the reality i fear is too harsh to handle i do not want to livebut i musti must make it to 2022and wake up in the exact same place in life i am in now nothingchangingnot getting any betternot crying outnot fighting backnot hoping for a better future for myselfnot trying to pull myself back up onto my feeti am running out of steamout of hopeout of optionsi am tiredof hearing the same things overand overand overagainand againtired of going unheard unseentired of the liesseeking help means helping yourself means little when you want nothing more than to give upand not keep goingit is too painful it is too much it is so much to endureand it is not fair i am tired of enduringi am tired of being so unable to liveso why should ii have been going for a walk around my block lately in the morning i read somewhere it helps with regulating my sleep and quelling night anxiety i do not believe i can fight back everything this way especially since i walk alone especially since walking does not solve feelings of disappointment but it is an escape that is not deathand it is a distractionfrom my selfloathing i have some deep lows and my mood can become so bad that i start to scream for someone to help me to please help me i am in so much pain and selfwrought with agonizing guilt and shame i do not know what to do anymore butthen the mood starts to numb i do not care anymore i hope that something awful happens to me while i am out because i deserve it and then my mood starts to lift off i leave with a feeling of freedom and carelessness i breathe deep and full i take myself places because no one else will i be myself because nobody will remember me anyway and i feed myself and comfort myselfand i feel okay i feel finally fine until i do not againand it all begins over againi do not even know if anyone will read this i doubt i even will remember how little i care about myself i am a total idiotwhy did i even type all this it is just the same old same old i am still depressed i am still struggling i am still in the same place i was before i just know how to do my job and drive nowanything i accomplish and achieve is nothing to be proud ofbecause i am not enough i do not believe i willever be enough i will just bestuck here i guess until i dieif i had the gutsi would already be gone i do not believe in myselfin fact i do not think i can even get well\",\n          \"title says it all but i am done with depression i am already so low so empty and unmotivated i spend all day fighting my mind and thoughts all day feeling worthless and hopeless and some days i cannot even get out of bed i have had a life of this ups and downs and the lowest of lows i have been here before i know this road like the back of my hand and as much as my depression wants to trick me into staying i am not that person any more i cannot be or it will kill meso i am fighting every step of the way if i am going to feel empty and hollowed out then ill do it while crawling forward because anything is better then this life and depression 21 days to form a habit that habit is breaking my thoughts and slapping the hell out of my depression like it has me this year because i am not going down with this ship i am getting on a whole different ship and captaining that one to better tides i am done suffering i am fighting my way back out of this hole and i am not stopping until i have won\",\n          \"i was abusive and my mother was scared for her life this started at a very young age the first time i remember her telling everyone she was scared i would kill her i was about 7 i had only raised my voice in protest because i was being severely punished for 7 days for lying me and my sisters relationship has been strained most of my life but recently she had been opening up to me about the neglect and some fat shaming she experienced as a child\"\n        ],\n        \"semantic_type\": \"\",\n        \"description\": \"\"\n      }\n    },\n    {\n      \"column\": \"status\",\n      \"properties\": {\n        \"dtype\": \"category\",\n        \"num_unique_values\": 7,\n        \"samples\": [\n          \"Anxiety\",\n          \"Normal\",\n          \"Bipolar\"\n        ],\n        \"semantic_type\": \"\",\n        \"description\": \"\"\n      }\n    },\n    {\n      \"column\": \"statemnent_length\",\n      \"properties\": {\n        \"dtype\": \"number\",\n        \"std\": 846,\n        \"min\": 2,\n        \"max\": 32759,\n        \"num_unique_values\": 3577,\n        \"samples\": [\n          476,\n          2990,\n          5201\n        ],\n        \"semantic_type\": \"\",\n        \"description\": \"\"\n      }\n    },\n    {\n      \"column\": \"num_of_words\",\n      \"properties\": {\n        \"dtype\": \"number\",\n        \"std\": 163,\n        \"min\": 1,\n        \"max\": 6300,\n        \"num_unique_values\": 1065,\n        \"samples\": [\n          15,\n          986,\n          632\n        ],\n        \"semantic_type\": \"\",\n        \"description\": \"\"\n      }\n    },\n    {\n      \"column\": \"num_of_sentences\",\n      \"properties\": {\n        \"dtype\": \"number\",\n        \"std\": 10,\n        \"min\": 1,\n        \"max\": 1260,\n        \"num_unique_values\": 124,\n        \"samples\": [\n          38,\n          73,\n          102\n        ],\n        \"semantic_type\": \"\",\n        \"description\": \"\"\n      }\n    },\n    {\n      \"column\": \"statement_with_emojis\",\n      \"properties\": {\n        \"dtype\": \"string\",\n        \"num_unique_values\": 50962,\n        \"samples\": [\n          \"hey everyone first of all this is a throwaway account i am a really frustrated 16 year old guy who has been through 8 rejections so far not counting those in when i tried to actually befriend girls well that is the only thing i have been trying to do for the last couple of months i see all my friends with their girlfriends and it makes me frustrated not the thing that i cannot get a girlfriend the thing that i cannot get a friend who is a girl i cannot get a girl to talk to mei get absolutely zero attention from girls i have thought that it is because of my looks  maybe i am ugly  but several people told me that i am above average looking i am also not fat not skinny but kind of muscular i do work outi do not seek validation from other people i get enough i am a 3d modeler and a video editor and my friends praise me all the time when i make something new i seek female attention but do not get any it makes me depressed and frustrated i cannot get my work done because of it makes me unmotivated and sad i rarely go out these days because of the fear of rejection whenever i try to focus on my projects i get reminded of these things every time how do i not concentrate on girls or what should i do being unmotivated because of no female attention what do i do to get my motivation back\",\n          \"title says it all but i am done with depression i am already so low so empty and unmotivated i spend all day fighting my mind and thoughts all day feeling worthless and hopeless and some days i cannot even get out of bed i have had a life of this ups and downs and the lowest of lows i have been here before i know this road like the back of my hand and as much as my depression wants to trick me into staying i am not that person any more i cannot be or it will kill meso i am fighting every step of the way if i am going to feel empty and hollowed out then ill do it while crawling forward because anything is better then this life and depression 21 days to form a habit that habit is breaking my thoughts and slapping the hell out of my depression like it has me this year because i am not going down with this ship i am getting on a whole different ship and captaining that one to better tides i am done suffering i am fighting my way back out of this hole and i am not stopping until i have won\",\n          \"but what do i know i keep reassuring myself that this is normal and never tell anyone about this  im surprising one of the top students at a selective high school but i really want this to end im good at hiding things like this because i dont want others feeling pity for me for things they didnt cause or can change      tldr older brother psychologically and physically abuses me and my younger brother\"\n        ],\n        \"semantic_type\": \"\",\n        \"description\": \"\"\n      }\n    },\n    {\n      \"column\": \"tokens\",\n      \"properties\": {\n        \"dtype\": \"string\",\n        \"num_unique_values\": 50954,\n        \"samples\": [\n          \"['tldr', 'just', 'some', 'selfloathing', 'deep', 'seated', 'depressive', 'issues', 'of', 'disappointment', 'and', 'suicidal', 'wishes', 'moving', 'right', 'along', 'blablabla', 'nevermind', 'ehi', 'am', 'a', 'loser', 'to', 'be', 'honest', 'i', 'do', 'not', 'think', 'i', 'can', 'achieve', 'anything', 'in', 'the', 'face', 'of', 'this', 'world', 'i', 'see', 'people', 'so', 'much', 'better', 'than', 'me', 'so', 'much', 'smarter', 'and', 'more', 'dedicated', 'and', 'more', 'put', 'together', 'and', 'more', 'successfulthey', 'can', 'achieve', 'anything', 'then', 'i', 'see', 'people', 'that', 'are', 'poorer', 'than', 'me', 'less', 'fortunate', 'than', 'me', 'have', 'suffered', 'more', 'than', 'me', 'look', 'more', 'disheveled', 'and', 'more', 'less', 'educated', 'but', 'then', 'i', 'see', 'they', 'too', 'are', 'successfulthey', 'can', 'achieve', 'anythingi', 'can', 'not', 'achieve', 'anythingi', 'am', 'stuck', 'in', 'a', 'dull', 'sinking', 'horrible', 'prison', 'of', 'failure', 'and', 'hopelessness', 'lost', 'alone', 'and', 'above', 'all', 'far', 'from', 'any', 'sort', 'of', 'success', 'i', 'look', 'at', 'myself', 'and', 'i', 'am', 'disappointed', 'more', 'disappointed', 'than', 'anyone', 'on', 'this', 'planeti', 'put', 'on', 'my', 'selfloathing', 'gloves', 'and', 'i', 'start', 'to', 'punch', 'myself', 'repeatedly', 'with', 'itagainyou', 'are', 'your', 'problem', 'they', 'are', 'so', 'right', 'it', 'is', 'pointless', 'pointless', 'to', 'try', 'and', 'help', 'youyou', 'will', 'never', 'amount', 'to', 'anything', 'because', 'no', 'one', 'cares', 'no', 'one', 'cares', 'about', 'helping', 'you', 'what', 'makes', 'you', 'so', 'special', 'nothing', 'there', 'are', 'people', 'just', 'like', 'you', 'and', 'they', 'are', 'all', 'betteryou', 'can', 'not', 'even', 'try', 'your', 'best', 'is', 'pathetic', 'you', 'are', 'weakyou', 'can', 'not', 'be', 'like', 'them', 'you', 'will', 'never', 'be', 'like', 'them', 'you', 'will', 'never', 'see', 'any', 'fragment', 'of', 'happiness', 'and', 'peace', 'that', 'they', 'have', 'taken', 'for', 'themselves', 'because', 'you', 'can', 'not', 'take', 'anythingyou', 'have', 'become', 'a', 'revolting', 'she', 'will', 'of', 'your', 'better', 'years', 'it', 'is', 'sickening', 'to', 'look', 'at', 'you', '27', 'friendless', 'helpless', 'living', 'in', 'your', 'own', 'hell', 'just', 'to', 'make', 'you', 'feel', 'like', 'you', 'can', 'relate', 'to', 'othersyou', 'do', 'not', 'belong', 'you', 'should', 'not', 'be', 'alive', 'you', 'should', 'crawl', 'under', 'the', 'earth', 'like', 'the', 'pathetic', 'useless', 'rotten', 'little', 'pest', 'you', 'are', 'you', 'have', 'no', 'purpose', 'here', 'you', 'are', 'not', 'even', 'wantedgo', 'ahead', 'and', 'cry', 'oh', 'that', 'is', 'right', 'you', 'are', 'too', 'embarrassed', 'and', 'empty', 'to', 'cry', 'good', 'if', 'you', 'will', 'not', 'cry', 'no', 'one', 'can', 'hear', 'me', 'tell', 'you', 'that', 'you', 'will', 'never', 'amount', 'to', 'anything', 'for', 'as', 'long', 'as', 'you', 'live', 'because', 'you', 'will', 'be', 'doing', 'everyone', 'a', 'favor', 'to', 'just', 'stop', 'breathing', 'up', 'the', 'air', 'they', 'deserve', 'more', 'than', 'you', 'dowhat', 'is', 'wrong', 'with', 'you', 'really', 'it', 'is', 'pathetic', 'you', 'are', 'the', 'worst', 'living', 'thing', 'in', 'existence', 'and', 'i', 'have', 'been', 'stung', 'by', 'waspsyou', 'are', 'a', 'burden', 'to', 'be', 'around', 'to', 'look', 'at', 'to', 'even', 'talk', 'to', 'look', 'at', 'youyou', 'can', 'not', 'even', 'comfort', 'yourself', 'without', 'looking', 'like', 'a', 'sad', 'ragdoll', 'and', 'nobody', 'is', 'going', 'to', 'come', 'and', 'help', 'you', 'no', 'one', 'is', 'there', 'for', 'you', 'no', 'one', 'you', 'are', 'nothing', 'you', 'will', 'never', 'be', 'anythingjust', 'a', 'sorry', 'piece', 'of', 'meat', 'slowly', 'decaying', 'awayi', 'leave', 'myself', 'alonei', 'have', 'dealt', 'enough', 'blows', 'to', 'equate', 'to', 'seven', 'or', 'eight', 'cuts', 'on', 'my', 'arm', 'even', 'thenthose', 'cuts', 'would', 'heal', 'faster', 'i', 'am', 'in', 'the', 'dark', 'i', 'am', 'silenti', 'look', 'around', 'i', 'want', 'to', 'go', 'home', 'i', 'am', 'homeno', 'i', 'am', 'noti', 'am', 'someplace', 'strange', 'and', 'distant', 'i', 'am', 'trapped', 'in', 'this', 'weak', 'little', 'womans', 'body', 'lamenting', 'resentingregrettingi', 'fade', 'i', 'turn', 'off', 'my', 'emotions', 'i', 'am', 'numbi', 'am', 'scared', 'why', 'why', 'do', 'i', 'have', 'to', 'be', 'so', 'afraid', 'all', 'the', 'time', 'why', 'do', 'i', 'feel', 'it', 'is', 'alwaysalways', 'my', 'fault', 'why', 'can', 'not', 'i', 'just', 'feel', 'alive', 'instead', 'of', 'already', 'dead', 'i', 'do', 'not', 'like', 'this', 'i', 'do', 'not', 'like', 'me', 'i', 'want', 'to', 'be', 'liked', 'i', 'want', 'to', 'be', 'treasured', 'i', 'do', 'not', 'want', 'to', 'be', 'alonei', 'do', 'not', 'want', 'to', 'be', 'in', 'pain', 'i', 'do', 'not', 'want', 'to', 'face', 'the', 'reality', 'i', 'fear', 'is', 'too', 'harsh', 'to', 'handle', 'i', 'do', 'not', 'want', 'to', 'livebut', 'i', 'musti', 'must', 'make', 'it', 'to', '2022and', 'wake', 'up', 'in', 'the', 'exact', 'same', 'place', 'in', 'life', 'i', 'am', 'in', 'now', 'nothingchangingnot', 'getting', 'any', 'betternot', 'crying', 'outnot', 'fighting', 'backnot', 'hoping', 'for', 'a', 'better', 'future', 'for', 'myselfnot', 'trying', 'to', 'pull', 'myself', 'back', 'up', 'onto', 'my', 'feeti', 'am', 'running', 'out', 'of', 'steamout', 'of', 'hopeout', 'of', 'optionsi', 'am', 'tiredof', 'hearing', 'the', 'same', 'things', 'overand', 'overand', 'overagainand', 'againtired', 'of', 'going', 'unheard', 'unseentired', 'of', 'the', 'liesseeking', 'help', 'means', 'helping', 'yourself', 'means', 'little', 'when', 'you', 'want', 'nothing', 'more', 'than', 'to', 'give', 'upand', 'not', 'keep', 'goingit', 'is', 'too', 'painful', 'it', 'is', 'too', 'much', 'it', 'is', 'so', 'much', 'to', 'endureand', 'it', 'is', 'not', 'fair', 'i', 'am', 'tired', 'of', 'enduringi', 'am', 'tired', 'of', 'being', 'so', 'unable', 'to', 'liveso', 'why', 'should', 'ii', 'have', 'been', 'going', 'for', 'a', 'walk', 'around', 'my', 'block', 'lately', 'in', 'the', 'morning', 'i', 'read', 'somewhere', 'it', 'helps', 'with', 'regulating', 'my', 'sleep', 'and', 'quelling', 'night', 'anxiety', 'i', 'do', 'not', 'believe', 'i', 'can', 'fight', 'back', 'everything', 'this', 'way', 'especially', 'since', 'i', 'walk', 'alone', 'especially', 'since', 'walking', 'does', 'not', 'solve', 'feelings', 'of', 'disappointment', 'but', 'it', 'is', 'an', 'escape', 'that', 'is', 'not', 'deathand', 'it', 'is', 'a', 'distractionfrom', 'my', 'selfloathing', 'i', 'have', 'some', 'deep', 'lows', 'and', 'my', 'mood', 'can', 'become', 'so', 'bad', 'that', 'i', 'start', 'to', 'scream', 'for', 'someone', 'to', 'help', 'me', 'to', 'please', 'help', 'me', 'i', 'am', 'in', 'so', 'much', 'pain', 'and', 'selfwrought', 'with', 'agonizing', 'guilt', 'and', 'shame', 'i', 'do', 'not', 'know', 'what', 'to', 'do', 'anymore', 'butthen', 'the', 'mood', 'starts', 'to', 'numb', 'i', 'do', 'not', 'care', 'anymore', 'i', 'hope', 'that', 'something', 'awful', 'happens', 'to', 'me', 'while', 'i', 'am', 'out', 'because', 'i', 'deserve', 'it', 'and', 'then', 'my', 'mood', 'starts', 'to', 'lift', 'off', 'i', 'leave', 'with', 'a', 'feeling', 'of', 'freedom', 'and', 'carelessness', 'i', 'breathe', 'deep', 'and', 'full', 'i', 'take', 'myself', 'places', 'because', 'no', 'one', 'else', 'will', 'i', 'be', 'myself', 'because', 'nobody', 'will', 'remember', 'me', 'anyway', 'and', 'i', 'feed', 'myself', 'and', 'comfort', 'myselfand', 'i', 'feel', 'okay', 'i', 'feel', 'finally', 'fine', 'until', 'i', 'do', 'not', 'againand', 'it', 'all', 'begins', 'over', 'againi', 'do', 'not', 'even', 'know', 'if', 'anyone', 'will', 'read', 'this', 'i', 'doubt', 'i', 'even', 'will', 'remember', 'how', 'little', 'i', 'care', 'about', 'myself', 'i', 'am', 'a', 'total', 'idiotwhy', 'did', 'i', 'even', 'type', 'all', 'this', 'it', 'is', 'just', 'the', 'same', 'old', 'same', 'old', 'i', 'am', 'still', 'depressed', 'i', 'am', 'still', 'struggling', 'i', 'am', 'still', 'in', 'the', 'same', 'place', 'i', 'was', 'before', 'i', 'just', 'know', 'how', 'to', 'do', 'my', 'job', 'and', 'drive', 'nowanything', 'i', 'accomplish', 'and', 'achieve', 'is', 'nothing', 'to', 'be', 'proud', 'ofbecause', 'i', 'am', 'not', 'enough', 'i', 'do', 'not', 'believe', 'i', 'willever', 'be', 'enough', 'i', 'will', 'just', 'bestuck', 'here', 'i', 'guess', 'until', 'i', 'dieif', 'i', 'had', 'the', 'gutsi', 'would', 'already', 'be', 'gone', 'i', 'do', 'not', 'believe', 'in', 'myselfin', 'fact', 'i', 'do', 'not', 'think', 'i', 'can', 'even', 'get', 'well']\",\n          \"['title', 'says', 'it', 'all', 'but', 'i', 'am', 'done', 'with', 'depression', 'i', 'am', 'already', 'so', 'low', 'so', 'empty', 'and', 'unmotivated', 'i', 'spend', 'all', 'day', 'fighting', 'my', 'mind', 'and', 'thoughts', 'all', 'day', 'feeling', 'worthless', 'and', 'hopeless', 'and', 'some', 'days', 'i', 'can', 'not', 'even', 'get', 'out', 'of', 'bed', 'i', 'have', 'had', 'a', 'life', 'of', 'this', 'ups', 'and', 'downs', 'and', 'the', 'lowest', 'of', 'lows', 'i', 'have', 'been', 'here', 'before', 'i', 'know', 'this', 'road', 'like', 'the', 'back', 'of', 'my', 'hand', 'and', 'as', 'much', 'as', 'my', 'depression', 'wants', 'to', 'trick', 'me', 'into', 'staying', 'i', 'am', 'not', 'that', 'person', 'any', 'more', 'i', 'can', 'not', 'be', 'or', 'it', 'will', 'kill', 'meso', 'i', 'am', 'fighting', 'every', 'step', 'of', 'the', 'way', 'if', 'i', 'am', 'going', 'to', 'feel', 'empty', 'and', 'hollowed', 'out', 'then', 'ill', 'do', 'it', 'while', 'crawling', 'forward', 'because', 'anything', 'is', 'better', 'then', 'this', 'life', 'and', 'depression', '21', 'days', 'to', 'form', 'a', 'habit', 'that', 'habit', 'is', 'breaking', 'my', 'thoughts', 'and', 'slapping', 'the', 'hell', 'out', 'of', 'my', 'depression', 'like', 'it', 'has', 'me', 'this', 'year', 'because', 'i', 'am', 'not', 'going', 'down', 'with', 'this', 'ship', 'i', 'am', 'getting', 'on', 'a', 'whole', 'different', 'ship', 'and', 'captaining', 'that', 'one', 'to', 'better', 'tides', 'i', 'am', 'done', 'suffering', 'i', 'am', 'fighting', 'my', 'way', 'back', 'out', 'of', 'this', 'hole', 'and', 'i', 'am', 'not', 'stopping', 'until', 'i', 'have', 'won']\",\n          \"['i', 'was', 'abusive', 'and', 'my', 'mother', 'was', 'scared', 'for', 'her', 'life', 'this', 'started', 'at', 'a', 'very', 'young', 'age', 'the', 'first', 'time', 'i', 'remember', 'her', 'telling', 'everyone', 'she', 'was', 'scared', 'i', 'would', 'kill', 'her', 'i', 'was', 'about', '7', 'i', 'had', 'only', 'raised', 'my', 'voice', 'in', 'protest', 'because', 'i', 'was', 'being', 'severely', 'punished', 'for', '7', 'days', 'for', 'lying', 'me', 'and', 'my', 'sisters', 'relationship', 'has', 'been', 'strained', 'most', 'of', 'my', 'life', 'but', 'recently', 'she', 'had', 'been', 'opening', 'up', 'to', 'me', 'about', 'the', 'neglect', 'and', 'some', 'fat', 'shaming', 'she', 'experienced', 'as', 'a', 'child']\"\n        ],\n        \"semantic_type\": \"\",\n        \"description\": \"\"\n      }\n    },\n    {\n      \"column\": \"tokens_stemmed\",\n      \"properties\": {\n        \"dtype\": \"string\",\n        \"num_unique_values\": 50951,\n        \"samples\": [\n          \"whi kutner i mean i knew someth wa go to happen to someon but it wa so sad i lt hous and it wa well done but i m still sad\",\n          \"i feel realli silli post this but i think ill feel better if i get this off my chest i definit have some health anxieti although it not as bad as it could be i recogn that mani of the symptom i feel from time to time are a result of intern stress and are made wors by worri about them and i think i have gotten a better handl on it as the year have gone by but i do not think anxieti can caus lump or make them grow and i am tri to stay away from googl and redirect my focus but i am still feel that worri and want to check on the lump everi five minut i think i have done a fair good job keep myself in check and onli examin the lump onc a day but i am go to write this out and see if it help mayb someon els has had a similar stori and everyth turn out fine i want to hear it if so close to a year ago now i notic this lump under my arm i thought it was an ingrown hair mention it at a checkup the doctor felt it and thought it was a lymph node she offer to do an ultrasound but i was get readi to move out of state and did not have time the lump grew and becam realli pain and red for reason i did not see a doctor until about eight month later when they diagnos the lump as an abscess next to a swollen lymph node abscess was drain test posit for staph i got a gross cours of antibiot and that was that the lymph node shrank a littl after that and i could still feel a lump where the abscess was primari care doctor said it was a cyst that had form form the abscess be left alon for so long and sent me to a surgeon to have it remov the surgeon was not veri nice told me he could not feel anyth and sent me home eventu the cyst shrank and i could not feel it anymor fast forward to two month later and nowth origin lymph node has shrunk but it still around and now abov it there is a newmass it next to where the abscess was befor but off to the outsid top corner of my armpit sorri for the bad explan it a hard lump and fix in place which freak me out a bit becaus googl say that is a sign of cancer buuuuuut mayb it just my muscl i am feel the other armpit has a bit of that bump thing go on at the top but it way less pronounc and feel less like a defin lump if that make sens and it feel like it grow thank to the abscess i have a scar and it feel like the lump is notic get closer to the scar i feel like such a drama queen i am so embarrass bring stuff like this up at the doctor becaus i am so use to be dismiss and them think i am a huge babi i just feel asham of be like this be stuck between worri or embarrass is not much of a choic but this nag voic in my head keep say anxieti can not becaus a lump like it could caus a headach or nausea or heartburn or whatev i just can not cope with the humili if it turn out be noth and they think i am an idiot i have an appoint with my doctor for someth unrel and not to do with someth be wrong with me and i am debat on if i should bring it up my doctor now seem realli good and nonjudgi these feel are intern if someon els has had a mysteri bump that vanish one day and end up be noth pleas let me know thank\",\n          \"someth wrong with my ear my ear pop veri easili for some reason it start when i was 6 i alway reequal when my ear pop by hold my nose close and suck in i sometim also hear a realli loud nois in my left ear when i do this i do not know what the hell is wrong with me\"\n        ],\n        \"semantic_type\": \"\",\n        \"description\": \"\"\n      }\n    },\n    {\n      \"column\": \"tokens_verbs\",\n      \"properties\": {\n        \"dtype\": \"string\",\n        \"num_unique_values\": 44769,\n        \"samples\": [\n          \"got laid enjoy are telling travel do hear i have applied i am having have do apply have focus i am do i enjoy enjoy doing is is have do have lost used have making are working do have hang get know am going regret am working having do know experience\",\n          \"need let have called hs have noticed batwing have looked told are worry stop having means am developing i looked are cooccurring thinking make feel saw are develop mentioned have i am terrified have stuff\",\n          \"am seem get have been was kicked stopped talking i went therapy found was abused growing got got been stands i am qualified leave am stuck was cheated wanted leave save is going catch started work take i am want do i take i do have am get shower i feel disgusting have gained afford go therapy have do have feel lost do know i am used have am stressed do is want know ask feel lost\"\n        ],\n        \"semantic_type\": \"\",\n        \"description\": \"\"\n      }\n    },\n    {\n      \"column\": \"tokens_nouns\",\n      \"properties\": {\n        \"dtype\": \"string\",\n        \"num_unique_values\": 47359,\n        \"samples\": [\n          \"i friends girl june i lot relationship friends things i anyone things lies things i something break friendship month i work hope day work i friend fml i decision\",\n          \"i anything life depression ground i things i help i parents doctor medicine i shape i i eat friends health i life i job family friends finances things i drugs vaped cigarette i step way doctors counselors doors help medications ocd lot sense things meditation cbt sort ground i pat back bare minimum day times i movie i time i movie i point i day way people point people cards themi i fact i i life thing i thing life pain i everything grips cats mess police etc i i i movie i theater i i help\",\n          \"i car bridge\"\n        ],\n        \"semantic_type\": \"\",\n        \"description\": \"\"\n      }\n    },\n    {\n      \"column\": \"tokens_adj\",\n      \"properties\": {\n        \"dtype\": \"string\",\n        \"num_unique_values\": 37821,\n        \"samples\": [\n          \"first november nice little\",\n          \"whole huge proper i deep best worst old proper best lazy i past own financial thankful enough much normal i cmon basic tough new lifestyle old much i alone sure hardest gotten worse i heavy many unfinished several back overgrown worse worse healthy processed fast wish tough lazy i huge wish i more good several i wrong i suitable overwhelmed untidy messy i bad better i big new i proper stressful least much close worse least depressing i close heartbreaking i i dead i past quarantine outside good many fucking horrible i only i best productive hard wish better i own tough same better least\",\n          \"m normalmy neutral anxious stupid few\"\n        ],\n        \"semantic_type\": \"\",\n        \"description\": \"\"\n      }\n    },\n    {\n      \"column\": \"important_words\",\n      \"properties\": {\n        \"dtype\": \"string\",\n        \"num_unique_values\": 50901,\n        \"samples\": [\n          \"chance if sprial talked fun th take was to it and pushed will hearted decide made as some should so am other do thing numerous chat back set all what its about i did dick have basically different people for into know is more sorry but can judge one hope here lie not turns therapy me myself everyone fb us saying down in of talk could sure hate button agencies right anything with blame that light this well helps sending being group helping advised need kill help really you xx be give they told another want\",\n          \"emotional bad happy ago water miracle doing today fuck curl was it and will we ill bought bit tought happens so am do because stuff about i fishy for money little almost when dumb is useless but can cry just or one spend until up shit savings not started on me a anymore serotonin down in of cryi watching wrong going him talk needed fixed trying get now with killing pet tank best realised ball helping dying worse need depression really make suport he passes finally bich awayidk deal everything an even rutine want\",\n          \"if coward actually take to away it and piece try dad at person as longest excuse am other do driving end held attention pills all what mouth through still i have for like efforts tirade bigger annoying know too when narcissist considered sorry them begging but can selfish were just human one up here friends shit time not mom went on me bother myself bag a anymore thought point in of anyways wrong much sure disgusting bring why go anything with that good stupid sister best the makes how unfunny my worse really make day hand brother already punching even be maybe they\"\n        ],\n        \"semantic_type\": \"\",\n        \"description\": \"\"\n      }\n    }\n  ]\n}"
            }
          },
          "metadata": {},
          "execution_count": 99
        }
      ],
      "source": [
        "df.head(3)"
      ]
    },
    {
      "cell_type": "code",
      "execution_count": 100,
      "metadata": {
        "colab": {
          "base_uri": "https://localhost:8080/"
        },
        "id": "vKFdUzKS4wQk",
        "outputId": "79b116e3-c05b-4950-e96a-4829d0510746"
      },
      "outputs": [
        {
          "output_type": "execute_result",
          "data": {
            "text/plain": [
              "(52681, 12)"
            ]
          },
          "metadata": {},
          "execution_count": 100
        }
      ],
      "source": [
        "df.shape"
      ]
    },
    {
      "cell_type": "markdown",
      "metadata": {
        "id": "G1ZUulIVId-A"
      },
      "source": [
        "# ***Vectorizing using TF-IDF***"
      ]
    },
    {
      "cell_type": "markdown",
      "metadata": {
        "id": "2zoEONwt0TYx"
      },
      "source": [
        "## About VEctorizing Approach"
      ]
    },
    {
      "cell_type": "markdown",
      "metadata": {
        "id": "MQgG20H7qTO8"
      },
      "source": [
        "**What is the TF (Term of Frequency) and IDF (Inverse Document Frequency)?**\n",
        "\n",
        "---\n",
        "```\n",
        "\n",
        "\n",
        "```\n",
        "---\n",
        "\n",
        "* **What is TF-IDF?**\n",
        "\n",
        "TF-IDF (Term Frequency-Inverse Document Frequency) is a numerical statistic used to evaluate the importance of a word in a document relative to a collection of documents, typically in the context of text mining and Natural Language Processing (NLP). It is commonly used as a feature extraction method to convert textual data into numerical features that machine learning models can process.\n",
        "\n",
        "* The TF-IDF measure combines two components:\n",
        "\n",
        "  1. **Term Frequency (TF):**\n",
        "\n",
        "  **Definition:** The number of times a word (term) appears in a document, divided by the total number of words in that document. It gives us a sense of how important a word is within a single document.\n",
        "\n",
        "  **Formula:**\n",
        "\n",
        "   \\begin{align}\n",
        "   \\text{TF}(t, d) = \\frac{\\text{Number of times term } t \\text{ appears in document } d}{\\text{Total number of terms in document } d}\n",
        "   \\end{align}\n",
        "\n",
        "  \n",
        "  2. **Inverse Document Frequency (IDF):**\n",
        "  \n",
        "    **Definition:** The logarithm of the total number of documents in the corpus divided by the number of documents containing the term.\n",
        "  \n",
        "    It measures how important a word is across the whole corpus. Common words that appear in many documents (like \"the,\" \"is\") have low IDF values because they are less informative, while rare terms have higher IDF values.\n",
        "\n",
        "    **Formula:**\n",
        "\n",
        "\n",
        "\n",
        "  \\begin{align}\n",
        "   \\text{IDF}(t, D) = \\log \\left( \\frac{\\text{Total number of documents in the corpus}}{1 + \\text{Number of documents containing the term } t} \\right)\n",
        " \\end{align}\n",
        "\n",
        "3. **TF-IDF:**\n",
        "\n",
        "  **Definition:** The product of the term frequency (TF) and inverse document frequency (IDF) for a term in a document. It reflects both the term's frequency within a specific document and how unique or important the term is across the entire document corpus.\n",
        "  \n",
        "  **Formula:**\n",
        "\n",
        "   \\begin{align}\n",
        "   \\text{TF-IDF}(t, d, D) = \\text{TF}(t, d) \\times \\text{IDF}(t, D)\n",
        "   \\end{align}\n",
        "\n",
        "  In these formulas:\n",
        "  - \\( t \\) refers to a term (word),\n",
        "  - \\( d \\) refers to a document,\n",
        "  - \\( D \\) refers to the entire corpus (collection of documents),\n",
        "  - \\( \\log \\) is the logarithm function, typically base 10 or natural logarithm.\n",
        "\n",
        "\n",
        "* **How TF-IDF is Useful**\n",
        "  **Feature Extraction in NLP:** TF-IDF helps convert raw text data into a matrix of numerical features, making the data suitable for machine learning models. Each document is represented as a vector of TF-IDF values, where each value corresponds to the importance of a word in that document. This is a common technique in text classification tasks, such as sentiment analysis, spam detection, and topic classification.\n",
        "\n",
        "  **Captures the Importance of Words:** By using TF-IDF, we can ignore frequently occurring but uninformative words (e.g., \"the\", \"and\") and focus on more meaningful terms that are key to the context of a document. This helps improve the accuracy and relevance of the model's predictions by emphasizing words that differentiate one document from another.\n",
        "\n",
        "  **Reduces Noise in Text:** TF-IDF reduces the weight of very common words across all documents, as they are often not useful for distinguishing between documents. It assigns higher importance to rare and meaningful terms, which tend to carry more information about the content of the document.\n",
        "\n",
        "  **Improves Text Similarity Measures:** TF-IDF vectors are often used to calculate the similarity between documents (e.g., using cosine similarity). This is useful in tasks like document clustering, search engines, and recommendation systems.\n",
        "\n",
        "  \n",
        "* **Use Case in Mental Health Sentiment Analysis**\n",
        "\n",
        "  In our dataset, which contains mental health-related statements, applying TF-IDF can help the model understand which words are most significant for predicting the mental health status of a given statement. For example:\n",
        "\n",
        "    - Words like \"hopeless,\" \"depressed,\" and \"suicidal\" may have high TF-IDF scores in documents labeled with \"Depression\" or \"Suicidal\" mental health statuses, but these words may be rare across other categories.\n",
        "  \n",
        "   - Common words like \"I,\" \"the,\" and \"is\" will have low IDF values since they appear in many documents, making them less useful for classification.\n",
        "\n",
        "  By transforming the text data into TF-IDF vectors, you provide a more informative and compact representation of the statements, which can lead to better performance of machine learning models.\n",
        "\n"
      ]
    },
    {
      "cell_type": "markdown",
      "metadata": {
        "id": "5GIcT_7-vPIT"
      },
      "source": [
        "---\n",
        "```\n",
        "\n",
        "\n",
        "\n",
        "\n",
        "\n",
        "\n",
        "\n",
        "\n",
        "\n",
        "```\n",
        "---"
      ]
    },
    {
      "cell_type": "markdown",
      "metadata": {
        "id": "X0BfmXqdsArU"
      },
      "source": [
        "## Initialize separate TF-IDF Vectorizer\n"
      ]
    },
    {
      "cell_type": "markdown",
      "metadata": {
        "id": "6ypQOujNtvoe"
      },
      "source": [
        "Initialize separate TF-IDF Vectorizer for verbs and nouns and adj , stemm\n"
      ]
    },
    {
      "cell_type": "code",
      "execution_count": 101,
      "metadata": {
        "id": "4yGkNkh0Ko6w"
      },
      "outputs": [],
      "source": [
        "vectorizer_emojis = TfidfVectorizer(max_features=100, stop_words='english')\n",
        "\n",
        "vectorizer_imp = TfidfVectorizer(ngram_range=(1, 2), max_features=10000, stop_words='english')\n",
        "\n",
        "vectorizer_stemmes = TfidfVectorizer(ngram_range=(1, 2), max_features=2000, stop_words='english')\n",
        "\n",
        "vectorizer_verbs = TfidfVectorizer(ngram_range=(1, 2), max_features=1000, stop_words='english')\n",
        "\n",
        "vectorizer_nouns = TfidfVectorizer(ngram_range=(1, 2), max_features=1000, stop_words='english')\n",
        "\n",
        "vectorizer_adjectives = TfidfVectorizer(ngram_range=(1, 2), max_features=1000, stop_words='english')\n"
      ]
    },
    {
      "cell_type": "markdown",
      "metadata": {
        "id": "YI7_TNFwLJOb"
      },
      "source": [
        "## Extract Verb, Nouuns , ... Vectors"
      ]
    },
    {
      "cell_type": "markdown",
      "metadata": {
        "id": "tZZZXLyjhBHK"
      },
      "source": [
        "### importtant word"
      ]
    },
    {
      "cell_type": "code",
      "execution_count": 102,
      "metadata": {
        "id": "57q61G1ahBHL"
      },
      "outputs": [],
      "source": [
        "\n",
        "X_imp_tfidf = vectorizer_emojis.fit_transform(df['important_words'])\n"
      ]
    },
    {
      "cell_type": "markdown",
      "metadata": {
        "id": "iEWYzKrLHM3w"
      },
      "source": [
        "### Emojies"
      ]
    },
    {
      "cell_type": "code",
      "execution_count": 103,
      "metadata": {
        "id": "RUwKAPzSHi-u"
      },
      "outputs": [],
      "source": [
        "# Emojis\n",
        "X_emojis_tfidf = vectorizer_emojis.fit_transform(df['statement_with_emojis'])"
      ]
    },
    {
      "cell_type": "markdown",
      "metadata": {
        "id": "2Bxu6YurHyAY"
      },
      "source": [
        "### stemmes"
      ]
    },
    {
      "cell_type": "code",
      "execution_count": 104,
      "metadata": {
        "id": "jXGvP4IAHzBj"
      },
      "outputs": [],
      "source": [
        "# Adjectives\n",
        "X_stemm_tfidf = vectorizer_stemmes.fit_transform(df['tokens_stemmed'].astype(str))\n"
      ]
    },
    {
      "cell_type": "markdown",
      "metadata": {
        "id": "ppYN2ADdHTkv"
      },
      "source": [
        "### verbs"
      ]
    },
    {
      "cell_type": "code",
      "execution_count": 105,
      "metadata": {
        "id": "rnXyz83iHYBt"
      },
      "outputs": [],
      "source": [
        "# Verbs\n",
        "X_verbs_tfidf = vectorizer_verbs.fit_transform(df['tokens_verbs'].astype(str))"
      ]
    },
    {
      "cell_type": "markdown",
      "metadata": {
        "id": "QV6rldV9HY6-"
      },
      "source": [
        "### nouns"
      ]
    },
    {
      "cell_type": "code",
      "execution_count": 106,
      "metadata": {
        "id": "1k4EMXp9HbpM"
      },
      "outputs": [],
      "source": [
        "# Nouns\n",
        "X_nouns_tfidf = vectorizer_nouns.fit_transform(df['tokens_nouns'].astype(str))"
      ]
    },
    {
      "cell_type": "markdown",
      "metadata": {
        "id": "ZqHOF5bTHeDX"
      },
      "source": [
        "### Adjectives"
      ]
    },
    {
      "cell_type": "code",
      "execution_count": 107,
      "metadata": {
        "id": "ImR1_PmoHgUf"
      },
      "outputs": [],
      "source": [
        "# Adjectives\n",
        "\n",
        "X_adjectives_tfidf = vectorizer_adjectives.fit_transform(df['tokens_adj'].astype(str))\n"
      ]
    },
    {
      "cell_type": "markdown",
      "metadata": {
        "id": "wPZehjwhHmay"
      },
      "source": [
        "## comdine Vectors"
      ]
    },
    {
      "cell_type": "code",
      "execution_count": 108,
      "metadata": {
        "colab": {
          "base_uri": "https://localhost:8080/"
        },
        "id": "27R0sPNwr_ZD",
        "outputId": "2218a4d7-65fb-4409-885e-75ad44b74c16"
      },
      "outputs": [
        {
          "output_type": "stream",
          "name": "stdout",
          "text": [
            "Total number of combined features: 100\n"
          ]
        }
      ],
      "source": [
        "\n",
        "\n",
        "# Combine all TF-IDF features into one matrix\n",
        "# X_combined_tfidf = hstack([2*X_verbs_tfidf, X_nouns_tfidf, 0.5 * X_adjectives_tfidf, 0.5*X_emojis_tfidf,2*X_stemm_tfidf])\n",
        "#0.8*X_verbs_tfidf, 1.2*X_nouns_tfidf,\n",
        "# X_combined_tfidf = hstack([X_imp_tfidf,X_stemm_tfidf])\n",
        "X_combined_tfidf = hstack([X_imp_tfidf])\n",
        "\n",
        "print(\"Total number of combined features:\", X_combined_tfidf.shape[1])\n"
      ]
    },
    {
      "cell_type": "markdown",
      "metadata": {
        "id": "JmjO043Idcjy"
      },
      "source": [
        "# ***Feature Selection***"
      ]
    },
    {
      "cell_type": "markdown",
      "metadata": {
        "id": "SNkQWvaYGCGD"
      },
      "source": [
        "### Spliting"
      ]
    },
    {
      "cell_type": "code",
      "execution_count": 109,
      "metadata": {
        "id": "IjaxLl7_dfNh"
      },
      "outputs": [],
      "source": [
        "# Split data into train and test sets\n",
        "X_train, X_test, y_train, y_test = train_test_split(X_combined_tfidf, df['status'], test_size=0.2, random_state=42)"
      ]
    },
    {
      "cell_type": "markdown",
      "metadata": {
        "id": "Z9EgLsbYGD8v"
      },
      "source": [
        "### Select K Best"
      ]
    },
    {
      "cell_type": "code",
      "execution_count": 110,
      "metadata": {
        "id": "c2x7yL8zeMFG"
      },
      "outputs": [],
      "source": [
        "# Arrays to store results\n",
        "feature_counts = []\n",
        "train_accuracies = []\n",
        "test_accuracies = []\n",
        "\n",
        "# Iterate over different values of k\n",
        "for k in range(100, X_train.shape[1], 100):\n",
        "    # Select top k features using mutual information as the score function\n",
        "    selector = SelectKBest(score_func=chi2, k=k)\n",
        "\n",
        "    # Fit and transform the training set\n",
        "    X_train_selected = selector.fit_transform(X_train, y_train)\n",
        "    X_test_selected = selector.transform(X_test)\n",
        "\n",
        "    # Train a logistic regression model\n",
        "    model = LogisticRegression(max_iter=600, random_state=42)\n",
        "    model.fit(X_train_selected, y_train)\n",
        "\n",
        "    # Record the number of features and accuracies\n",
        "    feature_counts.append(k)\n",
        "    train_accuracies.append(accuracy_score(y_train, model.predict(X_train_selected)))\n",
        "    test_accuracies.append(accuracy_score(y_test, model.predict(X_test_selected)))\n"
      ]
    },
    {
      "cell_type": "markdown",
      "metadata": {
        "id": "B39-MI6RGIIx"
      },
      "source": [
        "### Plot"
      ]
    },
    {
      "cell_type": "code",
      "execution_count": 111,
      "metadata": {
        "colab": {
          "base_uri": "https://localhost:8080/",
          "height": 564
        },
        "id": "IyUxEo1aeSaC",
        "outputId": "2a0daf4e-a6c4-4629-e7ed-fc0f7283f8e7"
      },
      "outputs": [
        {
          "output_type": "display_data",
          "data": {
            "text/plain": [
              "<Figure size 1200x600 with 1 Axes>"
            ],
            "image/png": "[encoded data removed]"
          },
          "metadata": {}
        }
      ],
      "source": [
        "# Plot the accuracy vs. number of features\n",
        "plt.figure(figsize=(12, 6))\n",
        "plt.plot(feature_counts, train_accuracies, label=\"Train Accuracy\", marker=\"o\", color=\"blue\")\n",
        "plt.plot(feature_counts, test_accuracies, label=\"Test Accuracy\", marker=\"o\", color=\"orange\")\n",
        "plt.xlabel(\"Number of Selected Features\")\n",
        "plt.ylabel(\"Accuracy\")\n",
        "plt.title(\"Accuracy vs. Number of Selected Features \")\n",
        "plt.legend()\n",
        "plt.grid()\n",
        "plt.show()\n"
      ]
    },
    {
      "cell_type": "markdown",
      "metadata": {
        "id": "x2HIGR8TII0_"
      },
      "source": [
        "# ***Dataset Spliting, Encoding and Staging***"
      ]
    },
    {
      "cell_type": "code",
      "execution_count": 112,
      "metadata": {
        "colab": {
          "base_uri": "https://localhost:8080/"
        },
        "id": "cg4m53SqjPma",
        "outputId": "0a86d7ab-8887-4346-a059-e7031848b492"
      },
      "outputs": [
        {
          "output_type": "execute_result",
          "data": {
            "text/plain": [
              "(10537, 100)"
            ]
          },
          "metadata": {},
          "execution_count": 112
        }
      ],
      "source": [
        "selector = SelectKBest(score_func=chi2, k=2000)\n",
        "\n",
        "X_test.shape"
      ]
    },
    {
      "cell_type": "code",
      "execution_count": 113,
      "metadata": {
        "id": "tkEkntzNgKu_"
      },
      "outputs": [],
      "source": [
        "    # Fit and transform the training set\n",
        "X_train_selected = selector.fit_transform(X_train, y_train)\n",
        "X_test_selected = selector.transform(X_test)"
      ]
    },
    {
      "cell_type": "code",
      "execution_count": 114,
      "metadata": {
        "id": "P6qRmm8qsSQ7"
      },
      "outputs": [],
      "source": [
        "# Split the vectorized data into train and test sets\n",
        "#X_train_full, X_test, y_train_full, y_test = train_test_split(X_combined_tfidf, df['status'], test_size=0.2, random_state=42)\n",
        "X_train_full, X_test, y_train_full, y_test =X_train_selected, X_test_selected, y_train , y_test"
      ]
    },
    {
      "cell_type": "markdown",
      "metadata": {
        "id": "IsoZkHmzIQTW"
      },
      "source": [
        "### Encode LAbles and slpit status"
      ]
    },
    {
      "cell_type": "markdown",
      "metadata": {
        "id": "IewgAILzl4qL"
      },
      "source": [
        "#### Encode LAbles"
      ]
    },
    {
      "cell_type": "code",
      "execution_count": 115,
      "metadata": {
        "id": "3CGQCl1asU30"
      },
      "outputs": [],
      "source": [
        "# Encode labels for binary classification (Stage 1)\n",
        "binary_encoder = LabelEncoder()\n",
        "y_train_full_binary = binary_encoder.fit_transform(y_train_full.apply(lambda x: 'Normal' if x == 'Normal' else 'Non-Normal'))\n",
        "y_test_binary = binary_encoder.transform(y_test.apply(lambda x: 'Normal' if x == 'Normal' else 'Non-Normal'))\n",
        "\n",
        "# Encode labels for multi-class classification (Stage 2)\n",
        "multi_encoder = LabelEncoder()\n",
        "y_train_full_multi = multi_encoder.fit_transform(y_train_full[y_train_full != 'Normal'])  # Only for \"Non-Normal\" classes\n",
        "y_test_multi = multi_encoder.transform(y_test[y_test != 'Normal'])  # Only for \"Non-Normal\" classes\n"
      ]
    },
    {
      "cell_type": "markdown",
      "metadata": {
        "id": "rdgn2Kd1lbxE"
      },
      "source": [
        "#### split to Stages"
      ]
    },
    {
      "cell_type": "code",
      "execution_count": 116,
      "metadata": {
        "id": "ooDJjot1sXEK"
      },
      "outputs": [],
      "source": [
        "# Split train data for Stage 1 and Stage 2\n",
        "X_train_tfidf_stage1 = X_train_full\n",
        "X_train_tfidf_stage2 = X_train_full[y_train_full != 'Normal']\n",
        "y_train_tfidf_stage1 = y_train_full_binary\n",
        "y_train_tfidf_stage2 = y_train_full_multi\n",
        "\n",
        "X_test_tfidf_stage1 = X_test\n",
        "X_test_tfidf_stage2 = X_test[y_test != 'Normal']\n",
        "\n"
      ]
    },
    {
      "cell_type": "markdown",
      "metadata": {
        "id": "00wfz1PalsD0"
      },
      "source": [
        "### OverSampling using SMOTE  "
      ]
    },
    {
      "cell_type": "code",
      "execution_count": 117,
      "metadata": {
        "id": "vDC-irbF79IU"
      },
      "outputs": [],
      "source": [
        "\n",
        "# Apply SMOTE for oversampling on Stage 2\n",
        "smote = SMOTE(random_state=42)\n",
        "\n",
        "#X_train_tfidf_stage2, y_train_stage2 = smote.fit_resample(X_train_tfidf_stage2, y_train_tfidf_stage2)\n",
        "#X_train_tfidf_stage1, y_train_stage1 = smote.fit_resample(X_train_tfidf_stage1, y_train_tfidf_stage1)\n",
        "\n"
      ]
    },
    {
      "cell_type": "markdown",
      "metadata": {
        "id": "7k5uJ1q4KmPV"
      },
      "source": [
        "# ***Normal Statement Classification***"
      ]
    },
    {
      "cell_type": "markdown",
      "metadata": {
        "id": "gzObnP4mk_Kt"
      },
      "source": [
        "### What we will do"
      ]
    },
    {
      "cell_type": "markdown",
      "metadata": {
        "id": "pvc6-GGgk3MC"
      },
      "source": [
        "\n",
        ">  Stage 1\n",
        "\n",
        ">  1.1  Logistic regression classifier\n",
        "\n",
        ">  2.2 neural network classifier\n",
        "\n",
        ">  2.3 chosssing the best classifier\n"
      ]
    },
    {
      "cell_type": "markdown",
      "metadata": {
        "id": "_FNBI8azKo8u"
      },
      "source": [
        "##  1.1 Stage 1: SVM"
      ]
    },
    {
      "cell_type": "markdown",
      "metadata": {
        "id": "1386nu2LeOM3"
      },
      "source": [
        "### Grid Search Param Definie"
      ]
    },
    {
      "cell_type": "markdown",
      "metadata": {
        "id": "IhCyYHwVExMk"
      },
      "source": [
        "#### Logistic Regression Param"
      ]
    },
    {
      "cell_type": "code",
      "execution_count": 118,
      "metadata": {
        "id": "dnvLTIE1eRC4"
      },
      "outputs": [],
      "source": [
        "# Define the binary classifier\n",
        "#clf = LogisticRegression(max_iter=1000, random_state=42)\n",
        "\n",
        "# Define the parameter grid for GridSearchCV\n",
        "# param_grid = {\n",
        "#     'C': [0.01, 0.1, 0.8,1,2, 10, 100],  # Regularization strength\n",
        "#     'solver': ['lbfgs', 'liblinear'],  # Optimization algorithms\n",
        "#     'penalty': ['l2'],  # Regularization type\n",
        "# }\n"
      ]
    },
    {
      "cell_type": "markdown",
      "metadata": {
        "id": "WeicYxTrE1oR"
      },
      "source": [
        "#### SVM Params"
      ]
    },
    {
      "cell_type": "code",
      "execution_count": 119,
      "metadata": {
        "id": "Qkg3qqnzE4bu"
      },
      "outputs": [],
      "source": [
        "# Define the SVC classifier\n",
        "clf = SVC(random_state=42)\n",
        "\n",
        "# Define the parameter grid to search over\n",
        "param_grid = {\n",
        "    'C': [0.6,],  # Regularization strength\n",
        "    'kernel': ['linear'],  # Types of kernels\n",
        "    'gamma': ['auto'],  # Kernel coefficient\n",
        "}\n",
        "\n"
      ]
    },
    {
      "cell_type": "markdown",
      "metadata": {
        "id": "EbiH0TGXFBao"
      },
      "source": [
        "### Define Recall Scorer"
      ]
    },
    {
      "cell_type": "code",
      "execution_count": 120,
      "metadata": {
        "id": "nR-hIFyEFEGO"
      },
      "outputs": [],
      "source": [
        "# Define recall as the scorer\n",
        "recall_scorer = make_scorer(recall_score, average='weighted')"
      ]
    },
    {
      "cell_type": "code",
      "execution_count": 121,
      "metadata": {
        "id": "hbP3nEcOo0v-"
      },
      "outputs": [],
      "source": [
        "# Define recall as the scorer\n",
        "precision_scorer = make_scorer(precision_score)"
      ]
    },
    {
      "cell_type": "markdown",
      "metadata": {
        "id": "N6X1q-PhiIKm"
      },
      "source": [
        "###  Grid Search Fit"
      ]
    },
    {
      "cell_type": "code",
      "execution_count": 122,
      "metadata": {
        "id": "80tSJKWjeWfU"
      },
      "outputs": [],
      "source": [
        "# Perform Grid Search with cross-validation\n",
        "grid_search = GridSearchCV(clf, param_grid, scoring=recall_scorer, cv=5, n_jobs=-1)"
      ]
    },
    {
      "cell_type": "code",
      "execution_count": 123,
      "metadata": {
        "colab": {
          "base_uri": "https://localhost:8080/",
          "height": 0
        },
        "id": "WIgbjtksFYwc",
        "outputId": "96de213e-12cd-4ed8-e601-e7a5deb3c6d4"
      },
      "outputs": [
        {
          "output_type": "execute_result",
          "data": {
            "text/plain": [
              "GridSearchCV(cv=5, estimator=SVC(random_state=42), n_jobs=-1,\n",
              "             param_grid={'C': [0.6], 'gamma': ['auto'], 'kernel': ['linear']},\n",
              "             scoring=make_scorer(recall_score, response_method='predict', average=weighted))"
            ],
            "text/html": [
              "<style>#sk-container-id-3 {\n",
              "  /* Definition of color scheme common for light and dark mode */\n",
              "  --sklearn-color-text: #000;\n",
              "  --sklearn-color-text-muted: #666;\n",
              "  --sklearn-color-line: gray;\n",
              "  /* Definition of color scheme for unfitted estimators */\n",
              "  --sklearn-color-unfitted-level-0: #fff5e6;\n",
              "  --sklearn-color-unfitted-level-1: #f6e4d2;\n",
              "  --sklearn-color-unfitted-level-2: #ffe0b3;\n",
              "  --sklearn-color-unfitted-level-3: chocolate;\n",
              "  /* Definition of color scheme for fitted estimators */\n",
              "  --sklearn-color-fitted-level-0: #f0f8ff;\n",
              "  --sklearn-color-fitted-level-1: #d4ebff;\n",
              "  --sklearn-color-fitted-level-2: #b3dbfd;\n",
              "  --sklearn-color-fitted-level-3: cornflowerblue;\n",
              "\n",
              "  /* Specific color for light theme */\n",
              "  --sklearn-color-text-on-default-background: var(--sg-text-color, var(--theme-code-foreground, var(--jp-content-font-color1, black)));\n",
              "  --sklearn-color-background: var(--sg-background-color, var(--theme-background, var(--jp-layout-color0, white)));\n",
              "  --sklearn-color-border-box: var(--sg-text-color, var(--theme-code-foreground, var(--jp-content-font-color1, black)));\n",
              "  --sklearn-color-icon: #696969;\n",
              "\n",
              "  @media (prefers-color-scheme: dark) {\n",
              "    /* Redefinition of color scheme for dark theme */\n",
              "    --sklearn-color-text-on-default-background: var(--sg-text-color, var(--theme-code-foreground, var(--jp-content-font-color1, white)));\n",
              "    --sklearn-color-background: var(--sg-background-color, var(--theme-background, var(--jp-layout-color0, #111)));\n",
              "    --sklearn-color-border-box: var(--sg-text-color, var(--theme-code-foreground, var(--jp-content-font-color1, white)));\n",
              "    --sklearn-color-icon: #878787;\n",
              "  }\n",
              "}\n",
              "\n",
              "#sk-container-id-3 {\n",
              "  color: var(--sklearn-color-text);\n",
              "}\n",
              "\n",
              "#sk-container-id-3 pre {\n",
              "  padding: 0;\n",
              "}\n",
              "\n",
              "#sk-container-id-3 input.sk-hidden--visually {\n",
              "  border: 0;\n",
              "  clip: rect(1px 1px 1px 1px);\n",
              "  clip: rect(1px, 1px, 1px, 1px);\n",
              "  height: 1px;\n",
              "  margin: -1px;\n",
              "  overflow: hidden;\n",
              "  padding: 0;\n",
              "  position: absolute;\n",
              "  width: 1px;\n",
              "}\n",
              "\n",
              "#sk-container-id-3 div.sk-dashed-wrapped {\n",
              "  border: 1px dashed var(--sklearn-color-line);\n",
              "  margin: 0 0.4em 0.5em 0.4em;\n",
              "  box-sizing: border-box;\n",
              "  padding-bottom: 0.4em;\n",
              "  background-color: var(--sklearn-color-background);\n",
              "}\n",
              "\n",
              "#sk-container-id-3 div.sk-container {\n",
              "  /* jupyter's `normalize.less` sets `[hidden] { display: none; }`\n",
              "     but bootstrap.min.css set `[hidden] { display: none !important; }`\n",
              "     so we also need the `!important` here to be able to override the\n",
              "     default hidden behavior on the sphinx rendered scikit-learn.org.\n",
              "     See: https://github.com/scikit-learn/scikit-learn/issues/21755 */\n",
              "  display: inline-block !important;\n",
              "  position: relative;\n",
              "}\n",
              "\n",
              "#sk-container-id-3 div.sk-text-repr-fallback {\n",
              "  display: none;\n",
              "}\n",
              "\n",
              "div.sk-parallel-item,\n",
              "div.sk-serial,\n",
              "div.sk-item {\n",
              "  /* draw centered vertical line to link estimators */\n",
              "  background-image: linear-gradient(var(--sklearn-color-text-on-default-background), var(--sklearn-color-text-on-default-background));\n",
              "  background-size: 2px 100%;\n",
              "  background-repeat: no-repeat;\n",
              "  background-position: center center;\n",
              "}\n",
              "\n",
              "/* Parallel-specific style estimator block */\n",
              "\n",
              "#sk-container-id-3 div.sk-parallel-item::after {\n",
              "  content: \"\";\n",
              "  width: 100%;\n",
              "  border-bottom: 2px solid var(--sklearn-color-text-on-default-background);\n",
              "  flex-grow: 1;\n",
              "}\n",
              "\n",
              "#sk-container-id-3 div.sk-parallel {\n",
              "  display: flex;\n",
              "  align-items: stretch;\n",
              "  justify-content: center;\n",
              "  background-color: var(--sklearn-color-background);\n",
              "  position: relative;\n",
              "}\n",
              "\n",
              "#sk-container-id-3 div.sk-parallel-item {\n",
              "  display: flex;\n",
              "  flex-direction: column;\n",
              "}\n",
              "\n",
              "#sk-container-id-3 div.sk-parallel-item:first-child::after {\n",
              "  align-self: flex-end;\n",
              "  width: 50%;\n",
              "}\n",
              "\n",
              "#sk-container-id-3 div.sk-parallel-item:last-child::after {\n",
              "  align-self: flex-start;\n",
              "  width: 50%;\n",
              "}\n",
              "\n",
              "#sk-container-id-3 div.sk-parallel-item:only-child::after {\n",
              "  width: 0;\n",
              "}\n",
              "\n",
              "/* Serial-specific style estimator block */\n",
              "\n",
              "#sk-container-id-3 div.sk-serial {\n",
              "  display: flex;\n",
              "  flex-direction: column;\n",
              "  align-items: center;\n",
              "  background-color: var(--sklearn-color-background);\n",
              "  padding-right: 1em;\n",
              "  padding-left: 1em;\n",
              "}\n",
              "\n",
              "\n",
              "/* Toggleable style: style used for estimator/Pipeline/ColumnTransformer box that is\n",
              "clickable and can be expanded/collapsed.\n",
              "- Pipeline and ColumnTransformer use this feature and define the default style\n",
              "- Estimators will overwrite some part of the style using the `sk-estimator` class\n",
              "*/\n",
              "\n",
              "/* Pipeline and ColumnTransformer style (default) */\n",
              "\n",
              "#sk-container-id-3 div.sk-toggleable {\n",
              "  /* Default theme specific background. It is overwritten whether we have a\n",
              "  specific estimator or a Pipeline/ColumnTransformer */\n",
              "  background-color: var(--sklearn-color-background);\n",
              "}\n",
              "\n",
              "/* Toggleable label */\n",
              "#sk-container-id-3 label.sk-toggleable__label {\n",
              "  cursor: pointer;\n",
              "  display: flex;\n",
              "  width: 100%;\n",
              "  margin-bottom: 0;\n",
              "  padding: 0.5em;\n",
              "  box-sizing: border-box;\n",
              "  text-align: center;\n",
              "  align-items: start;\n",
              "  justify-content: space-between;\n",
              "  gap: 0.5em;\n",
              "}\n",
              "\n",
              "#sk-container-id-3 label.sk-toggleable__label .caption {\n",
              "  font-size: 0.6rem;\n",
              "  font-weight: lighter;\n",
              "  color: var(--sklearn-color-text-muted);\n",
              "}\n",
              "\n",
              "#sk-container-id-3 label.sk-toggleable__label-arrow:before {\n",
              "  /* Arrow on the left of the label */\n",
              "  content: \"▸\";\n",
              "  float: left;\n",
              "  margin-right: 0.25em;\n",
              "  color: var(--sklearn-color-icon);\n",
              "}\n",
              "\n",
              "#sk-container-id-3 label.sk-toggleable__label-arrow:hover:before {\n",
              "  color: var(--sklearn-color-text);\n",
              "}\n",
              "\n",
              "/* Toggleable content - dropdown */\n",
              "\n",
              "#sk-container-id-3 div.sk-toggleable__content {\n",
              "  max-height: 0;\n",
              "  max-width: 0;\n",
              "  overflow: hidden;\n",
              "  text-align: left;\n",
              "  /* unfitted */\n",
              "  background-color: var(--sklearn-color-unfitted-level-0);\n",
              "}\n",
              "\n",
              "#sk-container-id-3 div.sk-toggleable__content.fitted {\n",
              "  /* fitted */\n",
              "  background-color: var(--sklearn-color-fitted-level-0);\n",
              "}\n",
              "\n",
              "#sk-container-id-3 div.sk-toggleable__content pre {\n",
              "  margin: 0.2em;\n",
              "  border-radius: 0.25em;\n",
              "  color: var(--sklearn-color-text);\n",
              "  /* unfitted */\n",
              "  background-color: var(--sklearn-color-unfitted-level-0);\n",
              "}\n",
              "\n",
              "#sk-container-id-3 div.sk-toggleable__content.fitted pre {\n",
              "  /* unfitted */\n",
              "  background-color: var(--sklearn-color-fitted-level-0);\n",
              "}\n",
              "\n",
              "#sk-container-id-3 input.sk-toggleable__control:checked~div.sk-toggleable__content {\n",
              "  /* Expand drop-down */\n",
              "  max-height: 200px;\n",
              "  max-width: 100%;\n",
              "  overflow: auto;\n",
              "}\n",
              "\n",
              "#sk-container-id-3 input.sk-toggleable__control:checked~label.sk-toggleable__label-arrow:before {\n",
              "  content: \"▾\";\n",
              "}\n",
              "\n",
              "/* Pipeline/ColumnTransformer-specific style */\n",
              "\n",
              "#sk-container-id-3 div.sk-label input.sk-toggleable__control:checked~label.sk-toggleable__label {\n",
              "  color: var(--sklearn-color-text);\n",
              "  background-color: var(--sklearn-color-unfitted-level-2);\n",
              "}\n",
              "\n",
              "#sk-container-id-3 div.sk-label.fitted input.sk-toggleable__control:checked~label.sk-toggleable__label {\n",
              "  background-color: var(--sklearn-color-fitted-level-2);\n",
              "}\n",
              "\n",
              "/* Estimator-specific style */\n",
              "\n",
              "/* Colorize estimator box */\n",
              "#sk-container-id-3 div.sk-estimator input.sk-toggleable__control:checked~label.sk-toggleable__label {\n",
              "  /* unfitted */\n",
              "  background-color: var(--sklearn-color-unfitted-level-2);\n",
              "}\n",
              "\n",
              "#sk-container-id-3 div.sk-estimator.fitted input.sk-toggleable__control:checked~label.sk-toggleable__label {\n",
              "  /* fitted */\n",
              "  background-color: var(--sklearn-color-fitted-level-2);\n",
              "}\n",
              "\n",
              "#sk-container-id-3 div.sk-label label.sk-toggleable__label,\n",
              "#sk-container-id-3 div.sk-label label {\n",
              "  /* The background is the default theme color */\n",
              "  color: var(--sklearn-color-text-on-default-background);\n",
              "}\n",
              "\n",
              "/* On hover, darken the color of the background */\n",
              "#sk-container-id-3 div.sk-label:hover label.sk-toggleable__label {\n",
              "  color: var(--sklearn-color-text);\n",
              "  background-color: var(--sklearn-color-unfitted-level-2);\n",
              "}\n",
              "\n",
              "/* Label box, darken color on hover, fitted */\n",
              "#sk-container-id-3 div.sk-label.fitted:hover label.sk-toggleable__label.fitted {\n",
              "  color: var(--sklearn-color-text);\n",
              "  background-color: var(--sklearn-color-fitted-level-2);\n",
              "}\n",
              "\n",
              "/* Estimator label */\n",
              "\n",
              "#sk-container-id-3 div.sk-label label {\n",
              "  font-family: monospace;\n",
              "  font-weight: bold;\n",
              "  display: inline-block;\n",
              "  line-height: 1.2em;\n",
              "}\n",
              "\n",
              "#sk-container-id-3 div.sk-label-container {\n",
              "  text-align: center;\n",
              "}\n",
              "\n",
              "/* Estimator-specific */\n",
              "#sk-container-id-3 div.sk-estimator {\n",
              "  font-family: monospace;\n",
              "  border: 1px dotted var(--sklearn-color-border-box);\n",
              "  border-radius: 0.25em;\n",
              "  box-sizing: border-box;\n",
              "  margin-bottom: 0.5em;\n",
              "  /* unfitted */\n",
              "  background-color: var(--sklearn-color-unfitted-level-0);\n",
              "}\n",
              "\n",
              "#sk-container-id-3 div.sk-estimator.fitted {\n",
              "  /* fitted */\n",
              "  background-color: var(--sklearn-color-fitted-level-0);\n",
              "}\n",
              "\n",
              "/* on hover */\n",
              "#sk-container-id-3 div.sk-estimator:hover {\n",
              "  /* unfitted */\n",
              "  background-color: var(--sklearn-color-unfitted-level-2);\n",
              "}\n",
              "\n",
              "#sk-container-id-3 div.sk-estimator.fitted:hover {\n",
              "  /* fitted */\n",
              "  background-color: var(--sklearn-color-fitted-level-2);\n",
              "}\n",
              "\n",
              "/* Specification for estimator info (e.g. \"i\" and \"?\") */\n",
              "\n",
              "/* Common style for \"i\" and \"?\" */\n",
              "\n",
              ".sk-estimator-doc-link,\n",
              "a:link.sk-estimator-doc-link,\n",
              "a:visited.sk-estimator-doc-link {\n",
              "  float: right;\n",
              "  font-size: smaller;\n",
              "  line-height: 1em;\n",
              "  font-family: monospace;\n",
              "  background-color: var(--sklearn-color-background);\n",
              "  border-radius: 1em;\n",
              "  height: 1em;\n",
              "  width: 1em;\n",
              "  text-decoration: none !important;\n",
              "  margin-left: 0.5em;\n",
              "  text-align: center;\n",
              "  /* unfitted */\n",
              "  border: var(--sklearn-color-unfitted-level-1) 1pt solid;\n",
              "  color: var(--sklearn-color-unfitted-level-1);\n",
              "}\n",
              "\n",
              ".sk-estimator-doc-link.fitted,\n",
              "a:link.sk-estimator-doc-link.fitted,\n",
              "a:visited.sk-estimator-doc-link.fitted {\n",
              "  /* fitted */\n",
              "  border: var(--sklearn-color-fitted-level-1) 1pt solid;\n",
              "  color: var(--sklearn-color-fitted-level-1);\n",
              "}\n",
              "\n",
              "/* On hover */\n",
              "div.sk-estimator:hover .sk-estimator-doc-link:hover,\n",
              ".sk-estimator-doc-link:hover,\n",
              "div.sk-label-container:hover .sk-estimator-doc-link:hover,\n",
              ".sk-estimator-doc-link:hover {\n",
              "  /* unfitted */\n",
              "  background-color: var(--sklearn-color-unfitted-level-3);\n",
              "  color: var(--sklearn-color-background);\n",
              "  text-decoration: none;\n",
              "}\n",
              "\n",
              "div.sk-estimator.fitted:hover .sk-estimator-doc-link.fitted:hover,\n",
              ".sk-estimator-doc-link.fitted:hover,\n",
              "div.sk-label-container:hover .sk-estimator-doc-link.fitted:hover,\n",
              ".sk-estimator-doc-link.fitted:hover {\n",
              "  /* fitted */\n",
              "  background-color: var(--sklearn-color-fitted-level-3);\n",
              "  color: var(--sklearn-color-background);\n",
              "  text-decoration: none;\n",
              "}\n",
              "\n",
              "/* Span, style for the box shown on hovering the info icon */\n",
              ".sk-estimator-doc-link span {\n",
              "  display: none;\n",
              "  z-index: 9999;\n",
              "  position: relative;\n",
              "  font-weight: normal;\n",
              "  right: .2ex;\n",
              "  padding: .5ex;\n",
              "  margin: .5ex;\n",
              "  width: min-content;\n",
              "  min-width: 20ex;\n",
              "  max-width: 50ex;\n",
              "  color: var(--sklearn-color-text);\n",
              "  box-shadow: 2pt 2pt 4pt #999;\n",
              "  /* unfitted */\n",
              "  background: var(--sklearn-color-unfitted-level-0);\n",
              "  border: .5pt solid var(--sklearn-color-unfitted-level-3);\n",
              "}\n",
              "\n",
              ".sk-estimator-doc-link.fitted span {\n",
              "  /* fitted */\n",
              "  background: var(--sklearn-color-fitted-level-0);\n",
              "  border: var(--sklearn-color-fitted-level-3);\n",
              "}\n",
              "\n",
              ".sk-estimator-doc-link:hover span {\n",
              "  display: block;\n",
              "}\n",
              "\n",
              "/* \"?\"-specific style due to the `<a>` HTML tag */\n",
              "\n",
              "#sk-container-id-3 a.estimator_doc_link {\n",
              "  float: right;\n",
              "  font-size: 1rem;\n",
              "  line-height: 1em;\n",
              "  font-family: monospace;\n",
              "  background-color: var(--sklearn-color-background);\n",
              "  border-radius: 1rem;\n",
              "  height: 1rem;\n",
              "  width: 1rem;\n",
              "  text-decoration: none;\n",
              "  /* unfitted */\n",
              "  color: var(--sklearn-color-unfitted-level-1);\n",
              "  border: var(--sklearn-color-unfitted-level-1) 1pt solid;\n",
              "}\n",
              "\n",
              "#sk-container-id-3 a.estimator_doc_link.fitted {\n",
              "  /* fitted */\n",
              "  border: var(--sklearn-color-fitted-level-1) 1pt solid;\n",
              "  color: var(--sklearn-color-fitted-level-1);\n",
              "}\n",
              "\n",
              "/* On hover */\n",
              "#sk-container-id-3 a.estimator_doc_link:hover {\n",
              "  /* unfitted */\n",
              "  background-color: var(--sklearn-color-unfitted-level-3);\n",
              "  color: var(--sklearn-color-background);\n",
              "  text-decoration: none;\n",
              "}\n",
              "\n",
              "#sk-container-id-3 a.estimator_doc_link.fitted:hover {\n",
              "  /* fitted */\n",
              "  background-color: var(--sklearn-color-fitted-level-3);\n",
              "}\n",
              "</style><div id=\"sk-container-id-3\" class=\"sk-top-container\"><div class=\"sk-text-repr-fallback\"><pre>GridSearchCV(cv=5, estimator=SVC(random_state=42), n_jobs=-1,\n",
              "             param_grid={&#x27;C&#x27;: [0.6], &#x27;gamma&#x27;: [&#x27;auto&#x27;], &#x27;kernel&#x27;: [&#x27;linear&#x27;]},\n",
              "             scoring=make_scorer(recall_score, response_method=&#x27;predict&#x27;, average=weighted))</pre><b>In a Jupyter environment, please rerun this cell to show the HTML representation or trust the notebook. <br />On GitHub, the HTML representation is unable to render, please try loading this page with nbviewer.org.</b></div><div class=\"sk-container\" hidden><div class=\"sk-item sk-dashed-wrapped\"><div class=\"sk-label-container\"><div class=\"sk-label fitted sk-toggleable\"><input class=\"sk-toggleable__control sk-hidden--visually\" id=\"sk-estimator-id-7\" type=\"checkbox\" ><label for=\"sk-estimator-id-7\" class=\"sk-toggleable__label fitted sk-toggleable__label-arrow\"><div><div>GridSearchCV</div></div><div><a class=\"sk-estimator-doc-link fitted\" rel=\"noreferrer\" target=\"_blank\" href=\"https://scikit-learn.org/1.6/modules/generated/sklearn.model_selection.GridSearchCV.html\">?<span>Documentation for GridSearchCV</span></a><span class=\"sk-estimator-doc-link fitted\">i<span>Fitted</span></span></div></label><div class=\"sk-toggleable__content fitted\"><pre>GridSearchCV(cv=5, estimator=SVC(random_state=42), n_jobs=-1,\n",
              "             param_grid={&#x27;C&#x27;: [0.6], &#x27;gamma&#x27;: [&#x27;auto&#x27;], &#x27;kernel&#x27;: [&#x27;linear&#x27;]},\n",
              "             scoring=make_scorer(recall_score, response_method=&#x27;predict&#x27;, average=weighted))</pre></div> </div></div><div class=\"sk-parallel\"><div class=\"sk-parallel-item\"><div class=\"sk-item\"><div class=\"sk-label-container\"><div class=\"sk-label fitted sk-toggleable\"><input class=\"sk-toggleable__control sk-hidden--visually\" id=\"sk-estimator-id-8\" type=\"checkbox\" ><label for=\"sk-estimator-id-8\" class=\"sk-toggleable__label fitted sk-toggleable__label-arrow\"><div><div>best_estimator_: SVC</div></div></label><div class=\"sk-toggleable__content fitted\"><pre>SVC(C=0.6, gamma=&#x27;auto&#x27;, kernel=&#x27;linear&#x27;, random_state=42)</pre></div> </div></div><div class=\"sk-serial\"><div class=\"sk-item\"><div class=\"sk-estimator fitted sk-toggleable\"><input class=\"sk-toggleable__control sk-hidden--visually\" id=\"sk-estimator-id-9\" type=\"checkbox\" ><label for=\"sk-estimator-id-9\" class=\"sk-toggleable__label fitted sk-toggleable__label-arrow\"><div><div>SVC</div></div><div><a class=\"sk-estimator-doc-link fitted\" rel=\"noreferrer\" target=\"_blank\" href=\"https://scikit-learn.org/1.6/modules/generated/sklearn.svm.SVC.html\">?<span>Documentation for SVC</span></a></div></label><div class=\"sk-toggleable__content fitted\"><pre>SVC(C=0.6, gamma=&#x27;auto&#x27;, kernel=&#x27;linear&#x27;, random_state=42)</pre></div> </div></div></div></div></div></div></div></div></div>"
            ]
          },
          "metadata": {},
          "execution_count": 123
        }
      ],
      "source": [
        "\n",
        "# Fit the model using GridSearchCV\n",
        "grid_search.fit(X_train_tfidf_stage1, y_train_tfidf_stage1)"
      ]
    },
    {
      "cell_type": "markdown",
      "metadata": {
        "id": "KJC5W42CiMjX"
      },
      "source": [
        "### best PArarms"
      ]
    },
    {
      "cell_type": "code",
      "execution_count": 124,
      "metadata": {
        "colab": {
          "base_uri": "https://localhost:8080/"
        },
        "id": "CpCGG90HigrM",
        "outputId": "e32aac9e-227d-4574-e580-95d2115967e3"
      },
      "outputs": [
        {
          "output_type": "stream",
          "name": "stdout",
          "text": [
            "Best parameters: {'C': 0.6, 'gamma': 'auto', 'kernel': 'linear'}\n"
          ]
        }
      ],
      "source": [
        "# Best parameters from GridSearchCV\n",
        "best_params = grid_search.best_params_\n",
        "print(f\"Best parameters: {best_params}\")\n",
        "\n"
      ]
    },
    {
      "cell_type": "code",
      "execution_count": 125,
      "metadata": {
        "id": "mg_iduDGFwuW"
      },
      "outputs": [],
      "source": [
        "# Get the best model\n",
        "logistic1_classifier = grid_search.best_estimator_\n"
      ]
    },
    {
      "cell_type": "code",
      "execution_count": 126,
      "metadata": {
        "colab": {
          "base_uri": "https://localhost:8080/"
        },
        "id": "xbDW9aynGH7U",
        "outputId": "52a4c4cf-8df5-4cb1-a8a7-c3b5ca02c322"
      },
      "outputs": [
        {
          "output_type": "stream",
          "name": "stdout",
          "text": [
            "Best accuracy: 0.8927961346410507\n"
          ]
        }
      ],
      "source": [
        "# Get the best parameters and accuracy\n",
        "best_accuracy = grid_search.best_score_\n",
        "print(f\"Best accuracy: {best_accuracy}\")"
      ]
    },
    {
      "cell_type": "markdown",
      "metadata": {
        "id": "9esxu_GSF-Pd"
      },
      "source": [
        "### Evalutate the model"
      ]
    },
    {
      "cell_type": "code",
      "execution_count": 127,
      "metadata": {
        "colab": {
          "base_uri": "https://localhost:8080/"
        },
        "id": "DgrQPDYZpcch",
        "outputId": "d93ad732-0bcd-4345-9f3c-03ce78791f29"
      },
      "outputs": [
        {
          "output_type": "stream",
          "name": "stdout",
          "text": [
            "Test set recall score: 0.8919996203853089\n"
          ]
        }
      ],
      "source": [
        "\n",
        "# Evaluate the model on the test set\n",
        "y_pred = logistic1_classifier.predict(X_test_tfidf_stage1)\n",
        "print(\"Test set recall score:\", recall_score(y_test_binary, y_pred, average='weighted'))\n"
      ]
    },
    {
      "cell_type": "markdown",
      "metadata": {
        "id": "4iuw-sZ1kp7K"
      },
      "source": [
        "### classification report for train"
      ]
    },
    {
      "cell_type": "code",
      "execution_count": 128,
      "metadata": {
        "colab": {
          "base_uri": "https://localhost:8080/"
        },
        "id": "qfXRN_MnktuY",
        "outputId": "90f92baf-3ef7-430e-d8bc-2ec9c5f72ba2"
      },
      "outputs": [
        {
          "output_type": "stream",
          "name": "stdout",
          "text": [
            "Stage 1 (Binary Classification) - Normal vs Non-Normal\n",
            "Accuracy: 0.8941249050873197\n",
            "              precision    recall  f1-score   support\n",
            "\n",
            "           0       0.93      0.91      0.92     29109\n",
            "           1       0.81      0.85      0.83     13035\n",
            "\n",
            "    accuracy                           0.89     42144\n",
            "   macro avg       0.87      0.88      0.88     42144\n",
            "weighted avg       0.90      0.89      0.89     42144\n",
            "\n",
            "Confusion Matrix:\n",
            " [[26556  2553]\n",
            " [ 1909 11126]]\n"
          ]
        }
      ],
      "source": [
        "# Evaluate binary classifier\n",
        "y_pred_stage1 = logistic1_classifier.predict(X_train_tfidf_stage1)\n",
        "print(\"Stage 1 (Binary Classification) - Normal vs Non-Normal\")\n",
        "print(\"Accuracy:\", accuracy_score(y_train_tfidf_stage1, y_pred_stage1))\n",
        "print(classification_report(y_train_tfidf_stage1, y_pred_stage1))\n",
        "print(\"Confusion Matrix:\\n\", confusion_matrix(y_train_tfidf_stage1, y_pred_stage1))\n"
      ]
    },
    {
      "cell_type": "markdown",
      "metadata": {
        "id": "aGpSzmF5iPfu"
      },
      "source": [
        "### classification report"
      ]
    },
    {
      "cell_type": "code",
      "execution_count": 129,
      "metadata": {
        "colab": {
          "base_uri": "https://localhost:8080/"
        },
        "id": "q2Zam9f2Iiro",
        "outputId": "f0f4e40b-e15b-48c5-b58c-616093c285bd"
      },
      "outputs": [
        {
          "output_type": "stream",
          "name": "stdout",
          "text": [
            "Stage 1 (Binary Classification) - Normal vs Non-Normal\n",
            "Accuracy: 0.8919996203853089\n",
            "              precision    recall  f1-score   support\n",
            "\n",
            "           0       0.93      0.91      0.92      7229\n",
            "           1       0.81      0.85      0.83      3308\n",
            "\n",
            "    accuracy                           0.89     10537\n",
            "   macro avg       0.87      0.88      0.88     10537\n",
            "weighted avg       0.89      0.89      0.89     10537\n",
            "\n",
            "Confusion Matrix:\n",
            " [[6584  645]\n",
            " [ 493 2815]]\n"
          ]
        }
      ],
      "source": [
        "# Evaluate binary classifier\n",
        "y_pred_stage1 = logistic1_classifier.predict(X_test_tfidf_stage1)\n",
        "print(\"Stage 1 (Binary Classification) - Normal vs Non-Normal\")\n",
        "print(\"Accuracy:\", accuracy_score(y_test_binary, y_pred_stage1))\n",
        "print(classification_report(y_test_binary, y_pred_stage1))\n",
        "print(\"Confusion Matrix:\\n\", confusion_matrix(y_test_binary, y_pred_stage1))\n"
      ]
    },
    {
      "cell_type": "markdown",
      "metadata": {
        "id": "A5WCvSq0iW6I"
      },
      "source": [
        "### Heat Map"
      ]
    },
    {
      "cell_type": "code",
      "execution_count": 130,
      "metadata": {
        "colab": {
          "base_uri": "https://localhost:8080/",
          "height": 410
        },
        "id": "Th1F9FjlJSyB",
        "outputId": "fd6c7454-0a82-47b3-e09d-f544e4ce5fe5"
      },
      "outputs": [
        {
          "output_type": "display_data",
          "data": {
            "text/plain": [
              "<Figure size 600x400 with 2 Axes>"
            ],
            "image/png": "[encoded data removed]"
          },
          "metadata": {}
        }
      ],
      "source": [
        "# Calculate confusion matrix for Stage 1\n",
        "conf_matrix_stage1 = confusion_matrix(y_test_binary, y_pred_stage1)\n",
        "\n",
        "# Plot heatmap for Stage 1\n",
        "plt.figure(figsize=(6, 4))\n",
        "sns.heatmap(conf_matrix_stage1, annot=True, fmt=\"d\", cmap=\"Blues\", xticklabels=binary_encoder.classes_, yticklabels=binary_encoder.classes_)\n",
        "plt.title(\"Confusion Matrix - Stage 1 (Normal vs Non-Normal)\")\n",
        "plt.xlabel(\"Predicted Labels\")\n",
        "plt.ylabel(\"True Labels\")\n",
        "plt.show()\n"
      ]
    },
    {
      "cell_type": "markdown",
      "metadata": {
        "id": "k8p9P5_sKwZm"
      },
      "source": [
        "## 1.2  Stage 1:  Neural Network"
      ]
    },
    {
      "cell_type": "markdown",
      "metadata": {
        "id": "vmdch8D0ieoM"
      },
      "source": [
        "### Neural Network Layers"
      ]
    },
    {
      "cell_type": "code",
      "execution_count": 131,
      "metadata": {
        "id": "6aZSUBgQLAs6"
      },
      "outputs": [],
      "source": [
        "# Define the layers in an array\n",
        "layers = [\n",
        "    Dense(units=256, activation='relu', input_shape=(X_train_tfidf_stage1.shape[1],),kernel_regularizer=l2(0.01)),  # Input Layer\n",
        "    BatchNormalization(),\n",
        "    Dropout(rate=0.2),  # Dropout Layer 1\n",
        "    Dense(units=64, activation='relu',kernel_regularizer=l2(0.01)),  # Hidden Layer 1\n",
        "    Dropout(rate=0.1),  # Dropout Layer 1\n",
        "    Dense(units=16, activation='relu',kernel_regularizer=l2(0.01)),  # Hidden Layer 2\n",
        "\n",
        "    Dense(units=2, activation='softmax')  # Output Layer\n",
        "]\n",
        "\n",
        "# Initialize the Sequential model\n",
        "model = Sequential(layers)\n",
        "\n",
        "\n",
        "# Compile the model: Using Adam optimizer, sparse categorical crossentropy loss, and accuracy as the metric\n",
        "model.compile(optimizer=Adam(learning_rate=0.001),\n",
        "              loss='sparse_categorical_crossentropy',\n",
        "              metrics=['accuracy'])\n",
        "\n"
      ]
    },
    {
      "cell_type": "markdown",
      "metadata": {
        "id": "F1N1Mn3eiirK"
      },
      "source": [
        "### Model Training"
      ]
    },
    {
      "cell_type": "code",
      "execution_count": 132,
      "metadata": {
        "colab": {
          "base_uri": "https://localhost:8080/"
        },
        "id": "sC4zz-2lLYHu",
        "outputId": "65601558-ccb4-4b18-92cb-1367eee76af8"
      },
      "outputs": [
        {
          "output_type": "stream",
          "name": "stdout",
          "text": [
            "Epoch 1/20\n",
            "\u001b[1m461/461\u001b[0m \u001b[32m━━━━━━━━━━━━━━━━━━━━\u001b[0m\u001b[37m\u001b[0m \u001b[1m4s\u001b[0m 4ms/step - accuracy: 0.8525 - loss: 1.7283 - val_accuracy: 0.8104 - val_loss: 0.4776\n",
            "Epoch 2/20\n",
            "\u001b[1m461/461\u001b[0m \u001b[32m━━━━━━━━━━━━━━━━━━━━\u001b[0m\u001b[37m\u001b[0m \u001b[1m3s\u001b[0m 6ms/step - accuracy: 0.8844 - loss: 0.3493 - val_accuracy: 0.8904 - val_loss: 0.3076\n",
            "Epoch 3/20\n",
            "\u001b[1m461/461\u001b[0m \u001b[32m━━━━━━━━━━━━━━━━━━━━\u001b[0m\u001b[37m\u001b[0m \u001b[1m4s\u001b[0m 4ms/step - accuracy: 0.8855 - loss: 0.3122 - val_accuracy: 0.8893 - val_loss: 0.2983\n",
            "Epoch 4/20\n",
            "\u001b[1m461/461\u001b[0m \u001b[32m━━━━━━━━━━━━━━━━━━━━\u001b[0m\u001b[37m\u001b[0m \u001b[1m3s\u001b[0m 4ms/step - accuracy: 0.8909 - loss: 0.2968 - val_accuracy: 0.8911 - val_loss: 0.2966\n",
            "Epoch 5/20\n",
            "\u001b[1m461/461\u001b[0m \u001b[32m━━━━━━━━━━━━━━━━━━━━\u001b[0m\u001b[37m\u001b[0m \u001b[1m3s\u001b[0m 4ms/step - accuracy: 0.8876 - loss: 0.3047 - val_accuracy: 0.8916 - val_loss: 0.2924\n",
            "Epoch 6/20\n",
            "\u001b[1m461/461\u001b[0m \u001b[32m━━━━━━━━━━━━━━━━━━━━\u001b[0m\u001b[37m\u001b[0m \u001b[1m2s\u001b[0m 4ms/step - accuracy: 0.8863 - loss: 0.3067 - val_accuracy: 0.8924 - val_loss: 0.2889\n",
            "Epoch 7/20\n",
            "\u001b[1m461/461\u001b[0m \u001b[32m━━━━━━━━━━━━━━━━━━━━\u001b[0m\u001b[37m\u001b[0m \u001b[1m2s\u001b[0m 5ms/step - accuracy: 0.8869 - loss: 0.3027 - val_accuracy: 0.8917 - val_loss: 0.2885\n",
            "Epoch 8/20\n",
            "\u001b[1m461/461\u001b[0m \u001b[32m━━━━━━━━━━━━━━━━━━━━\u001b[0m\u001b[37m\u001b[0m \u001b[1m3s\u001b[0m 7ms/step - accuracy: 0.8879 - loss: 0.2952 - val_accuracy: 0.8913 - val_loss: 0.2875\n",
            "Epoch 9/20\n",
            "\u001b[1m461/461\u001b[0m \u001b[32m━━━━━━━━━━━━━━━━━━━━\u001b[0m\u001b[37m\u001b[0m \u001b[1m3s\u001b[0m 7ms/step - accuracy: 0.8879 - loss: 0.2993 - val_accuracy: 0.8895 - val_loss: 0.2957\n",
            "Epoch 10/20\n",
            "\u001b[1m461/461\u001b[0m \u001b[32m━━━━━━━━━━━━━━━━━━━━\u001b[0m\u001b[37m\u001b[0m \u001b[1m2s\u001b[0m 4ms/step - accuracy: 0.8869 - loss: 0.2968 - val_accuracy: 0.8936 - val_loss: 0.2826\n",
            "Epoch 11/20\n",
            "\u001b[1m461/461\u001b[0m \u001b[32m━━━━━━━━━━━━━━━━━━━━\u001b[0m\u001b[37m\u001b[0m \u001b[1m2s\u001b[0m 4ms/step - accuracy: 0.8933 - loss: 0.2840 - val_accuracy: 0.8909 - val_loss: 0.2836\n",
            "Epoch 12/20\n",
            "\u001b[1m461/461\u001b[0m \u001b[32m━━━━━━━━━━━━━━━━━━━━\u001b[0m\u001b[37m\u001b[0m \u001b[1m3s\u001b[0m 4ms/step - accuracy: 0.8892 - loss: 0.2870 - val_accuracy: 0.8924 - val_loss: 0.2823\n",
            "Epoch 13/20\n",
            "\u001b[1m461/461\u001b[0m \u001b[32m━━━━━━━━━━━━━━━━━━━━\u001b[0m\u001b[37m\u001b[0m \u001b[1m2s\u001b[0m 4ms/step - accuracy: 0.8932 - loss: 0.2852 - val_accuracy: 0.8905 - val_loss: 0.2835\n",
            "Epoch 14/20\n",
            "\u001b[1m461/461\u001b[0m \u001b[32m━━━━━━━━━━━━━━━━━━━━\u001b[0m\u001b[37m\u001b[0m \u001b[1m3s\u001b[0m 5ms/step - accuracy: 0.8874 - loss: 0.2908 - val_accuracy: 0.8959 - val_loss: 0.2799\n",
            "Epoch 15/20\n",
            "\u001b[1m461/461\u001b[0m \u001b[32m━━━━━━━━━━━━━━━━━━━━\u001b[0m\u001b[37m\u001b[0m \u001b[1m4s\u001b[0m 7ms/step - accuracy: 0.8890 - loss: 0.2890 - val_accuracy: 0.8936 - val_loss: 0.2788\n",
            "Epoch 16/20\n",
            "\u001b[1m461/461\u001b[0m \u001b[32m━━━━━━━━━━━━━━━━━━━━\u001b[0m\u001b[37m\u001b[0m \u001b[1m4s\u001b[0m 4ms/step - accuracy: 0.8916 - loss: 0.2858 - val_accuracy: 0.8952 - val_loss: 0.2836\n",
            "Epoch 17/20\n",
            "\u001b[1m461/461\u001b[0m \u001b[32m━━━━━━━━━━━━━━━━━━━━\u001b[0m\u001b[37m\u001b[0m \u001b[1m3s\u001b[0m 4ms/step - accuracy: 0.8897 - loss: 0.2877 - val_accuracy: 0.8931 - val_loss: 0.2815\n",
            "Epoch 18/20\n",
            "\u001b[1m461/461\u001b[0m \u001b[32m━━━━━━━━━━━━━━━━━━━━\u001b[0m\u001b[37m\u001b[0m \u001b[1m2s\u001b[0m 4ms/step - accuracy: 0.8916 - loss: 0.2844 - val_accuracy: 0.8920 - val_loss: 0.2796\n",
            "Epoch 19/20\n",
            "\u001b[1m461/461\u001b[0m \u001b[32m━━━━━━━━━━━━━━━━━━━━\u001b[0m\u001b[37m\u001b[0m \u001b[1m2s\u001b[0m 4ms/step - accuracy: 0.8859 - loss: 0.2909 - val_accuracy: 0.8953 - val_loss: 0.2758\n",
            "Epoch 20/20\n",
            "\u001b[1m461/461\u001b[0m \u001b[32m━━━━━━━━━━━━━━━━━━━━\u001b[0m\u001b[37m\u001b[0m \u001b[1m3s\u001b[0m 6ms/step - accuracy: 0.8915 - loss: 0.2801 - val_accuracy: 0.8962 - val_loss: 0.2771\n"
          ]
        }
      ],
      "source": [
        "\n",
        "# Train the model on training data with validation on the test data\n",
        "history = model.fit(X_train_tfidf_stage1.toarray(),\n",
        "                    y_train_tfidf_stage1,\n",
        "                    epochs=20,\n",
        "                    batch_size=64,\n",
        "                    validation_split=0.3\n",
        "                    )\n"
      ]
    },
    {
      "cell_type": "markdown",
      "metadata": {
        "id": "KpoEttgRlJml"
      },
      "source": [
        "### Classification report on train"
      ]
    },
    {
      "cell_type": "code",
      "execution_count": 133,
      "metadata": {
        "colab": {
          "base_uri": "https://localhost:8080/"
        },
        "id": "-uZcp6HZlM8x",
        "outputId": "f8e88ca3-ff55-4045-d4c8-9bdd368e5ca6"
      },
      "outputs": [
        {
          "output_type": "stream",
          "name": "stdout",
          "text": [
            "\u001b[1m1317/1317\u001b[0m \u001b[32m━━━━━━━━━━━━━━━━━━━━\u001b[0m\u001b[37m\u001b[0m \u001b[1m3s\u001b[0m 2ms/step\n",
            "Stage 1 (Binary Classification) - Normal vs Non-Normal\n",
            "Accuracy: 0.8971146545178436\n",
            "              precision    recall  f1-score   support\n",
            "\n",
            "           0       0.94      0.91      0.92     29109\n",
            "           1       0.81      0.88      0.84     13035\n",
            "\n",
            "    accuracy                           0.90     42144\n",
            "   macro avg       0.87      0.89      0.88     42144\n",
            "weighted avg       0.90      0.90      0.90     42144\n",
            "\n",
            "Confusion Matrix:\n",
            " [[26395  2714]\n",
            " [ 1622 11413]]\n"
          ]
        }
      ],
      "source": [
        "# Evaluate binary classifier\n",
        "y_pred_stage1 = model.predict(X_train_tfidf_stage1)\n",
        "y_pred_stage1 = y_pred_stage1.argmax(axis=1)  # Convert probabilities to class predictions\n",
        "\n",
        "print(\"Stage 1 (Binary Classification) - Normal vs Non-Normal\")\n",
        "print(\"Accuracy:\", accuracy_score(y_train_tfidf_stage1, y_pred_stage1))\n",
        "print(classification_report(y_train_tfidf_stage1, y_pred_stage1))\n",
        "print(\"Confusion Matrix:\\n\", confusion_matrix(y_train_tfidf_stage1, y_pred_stage1))\n"
      ]
    },
    {
      "cell_type": "markdown",
      "metadata": {
        "id": "98XWO92bim6x"
      },
      "source": [
        "### Confusion Matrix"
      ]
    },
    {
      "cell_type": "code",
      "execution_count": 134,
      "metadata": {
        "colab": {
          "base_uri": "https://localhost:8080/"
        },
        "id": "mh_cFFgiLWZo",
        "outputId": "fc1c77d6-2755-489d-d01c-9a2e563aee12"
      },
      "outputs": [
        {
          "output_type": "stream",
          "name": "stdout",
          "text": [
            "\u001b[1m330/330\u001b[0m \u001b[32m━━━━━━━━━━━━━━━━━━━━\u001b[0m\u001b[37m\u001b[0m \u001b[1m1s\u001b[0m 1ms/step\n",
            "\n",
            "\n",
            "Accuracy: 0.8957957672961944\n",
            "Confusion Matrix:\n",
            "\n",
            "[[6552  677]\n",
            " [ 421 2887]]\n"
          ]
        }
      ],
      "source": [
        "\n",
        "# Make predictions on the test set\n",
        "y_pred_prob = model.predict(X_test_tfidf_stage1.toarray())\n",
        "y_pred = y_pred_prob.argmax(axis=1)  # Convert probabilities to class predictions\n",
        "\n",
        "# Calculate the accuracy\n",
        "accuracy_nn = accuracy_score(y_test_binary,y_pred)\n",
        "print(\"\\n\")\n",
        "print(\"Accuracy:\", accuracy_nn)\n",
        "\n",
        "# Compute the confusion matrix\n",
        "\n",
        "conf_matrix_nn = confusion_matrix(y_test_binary,y_pred)\n",
        "\n",
        "# Print classification report\n",
        "print(\"Confusion Matrix:\\n\",)\n",
        "print( conf_matrix_nn)\n"
      ]
    },
    {
      "cell_type": "code",
      "execution_count": 135,
      "metadata": {
        "colab": {
          "base_uri": "https://localhost:8080/"
        },
        "id": "YsikAilKFwBc",
        "outputId": "08c95335-3d90-43ae-edb9-94154f207815"
      },
      "outputs": [
        {
          "output_type": "stream",
          "name": "stdout",
          "text": [
            "              precision    recall  f1-score   support\n",
            "\n",
            "           0       0.94      0.91      0.92      7229\n",
            "           1       0.81      0.87      0.84      3308\n",
            "\n",
            "    accuracy                           0.90     10537\n",
            "   macro avg       0.87      0.89      0.88     10537\n",
            "weighted avg       0.90      0.90      0.90     10537\n",
            "\n"
          ]
        }
      ],
      "source": [
        "print(classification_report(y_test_binary, y_pred))"
      ]
    },
    {
      "cell_type": "markdown",
      "metadata": {
        "id": "6k4OSIejitYs"
      },
      "source": [
        "### Heat Map"
      ]
    },
    {
      "cell_type": "code",
      "execution_count": 136,
      "metadata": {
        "colab": {
          "base_uri": "https://localhost:8080/",
          "height": 0
        },
        "id": "Ov8rW_mVLUAs",
        "outputId": "2013cc03-b4ac-4264-bd7a-d5ae9d8a52a5"
      },
      "outputs": [
        {
          "output_type": "display_data",
          "data": {
            "text/plain": [
              "<Figure size 640x480 with 2 Axes>"
            ],
            "image/png": "[encoded data removed]"
          },
          "metadata": {}
        }
      ],
      "source": [
        "ax = sns.heatmap(conf_matrix_nn, annot = True, fmt='d', cmap='Greens', xticklabels=binary_encoder.classes_, yticklabels=binary_encoder.classes_)\n",
        "ax.set_title(f'NN Model - {accuracy_nn:.2}%')\n",
        "plt.show()"
      ]
    },
    {
      "cell_type": "markdown",
      "metadata": {
        "id": "P2sP4XYoixYo"
      },
      "source": [
        "### Model Loss and Accuracy"
      ]
    },
    {
      "cell_type": "code",
      "execution_count": 137,
      "metadata": {
        "colab": {
          "base_uri": "https://localhost:8080/",
          "height": 0
        },
        "id": "c5MgSdSMcQX-",
        "outputId": "aa3f59e6-6b3e-49cd-f2fa-f30181a985fb"
      },
      "outputs": [
        {
          "output_type": "display_data",
          "data": {
            "text/plain": [
              "<Figure size 1200x500 with 2 Axes>"
            ],
            "image/png": "[encoded data removed]"
          },
          "metadata": {}
        }
      ],
      "source": [
        "plt.figure(figsize=(12, 5))\n",
        "\n",
        "# Plot training & validation loss values\n",
        "plt.subplot(1, 2, 1)  # 1 row, 2 columns, 1st subplot\n",
        "plt.plot(history.history['loss'], label='Training Loss')\n",
        "plt.plot(history.history['val_loss'], label='Validation Loss')\n",
        "plt.title('Model Loss')\n",
        "plt.xlabel('Epoch')\n",
        "plt.ylabel('Loss')\n",
        "plt.legend(loc='upper right')\n",
        "\n",
        "# Plot training & validation accuracy values\n",
        "plt.subplot(1, 2, 2)  # 1 row, 2 columns, 2nd subplot\n",
        "plt.plot(history.history['accuracy'], label='Training Accuracy')\n",
        "plt.plot(history.history['val_accuracy'], label='Validation Accuracy')\n",
        "plt.title('Model Accuracy')\n",
        "plt.xlabel('Epoch')\n",
        "plt.ylabel('Accuracy')\n",
        "plt.legend(loc='lower right')\n",
        "\n",
        "plt.tight_layout()  # Adjusts subplots to fit in the figure area.\n",
        "plt.show()  # Display the plots"
      ]
    },
    {
      "cell_type": "markdown",
      "metadata": {
        "id": "9KMmPGfFq0P_"
      },
      "source": [
        "## 1.3 Best Classifier for  Stage 1"
      ]
    },
    {
      "cell_type": "markdown",
      "metadata": {
        "id": "1XYBawINq5AX"
      },
      "source": [
        "we chose the best classfier for this stage"
      ]
    },
    {
      "cell_type": "code",
      "execution_count": 138,
      "metadata": {
        "id": "jn9pb-Yrq7td"
      },
      "outputs": [],
      "source": [
        "binary_classifier = logistic1_classifier"
      ]
    },
    {
      "cell_type": "markdown",
      "metadata": {
        "id": "wrP2kUOFK-J3"
      },
      "source": [
        "# ***Non Normal Statement Classification***"
      ]
    },
    {
      "cell_type": "markdown",
      "metadata": {
        "id": "6o0MmdiODUH6"
      },
      "source": [
        "## 2.1 SVM Stage 2"
      ]
    },
    {
      "cell_type": "markdown",
      "metadata": {
        "id": "9Em73VlEj8aH"
      },
      "source": [
        "### Grid Search Params"
      ]
    },
    {
      "cell_type": "markdown",
      "metadata": {
        "id": "4S79vs1FGfyS"
      },
      "source": [
        "#### Logistic Params"
      ]
    },
    {
      "cell_type": "code",
      "execution_count": 139,
      "metadata": {
        "id": "X8PyV11kNUES"
      },
      "outputs": [],
      "source": [
        "# Define the binary classifier\n",
        "# clf = LogisticRegression(max_iter=1000, random_state=42)\n",
        "\n",
        "# Define the parameter grid for GridSearchCV\n",
        "# param_grid = {\n",
        "#     'C': [ 0.03,0.01, 0.02],  # Regularization strength\n",
        "#     'solver': ['lbfgs'],  # Optimization algorithms\n",
        "#     'penalty': ['l2'],  # Regularization type\n",
        "# }\n"
      ]
    },
    {
      "cell_type": "markdown",
      "metadata": {
        "id": "5Dt-EMBYGqGX"
      },
      "source": [
        "#### SVM Params"
      ]
    },
    {
      "cell_type": "code",
      "execution_count": 140,
      "metadata": {
        "id": "vUzEIo-BGuZ6"
      },
      "outputs": [],
      "source": [
        "# Define the SVC classifier\n",
        "clf = SVC(random_state=42)\n",
        "\n",
        "# Define the parameter grid to search over\n",
        "param_grid = {\n",
        "    'C': [0.3,],  # Regularization strength\n",
        "    'kernel': ['poly'],  # Types of kernels\n",
        "    'gamma': ['auto'],  # Kernel coefficient\n",
        "}\n",
        "\n"
      ]
    },
    {
      "cell_type": "markdown",
      "metadata": {
        "id": "4PC4fJLaHQf4"
      },
      "source": [
        "### Grid Search"
      ]
    },
    {
      "cell_type": "code",
      "execution_count": 141,
      "metadata": {
        "id": "ptXlV6_LHU49"
      },
      "outputs": [],
      "source": [
        "grid_search = GridSearchCV(clf, param_grid, scoring=precision_scorer, cv=5, n_jobs=-1)"
      ]
    },
    {
      "cell_type": "markdown",
      "metadata": {
        "id": "ijhMxfv0j_xo"
      },
      "source": [
        "### Train the Model"
      ]
    },
    {
      "cell_type": "code",
      "execution_count": 142,
      "metadata": {
        "colab": {
          "base_uri": "https://localhost:8080/",
          "height": 0
        },
        "id": "wsf5SS_LNVcE",
        "outputId": "f1f5fd38-4e60-46f7-c22c-2d326c097b6d"
      },
      "outputs": [
        {
          "output_type": "execute_result",
          "data": {
            "text/plain": [
              "GridSearchCV(cv=5, estimator=SVC(random_state=42), n_jobs=-1,\n",
              "             param_grid={'C': [0.3], 'gamma': ['auto'], 'kernel': ['poly']},\n",
              "             scoring=make_scorer(precision_score, response_method='predict'))"
            ],
            "text/html": [
              "<style>#sk-container-id-4 {\n",
              "  /* Definition of color scheme common for light and dark mode */\n",
              "  --sklearn-color-text: #000;\n",
              "  --sklearn-color-text-muted: #666;\n",
              "  --sklearn-color-line: gray;\n",
              "  /* Definition of color scheme for unfitted estimators */\n",
              "  --sklearn-color-unfitted-level-0: #fff5e6;\n",
              "  --sklearn-color-unfitted-level-1: #f6e4d2;\n",
              "  --sklearn-color-unfitted-level-2: #ffe0b3;\n",
              "  --sklearn-color-unfitted-level-3: chocolate;\n",
              "  /* Definition of color scheme for fitted estimators */\n",
              "  --sklearn-color-fitted-level-0: #f0f8ff;\n",
              "  --sklearn-color-fitted-level-1: #d4ebff;\n",
              "  --sklearn-color-fitted-level-2: #b3dbfd;\n",
              "  --sklearn-color-fitted-level-3: cornflowerblue;\n",
              "\n",
              "  /* Specific color for light theme */\n",
              "  --sklearn-color-text-on-default-background: var(--sg-text-color, var(--theme-code-foreground, var(--jp-content-font-color1, black)));\n",
              "  --sklearn-color-background: var(--sg-background-color, var(--theme-background, var(--jp-layout-color0, white)));\n",
              "  --sklearn-color-border-box: var(--sg-text-color, var(--theme-code-foreground, var(--jp-content-font-color1, black)));\n",
              "  --sklearn-color-icon: #696969;\n",
              "\n",
              "  @media (prefers-color-scheme: dark) {\n",
              "    /* Redefinition of color scheme for dark theme */\n",
              "    --sklearn-color-text-on-default-background: var(--sg-text-color, var(--theme-code-foreground, var(--jp-content-font-color1, white)));\n",
              "    --sklearn-color-background: var(--sg-background-color, var(--theme-background, var(--jp-layout-color0, #111)));\n",
              "    --sklearn-color-border-box: var(--sg-text-color, var(--theme-code-foreground, var(--jp-content-font-color1, white)));\n",
              "    --sklearn-color-icon: #878787;\n",
              "  }\n",
              "}\n",
              "\n",
              "#sk-container-id-4 {\n",
              "  color: var(--sklearn-color-text);\n",
              "}\n",
              "\n",
              "#sk-container-id-4 pre {\n",
              "  padding: 0;\n",
              "}\n",
              "\n",
              "#sk-container-id-4 input.sk-hidden--visually {\n",
              "  border: 0;\n",
              "  clip: rect(1px 1px 1px 1px);\n",
              "  clip: rect(1px, 1px, 1px, 1px);\n",
              "  height: 1px;\n",
              "  margin: -1px;\n",
              "  overflow: hidden;\n",
              "  padding: 0;\n",
              "  position: absolute;\n",
              "  width: 1px;\n",
              "}\n",
              "\n",
              "#sk-container-id-4 div.sk-dashed-wrapped {\n",
              "  border: 1px dashed var(--sklearn-color-line);\n",
              "  margin: 0 0.4em 0.5em 0.4em;\n",
              "  box-sizing: border-box;\n",
              "  padding-bottom: 0.4em;\n",
              "  background-color: var(--sklearn-color-background);\n",
              "}\n",
              "\n",
              "#sk-container-id-4 div.sk-container {\n",
              "  /* jupyter's `normalize.less` sets `[hidden] { display: none; }`\n",
              "     but bootstrap.min.css set `[hidden] { display: none !important; }`\n",
              "     so we also need the `!important` here to be able to override the\n",
              "     default hidden behavior on the sphinx rendered scikit-learn.org.\n",
              "     See: https://github.com/scikit-learn/scikit-learn/issues/21755 */\n",
              "  display: inline-block !important;\n",
              "  position: relative;\n",
              "}\n",
              "\n",
              "#sk-container-id-4 div.sk-text-repr-fallback {\n",
              "  display: none;\n",
              "}\n",
              "\n",
              "div.sk-parallel-item,\n",
              "div.sk-serial,\n",
              "div.sk-item {\n",
              "  /* draw centered vertical line to link estimators */\n",
              "  background-image: linear-gradient(var(--sklearn-color-text-on-default-background), var(--sklearn-color-text-on-default-background));\n",
              "  background-size: 2px 100%;\n",
              "  background-repeat: no-repeat;\n",
              "  background-position: center center;\n",
              "}\n",
              "\n",
              "/* Parallel-specific style estimator block */\n",
              "\n",
              "#sk-container-id-4 div.sk-parallel-item::after {\n",
              "  content: \"\";\n",
              "  width: 100%;\n",
              "  border-bottom: 2px solid var(--sklearn-color-text-on-default-background);\n",
              "  flex-grow: 1;\n",
              "}\n",
              "\n",
              "#sk-container-id-4 div.sk-parallel {\n",
              "  display: flex;\n",
              "  align-items: stretch;\n",
              "  justify-content: center;\n",
              "  background-color: var(--sklearn-color-background);\n",
              "  position: relative;\n",
              "}\n",
              "\n",
              "#sk-container-id-4 div.sk-parallel-item {\n",
              "  display: flex;\n",
              "  flex-direction: column;\n",
              "}\n",
              "\n",
              "#sk-container-id-4 div.sk-parallel-item:first-child::after {\n",
              "  align-self: flex-end;\n",
              "  width: 50%;\n",
              "}\n",
              "\n",
              "#sk-container-id-4 div.sk-parallel-item:last-child::after {\n",
              "  align-self: flex-start;\n",
              "  width: 50%;\n",
              "}\n",
              "\n",
              "#sk-container-id-4 div.sk-parallel-item:only-child::after {\n",
              "  width: 0;\n",
              "}\n",
              "\n",
              "/* Serial-specific style estimator block */\n",
              "\n",
              "#sk-container-id-4 div.sk-serial {\n",
              "  display: flex;\n",
              "  flex-direction: column;\n",
              "  align-items: center;\n",
              "  background-color: var(--sklearn-color-background);\n",
              "  padding-right: 1em;\n",
              "  padding-left: 1em;\n",
              "}\n",
              "\n",
              "\n",
              "/* Toggleable style: style used for estimator/Pipeline/ColumnTransformer box that is\n",
              "clickable and can be expanded/collapsed.\n",
              "- Pipeline and ColumnTransformer use this feature and define the default style\n",
              "- Estimators will overwrite some part of the style using the `sk-estimator` class\n",
              "*/\n",
              "\n",
              "/* Pipeline and ColumnTransformer style (default) */\n",
              "\n",
              "#sk-container-id-4 div.sk-toggleable {\n",
              "  /* Default theme specific background. It is overwritten whether we have a\n",
              "  specific estimator or a Pipeline/ColumnTransformer */\n",
              "  background-color: var(--sklearn-color-background);\n",
              "}\n",
              "\n",
              "/* Toggleable label */\n",
              "#sk-container-id-4 label.sk-toggleable__label {\n",
              "  cursor: pointer;\n",
              "  display: flex;\n",
              "  width: 100%;\n",
              "  margin-bottom: 0;\n",
              "  padding: 0.5em;\n",
              "  box-sizing: border-box;\n",
              "  text-align: center;\n",
              "  align-items: start;\n",
              "  justify-content: space-between;\n",
              "  gap: 0.5em;\n",
              "}\n",
              "\n",
              "#sk-container-id-4 label.sk-toggleable__label .caption {\n",
              "  font-size: 0.6rem;\n",
              "  font-weight: lighter;\n",
              "  color: var(--sklearn-color-text-muted);\n",
              "}\n",
              "\n",
              "#sk-container-id-4 label.sk-toggleable__label-arrow:before {\n",
              "  /* Arrow on the left of the label */\n",
              "  content: \"▸\";\n",
              "  float: left;\n",
              "  margin-right: 0.25em;\n",
              "  color: var(--sklearn-color-icon);\n",
              "}\n",
              "\n",
              "#sk-container-id-4 label.sk-toggleable__label-arrow:hover:before {\n",
              "  color: var(--sklearn-color-text);\n",
              "}\n",
              "\n",
              "/* Toggleable content - dropdown */\n",
              "\n",
              "#sk-container-id-4 div.sk-toggleable__content {\n",
              "  max-height: 0;\n",
              "  max-width: 0;\n",
              "  overflow: hidden;\n",
              "  text-align: left;\n",
              "  /* unfitted */\n",
              "  background-color: var(--sklearn-color-unfitted-level-0);\n",
              "}\n",
              "\n",
              "#sk-container-id-4 div.sk-toggleable__content.fitted {\n",
              "  /* fitted */\n",
              "  background-color: var(--sklearn-color-fitted-level-0);\n",
              "}\n",
              "\n",
              "#sk-container-id-4 div.sk-toggleable__content pre {\n",
              "  margin: 0.2em;\n",
              "  border-radius: 0.25em;\n",
              "  color: var(--sklearn-color-text);\n",
              "  /* unfitted */\n",
              "  background-color: var(--sklearn-color-unfitted-level-0);\n",
              "}\n",
              "\n",
              "#sk-container-id-4 div.sk-toggleable__content.fitted pre {\n",
              "  /* unfitted */\n",
              "  background-color: var(--sklearn-color-fitted-level-0);\n",
              "}\n",
              "\n",
              "#sk-container-id-4 input.sk-toggleable__control:checked~div.sk-toggleable__content {\n",
              "  /* Expand drop-down */\n",
              "  max-height: 200px;\n",
              "  max-width: 100%;\n",
              "  overflow: auto;\n",
              "}\n",
              "\n",
              "#sk-container-id-4 input.sk-toggleable__control:checked~label.sk-toggleable__label-arrow:before {\n",
              "  content: \"▾\";\n",
              "}\n",
              "\n",
              "/* Pipeline/ColumnTransformer-specific style */\n",
              "\n",
              "#sk-container-id-4 div.sk-label input.sk-toggleable__control:checked~label.sk-toggleable__label {\n",
              "  color: var(--sklearn-color-text);\n",
              "  background-color: var(--sklearn-color-unfitted-level-2);\n",
              "}\n",
              "\n",
              "#sk-container-id-4 div.sk-label.fitted input.sk-toggleable__control:checked~label.sk-toggleable__label {\n",
              "  background-color: var(--sklearn-color-fitted-level-2);\n",
              "}\n",
              "\n",
              "/* Estimator-specific style */\n",
              "\n",
              "/* Colorize estimator box */\n",
              "#sk-container-id-4 div.sk-estimator input.sk-toggleable__control:checked~label.sk-toggleable__label {\n",
              "  /* unfitted */\n",
              "  background-color: var(--sklearn-color-unfitted-level-2);\n",
              "}\n",
              "\n",
              "#sk-container-id-4 div.sk-estimator.fitted input.sk-toggleable__control:checked~label.sk-toggleable__label {\n",
              "  /* fitted */\n",
              "  background-color: var(--sklearn-color-fitted-level-2);\n",
              "}\n",
              "\n",
              "#sk-container-id-4 div.sk-label label.sk-toggleable__label,\n",
              "#sk-container-id-4 div.sk-label label {\n",
              "  /* The background is the default theme color */\n",
              "  color: var(--sklearn-color-text-on-default-background);\n",
              "}\n",
              "\n",
              "/* On hover, darken the color of the background */\n",
              "#sk-container-id-4 div.sk-label:hover label.sk-toggleable__label {\n",
              "  color: var(--sklearn-color-text);\n",
              "  background-color: var(--sklearn-color-unfitted-level-2);\n",
              "}\n",
              "\n",
              "/* Label box, darken color on hover, fitted */\n",
              "#sk-container-id-4 div.sk-label.fitted:hover label.sk-toggleable__label.fitted {\n",
              "  color: var(--sklearn-color-text);\n",
              "  background-color: var(--sklearn-color-fitted-level-2);\n",
              "}\n",
              "\n",
              "/* Estimator label */\n",
              "\n",
              "#sk-container-id-4 div.sk-label label {\n",
              "  font-family: monospace;\n",
              "  font-weight: bold;\n",
              "  display: inline-block;\n",
              "  line-height: 1.2em;\n",
              "}\n",
              "\n",
              "#sk-container-id-4 div.sk-label-container {\n",
              "  text-align: center;\n",
              "}\n",
              "\n",
              "/* Estimator-specific */\n",
              "#sk-container-id-4 div.sk-estimator {\n",
              "  font-family: monospace;\n",
              "  border: 1px dotted var(--sklearn-color-border-box);\n",
              "  border-radius: 0.25em;\n",
              "  box-sizing: border-box;\n",
              "  margin-bottom: 0.5em;\n",
              "  /* unfitted */\n",
              "  background-color: var(--sklearn-color-unfitted-level-0);\n",
              "}\n",
              "\n",
              "#sk-container-id-4 div.sk-estimator.fitted {\n",
              "  /* fitted */\n",
              "  background-color: var(--sklearn-color-fitted-level-0);\n",
              "}\n",
              "\n",
              "/* on hover */\n",
              "#sk-container-id-4 div.sk-estimator:hover {\n",
              "  /* unfitted */\n",
              "  background-color: var(--sklearn-color-unfitted-level-2);\n",
              "}\n",
              "\n",
              "#sk-container-id-4 div.sk-estimator.fitted:hover {\n",
              "  /* fitted */\n",
              "  background-color: var(--sklearn-color-fitted-level-2);\n",
              "}\n",
              "\n",
              "/* Specification for estimator info (e.g. \"i\" and \"?\") */\n",
              "\n",
              "/* Common style for \"i\" and \"?\" */\n",
              "\n",
              ".sk-estimator-doc-link,\n",
              "a:link.sk-estimator-doc-link,\n",
              "a:visited.sk-estimator-doc-link {\n",
              "  float: right;\n",
              "  font-size: smaller;\n",
              "  line-height: 1em;\n",
              "  font-family: monospace;\n",
              "  background-color: var(--sklearn-color-background);\n",
              "  border-radius: 1em;\n",
              "  height: 1em;\n",
              "  width: 1em;\n",
              "  text-decoration: none !important;\n",
              "  margin-left: 0.5em;\n",
              "  text-align: center;\n",
              "  /* unfitted */\n",
              "  border: var(--sklearn-color-unfitted-level-1) 1pt solid;\n",
              "  color: var(--sklearn-color-unfitted-level-1);\n",
              "}\n",
              "\n",
              ".sk-estimator-doc-link.fitted,\n",
              "a:link.sk-estimator-doc-link.fitted,\n",
              "a:visited.sk-estimator-doc-link.fitted {\n",
              "  /* fitted */\n",
              "  border: var(--sklearn-color-fitted-level-1) 1pt solid;\n",
              "  color: var(--sklearn-color-fitted-level-1);\n",
              "}\n",
              "\n",
              "/* On hover */\n",
              "div.sk-estimator:hover .sk-estimator-doc-link:hover,\n",
              ".sk-estimator-doc-link:hover,\n",
              "div.sk-label-container:hover .sk-estimator-doc-link:hover,\n",
              ".sk-estimator-doc-link:hover {\n",
              "  /* unfitted */\n",
              "  background-color: var(--sklearn-color-unfitted-level-3);\n",
              "  color: var(--sklearn-color-background);\n",
              "  text-decoration: none;\n",
              "}\n",
              "\n",
              "div.sk-estimator.fitted:hover .sk-estimator-doc-link.fitted:hover,\n",
              ".sk-estimator-doc-link.fitted:hover,\n",
              "div.sk-label-container:hover .sk-estimator-doc-link.fitted:hover,\n",
              ".sk-estimator-doc-link.fitted:hover {\n",
              "  /* fitted */\n",
              "  background-color: var(--sklearn-color-fitted-level-3);\n",
              "  color: var(--sklearn-color-background);\n",
              "  text-decoration: none;\n",
              "}\n",
              "\n",
              "/* Span, style for the box shown on hovering the info icon */\n",
              ".sk-estimator-doc-link span {\n",
              "  display: none;\n",
              "  z-index: 9999;\n",
              "  position: relative;\n",
              "  font-weight: normal;\n",
              "  right: .2ex;\n",
              "  padding: .5ex;\n",
              "  margin: .5ex;\n",
              "  width: min-content;\n",
              "  min-width: 20ex;\n",
              "  max-width: 50ex;\n",
              "  color: var(--sklearn-color-text);\n",
              "  box-shadow: 2pt 2pt 4pt #999;\n",
              "  /* unfitted */\n",
              "  background: var(--sklearn-color-unfitted-level-0);\n",
              "  border: .5pt solid var(--sklearn-color-unfitted-level-3);\n",
              "}\n",
              "\n",
              ".sk-estimator-doc-link.fitted span {\n",
              "  /* fitted */\n",
              "  background: var(--sklearn-color-fitted-level-0);\n",
              "  border: var(--sklearn-color-fitted-level-3);\n",
              "}\n",
              "\n",
              ".sk-estimator-doc-link:hover span {\n",
              "  display: block;\n",
              "}\n",
              "\n",
              "/* \"?\"-specific style due to the `<a>` HTML tag */\n",
              "\n",
              "#sk-container-id-4 a.estimator_doc_link {\n",
              "  float: right;\n",
              "  font-size: 1rem;\n",
              "  line-height: 1em;\n",
              "  font-family: monospace;\n",
              "  background-color: var(--sklearn-color-background);\n",
              "  border-radius: 1rem;\n",
              "  height: 1rem;\n",
              "  width: 1rem;\n",
              "  text-decoration: none;\n",
              "  /* unfitted */\n",
              "  color: var(--sklearn-color-unfitted-level-1);\n",
              "  border: var(--sklearn-color-unfitted-level-1) 1pt solid;\n",
              "}\n",
              "\n",
              "#sk-container-id-4 a.estimator_doc_link.fitted {\n",
              "  /* fitted */\n",
              "  border: var(--sklearn-color-fitted-level-1) 1pt solid;\n",
              "  color: var(--sklearn-color-fitted-level-1);\n",
              "}\n",
              "\n",
              "/* On hover */\n",
              "#sk-container-id-4 a.estimator_doc_link:hover {\n",
              "  /* unfitted */\n",
              "  background-color: var(--sklearn-color-unfitted-level-3);\n",
              "  color: var(--sklearn-color-background);\n",
              "  text-decoration: none;\n",
              "}\n",
              "\n",
              "#sk-container-id-4 a.estimator_doc_link.fitted:hover {\n",
              "  /* fitted */\n",
              "  background-color: var(--sklearn-color-fitted-level-3);\n",
              "}\n",
              "</style><div id=\"sk-container-id-4\" class=\"sk-top-container\"><div class=\"sk-text-repr-fallback\"><pre>GridSearchCV(cv=5, estimator=SVC(random_state=42), n_jobs=-1,\n",
              "             param_grid={&#x27;C&#x27;: [0.3], &#x27;gamma&#x27;: [&#x27;auto&#x27;], &#x27;kernel&#x27;: [&#x27;poly&#x27;]},\n",
              "             scoring=make_scorer(precision_score, response_method=&#x27;predict&#x27;))</pre><b>In a Jupyter environment, please rerun this cell to show the HTML representation or trust the notebook. <br />On GitHub, the HTML representation is unable to render, please try loading this page with nbviewer.org.</b></div><div class=\"sk-container\" hidden><div class=\"sk-item sk-dashed-wrapped\"><div class=\"sk-label-container\"><div class=\"sk-label fitted sk-toggleable\"><input class=\"sk-toggleable__control sk-hidden--visually\" id=\"sk-estimator-id-10\" type=\"checkbox\" ><label for=\"sk-estimator-id-10\" class=\"sk-toggleable__label fitted sk-toggleable__label-arrow\"><div><div>GridSearchCV</div></div><div><a class=\"sk-estimator-doc-link fitted\" rel=\"noreferrer\" target=\"_blank\" href=\"https://scikit-learn.org/1.6/modules/generated/sklearn.model_selection.GridSearchCV.html\">?<span>Documentation for GridSearchCV</span></a><span class=\"sk-estimator-doc-link fitted\">i<span>Fitted</span></span></div></label><div class=\"sk-toggleable__content fitted\"><pre>GridSearchCV(cv=5, estimator=SVC(random_state=42), n_jobs=-1,\n",
              "             param_grid={&#x27;C&#x27;: [0.3], &#x27;gamma&#x27;: [&#x27;auto&#x27;], &#x27;kernel&#x27;: [&#x27;poly&#x27;]},\n",
              "             scoring=make_scorer(precision_score, response_method=&#x27;predict&#x27;))</pre></div> </div></div><div class=\"sk-parallel\"><div class=\"sk-parallel-item\"><div class=\"sk-item\"><div class=\"sk-label-container\"><div class=\"sk-label fitted sk-toggleable\"><input class=\"sk-toggleable__control sk-hidden--visually\" id=\"sk-estimator-id-11\" type=\"checkbox\" ><label for=\"sk-estimator-id-11\" class=\"sk-toggleable__label fitted sk-toggleable__label-arrow\"><div><div>best_estimator_: SVC</div></div></label><div class=\"sk-toggleable__content fitted\"><pre>SVC(C=0.3, gamma=&#x27;auto&#x27;, kernel=&#x27;poly&#x27;, random_state=42)</pre></div> </div></div><div class=\"sk-serial\"><div class=\"sk-item\"><div class=\"sk-estimator fitted sk-toggleable\"><input class=\"sk-toggleable__control sk-hidden--visually\" id=\"sk-estimator-id-12\" type=\"checkbox\" ><label for=\"sk-estimator-id-12\" class=\"sk-toggleable__label fitted sk-toggleable__label-arrow\"><div><div>SVC</div></div><div><a class=\"sk-estimator-doc-link fitted\" rel=\"noreferrer\" target=\"_blank\" href=\"https://scikit-learn.org/1.6/modules/generated/sklearn.svm.SVC.html\">?<span>Documentation for SVC</span></a></div></label><div class=\"sk-toggleable__content fitted\"><pre>SVC(C=0.3, gamma=&#x27;auto&#x27;, kernel=&#x27;poly&#x27;, random_state=42)</pre></div> </div></div></div></div></div></div></div></div></div>"
            ]
          },
          "metadata": {},
          "execution_count": 142
        }
      ],
      "source": [
        "# Fit the grid search on the training data\n",
        "grid_search.fit(X_train_tfidf_stage2, y_train_tfidf_stage2)\n"
      ]
    },
    {
      "cell_type": "markdown",
      "metadata": {
        "id": "j_jjMgeCkJc1"
      },
      "source": [
        "### Best Classifier"
      ]
    },
    {
      "cell_type": "code",
      "execution_count": 143,
      "metadata": {
        "colab": {
          "base_uri": "https://localhost:8080/"
        },
        "id": "41k3pKQVNdWs",
        "outputId": "0d07abc2-977b-47c5-8838-85554bc0add7"
      },
      "outputs": [
        {
          "output_type": "stream",
          "name": "stdout",
          "text": [
            "Best hyperparameters found:  {'C': 0.3, 'gamma': 'auto', 'kernel': 'poly'}\n"
          ]
        }
      ],
      "source": [
        "# Get the best model and hyperparameters\n",
        "best_clf = grid_search.best_estimator_\n",
        "print(\"Best hyperparameters found: \", grid_search.best_params_)\n"
      ]
    },
    {
      "cell_type": "code",
      "execution_count": 144,
      "metadata": {
        "id": "mBcMOdnH6Y5k"
      },
      "outputs": [],
      "source": [
        "# Train multi-class classifier for Stage 2\n",
        "logistic_classifier =best_clf\n",
        "# logistic_classifier = SVC(random_state=42,kernel='linear',C=0.3)\n",
        "\n",
        "# logistic_classifier.fit(X_train_tfidf_stage2, y_train_tfidf_stage2)\n"
      ]
    },
    {
      "cell_type": "markdown",
      "metadata": {
        "id": "S7eDIGOfl6_Y"
      },
      "source": [
        "### Classification report on training"
      ]
    },
    {
      "cell_type": "code",
      "execution_count": 145,
      "metadata": {
        "colab": {
          "base_uri": "https://localhost:8080/"
        },
        "id": "cprfGU8-mCol",
        "outputId": "5d8a2fb9-81f7-4b63-a1d3-7228e953f42d"
      },
      "outputs": [
        {
          "output_type": "stream",
          "name": "stdout",
          "text": [
            "Stage 1 (Binary Classification) - Normal vs Non-Normal\n",
            "Accuracy: 0.42557284688584285\n",
            "              precision    recall  f1-score   support\n",
            "\n",
            "           0       0.00      0.00      0.00      3086\n",
            "           1       0.00      0.00      0.00      2250\n",
            "           2       0.43      1.00      0.60     12388\n",
            "           3       0.00      0.00      0.00       840\n",
            "           4       0.00      0.00      0.00      2051\n",
            "           5       0.00      0.00      0.00      8494\n",
            "\n",
            "    accuracy                           0.43     29109\n",
            "   macro avg       0.07      0.17      0.10     29109\n",
            "weighted avg       0.18      0.43      0.25     29109\n",
            "\n",
            "Confusion Matrix:\n",
            " [[    0     0     0     0     0     0]\n",
            " [    0     0     0     0     0     0]\n",
            " [ 3086  2250 12388   840  2051  8494]\n",
            " [    0     0     0     0     0     0]\n",
            " [    0     0     0     0     0     0]\n",
            " [    0     0     0     0     0     0]]\n"
          ]
        }
      ],
      "source": [
        "# Evaluate binary classifier\n",
        "y_pred_stage2 = logistic_classifier.predict(X_train_tfidf_stage2)\n",
        "print(\"Stage 1 (Binary Classification) - Normal vs Non-Normal\")\n",
        "print(\"Accuracy:\", accuracy_score(y_train_tfidf_stage2, y_pred_stage2))\n",
        "print(classification_report(y_train_tfidf_stage2, y_pred_stage2))\n",
        "print(\"Confusion Matrix:\\n\", confusion_matrix(y_pred_stage2,y_train_tfidf_stage2))\n"
      ]
    },
    {
      "cell_type": "markdown",
      "metadata": {
        "id": "RJYz-psmjdIt"
      },
      "source": [
        "### Classification Report"
      ]
    },
    {
      "cell_type": "code",
      "execution_count": 146,
      "metadata": {
        "id": "rBCSAmxlI4m6"
      },
      "outputs": [],
      "source": [
        "\n",
        "# Evaluate multi-class classifier\n",
        "y_pred_stage2 = logistic_classifier.predict(X_test_tfidf_stage2)\n"
      ]
    },
    {
      "cell_type": "code",
      "execution_count": 147,
      "metadata": {
        "colab": {
          "base_uri": "https://localhost:8080/"
        },
        "id": "aXylO4QznWOi",
        "outputId": "bdaaab0f-9d11-4666-bc9a-925695795cf7"
      },
      "outputs": [
        {
          "output_type": "stream",
          "name": "stdout",
          "text": [
            "Stage 2 (Multi-Class Classification) - Specific Conditions\n",
            "Accuracy: 0.4172084659012312\n",
            "              precision    recall  f1-score   support\n",
            "\n",
            "           0       0.00      0.00      0.00       755\n",
            "           1       0.00      0.00      0.00       527\n",
            "           2       0.42      1.00      0.59      3016\n",
            "           3       0.00      0.00      0.00       237\n",
            "           4       0.00      0.00      0.00       536\n",
            "           5       0.00      0.00      0.00      2158\n",
            "\n",
            "    accuracy                           0.42      7229\n",
            "   macro avg       0.07      0.17      0.10      7229\n",
            "weighted avg       0.17      0.42      0.25      7229\n",
            "\n",
            "Confusion Matrix:\n",
            " [[   0    0  755    0    0    0]\n",
            " [   0    0  527    0    0    0]\n",
            " [   0    0 3016    0    0    0]\n",
            " [   0    0  237    0    0    0]\n",
            " [   0    0  536    0    0    0]\n",
            " [   0    0 2158    0    0    0]]\n"
          ]
        }
      ],
      "source": [
        "print(\"Stage 2 (Multi-Class Classification) - Specific Conditions\")\n",
        "print(\"Accuracy:\", accuracy_score(y_test_multi, y_pred_stage2))\n",
        "print(classification_report(y_test_multi, y_pred_stage2))\n",
        "conf_matrix_stage2= confusion_matrix( y_test_multi,y_pred_stage2)\n",
        "print(\"Confusion Matrix:\\n\",conf_matrix_stage2)\n"
      ]
    },
    {
      "cell_type": "markdown",
      "metadata": {
        "id": "1SwFykRWj1vm"
      },
      "source": [
        "### Heat Map"
      ]
    },
    {
      "cell_type": "code",
      "execution_count": 148,
      "metadata": {
        "colab": {
          "base_uri": "https://localhost:8080/",
          "height": 0
        },
        "id": "qpQymDjLJkZ9",
        "outputId": "3e516a56-24db-4347-946a-895ce259f00a"
      },
      "outputs": [
        {
          "output_type": "display_data",
          "data": {
            "text/plain": [
              "<Figure size 1000x800 with 2 Axes>"
            ],
            "image/png": "[encoded data removed]"
          },
          "metadata": {}
        }
      ],
      "source": [
        "# Plot heatmap for Stage 2\n",
        "plt.figure(figsize=(10, 8))\n",
        "sns.heatmap(conf_matrix_stage2, annot=True, fmt=\"d\", cmap=\"Blues\", xticklabels=multi_encoder.classes_, yticklabels=multi_encoder.classes_)\n",
        "plt.title(\"Confusion Matrix - Stage 2 (Non-Normal Classes)\")\n",
        "plt.xlabel(\"Predicted Labels\")\n",
        "plt.ylabel(\"True Labels\")\n",
        "plt.show()\n"
      ]
    },
    {
      "cell_type": "markdown",
      "metadata": {
        "id": "yaHmNZrRkslN"
      },
      "source": [
        "## 2.2 Neural Network  Stage 2"
      ]
    },
    {
      "cell_type": "markdown",
      "metadata": {
        "id": "u20nzTgho06X"
      },
      "source": [
        "### Network Layers"
      ]
    },
    {
      "cell_type": "code",
      "execution_count": 149,
      "metadata": {
        "id": "pc3K3SwvpJ_R"
      },
      "outputs": [],
      "source": [
        "from tensorflow.keras.layers import Conv1D,LSTM, MaxPooling1D, Flatten, BatchNormalization, Dense, Dropout\n",
        "from tensorflow.keras.models import Sequential\n",
        "from tensorflow.keras.optimizers import Adam\n",
        "from tensorflow.keras.regularizers import l2\n"
      ]
    },
    {
      "cell_type": "code",
      "execution_count": 150,
      "metadata": {
        "id": "uzDl_Ax7kslO"
      },
      "outputs": [],
      "source": [
        "# Define the layers in an array\n",
        "layers = [\n",
        "\n",
        "    Dense(units=64, activation='relu', input_shape=(X_train_tfidf_stage2.shape[1],),kernel_regularizer=l2(0.01)),  # Input Layer\n",
        "    BatchNormalization(),\n",
        "    Dropout(rate=0.3),  # Dropout Layer 1\n",
        "    # Dense(units=30, activation='relu', input_shape=(X_train_tfidf_stage2.shape[1],),kernel_regularizer=l2(0.01)),  # Input Layer\n",
        "    # BatchNormalization(),\n",
        "    Dense(units=15, activation='relu',kernel_regularizer=l2(0.01)),  # Hidden Layer 1\n",
        "    Dropout(rate=0.2),  # Dropout Layer 1\n",
        "    # Dense(units=10, activation='relu',kernel_regularizer=l2(0.01)),  # Hidden Layer 2\n",
        "\n",
        "    Dense(units=6, activation='softmax')  # Output Layer\n",
        "]\n",
        "\n",
        "\n",
        "# Define the updated layers\n",
        "# layers = [\n",
        "#     # Convolutional Layer\n",
        "#     Conv1D(filters=32, kernel_size=3, activation='relu', input_shape=(X_train_tfidf_stage2.shape[1], 1)),\n",
        "#     MaxPooling1D(pool_size=2),  # Pooling Layer to reduce dimensionality\n",
        "#     BatchNormalization(),\n",
        "#     Conv1D(filters=8, kernel_size=3, activation='relu'),\n",
        "#     MaxPooling1D(pool_size=2),  # Pooling Layer to reduce dimensionality\n",
        "#     BatchNormalization(),\n",
        "#     Flatten(),  # Flatten the Conv1D output for the Dense layers\n",
        "\n",
        "#     # Dense Layers\n",
        "#     Dense(units=120, activation='relu', kernel_regularizer=l2(0.01)),\n",
        "# #    BatchNormalization(),\n",
        "#     Dropout(rate=0.3),  # Dropout Layer 1\n",
        "#     Dense(units=64, activation='relu', kernel_regularizer=l2(0.01)),\n",
        "#     Dropout(rate=0.2),  # Dropout Layer 2\n",
        "#     Dense(units=16, activation='relu', kernel_regularizer=l2(0.01)),\n",
        "#     Dense(units=6, activation='softmax')  # Output Layer\n",
        "# ]\n",
        "\n",
        "# Initialize the Sequential model\n",
        "model = Sequential(layers)\n",
        "\n",
        "\n",
        "# Compile the model: Using Adam optimizer, sparse categorical crossentropy loss, and accuracy as the metric\n",
        "model.compile(optimizer=Adam(learning_rate=0.001),\n",
        "              loss='sparse_categorical_crossentropy',\n",
        "              metrics=['accuracy'])\n",
        "\n"
      ]
    },
    {
      "cell_type": "markdown",
      "metadata": {
        "id": "eUo8ck6fo_Qz"
      },
      "source": [
        "### Model Train"
      ]
    },
    {
      "cell_type": "code",
      "execution_count": 151,
      "metadata": {
        "colab": {
          "base_uri": "https://localhost:8080/"
        },
        "id": "13Do251tkslP",
        "outputId": "22a85560-dc82-484d-a58e-cd2476e4945c"
      },
      "outputs": [
        {
          "output_type": "stream",
          "name": "stdout",
          "text": [
            "Epoch 1/27\n",
            "\u001b[1m80/80\u001b[0m \u001b[32m━━━━━━━━━━━━━━━━━━━━\u001b[0m\u001b[37m\u001b[0m \u001b[1m2s\u001b[0m 6ms/step - accuracy: 0.2037 - loss: 3.0143 - val_accuracy: 0.4280 - val_loss: 2.2997\n",
            "Epoch 2/27\n",
            "\u001b[1m80/80\u001b[0m \u001b[32m━━━━━━━━━━━━━━━━━━━━\u001b[0m\u001b[37m\u001b[0m \u001b[1m0s\u001b[0m 4ms/step - accuracy: 0.4243 - loss: 2.1069 - val_accuracy: 0.4247 - val_loss: 1.9441\n",
            "Epoch 3/27\n",
            "\u001b[1m80/80\u001b[0m \u001b[32m━━━━━━━━━━━━━━━━━━━━\u001b[0m\u001b[37m\u001b[0m \u001b[1m1s\u001b[0m 4ms/step - accuracy: 0.4720 - loss: 1.7763 - val_accuracy: 0.4402 - val_loss: 1.7245\n",
            "Epoch 4/27\n",
            "\u001b[1m80/80\u001b[0m \u001b[32m━━━━━━━━━━━━━━━━━━━━\u001b[0m\u001b[37m\u001b[0m \u001b[1m1s\u001b[0m 4ms/step - accuracy: 0.5044 - loss: 1.5564 - val_accuracy: 0.4539 - val_loss: 1.5821\n",
            "Epoch 5/27\n",
            "\u001b[1m80/80\u001b[0m \u001b[32m━━━━━━━━━━━━━━━━━━━━\u001b[0m\u001b[37m\u001b[0m \u001b[1m1s\u001b[0m 4ms/step - accuracy: 0.5074 - loss: 1.4614 - val_accuracy: 0.4817 - val_loss: 1.4697\n",
            "Epoch 6/27\n",
            "\u001b[1m80/80\u001b[0m \u001b[32m━━━━━━━━━━━━━━━━━━━━\u001b[0m\u001b[37m\u001b[0m \u001b[1m1s\u001b[0m 4ms/step - accuracy: 0.5084 - loss: 1.3811 - val_accuracy: 0.5041 - val_loss: 1.3905\n",
            "Epoch 7/27\n",
            "\u001b[1m80/80\u001b[0m \u001b[32m━━━━━━━━━━━━━━━━━━━━\u001b[0m\u001b[37m\u001b[0m \u001b[1m0s\u001b[0m 4ms/step - accuracy: 0.5151 - loss: 1.3191 - val_accuracy: 0.5206 - val_loss: 1.3251\n",
            "Epoch 8/27\n",
            "\u001b[1m80/80\u001b[0m \u001b[32m━━━━━━━━━━━━━━━━━━━━\u001b[0m\u001b[37m\u001b[0m \u001b[1m1s\u001b[0m 4ms/step - accuracy: 0.5215 - loss: 1.2906 - val_accuracy: 0.5234 - val_loss: 1.2826\n",
            "Epoch 9/27\n",
            "\u001b[1m80/80\u001b[0m \u001b[32m━━━━━━━━━━━━━━━━━━━━\u001b[0m\u001b[37m\u001b[0m \u001b[1m0s\u001b[0m 4ms/step - accuracy: 0.5221 - loss: 1.2622 - val_accuracy: 0.5305 - val_loss: 1.2533\n",
            "Epoch 10/27\n",
            "\u001b[1m80/80\u001b[0m \u001b[32m━━━━━━━━━━━━━━━━━━━━\u001b[0m\u001b[37m\u001b[0m \u001b[1m0s\u001b[0m 4ms/step - accuracy: 0.5214 - loss: 1.2564 - val_accuracy: 0.5326 - val_loss: 1.2352\n",
            "Epoch 11/27\n",
            "\u001b[1m80/80\u001b[0m \u001b[32m━━━━━━━━━━━━━━━━━━━━\u001b[0m\u001b[37m\u001b[0m \u001b[1m1s\u001b[0m 4ms/step - accuracy: 0.5258 - loss: 1.2418 - val_accuracy: 0.5314 - val_loss: 1.2271\n",
            "Epoch 12/27\n",
            "\u001b[1m80/80\u001b[0m \u001b[32m━━━━━━━━━━━━━━━━━━━━\u001b[0m\u001b[37m\u001b[0m \u001b[1m0s\u001b[0m 4ms/step - accuracy: 0.5278 - loss: 1.2337 - val_accuracy: 0.5329 - val_loss: 1.2167\n",
            "Epoch 13/27\n",
            "\u001b[1m80/80\u001b[0m \u001b[32m━━━━━━━━━━━━━━━━━━━━\u001b[0m\u001b[37m\u001b[0m \u001b[1m1s\u001b[0m 4ms/step - accuracy: 0.5245 - loss: 1.2317 - val_accuracy: 0.5287 - val_loss: 1.2119\n",
            "Epoch 14/27\n",
            "\u001b[1m80/80\u001b[0m \u001b[32m━━━━━━━━━━━━━━━━━━━━\u001b[0m\u001b[37m\u001b[0m \u001b[1m1s\u001b[0m 7ms/step - accuracy: 0.5332 - loss: 1.2234 - val_accuracy: 0.5329 - val_loss: 1.2065\n",
            "Epoch 15/27\n",
            "\u001b[1m80/80\u001b[0m \u001b[32m━━━━━━━━━━━━━━━━━━━━\u001b[0m\u001b[37m\u001b[0m \u001b[1m1s\u001b[0m 6ms/step - accuracy: 0.5302 - loss: 1.2199 - val_accuracy: 0.5345 - val_loss: 1.2028\n",
            "Epoch 16/27\n",
            "\u001b[1m80/80\u001b[0m \u001b[32m━━━━━━━━━━━━━━━━━━━━\u001b[0m\u001b[37m\u001b[0m \u001b[1m1s\u001b[0m 8ms/step - accuracy: 0.5224 - loss: 1.2126 - val_accuracy: 0.5351 - val_loss: 1.1990\n",
            "Epoch 17/27\n",
            "\u001b[1m80/80\u001b[0m \u001b[32m━━━━━━━━━━━━━━━━━━━━\u001b[0m\u001b[37m\u001b[0m \u001b[1m1s\u001b[0m 7ms/step - accuracy: 0.5351 - loss: 1.2079 - val_accuracy: 0.5356 - val_loss: 1.2054\n",
            "Epoch 18/27\n",
            "\u001b[1m80/80\u001b[0m \u001b[32m━━━━━━━━━━━━━━━━━━━━\u001b[0m\u001b[37m\u001b[0m \u001b[1m1s\u001b[0m 7ms/step - accuracy: 0.5326 - loss: 1.2117 - val_accuracy: 0.5377 - val_loss: 1.1970\n",
            "Epoch 19/27\n",
            "\u001b[1m80/80\u001b[0m \u001b[32m━━━━━━━━━━━━━━━━━━━━\u001b[0m\u001b[37m\u001b[0m \u001b[1m1s\u001b[0m 7ms/step - accuracy: 0.5352 - loss: 1.2029 - val_accuracy: 0.5376 - val_loss: 1.1954\n",
            "Epoch 20/27\n",
            "\u001b[1m80/80\u001b[0m \u001b[32m━━━━━━━━━━━━━━━━━━━━\u001b[0m\u001b[37m\u001b[0m \u001b[1m1s\u001b[0m 4ms/step - accuracy: 0.5390 - loss: 1.1992 - val_accuracy: 0.5365 - val_loss: 1.1977\n",
            "Epoch 21/27\n",
            "\u001b[1m80/80\u001b[0m \u001b[32m━━━━━━━━━━━━━━━━━━━━\u001b[0m\u001b[37m\u001b[0m \u001b[1m1s\u001b[0m 4ms/step - accuracy: 0.5421 - loss: 1.1896 - val_accuracy: 0.5409 - val_loss: 1.1958\n",
            "Epoch 22/27\n",
            "\u001b[1m80/80\u001b[0m \u001b[32m━━━━━━━━━━━━━━━━━━━━\u001b[0m\u001b[37m\u001b[0m \u001b[1m0s\u001b[0m 4ms/step - accuracy: 0.5375 - loss: 1.1906 - val_accuracy: 0.5375 - val_loss: 1.1973\n",
            "Epoch 23/27\n",
            "\u001b[1m80/80\u001b[0m \u001b[32m━━━━━━━━━━━━━━━━━━━━\u001b[0m\u001b[37m\u001b[0m \u001b[1m1s\u001b[0m 4ms/step - accuracy: 0.5336 - loss: 1.1944 - val_accuracy: 0.5373 - val_loss: 1.1921\n",
            "Epoch 24/27\n",
            "\u001b[1m80/80\u001b[0m \u001b[32m━━━━━━━━━━━━━━━━━━━━\u001b[0m\u001b[37m\u001b[0m \u001b[1m0s\u001b[0m 5ms/step - accuracy: 0.5424 - loss: 1.1873 - val_accuracy: 0.5382 - val_loss: 1.1918\n",
            "Epoch 25/27\n",
            "\u001b[1m80/80\u001b[0m \u001b[32m━━━━━━━━━━━━━━━━━━━━\u001b[0m\u001b[37m\u001b[0m \u001b[1m1s\u001b[0m 4ms/step - accuracy: 0.5477 - loss: 1.1835 - val_accuracy: 0.5384 - val_loss: 1.1939\n",
            "Epoch 26/27\n",
            "\u001b[1m80/80\u001b[0m \u001b[32m━━━━━━━━━━━━━━━━━━━━\u001b[0m\u001b[37m\u001b[0m \u001b[1m1s\u001b[0m 4ms/step - accuracy: 0.5384 - loss: 1.1915 - val_accuracy: 0.5389 - val_loss: 1.1913\n",
            "Epoch 27/27\n",
            "\u001b[1m80/80\u001b[0m \u001b[32m━━━━━━━━━━━━━━━━━━━━\u001b[0m\u001b[37m\u001b[0m \u001b[1m0s\u001b[0m 4ms/step - accuracy: 0.5403 - loss: 1.1910 - val_accuracy: 0.5401 - val_loss: 1.1925\n"
          ]
        }
      ],
      "source": [
        "\n",
        "# Train the model on training data with validation on the test data\n",
        "history = model.fit(X_train_tfidf_stage2.toarray(),\n",
        "                    y_train_tfidf_stage2,\n",
        "                    epochs=27,\n",
        "                    batch_size=256,\n",
        "                    validation_split=0.3\n",
        "                    )\n"
      ]
    },
    {
      "cell_type": "code",
      "execution_count": 152,
      "metadata": {
        "id": "hsE3q0TGqln2"
      },
      "outputs": [],
      "source": [
        "nn_classifier = model"
      ]
    },
    {
      "cell_type": "markdown",
      "metadata": {
        "id": "sbTt1WwDpDKJ"
      },
      "source": [
        "### Classification Report"
      ]
    },
    {
      "cell_type": "code",
      "execution_count": 153,
      "metadata": {
        "colab": {
          "base_uri": "https://localhost:8080/"
        },
        "id": "jwNdH6jzkslP",
        "outputId": "1ee05eb4-387f-480b-cbd4-660e38e776e5"
      },
      "outputs": [
        {
          "output_type": "stream",
          "name": "stdout",
          "text": [
            "\u001b[1m226/226\u001b[0m \u001b[32m━━━━━━━━━━━━━━━━━━━━\u001b[0m\u001b[37m\u001b[0m \u001b[1m0s\u001b[0m 1ms/step\n",
            "\n",
            "\n",
            "Accuracy: 0.5332687785309171\n",
            "Overall Accuracy: 0.53\n",
            "              precision    recall  f1-score   support\n",
            "\n",
            "           0       0.52      0.58      0.55       755\n",
            "           1       0.47      0.03      0.06       527\n",
            "           2       0.53      0.68      0.60      3016\n",
            "           3       0.00      0.00      0.00       237\n",
            "           4       0.46      0.02      0.04       536\n",
            "           5       0.54      0.62      0.58      2158\n",
            "\n",
            "    accuracy                           0.53      7229\n",
            "   macro avg       0.42      0.32      0.30      7229\n",
            "weighted avg       0.51      0.53      0.49      7229\n",
            "\n",
            "Confusion Matrix:\n",
            " [[ 439    2  191    0    0  123]\n",
            " [  63   16  365    0    4   79]\n",
            " [ 163    8 2043    0    6  796]\n",
            " [  23    4  160    0    0   50]\n",
            " [ 108    1  330    0   11   86]\n",
            " [  52    3  754    0    3 1346]]\n"
          ]
        }
      ],
      "source": [
        "\n",
        "# Make predictions on the test set\n",
        "y_pred_prob = model.predict(X_test_tfidf_stage2.toarray())\n",
        "y_pred = y_pred_prob.argmax(axis=1)  # Convert probabilities to class predictions\n",
        "\n",
        "# Calculate the accuracy\n",
        "accuracy_score_final = accuracy_score(y_test_multi,y_pred)\n",
        "print(\"\\n\")\n",
        "print(\"Accuracy:\", accuracy_score_final)\n",
        "\n",
        "# Compute the confusion matrix\n",
        "classification_report_final =classification_report(y_test_multi, y_pred)\n",
        "print(f\"Overall Accuracy: {accuracy_score_final:.2f}\")\n",
        "\n",
        "print(classification_report_final)\n",
        "conf_matrix_nn = confusion_matrix(y_test_multi,y_pred)\n",
        "\n",
        "# Print classification report\n",
        "print(\"Confusion Matrix:\\n\",conf_matrix_nn)\n"
      ]
    },
    {
      "cell_type": "markdown",
      "metadata": {
        "id": "R0ZYvnNwpWPy"
      },
      "source": [
        "### Heat Map"
      ]
    },
    {
      "cell_type": "code",
      "execution_count": 154,
      "metadata": {
        "colab": {
          "base_uri": "https://localhost:8080/",
          "height": 0
        },
        "id": "ODW3gG8ckslQ",
        "outputId": "8baa3de7-58bb-45bc-c2d7-e17bc1b5d097"
      },
      "outputs": [
        {
          "output_type": "display_data",
          "data": {
            "text/plain": [
              "<Figure size 640x480 with 2 Axes>"
            ],
            "image/png": "[encoded data removed]"
          },
          "metadata": {}
        }
      ],
      "source": [
        "ax = sns.heatmap(conf_matrix_nn, annot = True, fmt='d', cmap='Greens', xticklabels=multi_encoder.classes_, yticklabels=multi_encoder.classes_)\n",
        "ax.set_title(f'NN Model - {accuracy_score_final:.2}%')\n",
        "plt.show()"
      ]
    },
    {
      "cell_type": "markdown",
      "metadata": {
        "id": "Wv7g9EY2pY8h"
      },
      "source": [
        "### Model Loss and Accuracy"
      ]
    },
    {
      "cell_type": "code",
      "execution_count": 155,
      "metadata": {
        "colab": {
          "base_uri": "https://localhost:8080/",
          "height": 0
        },
        "id": "Kg8LST-jkslQ",
        "outputId": "4ce4897c-a8a4-4316-ddc2-0a3736c1fa34"
      },
      "outputs": [
        {
          "output_type": "display_data",
          "data": {
            "text/plain": [
              "<Figure size 1200x500 with 2 Axes>"
            ],
            "image/png": "[encoded data removed]"
          },
          "metadata": {}
        }
      ],
      "source": [
        "plt.figure(figsize=(12, 5))\n",
        "\n",
        "# Plot training & validation loss values\n",
        "plt.subplot(1, 2, 1)  # 1 row, 2 columns, 1st subplot\n",
        "plt.plot(history.history['loss'], label='Training Loss')\n",
        "plt.plot(history.history['val_loss'], label='Validation Loss')\n",
        "plt.title('Model Loss')\n",
        "plt.xlabel('Epoch')\n",
        "plt.ylabel('Loss')\n",
        "plt.legend(loc='upper right')\n",
        "\n",
        "# Plot training & validation accuracy values\n",
        "plt.subplot(1, 2, 2)  # 1 row, 2 columns, 2nd subplot\n",
        "plt.plot(history.history['accuracy'], label='Training Accuracy')\n",
        "plt.plot(history.history['val_accuracy'], label='Validation Accuracy')\n",
        "plt.title('Model Accuracy')\n",
        "plt.xlabel('Epoch')\n",
        "plt.ylabel('Accuracy')\n",
        "plt.legend(loc='lower right')\n",
        "\n",
        "plt.tight_layout()  # Adjusts subplots to fit in the figure area.\n",
        "plt.show()  # Display the plots"
      ]
    },
    {
      "cell_type": "markdown",
      "metadata": {
        "id": "cOvRnG0Gptjg"
      },
      "source": [
        "## 2.3 Best Model"
      ]
    },
    {
      "cell_type": "markdown",
      "metadata": {
        "id": "JNmu1-d-pyKe"
      },
      "source": [
        "choosing the best classfier for this stage"
      ]
    },
    {
      "cell_type": "code",
      "execution_count": 156,
      "metadata": {
        "id": "aGB95rZSqB_V"
      },
      "outputs": [],
      "source": [
        "multi_classifier = logistic_classifier"
      ]
    },
    {
      "cell_type": "markdown",
      "metadata": {
        "id": "nFsqfQ_dI9Sf"
      },
      "source": [
        "# ***combined Two Classifiers***"
      ]
    },
    {
      "cell_type": "markdown",
      "metadata": {
        "id": "o0zTVmgUmqeu"
      },
      "source": [
        "## ***3.1 Predict the test set***"
      ]
    },
    {
      "cell_type": "markdown",
      "metadata": {
        "id": "PT8ue-tVmtkA"
      },
      "source": [
        "### Initialize list for final predictions and true labels\n"
      ]
    },
    {
      "cell_type": "code",
      "execution_count": 157,
      "metadata": {
        "id": "xwudzQE5m0UI"
      },
      "outputs": [],
      "source": [
        "# Initialize list for final predictions and true labels\n",
        "final_predictions = []\n",
        "ground_truth = y_test.tolist()  # Convert y_test to list for easy comparison\n"
      ]
    },
    {
      "cell_type": "markdown",
      "metadata": {
        "id": "FQu5cKSNm3Cc"
      },
      "source": [
        "### Iterate Over the Test Samples"
      ]
    },
    {
      "cell_type": "code",
      "execution_count": 158,
      "metadata": {
        "id": "41MbdUZfUAyg"
      },
      "outputs": [],
      "source": [
        "\n",
        "# Iterate through each sample in X_test\n",
        "for i, test in enumerate(X_test):\n",
        "    # Vectorize the text for Stage 1\n",
        "    # vectorized_text_stage1 = vectorizer_stage1.transform([text])\n",
        "\n",
        "    # Stage 1 Prediction (Binary Classification)\n",
        "    stage1_prediction = binary_classifier.predict(test)[0]\n",
        "\n",
        "    if stage1_prediction == binary_encoder.transform(['Normal'])[0]:  # If predicted as \"Normal\"\n",
        "        final_predictions.append('Normal')\n",
        "    else:\n",
        "        # If predicted as \"Non-Normal,\" vectorize for Stage 2 and predict specific condition\n",
        "        # vectorized_text_stage2 = vectorizer_stage2.transform([text])\n",
        "        stage2_prediction = multi_classifier.predict(test)[0]\n",
        "        #stage2_prediction = model.predict(test).argmax(axis=1)\n",
        "\n",
        "        final_predictions.append(multi_encoder.inverse_transform([stage2_prediction])[0])\n"
      ]
    },
    {
      "cell_type": "markdown",
      "metadata": {
        "id": "bJki4GTxm-6c"
      },
      "source": [
        "## ***3.2 Classification Report***"
      ]
    },
    {
      "cell_type": "code",
      "execution_count": 159,
      "metadata": {
        "colab": {
          "base_uri": "https://localhost:8080/"
        },
        "id": "a6X0pg0lnG6r",
        "outputId": "c3f6c2b7-0b74-4b70-d3ca-0519d0676641"
      },
      "outputs": [
        {
          "output_type": "stream",
          "name": "stdout",
          "text": [
            "\n",
            "Combined Two-Level Classification Results\n",
            "Overall Accuracy: 0.54\n",
            "                      precision    recall  f1-score   support\n",
            "\n",
            "             Anxiety       0.00      0.00      0.00       755\n",
            "             Bipolar       0.00      0.00      0.00       527\n",
            "          Depression       0.40      0.94      0.56      3016\n",
            "              Normal       0.81      0.85      0.83      3308\n",
            "Personality disorder       0.00      0.00      0.00       237\n",
            "              Stress       0.00      0.00      0.00       536\n",
            "            Suicidal       0.00      0.00      0.00      2158\n",
            "\n",
            "            accuracy                           0.54     10537\n",
            "           macro avg       0.17      0.26      0.20     10537\n",
            "        weighted avg       0.37      0.54      0.42     10537\n",
            "\n"
          ]
        }
      ],
      "source": [
        "accuracy_score_final=accuracy_score(ground_truth, final_predictions)\n",
        "classification_report_final =classification_report(ground_truth, final_predictions)\n",
        "# Final Combined Evaluation\n",
        "print(\"\\nCombined Two-Level Classification Results\")\n",
        "print(f\"Overall Accuracy: {accuracy_score_final:.2f}\")\n",
        "print(classification_report_final)\n"
      ]
    },
    {
      "cell_type": "markdown",
      "metadata": {
        "id": "qdh95cCxnUmc"
      },
      "source": [
        "## ***3.3 Overall Heat Map***"
      ]
    },
    {
      "cell_type": "code",
      "execution_count": 160,
      "metadata": {
        "colab": {
          "base_uri": "https://localhost:8080/",
          "height": 0
        },
        "id": "pGWU3BzTm_xZ",
        "outputId": "a5763b1b-3b9f-49fe-b7cd-456b04fb4662"
      },
      "outputs": [
        {
          "output_type": "display_data",
          "data": {
            "text/plain": [
              "<Figure size 1000x800 with 2 Axes>"
            ],
            "image/png": "[encoded data removed]"
          },
          "metadata": {}
        }
      ],
      "source": [
        "# Confusion Matrix and Heatmap for Combined Results\n",
        "conf_matrix_combined = confusion_matrix( final_predictions,ground_truth, labels=df['status'].unique())\n",
        "plt.figure(figsize=(10, 8))\n",
        "sns.heatmap(conf_matrix_combined, annot=True, fmt=\"d\", cmap=\"Blues\", xticklabels=df['status'].unique(), yticklabels=df['status'].unique())\n",
        "plt.title(\"Confusion Matrix - Combined Results (All Classes)\")\n",
        "plt.xlabel(\"Predicted Labels\")\n",
        "plt.ylabel(\"True Labels\")\n",
        "plt.show()\n"
      ]
    },
    {
      "cell_type": "markdown",
      "metadata": {
        "id": "l2uXvCfknp9i"
      },
      "source": [
        "## ***3.4 Conclusion***"
      ]
    },
    {
      "cell_type": "markdown",
      "metadata": {
        "id": "3P1l2O_HnsK6"
      },
      "source": []
    }
  ],
  "metadata": {
    "colab": {
      "collapsed_sections": [
        "fBOZoO39FiBE",
        "Z7ppN7R6VVZK",
        "D7sgY1lGFDs6",
        "jH6im3xME6T_",
        "NlQxSzrWk51W",
        "G1ZUulIVId-A",
        "2zoEONwt0TYx",
        "X0BfmXqdsArU",
        "YI7_TNFwLJOb",
        "tZZZXLyjhBHK",
        "iEWYzKrLHM3w",
        "2Bxu6YurHyAY",
        "ppYN2ADdHTkv",
        "QV6rldV9HY6-",
        "ZqHOF5bTHeDX",
        "wPZehjwhHmay",
        "JmjO043Idcjy",
        "SNkQWvaYGCGD",
        "Z9EgLsbYGD8v",
        "B39-MI6RGIIx",
        "x2HIGR8TII0_",
        "IsoZkHmzIQTW",
        "IewgAILzl4qL",
        "rdgn2Kd1lbxE",
        "00wfz1PalsD0",
        "gzObnP4mk_Kt",
        "1386nu2LeOM3",
        "IhCyYHwVExMk",
        "WeicYxTrE1oR",
        "N6X1q-PhiIKm",
        "KJC5W42CiMjX",
        "9esxu_GSF-Pd",
        "k8p9P5_sKwZm",
        "vmdch8D0ieoM",
        "F1N1Mn3eiirK",
        "KpoEttgRlJml",
        "98XWO92bim6x",
        "6k4OSIejitYs",
        "P2sP4XYoixYo",
        "9KMmPGfFq0P_",
        "4S79vs1FGfyS",
        "4PC4fJLaHQf4",
        "ijhMxfv0j_xo",
        "j_jjMgeCkJc1",
        "S7eDIGOfl6_Y",
        "RJYz-psmjdIt",
        "1SwFykRWj1vm",
        "yaHmNZrRkslN",
        "u20nzTgho06X",
        "eUo8ck6fo_Qz",
        "sbTt1WwDpDKJ",
        "R0ZYvnNwpWPy",
        "Wv7g9EY2pY8h",
        "cOvRnG0Gptjg",
        "o0zTVmgUmqeu",
        "PT8ue-tVmtkA",
        "FQu5cKSNm3Cc",
        "bJki4GTxm-6c",
        "l2uXvCfknp9i"
      ],
      "provenance": []
    },
    "kernelspec": {
      "display_name": "Python 3",
      "name": "python3"
    },
    "language_info": {
      "name": "python"
    }
  },
  "nbformat": 4,
  "nbformat_minor": 0
}