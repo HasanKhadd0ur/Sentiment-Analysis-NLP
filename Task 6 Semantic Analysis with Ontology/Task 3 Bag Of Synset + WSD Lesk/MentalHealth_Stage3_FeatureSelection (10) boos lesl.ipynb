{
  "cells": [
    {
      "cell_type": "markdown",
      "metadata": {
        "id": "m8rEkxRwtt4k"
      },
      "source": [
        "# Dataset Loading from previous stage"
      ]
    },
    {
      "cell_type": "markdown",
      "metadata": {
        "id": "fBOZoO39FiBE"
      },
      "source": [
        "### Constants"
      ]
    },
    {
      "cell_type": "code",
      "execution_count": 2,
      "metadata": {
        "id": "Q7Io-5N4Fk5x"
      },
      "outputs": [],
      "source": [
        "data_read_path = '/content/drive/MyDrive/CombinedData.csv'\n",
        "data_clean_path='/content/drive/MyDrive/CombinedDataCleaned.csv'\n",
        "data_nlped_path='/content/drive/MyDrive/CombinedDataNLPed.csv'\n"
      ]
    },
    {
      "cell_type": "markdown",
      "metadata": {
        "id": "af1gvf4LexF1"
      },
      "source": [
        "## Import Libraries\n",
        "---\n",
        "lets start by importing the nessacary libraries"
      ]
    },
    {
      "cell_type": "markdown",
      "metadata": {
        "id": "Z7ppN7R6VVZK"
      },
      "source": [
        "#### insatll stanza"
      ]
    },
    {
      "cell_type": "code",
      "execution_count": 3,
      "metadata": {
        "colab": {
          "base_uri": "https://localhost:8080/"
        },
        "id": "b-6CwuswmqE8",
        "outputId": "d6548005-4262-48a1-c4ed-63e0f04bc399"
      },
      "outputs": [
        {
          "output_type": "stream",
          "name": "stdout",
          "text": [
            "Requirement already satisfied: contractions in /usr/local/lib/python3.11/dist-packages (0.1.73)\n",
            "Requirement already satisfied: textsearch>=0.0.21 in /usr/local/lib/python3.11/dist-packages (from contractions) (0.0.24)\n",
            "Requirement already satisfied: anyascii in /usr/local/lib/python3.11/dist-packages (from textsearch>=0.0.21->contractions) (0.3.2)\n",
            "Requirement already satisfied: pyahocorasick in /usr/local/lib/python3.11/dist-packages (from textsearch>=0.0.21->contractions) (2.1.0)\n"
          ]
        }
      ],
      "source": [
        "pip install contractions"
      ]
    },
    {
      "cell_type": "code",
      "execution_count": 4,
      "metadata": {
        "colab": {
          "base_uri": "https://localhost:8080/"
        },
        "id": "JzYMui5-Va8Y",
        "outputId": "fcb20510-19aa-4755-99e7-4304da15e049"
      },
      "outputs": [
        {
          "output_type": "stream",
          "name": "stdout",
          "text": [
            "Requirement already satisfied: stanza in /usr/local/lib/python3.11/dist-packages (1.10.1)\n",
            "Requirement already satisfied: emoji in /usr/local/lib/python3.11/dist-packages (from stanza) (2.14.1)\n",
            "Requirement already satisfied: numpy in /usr/local/lib/python3.11/dist-packages (from stanza) (1.26.4)\n",
            "Requirement already satisfied: protobuf>=3.15.0 in /usr/local/lib/python3.11/dist-packages (from stanza) (4.25.5)\n",
            "Requirement already satisfied: requests in /usr/local/lib/python3.11/dist-packages (from stanza) (2.32.3)\n",
            "Requirement already satisfied: networkx in /usr/local/lib/python3.11/dist-packages (from stanza) (3.4.2)\n",
            "Requirement already satisfied: torch>=1.3.0 in /usr/local/lib/python3.11/dist-packages (from stanza) (2.5.1+cu121)\n",
            "Requirement already satisfied: tqdm in /usr/local/lib/python3.11/dist-packages (from stanza) (4.67.1)\n",
            "Requirement already satisfied: filelock in /usr/local/lib/python3.11/dist-packages (from torch>=1.3.0->stanza) (3.16.1)\n",
            "Requirement already satisfied: typing-extensions>=4.8.0 in /usr/local/lib/python3.11/dist-packages (from torch>=1.3.0->stanza) (4.12.2)\n",
            "Requirement already satisfied: jinja2 in /usr/local/lib/python3.11/dist-packages (from torch>=1.3.0->stanza) (3.1.5)\n",
            "Requirement already satisfied: fsspec in /usr/local/lib/python3.11/dist-packages (from torch>=1.3.0->stanza) (2024.10.0)\n",
            "Requirement already satisfied: nvidia-cuda-nvrtc-cu12==12.1.105 in /usr/local/lib/python3.11/dist-packages (from torch>=1.3.0->stanza) (12.1.105)\n",
            "Requirement already satisfied: nvidia-cuda-runtime-cu12==12.1.105 in /usr/local/lib/python3.11/dist-packages (from torch>=1.3.0->stanza) (12.1.105)\n",
            "Requirement already satisfied: nvidia-cuda-cupti-cu12==12.1.105 in /usr/local/lib/python3.11/dist-packages (from torch>=1.3.0->stanza) (12.1.105)\n",
            "Requirement already satisfied: nvidia-cudnn-cu12==9.1.0.70 in /usr/local/lib/python3.11/dist-packages (from torch>=1.3.0->stanza) (9.1.0.70)\n",
            "Requirement already satisfied: nvidia-cublas-cu12==12.1.3.1 in /usr/local/lib/python3.11/dist-packages (from torch>=1.3.0->stanza) (12.1.3.1)\n",
            "Requirement already satisfied: nvidia-cufft-cu12==11.0.2.54 in /usr/local/lib/python3.11/dist-packages (from torch>=1.3.0->stanza) (11.0.2.54)\n",
            "Requirement already satisfied: nvidia-curand-cu12==10.3.2.106 in /usr/local/lib/python3.11/dist-packages (from torch>=1.3.0->stanza) (10.3.2.106)\n",
            "Requirement already satisfied: nvidia-cusolver-cu12==11.4.5.107 in /usr/local/lib/python3.11/dist-packages (from torch>=1.3.0->stanza) (11.4.5.107)\n",
            "Requirement already satisfied: nvidia-cusparse-cu12==12.1.0.106 in /usr/local/lib/python3.11/dist-packages (from torch>=1.3.0->stanza) (12.1.0.106)\n",
            "Requirement already satisfied: nvidia-nccl-cu12==2.21.5 in /usr/local/lib/python3.11/dist-packages (from torch>=1.3.0->stanza) (2.21.5)\n",
            "Requirement already satisfied: nvidia-nvtx-cu12==12.1.105 in /usr/local/lib/python3.11/dist-packages (from torch>=1.3.0->stanza) (12.1.105)\n",
            "Requirement already satisfied: triton==3.1.0 in /usr/local/lib/python3.11/dist-packages (from torch>=1.3.0->stanza) (3.1.0)\n",
            "Requirement already satisfied: sympy==1.13.1 in /usr/local/lib/python3.11/dist-packages (from torch>=1.3.0->stanza) (1.13.1)\n",
            "Requirement already satisfied: nvidia-nvjitlink-cu12 in /usr/local/lib/python3.11/dist-packages (from nvidia-cusolver-cu12==11.4.5.107->torch>=1.3.0->stanza) (12.6.85)\n",
            "Requirement already satisfied: mpmath<1.4,>=1.1.0 in /usr/local/lib/python3.11/dist-packages (from sympy==1.13.1->torch>=1.3.0->stanza) (1.3.0)\n",
            "Requirement already satisfied: charset-normalizer<4,>=2 in /usr/local/lib/python3.11/dist-packages (from requests->stanza) (3.4.1)\n",
            "Requirement already satisfied: idna<4,>=2.5 in /usr/local/lib/python3.11/dist-packages (from requests->stanza) (3.10)\n",
            "Requirement already satisfied: urllib3<3,>=1.21.1 in /usr/local/lib/python3.11/dist-packages (from requests->stanza) (2.3.0)\n",
            "Requirement already satisfied: certifi>=2017.4.17 in /usr/local/lib/python3.11/dist-packages (from requests->stanza) (2024.12.14)\n",
            "Requirement already satisfied: MarkupSafe>=2.0 in /usr/local/lib/python3.11/dist-packages (from jinja2->torch>=1.3.0->stanza) (3.0.2)\n"
          ]
        }
      ],
      "source": [
        "pip install stanza"
      ]
    },
    {
      "cell_type": "markdown",
      "metadata": {
        "id": "D7sgY1lGFDs6"
      },
      "source": [
        "### import"
      ]
    },
    {
      "cell_type": "code",
      "execution_count": 5,
      "metadata": {
        "id": "Krv1D_e3eWlK"
      },
      "outputs": [],
      "source": [
        "import pandas as pd\n",
        "import numpy as np\n",
        "import matplotlib.pyplot as plt\n",
        "import seaborn as sns\n",
        "%matplotlib inline\n",
        "from nltk.corpus import stopwords\n",
        "from imblearn.over_sampling import SMOTE\n",
        "from sklearn.feature_extraction.text import TfidfVectorizer\n",
        "from scipy.sparse import hstack\n",
        "import emoji\n",
        "import contractions\n",
        "import re\n",
        "import numpy as np\n",
        "import matplotlib.pyplot as plt\n",
        "from sklearn.feature_selection import SelectKBest, mutual_info_classif ,chi2\n",
        "from sklearn.linear_model import LogisticRegression\n",
        "from sklearn.metrics import accuracy_score\n",
        "from sklearn.model_selection import train_test_split\n",
        "import random\n",
        "#from imblearn.over_sampling import RandomOverSampler\n",
        "from scipy.sparse import hstack  # To combine sparse matrices\n",
        "from wordcloud import WordCloud\n",
        "from tensorflow.keras.models import Sequential\n",
        "from tensorflow.keras.layers import Dense, Dropout\n",
        "from tensorflow.keras.optimizers import Adam\n",
        "from tensorflow.keras.layers import BatchNormalization\n",
        "from sklearn.metrics import accuracy_score, confusion_matrix, classification_report\n",
        "from tensorflow.keras.regularizers import l2\n",
        "\n",
        "from sklearn.svm import SVC\n",
        "from sklearn.model_selection import GridSearchCV\n",
        "from sklearn.metrics import accuracy_score, confusion_matrix, classification_report\n",
        "from sklearn.neighbors import KNeighborsClassifier\n",
        "from sklearn.model_selection import GridSearchCV\n",
        "from sklearn.metrics import accuracy_score, confusion_matrix, classification_report\n",
        "from sklearn.linear_model import LogisticRegression\n",
        "from sklearn.model_selection import GridSearchCV\n",
        "from sklearn.metrics import accuracy_score, confusion_matrix, classification_report\n",
        "from google.colab import drive\n",
        "from textblob import TextBlob\n",
        "\n",
        "\n",
        "import nltk\n",
        "from nltk.tokenize import word_tokenize\n",
        "from nltk.stem import PorterStemmer\n",
        "\n",
        "import stanza\n",
        "from sklearn.feature_extraction.text import TfidfVectorizer\n",
        "from sklearn.model_selection import train_test_split, GridSearchCV\n",
        "from sklearn.preprocessing import LabelEncoder\n",
        "from sklearn.linear_model import LogisticRegression\n",
        "from sklearn.naive_bayes import BernoulliNB\n",
        "from sklearn.tree import DecisionTreeClassifier\n",
        "from sklearn.metrics import accuracy_score, classification_report, confusion_matrix\n",
        "\n",
        "import warnings\n",
        "warnings.filterwarnings(\"ignore\")"
      ]
    },
    {
      "cell_type": "code",
      "execution_count": 6,
      "metadata": {
        "colab": {
          "base_uri": "https://localhost:8080/"
        },
        "id": "_haVmI4LYEId",
        "outputId": "b5287eeb-d104-4914-818b-5829c9eb08b7"
      },
      "outputs": [
        {
          "output_type": "stream",
          "name": "stdout",
          "text": [
            "Num GPUs Available:  0\n"
          ]
        }
      ],
      "source": [
        "import tensorflow as tf\n",
        "\n",
        "# Check if GPU is available\n",
        "print(\"Num GPUs Available: \", len(tf.config.list_physical_devices('GPU')))\n"
      ]
    },
    {
      "cell_type": "markdown",
      "metadata": {
        "id": "jH6im3xME6T_"
      },
      "source": [
        "### Download packages"
      ]
    },
    {
      "cell_type": "code",
      "execution_count": 7,
      "metadata": {
        "colab": {
          "base_uri": "https://localhost:8080/"
        },
        "id": "pC17Na0_FAkf",
        "outputId": "e634edd3-2750-4f36-b6d6-322efbc67fe2"
      },
      "outputs": [
        {
          "output_type": "stream",
          "name": "stderr",
          "text": [
            "[nltk_data] Downloading package stopwords to /root/nltk_data...\n",
            "[nltk_data]   Package stopwords is already up-to-date!\n",
            "[nltk_data] Downloading package punkt to /root/nltk_data...\n",
            "[nltk_data]   Package punkt is already up-to-date!\n",
            "[nltk_data] Downloading package punkt_tab to /root/nltk_data...\n",
            "[nltk_data]   Package punkt_tab is already up-to-date!\n",
            "[nltk_data] Downloading package averaged_perceptron_tagger_eng to\n",
            "[nltk_data]     /root/nltk_data...\n",
            "[nltk_data]   Package averaged_perceptron_tagger_eng is already up-to-\n",
            "[nltk_data]       date!\n"
          ]
        },
        {
          "output_type": "execute_result",
          "data": {
            "text/plain": [
              "True"
            ]
          },
          "metadata": {},
          "execution_count": 7
        }
      ],
      "source": [
        "nltk.download('stopwords')\n",
        "nltk.download('punkt')\n",
        "nltk.download('punkt_tab')\n",
        "nltk.download('averaged_perceptron_tagger_eng')\n"
      ]
    },
    {
      "cell_type": "markdown",
      "metadata": {
        "id": "NlQxSzrWk51W"
      },
      "source": [
        "## Loading the dataset"
      ]
    },
    {
      "cell_type": "code",
      "execution_count": 8,
      "metadata": {
        "colab": {
          "base_uri": "https://localhost:8080/"
        },
        "id": "4keFRwVDzDvC",
        "outputId": "3e59ecce-4936-4b9b-dc4c-f81c3d79c01e"
      },
      "outputs": [
        {
          "output_type": "stream",
          "name": "stdout",
          "text": [
            "Drive already mounted at /content/drive; to attempt to forcibly remount, call drive.mount(\"/content/drive\", force_remount=True).\n"
          ]
        }
      ],
      "source": [
        "drive.mount('/content/drive')"
      ]
    },
    {
      "cell_type": "code",
      "execution_count": 9,
      "metadata": {
        "id": "HYum3Ub9fOa-"
      },
      "outputs": [],
      "source": [
        "df = pd.read_csv(data_nlped_path)"
      ]
    },
    {
      "cell_type": "code",
      "execution_count": 10,
      "metadata": {
        "id": "fNnBBB_6ecXi"
      },
      "outputs": [],
      "source": [
        "df.fillna(\"\", inplace=True)"
      ]
    },
    {
      "cell_type": "code",
      "execution_count": 11,
      "metadata": {
        "colab": {
          "base_uri": "https://localhost:8080/",
          "height": 0
        },
        "id": "XWnQ63c-fOPv",
        "outputId": "d18b0a17-16ab-4cfd-986c-5a83891e6a23"
      },
      "outputs": [
        {
          "output_type": "execute_result",
          "data": {
            "text/plain": [
              "                                               statement      status  \\\n",
              "25810  i miss her so much we hurt each other but she ...  Depression   \n",
              "29087  hi just wondering if anyone can relate to this...      Stress   \n",
              "1554                                         i love niki      Normal   \n",
              "\n",
              "       statemnent_length  num_of_words  num_of_sentences  \\\n",
              "25810               1099           230                19   \n",
              "29087                388            69                 5   \n",
              "1554                  12             3                 1   \n",
              "\n",
              "                                   statement_with_emojis  \\\n",
              "25810  i miss her so much we hurt each other but she ...   \n",
              "29087  hi just wondering if anyone can relate to this...   \n",
              "1554                                         i love niki   \n",
              "\n",
              "                                                  tokens  \\\n",
              "25810  ['i', 'miss', 'her', 'so', 'much', 'we', 'hurt...   \n",
              "29087  ['hi', 'just', 'wondering', 'if', 'anyone', 'c...   \n",
              "1554                               ['i', 'love', 'niki']   \n",
              "\n",
              "                                          tokens_stemmed  \\\n",
              "25810  i miss her so much we hurt each other but she ...   \n",
              "29087  hi just wonder if anyon can relat to this sorr...   \n",
              "1554                                         i love niki   \n",
              "\n",
              "                                            tokens_verbs  \\\n",
              "25810  miss hurt fucked smoking eating am lost is fin...   \n",
              "29087  wondering relate made tend have are happening ...   \n",
              "1554                                                love   \n",
              "\n",
              "                                            tokens_nouns  \\\n",
              "25810  i pack day pills food i one end i times life h...   \n",
              "29087  hi anyone sorry i i anxiety situations eventco...   \n",
              "1554                                              i niki   \n",
              "\n",
              "                                              tokens_adj  \\\n",
              "25810  much other i multiple entire i much much sure ...   \n",
              "29087                           long little social other   \n",
              "1554                                                       \n",
              "\n",
              "                                         important_words  \\\n",
              "25810  if way ends food filled to was looking it find...   \n",
              "29087  not this its long used happening problem if i ...   \n",
              "1554                                         love niki i   \n",
              "\n",
              "                                        sentiment_scores  avg_sentiment  \\\n",
              "25810  [0, 0, -0.0625, 0, 0, 0, 0, 0.0, -0.0625, 0.0,...      -0.000343   \n",
              "29087  [0, 0, -0.05, -0.0625, 0, 0, 0, 0, 0.0, 0.0, 0...      -0.000951   \n",
              "1554   [0, 0, -0.0625, 0, 0, 0, 0, 0.0, 0.0, 0.0, 0.0...      -0.005357   \n",
              "\n",
              "       max_sentiment  min_sentiment  \\\n",
              "25810          0.075        -0.0625   \n",
              "29087          0.075        -0.0625   \n",
              "1554           0.075        -0.0625   \n",
              "\n",
              "                                             mean_vector  \\\n",
              "25810  [-1.74650893e-01  1.21741869e-01 -1.44969858e-...   \n",
              "29087  [-1.80520549e-01  1.22659005e-01 -1.98399257e-...   \n",
              "1554   [-0.08294678  0.02457682  0.07670084  0.163221...   \n",
              "\n",
              "                                                     bos  \\\n",
              "25810  iodine.n.01 girl.n.01 sol.n.03 much.n.01 injur...   \n",
              "29087  hello.n.01 just.a.01 wonder.v.01 can.n.01 asso...   \n",
              "1554                               iodine.n.01 love.n.01   \n",
              "\n",
              "                                                bos_lesk  \n",
              "25810  miss.n.03 much.r.04 detriment.n.01 very.r.01 s...  \n",
              "29087  hawaii.n.01 wonder.v.01 anyone relate.v.05 reg...  \n",
              "1554                            sleep_together.v.01 niki  "
            ],
            "text/html": [
              "\n",
              "  <div id=\"df-22b7f36d-feae-4f79-9a80-7b8387c6c777\" class=\"colab-df-container\">\n",
              "    <div>\n",
              "<style scoped>\n",
              "    .dataframe tbody tr th:only-of-type {\n",
              "        vertical-align: middle;\n",
              "    }\n",
              "\n",
              "    .dataframe tbody tr th {\n",
              "        vertical-align: top;\n",
              "    }\n",
              "\n",
              "    .dataframe thead th {\n",
              "        text-align: right;\n",
              "    }\n",
              "</style>\n",
              "<table border=\"1\" class=\"dataframe\">\n",
              "  <thead>\n",
              "    <tr style=\"text-align: right;\">\n",
              "      <th></th>\n",
              "      <th>statement</th>\n",
              "      <th>status</th>\n",
              "      <th>statemnent_length</th>\n",
              "      <th>num_of_words</th>\n",
              "      <th>num_of_sentences</th>\n",
              "      <th>statement_with_emojis</th>\n",
              "      <th>tokens</th>\n",
              "      <th>tokens_stemmed</th>\n",
              "      <th>tokens_verbs</th>\n",
              "      <th>tokens_nouns</th>\n",
              "      <th>tokens_adj</th>\n",
              "      <th>important_words</th>\n",
              "      <th>sentiment_scores</th>\n",
              "      <th>avg_sentiment</th>\n",
              "      <th>max_sentiment</th>\n",
              "      <th>min_sentiment</th>\n",
              "      <th>mean_vector</th>\n",
              "      <th>bos</th>\n",
              "      <th>bos_lesk</th>\n",
              "    </tr>\n",
              "  </thead>\n",
              "  <tbody>\n",
              "    <tr>\n",
              "      <th>25810</th>\n",
              "      <td>i miss her so much we hurt each other but she ...</td>\n",
              "      <td>Depression</td>\n",
              "      <td>1099</td>\n",
              "      <td>230</td>\n",
              "      <td>19</td>\n",
              "      <td>i miss her so much we hurt each other but she ...</td>\n",
              "      <td>['i', 'miss', 'her', 'so', 'much', 'we', 'hurt...</td>\n",
              "      <td>i miss her so much we hurt each other but she ...</td>\n",
              "      <td>miss hurt fucked smoking eating am lost is fin...</td>\n",
              "      <td>i pack day pills food i one end i times life h...</td>\n",
              "      <td>much other i multiple entire i much much sure ...</td>\n",
              "      <td>if way ends food filled to was looking it find...</td>\n",
              "      <td>[0, 0, -0.0625, 0, 0, 0, 0, 0.0, -0.0625, 0.0,...</td>\n",
              "      <td>-0.000343</td>\n",
              "      <td>0.075</td>\n",
              "      <td>-0.0625</td>\n",
              "      <td>[-1.74650893e-01  1.21741869e-01 -1.44969858e-...</td>\n",
              "      <td>iodine.n.01 girl.n.01 sol.n.03 much.n.01 injur...</td>\n",
              "      <td>miss.n.03 much.r.04 detriment.n.01 very.r.01 s...</td>\n",
              "    </tr>\n",
              "    <tr>\n",
              "      <th>29087</th>\n",
              "      <td>hi just wondering if anyone can relate to this...</td>\n",
              "      <td>Stress</td>\n",
              "      <td>388</td>\n",
              "      <td>69</td>\n",
              "      <td>5</td>\n",
              "      <td>hi just wondering if anyone can relate to this...</td>\n",
              "      <td>['hi', 'just', 'wondering', 'if', 'anyone', 'c...</td>\n",
              "      <td>hi just wonder if anyon can relat to this sorr...</td>\n",
              "      <td>wondering relate made tend have are happening ...</td>\n",
              "      <td>hi anyone sorry i i anxiety situations eventco...</td>\n",
              "      <td>long little social other</td>\n",
              "      <td>not this its long used happening problem if i ...</td>\n",
              "      <td>[0, 0, -0.05, -0.0625, 0, 0, 0, 0, 0.0, 0.0, 0...</td>\n",
              "      <td>-0.000951</td>\n",
              "      <td>0.075</td>\n",
              "      <td>-0.0625</td>\n",
              "      <td>[-1.80520549e-01  1.22659005e-01 -1.98399257e-...</td>\n",
              "      <td>hello.n.01 just.a.01 wonder.v.01 can.n.01 asso...</td>\n",
              "      <td>hawaii.n.01 wonder.v.01 anyone relate.v.05 reg...</td>\n",
              "    </tr>\n",
              "    <tr>\n",
              "      <th>1554</th>\n",
              "      <td>i love niki</td>\n",
              "      <td>Normal</td>\n",
              "      <td>12</td>\n",
              "      <td>3</td>\n",
              "      <td>1</td>\n",
              "      <td>i love niki</td>\n",
              "      <td>['i', 'love', 'niki']</td>\n",
              "      <td>i love niki</td>\n",
              "      <td>love</td>\n",
              "      <td>i niki</td>\n",
              "      <td></td>\n",
              "      <td>love niki i</td>\n",
              "      <td>[0, 0, -0.0625, 0, 0, 0, 0, 0.0, 0.0, 0.0, 0.0...</td>\n",
              "      <td>-0.005357</td>\n",
              "      <td>0.075</td>\n",
              "      <td>-0.0625</td>\n",
              "      <td>[-0.08294678  0.02457682  0.07670084  0.163221...</td>\n",
              "      <td>iodine.n.01 love.n.01</td>\n",
              "      <td>sleep_together.v.01 niki</td>\n",
              "    </tr>\n",
              "  </tbody>\n",
              "</table>\n",
              "</div>\n",
              "    <div class=\"colab-df-buttons\">\n",
              "\n",
              "  <div class=\"colab-df-container\">\n",
              "    <button class=\"colab-df-convert\" onclick=\"convertToInteractive('df-22b7f36d-feae-4f79-9a80-7b8387c6c777')\"\n",
              "            title=\"Convert this dataframe to an interactive table.\"\n",
              "            style=\"display:none;\">\n",
              "\n",
              "  <svg xmlns=\"http://www.w3.org/2000/svg\" height=\"24px\" viewBox=\"0 -960 960 960\">\n",
              "    <path d=\"M120-120v-720h720v720H120Zm60-500h600v-160H180v160Zm220 220h160v-160H400v160Zm0 220h160v-160H400v160ZM180-400h160v-160H180v160Zm440 0h160v-160H620v160ZM180-180h160v-160H180v160Zm440 0h160v-160H620v160Z\"/>\n",
              "  </svg>\n",
              "    </button>\n",
              "\n",
              "  <style>\n",
              "    .colab-df-container {\n",
              "      display:flex;\n",
              "      gap: 12px;\n",
              "    }\n",
              "\n",
              "    .colab-df-convert {\n",
              "      background-color: #E8F0FE;\n",
              "      border: none;\n",
              "      border-radius: 50%;\n",
              "      cursor: pointer;\n",
              "      display: none;\n",
              "      fill: #1967D2;\n",
              "      height: 32px;\n",
              "      padding: 0 0 0 0;\n",
              "      width: 32px;\n",
              "    }\n",
              "\n",
              "    .colab-df-convert:hover {\n",
              "      background-color: #E2EBFA;\n",
              "      box-shadow: 0px 1px 2px rgba(60, 64, 67, 0.3), 0px 1px 3px 1px rgba(60, 64, 67, 0.15);\n",
              "      fill: #174EA6;\n",
              "    }\n",
              "\n",
              "    .colab-df-buttons div {\n",
              "      margin-bottom: 4px;\n",
              "    }\n",
              "\n",
              "    [theme=dark] .colab-df-convert {\n",
              "      background-color: #3B4455;\n",
              "      fill: #D2E3FC;\n",
              "    }\n",
              "\n",
              "    [theme=dark] .colab-df-convert:hover {\n",
              "      background-color: #434B5C;\n",
              "      box-shadow: 0px 1px 3px 1px rgba(0, 0, 0, 0.15);\n",
              "      filter: drop-shadow(0px 1px 2px rgba(0, 0, 0, 0.3));\n",
              "      fill: #FFFFFF;\n",
              "    }\n",
              "  </style>\n",
              "\n",
              "    <script>\n",
              "      const buttonEl =\n",
              "        document.querySelector('#df-22b7f36d-feae-4f79-9a80-7b8387c6c777 button.colab-df-convert');\n",
              "      buttonEl.style.display =\n",
              "        google.colab.kernel.accessAllowed ? 'block' : 'none';\n",
              "\n",
              "      async function convertToInteractive(key) {\n",
              "        const element = document.querySelector('#df-22b7f36d-feae-4f79-9a80-7b8387c6c777');\n",
              "        const dataTable =\n",
              "          await google.colab.kernel.invokeFunction('convertToInteractive',\n",
              "                                                    [key], {});\n",
              "        if (!dataTable) return;\n",
              "\n",
              "        const docLinkHtml = 'Like what you see? Visit the ' +\n",
              "          '<a target=\"_blank\" href=https://colab.research.google.com/notebooks/data_table.ipynb>data table notebook</a>'\n",
              "          + ' to learn more about interactive tables.';\n",
              "        element.innerHTML = '';\n",
              "        dataTable['output_type'] = 'display_data';\n",
              "        await google.colab.output.renderOutput(dataTable, element);\n",
              "        const docLink = document.createElement('div');\n",
              "        docLink.innerHTML = docLinkHtml;\n",
              "        element.appendChild(docLink);\n",
              "      }\n",
              "    </script>\n",
              "  </div>\n",
              "\n",
              "\n",
              "<div id=\"df-b019d1b9-52e3-4fc6-9230-05debf010e97\">\n",
              "  <button class=\"colab-df-quickchart\" onclick=\"quickchart('df-b019d1b9-52e3-4fc6-9230-05debf010e97')\"\n",
              "            title=\"Suggest charts\"\n",
              "            style=\"display:none;\">\n",
              "\n",
              "<svg xmlns=\"http://www.w3.org/2000/svg\" height=\"24px\"viewBox=\"0 0 24 24\"\n",
              "     width=\"24px\">\n",
              "    <g>\n",
              "        <path d=\"M19 3H5c-1.1 0-2 .9-2 2v14c0 1.1.9 2 2 2h14c1.1 0 2-.9 2-2V5c0-1.1-.9-2-2-2zM9 17H7v-7h2v7zm4 0h-2V7h2v10zm4 0h-2v-4h2v4z\"/>\n",
              "    </g>\n",
              "</svg>\n",
              "  </button>\n",
              "\n",
              "<style>\n",
              "  .colab-df-quickchart {\n",
              "      --bg-color: #E8F0FE;\n",
              "      --fill-color: #1967D2;\n",
              "      --hover-bg-color: #E2EBFA;\n",
              "      --hover-fill-color: #174EA6;\n",
              "      --disabled-fill-color: #AAA;\n",
              "      --disabled-bg-color: #DDD;\n",
              "  }\n",
              "\n",
              "  [theme=dark] .colab-df-quickchart {\n",
              "      --bg-color: #3B4455;\n",
              "      --fill-color: #D2E3FC;\n",
              "      --hover-bg-color: #434B5C;\n",
              "      --hover-fill-color: #FFFFFF;\n",
              "      --disabled-bg-color: #3B4455;\n",
              "      --disabled-fill-color: #666;\n",
              "  }\n",
              "\n",
              "  .colab-df-quickchart {\n",
              "    background-color: var(--bg-color);\n",
              "    border: none;\n",
              "    border-radius: 50%;\n",
              "    cursor: pointer;\n",
              "    display: none;\n",
              "    fill: var(--fill-color);\n",
              "    height: 32px;\n",
              "    padding: 0;\n",
              "    width: 32px;\n",
              "  }\n",
              "\n",
              "  .colab-df-quickchart:hover {\n",
              "    background-color: var(--hover-bg-color);\n",
              "    box-shadow: 0 1px 2px rgba(60, 64, 67, 0.3), 0 1px 3px 1px rgba(60, 64, 67, 0.15);\n",
              "    fill: var(--button-hover-fill-color);\n",
              "  }\n",
              "\n",
              "  .colab-df-quickchart-complete:disabled,\n",
              "  .colab-df-quickchart-complete:disabled:hover {\n",
              "    background-color: var(--disabled-bg-color);\n",
              "    fill: var(--disabled-fill-color);\n",
              "    box-shadow: none;\n",
              "  }\n",
              "\n",
              "  .colab-df-spinner {\n",
              "    border: 2px solid var(--fill-color);\n",
              "    border-color: transparent;\n",
              "    border-bottom-color: var(--fill-color);\n",
              "    animation:\n",
              "      spin 1s steps(1) infinite;\n",
              "  }\n",
              "\n",
              "  @keyframes spin {\n",
              "    0% {\n",
              "      border-color: transparent;\n",
              "      border-bottom-color: var(--fill-color);\n",
              "      border-left-color: var(--fill-color);\n",
              "    }\n",
              "    20% {\n",
              "      border-color: transparent;\n",
              "      border-left-color: var(--fill-color);\n",
              "      border-top-color: var(--fill-color);\n",
              "    }\n",
              "    30% {\n",
              "      border-color: transparent;\n",
              "      border-left-color: var(--fill-color);\n",
              "      border-top-color: var(--fill-color);\n",
              "      border-right-color: var(--fill-color);\n",
              "    }\n",
              "    40% {\n",
              "      border-color: transparent;\n",
              "      border-right-color: var(--fill-color);\n",
              "      border-top-color: var(--fill-color);\n",
              "    }\n",
              "    60% {\n",
              "      border-color: transparent;\n",
              "      border-right-color: var(--fill-color);\n",
              "    }\n",
              "    80% {\n",
              "      border-color: transparent;\n",
              "      border-right-color: var(--fill-color);\n",
              "      border-bottom-color: var(--fill-color);\n",
              "    }\n",
              "    90% {\n",
              "      border-color: transparent;\n",
              "      border-bottom-color: var(--fill-color);\n",
              "    }\n",
              "  }\n",
              "</style>\n",
              "\n",
              "  <script>\n",
              "    async function quickchart(key) {\n",
              "      const quickchartButtonEl =\n",
              "        document.querySelector('#' + key + ' button');\n",
              "      quickchartButtonEl.disabled = true;  // To prevent multiple clicks.\n",
              "      quickchartButtonEl.classList.add('colab-df-spinner');\n",
              "      try {\n",
              "        const charts = await google.colab.kernel.invokeFunction(\n",
              "            'suggestCharts', [key], {});\n",
              "      } catch (error) {\n",
              "        console.error('Error during call to suggestCharts:', error);\n",
              "      }\n",
              "      quickchartButtonEl.classList.remove('colab-df-spinner');\n",
              "      quickchartButtonEl.classList.add('colab-df-quickchart-complete');\n",
              "    }\n",
              "    (() => {\n",
              "      let quickchartButtonEl =\n",
              "        document.querySelector('#df-b019d1b9-52e3-4fc6-9230-05debf010e97 button');\n",
              "      quickchartButtonEl.style.display =\n",
              "        google.colab.kernel.accessAllowed ? 'block' : 'none';\n",
              "    })();\n",
              "  </script>\n",
              "</div>\n",
              "\n",
              "    </div>\n",
              "  </div>\n"
            ],
            "application/vnd.google.colaboratory.intrinsic+json": {
              "type": "dataframe",
              "summary": "{\n  \"name\": \"df\",\n  \"rows\": 3,\n  \"fields\": [\n    {\n      \"column\": \"statement\",\n      \"properties\": {\n        \"dtype\": \"string\",\n        \"num_unique_values\": 3,\n        \"samples\": [\n          \"i miss her so much we hurt each other but she really fucked me up smoking a pack a day eating pills more than food i am lost and there is no one to find me what am i looking for an end i tried to find it multiple times and it never worked my entire life has been filled with heartache death and all sorts of fucked up shit i feel like this ends with me i always told myself my resilience came from carrying my two brothers in my heart so they could live on through my memories if i die 3 people die it will not be a suicide it will be me killing their memories and myself i do not even want help i want to find peace i miss her so much i hate that she was the remedy because that was way too much pressure to place on her i never told her that she was the cure she knew it i am sure i hate how we ended things and i cannot reach out to her now even if i wanted she will never come to look because i am the last thing she wants to see but as you know annie i am just a kid from queens and nothing do not mean shit to meloverazor blade salvation r tonights unbearable annie\",\n          \"hi just wondering if anyone can relate to this sorry i made this long i tend to have little or no anxiety in social situations when they are currently happening its after the eventconversation has passed that i began to analyze the things i saiddid and the reactions of other people i do not have this problem too badly with strangers or people i see regularly and am used to\",\n          \"i love niki\"\n        ],\n        \"semantic_type\": \"\",\n        \"description\": \"\"\n      }\n    },\n    {\n      \"column\": \"status\",\n      \"properties\": {\n        \"dtype\": \"string\",\n        \"num_unique_values\": 3,\n        \"samples\": [\n          \"Depression\",\n          \"Stress\",\n          \"Normal\"\n        ],\n        \"semantic_type\": \"\",\n        \"description\": \"\"\n      }\n    },\n    {\n      \"column\": \"statemnent_length\",\n      \"properties\": {\n        \"dtype\": \"number\",\n        \"std\": 552,\n        \"min\": 12,\n        \"max\": 1099,\n        \"num_unique_values\": 3,\n        \"samples\": [\n          1099,\n          388,\n          12\n        ],\n        \"semantic_type\": \"\",\n        \"description\": \"\"\n      }\n    },\n    {\n      \"column\": \"num_of_words\",\n      \"properties\": {\n        \"dtype\": \"number\",\n        \"std\": 116,\n        \"min\": 3,\n        \"max\": 230,\n        \"num_unique_values\": 3,\n        \"samples\": [\n          230,\n          69,\n          3\n        ],\n        \"semantic_type\": \"\",\n        \"description\": \"\"\n      }\n    },\n    {\n      \"column\": \"num_of_sentences\",\n      \"properties\": {\n        \"dtype\": \"number\",\n        \"std\": 9,\n        \"min\": 1,\n        \"max\": 19,\n        \"num_unique_values\": 3,\n        \"samples\": [\n          19,\n          5,\n          1\n        ],\n        \"semantic_type\": \"\",\n        \"description\": \"\"\n      }\n    },\n    {\n      \"column\": \"statement_with_emojis\",\n      \"properties\": {\n        \"dtype\": \"string\",\n        \"num_unique_values\": 3,\n        \"samples\": [\n          \"i miss her so much we hurt each other but she really fucked me up smoking a pack a day eating pills more than food i am lost and there is no one to find me what am i looking for an end i tried to find it multiple times and it never worked my entire life has been filled with heartache death and all sorts of fucked up shit i feel like this ends with me i always told myself my resilience came from carrying my two brothers in my heart so they could live on through my memories if i die 3 people die it will not be a suicide it will be me killing their memories and myself i do not even want help i want to find peace i miss her so much i hate that she was the remedy because that was way too much pressure to place on her i never told her that she was the cure she knew it i am sure i hate how we ended things and i cannot reach out to her now even if i wanted she will never come to look because i am the last thing she wants to see but as you know annie i am just a kid from queens and nothing do not mean shit to meloverazor blade salvation r tonights unbearable annie\",\n          \"hi just wondering if anyone can relate to this sorry i made this long i tend to have little or no anxiety in social situations when they are currently happening its after the eventconversation has passed that i began to analyze the things i saiddid and the reactions of other people i dont have this problem too badly with strangers or people i see regularly and am used to\",\n          \"i love niki\"\n        ],\n        \"semantic_type\": \"\",\n        \"description\": \"\"\n      }\n    },\n    {\n      \"column\": \"tokens\",\n      \"properties\": {\n        \"dtype\": \"string\",\n        \"num_unique_values\": 3,\n        \"samples\": [\n          \"['i', 'miss', 'her', 'so', 'much', 'we', 'hurt', 'each', 'other', 'but', 'she', 'really', 'fucked', 'me', 'up', 'smoking', 'a', 'pack', 'a', 'day', 'eating', 'pills', 'more', 'than', 'food', 'i', 'am', 'lost', 'and', 'there', 'is', 'no', 'one', 'to', 'find', 'me', 'what', 'am', 'i', 'looking', 'for', 'an', 'end', 'i', 'tried', 'to', 'find', 'it', 'multiple', 'times', 'and', 'it', 'never', 'worked', 'my', 'entire', 'life', 'has', 'been', 'filled', 'with', 'heartache', 'death', 'and', 'all', 'sorts', 'of', 'fucked', 'up', 'shit', 'i', 'feel', 'like', 'this', 'ends', 'with', 'me', 'i', 'always', 'told', 'myself', 'my', 'resilience', 'came', 'from', 'carrying', 'my', 'two', 'brothers', 'in', 'my', 'heart', 'so', 'they', 'could', 'live', 'on', 'through', 'my', 'memories', 'if', 'i', 'die', '3', 'people', 'die', 'it', 'will', 'not', 'be', 'a', 'suicide', 'it', 'will', 'be', 'me', 'killing', 'their', 'memories', 'and', 'myself', 'i', 'do', 'not', 'even', 'want', 'help', 'i', 'want', 'to', 'find', 'peace', 'i', 'miss', 'her', 'so', 'much', 'i', 'hate', 'that', 'she', 'was', 'the', 'remedy', 'because', 'that', 'was', 'way', 'too', 'much', 'pressure', 'to', 'place', 'on', 'her', 'i', 'never', 'told', 'her', 'that', 'she', 'was', 'the', 'cure', 'she', 'knew', 'it', 'i', 'am', 'sure', 'i', 'hate', 'how', 'we', 'ended', 'things', 'and', 'i', 'can', 'not', 'reach', 'out', 'to', 'her', 'now', 'even', 'if', 'i', 'wanted', 'she', 'will', 'never', 'come', 'to', 'look', 'because', 'i', 'am', 'the', 'last', 'thing', 'she', 'wants', 'to', 'see', 'but', 'as', 'you', 'know', 'annie', 'i', 'am', 'just', 'a', 'kid', 'from', 'queens', 'and', 'nothing', 'do', 'not', 'mean', 'shit', 'to', 'meloverazor', 'blade', 'salvation', 'r', 'tonights', 'unbearable', 'annie']\",\n          \"['hi', 'just', 'wondering', 'if', 'anyone', 'can', 'relate', 'to', 'this', 'sorry', 'i', 'made', 'this', 'long', 'i', 'tend', 'to', 'have', 'little', 'or', 'no', 'anxiety', 'in', 'social', 'situations', 'when', 'they', 'are', 'currently', 'happening', 'its', 'after', 'the', 'eventconversation', 'has', 'passed', 'that', 'i', 'began', 'to', 'analyze', 'the', 'things', 'i', 'saiddid', 'and', 'the', 'reactions', 'of', 'other', 'people', 'i', 'do', 'not', 'have', 'this', 'problem', 'too', 'badly', 'with', 'strangers', 'or', 'people', 'i', 'see', 'regularly', 'and', 'am', 'used', 'to']\",\n          \"['i', 'love', 'niki']\"\n        ],\n        \"semantic_type\": \"\",\n        \"description\": \"\"\n      }\n    },\n    {\n      \"column\": \"tokens_stemmed\",\n      \"properties\": {\n        \"dtype\": \"string\",\n        \"num_unique_values\": 3,\n        \"samples\": [\n          \"i miss her so much we hurt each other but she realli fuck me up smoke a pack a day eat pill more than food i am lost and there is no one to find me what am i look for an end i tri to find it multipl time and it never work my entir life has been fill with heartach death and all sort of fuck up shit i feel like this end with me i alway told myself my resili came from carri my two brother in my heart so they could live on through my memori if i die 3 peopl die it will not be a suicid it will be me kill their memori and myself i do not even want help i want to find peac i miss her so much i hate that she was the remedi becaus that was way too much pressur to place on her i never told her that she was the cure she knew it i am sure i hate how we end thing and i can not reach out to her now even if i want she will never come to look becaus i am the last thing she want to see but as you know anni i am just a kid from queen and noth do not mean shit to meloverazor blade salvat r tonight unbear anni\",\n          \"hi just wonder if anyon can relat to this sorri i made this long i tend to have littl or no anxieti in social situat when they are current happen it after the eventconvers has pass that i began to analyz the thing i saiddid and the reaction of other peopl i do not have this problem too bad with stranger or peopl i see regular and am use to\",\n          \"i love niki\"\n        ],\n        \"semantic_type\": \"\",\n        \"description\": \"\"\n      }\n    },\n    {\n      \"column\": \"tokens_verbs\",\n      \"properties\": {\n        \"dtype\": \"string\",\n        \"num_unique_values\": 3,\n        \"samples\": [\n          \"miss hurt fucked smoking eating am lost is find am looking tried find worked has been filled fucked feel ends i told came carrying live die die be be killing do want i want find miss hate was was told was knew i am hate ended reach wanted come look am wants see know am do mean meloverazor\",\n          \"wondering relate made tend have are happening has passed began analyze i do have i see am used\",\n          \"love\"\n        ],\n        \"semantic_type\": \"\",\n        \"description\": \"\"\n      }\n    },\n    {\n      \"column\": \"tokens_nouns\",\n      \"properties\": {\n        \"dtype\": \"string\",\n        \"num_unique_values\": 3,\n        \"samples\": [\n          \"i pack day pills food i one end i times life heartache death sorts shit i resilience brothers heart memories people suicide memories help peace i i remedy way pressure place i cure things i i i thing kid queens nothing shit salvation r tonights annie\",\n          \"hi anyone sorry i i anxiety situations eventconversation i things saiddid reactions people i problem strangers people\",\n          \"i niki\"\n        ],\n        \"semantic_type\": \"\",\n        \"description\": \"\"\n      }\n    },\n    {\n      \"column\": \"tokens_adj\",\n      \"properties\": {\n        \"dtype\": \"string\",\n        \"num_unique_values\": 3,\n        \"samples\": [\n          \"much other i multiple entire i much much sure i last i blade unbearable\",\n          \"long little social other\",\n          \"\"\n        ],\n        \"semantic_type\": \"\",\n        \"description\": \"\"\n      }\n    },\n    {\n      \"column\": \"important_words\",\n      \"properties\": {\n        \"dtype\": \"string\",\n        \"num_unique_values\": 3,\n        \"samples\": [\n          \"if way ends food filled to was looking it find and tonights will cure we fucked smoking place ended as heart so am other do out thing nothing miss times came from because death end pills what through i people for like know too is live more eating always but can die feel just up pressure shit not worked brothers hurt than on me queens myself reach a remedy life in of could much sure hate tried kid things now with killing pack peace that mean annie this resilience her suicide come last the carrying how look see my memories entire help really knew meloverazor never wants day even you multiple be they told unbearable wanted she want\",\n          \"not this its long used happening problem if i situations analyze have has see people anxiety social relate little passed to tend in when too and of hi wondering made currently regularly are strangers badly sorry can other do eventconversation just they after began things anyone saiddid with that\",\n          \"love niki i\"\n        ],\n        \"semantic_type\": \"\",\n        \"description\": \"\"\n      }\n    },\n    {\n      \"column\": \"sentiment_scores\",\n      \"properties\": {\n        \"dtype\": \"string\",\n        \"num_unique_values\": 3,\n        \"samples\": [\n          \"[0, 0, -0.0625, 0, 0, 0, 0, 0.0, -0.0625, 0.0, 0.0, 0, 0, 0, 0, -0.05, 0.075, 0.0, 0, 0, 0, 0, 0.0, 0.0, 0, 0, 0, 0, 0.0, 0.0, 0.0, -0.05, 0, 0, 0, 0, 0.0, 0.075, 0, 0, 0, 0, -0.05, 0.0, 0.0, 0.0, 0, 0, 0, 0, 0.075, -0.017857142857142856, 0.0, -0.05, 0, 0, 0, 0, 0.0, 0.0, -0.05, 0.075, 0.0, 0, 0, 0, 0, 0.0, 0.0, 0.0, 0, 0, 0, 0, 0.0, -0.05, 0.075, 0, 0, 0, 0, 0.0, 0.075, -0.017857142857142856, 0.0, 0.0, 0.0, 0, 0, 0, 0, 0.0, 0.0, 0.0, 0.0, 0.075, -0.03125, 0, 0, 0, 0, 0.0, 0.075, 0, 0, 0, 0, 0.0, 0.0, 0, 0, 0, 0, 0.0, 0.0, 0.0, 0.0, -0.0625, 0.0, 0.0, 0, 0, 0, 0, -0.017857142857142856, 0, 0, 0, 0, 0.0, -0.017857142857142856, 0.0, 0.0, 0, 0, 0, 0, -0.017857142857142856, 0, 0, 0, 0, -0.03125, -0.017857142857142856, 0.0, 0, 0, 0, 0, 0.075, -0.017857142857142856, 0.0, -0.0625, 0.0, 0.0, 0, 0, 0, 0, 0.0, -0.0625, 0.0, 0.0, 0.0, 0, 0, 0, 0, 0.0, 0.0, 0.0, 0.075, 0, 0, 0, 0, 0.0, -0.05, -0.017857142857142856, 0.0, 0, 0, 0, 0, 0.0, 0.0, 0.0, -0.03125, 0, 0, 0, 0, -0.0625, 0, 0, 0, 0, -0.017857142857142856, 0.0, 0, 0, 0, 0, 0.0, 0.0, 0.0, 0.0, 0, 0, 0, 0, -0.017857142857142856, 0.0, -0.03125, 0, 0, 0, 0, 0.0, -0.05, 0.075, 0.0, 0.075, 0, 0, 0, 0, -0.0625, 0.0, 0, 0, 0, 0, 0.0, 0.0, 0, 0, 0, 0, 0.0, 0.0, 0.075, 0, 0, 0, 0, 0.0, 0.0, 0, 0, 0, 0, 0.0, -0.0625, 0.0, -0.03125, 0, 0, 0, 0, 0.0, 0.075, 0, 0, 0, 0, 0.0, -0.05, -0.017857142857142856, 0.0, 0, 0, 0, 0, -0.017857142857142856, 0.0, 0, 0, 0, 0, -0.0625, 0, 0, 0, 0, 0.0, 0.0, 0.0, 0.0, -0.0625, 0.0, 0.0, 0, 0, 0, 0, 0.0, 0.0, 0.0, 0, 0, 0, 0, -0.017857142857142856, 0.0, 0, 0, 0, 0, 0.075, 0.0, -0.03125, 0, 0, 0, 0, -0.0625, 0, 0, 0, 0, 0.0, 0.0, -0.0625, 0.075, -0.03125, 0, 0, 0, 0, 0.0, 0.0, 0, 0, 0, 0, 0.0, -0.0625, 0.0, -0.03125, 0, 0, 0, 0, -0.0625, 0.0, 0, 0, 0, 0, 0.0, 0.0, 0.0, 0.0, -0.0625, 0.0, 0.0, 0.075, 0, 0, 0, 0, 0.0, -0.0625, 0.0, 0.075, 0.0, 0, 0, 0, 0, -0.017857142857142856, 0.0, -0.03125, 0, 0, 0, 0, -0.0625, 0.0, 0, 0, 0, 0, 0.0, 0.075, 0.0, 0.075, 0.0, 0, 0, 0, 0, 0.0, 0.0, 0.0, 0.0, 0.075, -0.03125, 0, 0, 0, 0, 0.0, 0.0, 0, 0, 0, 0, 0.075, 0.0, 0.0, -0.0625, 0.0, 0.075, 0, 0, 0, 0, 0.0, -0.0625, 0.0, 0.075, 0, 0, 0, 0, -0.05, -0.017857142857142856, 0.0, 0, 0, 0, 0, 0.0, 0.075, 0.075, 0.0, 0, 0, 0, 0, 0.0, -0.0625, 0.0, 0.0, 0.075, -0.03125, 0, 0, 0, 0, 0.0, -0.0625, 0.0, -0.05, 0, 0, 0, 0, -0.05, 0.075, -0.017857142857142856, 0.0, 0.0, -0.017857142857142856, 0.0, -0.05, 0.075, 0, 0, 0, 0, -0.03125, 0.075, -0.017857142857142856, 0.0, -0.05, 0, 0, 0, 0, -0.017857142857142856, 0.0, -0.03125, 0, 0, 0, 0, -0.017857142857142856, 0.0, 0.0, 0, 0, 0, 0, 0.0, 0.0, 0.0, 0.0, 0.0, 0, 0, 0, 0, 0.0, 0.0, 0, 0, 0, 0, 0.0, 0.0, 0.0, 0.0, 0.075, -0.03125, 0, 0, 0, 0, 0.0, 0.0, 0, 0, 0, 0, 0.0, -0.05, -0.0625, 0.0, 0, 0, 0, 0, -0.0625, 0, 0, 0, 0, 0.0, 0.075, 0.075, 0.0, 0, 0, 0, 0, 0.0, -0.0625, 0.0, 0.075, 0, 0, 0, 0, 0.0, -0.05, -0.0625, 0.0, 0, 0, 0, 0, 0.075, 0.0, -0.03125, 0.0, 0, 0, 0, 0, 0.0, -0.0625, 0.0, -0.05, 0, 0, 0, 0, 0.0, 0.075, 0, 0, 0, 0, -0.0625, 0, 0, 0, 0, -0.017857142857142856, 0.0, 0.0, -0.017857142857142856, 0.0, 0.0, 0, 0, 0, 0, 0.0, 0.0, 0.0, -0.03125, 0, 0, 0, 0, 0.0, 0.0, 0.0, 0.075, 0.0, 0.0, 0, 0, 0, 0, 0.0, 0.0, 0, 0, 0, 0, 0.0, 0.075, 0.0, -0.0625, 0.0, -0.0625, 0.075, 0.0, 0.0, 0.075, 0, 0, 0, 0, 0.0, -0.017857142857142856, 0.0, 0.075, 0, 0, 0, 0, 0.0, 0.0, 0.0, 0.0, 0, 0, 0, 0, 0.0, -0.017857142857142856, 0.0, 0.0, 0.0, -0.0625, 0.0, 0.0, 0, 0, 0, 0, 0.0, 0.0, 0, 0, 0, 0, 0.0, 0.0, 0.0, 0, 0, 0, 0, 0.0, 0.0, 0.0, 0.0, -0.05, 0.075, 0.0, 0.0, 0, 0, 0, 0, -0.0625, 0.0, 0, 0, 0, 0, 0.0, 0.0, 0, 0, 0, 0, -0.05, 0.075, -0.017857142857142856, 0.0, 0.0, 0, 0, 0, 0, 0.0, 0.0, 0, 0, 0, 0, 0.0, -0.05, 0.075, 0.0, 0, 0, 0, 0, 0.0, 0.0, 0.0, 0.0, -0.03125, 0, 0, 0, 0, 0.0, -0.0625, 0.0, 0.075, 0, 0, 0, 0, 0.0, 0.0, 0, 0, 0, 0, 0.0, -0.05, 0.0, 0.0, 0.0, 0.0, -0.05, 0, 0, 0, 0, 0.0, 0.0, 0, 0, 0, 0, 0.0, 0.075, 0.0, 0.0, 0.0, -0.0625, 0.075, 0.0, 0, 0, 0, 0, -0.0625, 0.0, 0, 0, 0, 0, -0.0625, 0, 0, 0, 0, -0.03125, -0.0625, 0.075, 0, 0, 0, 0, 0.0, 0, 0, 0, 0, 0.0, 0.075, 0.0, 0.0, 0.0, 0.075, 0, 0, 0, 0, -0.03125, -0.0625, 0.075, 0, 0, 0, 0, -0.0625, 0.0, 0, 0, 0, 0, 0.0, -0.0625, 0.0, 0.0, 0, 0, 0, 0, 0.0, 0.0, 0.0, 0, 0, 0, 0, 0.0, 0.075, 0, 0, 0, 0, -0.017857142857142856, 0, 0, 0, 0, 0.0, 0.0, -0.0625, 0.0, -0.0625, -0.03125, 0.075, 0, 0, 0, 0, -0.0625, 0.0, 0, 0, 0, 0, 0.0, -0.0625, 0.0, 0.0, 0, 0, 0, 0, 0.0, 0.075, 0, 0, 0, 0, 0.0, 0.075, 0, 0, 0, 0, 0.0, -0.0625, 0.0, 0.0, -0.0625, 0.0, 0.0, 0, 0, 0, 0, 0.0, -0.05, 0.075, -0.0625, 0.0, 0, 0, 0, 0, 0.0, 0.075, 0.0, 0.0, 0.0, -0.0625, 0.075, 0.0, 0, 0, 0, 0, -0.017857142857142856, 0.0, -0.03125, 0, 0, 0, 0, 0.0, 0.0, 0.0, 0.075, 0.0, 0.0, 0, 0, 0, 0, -0.0625, 0, 0, 0, 0, -0.03125, 0.0, 0, 0, 0, 0, 0.0, 0.0, 0.0, 0, 0, 0, 0, 0.075, 0.0, 0.075, 0.0, 0, 0, 0, 0, 0.0, -0.017857142857142856, 0.0, 0.0, 0, 0, 0, 0, -0.05, 0.075, 0.0, 0.0, 0, 0, 0, 0, -0.0625, 0, 0, 0, 0, 0.0, -0.017857142857142856, 0.0, 0.0, 0, 0, 0, 0, 0.0, 0.0, 0, 0, 0, 0, 0.0, -0.0625, 0.0, -0.03125, 0, 0, 0, 0, 0.0, 0.075, -0.017857142857142856, 0.0, 0.075, 0, 0, 0, 0, -0.0625, 0, 0, 0, 0, 0.0, -0.0625, 0.0, 0.0, 0, 0, 0, 0, -0.05, 0.075, 0.0, 0, 0, 0, 0, 0.0, 0.0, 0, 0, 0, 0, 0.0, 0.0, 0.0, -0.05, 0, 0, 0, 0, -0.0625, 0, 0, 0, 0, -0.05, -0.017857142857142856, 0.0, 0.075, 0, 0, 0, 0, 0.0, -0.05, -0.017857142857142856, 0.0, 0, 0, 0, 0, 0.0, -0.05, 0.075, 0, 0, 0, 0, 0.0, -0.017857142857142856, 0.0, 0, 0, 0, 0, 0.0, -0.05, 0.075, 0, 0, 0, 0, 0.0, 0.075, 0.0, 0.075, -0.03125, 0.0, 0, 0, 0, 0, 0.0, 0.075, 0.0, -0.017857142857142856, 0.0, 0.0, 0.075, 0, 0, 0, 0, 0.0, -0.05, -0.017857142857142856, 0.0, 0, 0, 0, 0, 0.0, -0.017857142857142856, 0.0, 0, 0, 0, 0, 0.0, -0.017857142857142856, 0.0, 0, 0, 0, 0, 0.0, 0.0, 0.0, 0, 0, 0, 0, 0.0, 0.0, 0.0, -0.05, 0, 0, 0, 0, 0.0, 0.0, 0.075, 0.0, 0.0, 0.0, 0.0, 0.075, 0, 0, 0, 0, 0.0, 0.0, 0, 0, 0, 0, 0.0, 0.0, -0.017857142857142856, 0.0, 0.075, 0, 0, 0, 0, 0.0, 0.0, 0, 0, 0, 0, -0.05, 0.075, 0.0, 0, 0, 0, 0, -0.0625, 0, 0, 0, 0, 0.0, 0.075, 0.0, 0.075, 0.0, 0, 0, 0, 0, 0.0, 0.0, 0.0, -0.03125, 0, 0, 0, 0, -0.05, 0.075, 0.0, 0, 0, 0, 0, 0.0, -0.05, -0.017857142857142856, 0.0, 0, 0, 0, 0, 0.0, -0.05, 0.075, 0, 0, 0, 0, 0.0, -0.017857142857142856, 0.0, 0, 0, 0, 0, 0.0, -0.05, 0.075, 0, 0, 0, 0, 0.0, 0.0, 0.0, 0.075, 0, 0, 0, 0, 0.0, -0.05, 0.075, 0, 0, 0, 0, 0.0, 0.0, 0.075, 0.0, 0, 0, 0, 0, -0.0625, 0.0, 0, 0, 0, 0, -0.0625, 0, 0, 0, 0, -0.017857142857142856, 0.0, 0, 0, 0, 0, 0.0, 0.0, 0.0, 0.075, 0, 0, 0, 0, -0.0625, 0, 0, 0, 0, -0.05, -0.017857142857142856, 0.0, 0.075, 0, 0, 0, 0, -0.05, 0.0, 0.0, 0, 0, 0, 0, 0.0, 0.075, 0, 0, 0, 0, 0.075, 0.0, -0.03125, 0.075, -0.03125, 0, 0, 0, 0, 0.0, -0.05, -0.0625, 0.0, 0.0, 0.0, 0, 0, 0, 0, -0.017857142857142856, 0.0, -0.03125, 0, 0, 0, 0, -0.0625, 0, 0, 0, 0, 0.0, -0.017857142857142856, 0.0, 0, 0, 0, 0, 0.0, 0.0, 0.0, 0, 0, 0, 0, 0.0, 0.075, -0.017857142857142856, 0.0, -0.05, 0, 0, 0, 0, 0.0, 0.0, 0.0, 0, 0, 0, 0, 0.0, 0.0, 0, 0, 0, 0, -0.05, 0.075, 0.0, 0, 0, 0, 0, 0.0, 0.0, 0.0, 0, 0, 0, 0, 0.075, 0.0, 0.075, 0.0, 0, 0, 0, 0, -0.0625, 0.0, 0, 0, 0, 0, -0.0625, 0, 0, 0, 0, 0.0, -0.017857142857142856, 0.0, 0.0, 0.075, -0.03125, 0, 0, 0, 0, 0.0, -0.05, 0.075, 0, 0, 0, 0, 0.0, -0.0625, 0.0, 0.0, 0, 0, 0, 0, 0.0, 0.075, 0.0, 0.075, 0.0, 0, 0, 0, 0, 0.0, 0.0, 0.0, 0.075, 0, 0, 0, 0, 0.0, 0.0, 0, 0, 0, 0, 0.0, 0.0, 0.0, 0.0, 0, 0, 0, 0, 0.0, 0.075, 0.0, -0.017857142857142856, 0.0, 0.0, 0.075, 0, 0, 0, 0, -0.0625, 0, 0, 0, 0, -0.017857142857142856, 0.0, 0, 0, 0, 0, 0.0, -0.05, 0.075, 0, 0, 0, 0, 0.0, -0.017857142857142856, 0.0, 0.0, 0, 0, 0, 0, 0.0, -0.05, -0.0625, 0.0, 0.0, 0, 0, 0, 0, 0.0, -0.05, 0.075, 0, 0, 0, 0, 0.0, -0.017857142857142856, 0.0, 0.0, 0.0, 0, 0, 0, 0, 0.0, 0.0, 0, 0, 0, 0, 0.0, 0.075, 0.075, 0, 0, 0, 0, 0.0, 0.0, 0.0, 0, 0, 0, 0, -0.017857142857142856, 0.0, 0, 0, 0, 0, 0.0, 0.0, 0.0, 0, 0, 0, 0, 0.0, 0.0, 0.0, 0.0, 0, 0, 0, 0, -0.017857142857142856, 0.0, 0.0, -0.0625, 0.075, 0, 0, 0, 0, -0.0625, 0, 0, 0, 0, -0.017857142857142856, 0.0, 0, 0, 0, 0, 0.0, 0.0, 0.0, 0.0, 0, 0, 0, 0, -0.017857142857142856, 0, 0, 0, 0, 0.0, -0.0625, -0.03125, 0, 0, 0, 0, 0.0, 0.0, 0.0, 0.0, 0, 0, 0, 0, 0.0, 0.0, 0.075, 0.075, 0.0, 0.0, 0, 0, 0, 0, -0.017857142857142856, 0.0, -0.03125, 0, 0, 0, 0, 0.0, 0.0, 0.0, -0.05, -0.0625, 0.0, 0.0, 0, 0, 0, 0, -0.03125, 0.0, 0, 0, 0, 0, 0.0, 0.0, 0.0, 0, 0, 0, 0, 0.0, 0.075, -0.017857142857142856, 0.0, 0, 0, 0, 0, 0.0, -0.05, -0.0625, 0.0, 0, 0, 0, 0, 0.0, 0.0, 0, 0, 0, 0, 0.0, 0.075, 0.0, 0.0, 0.0, 0.075, 0.0, -0.017857142857142856, 0.0, 0.0, 0.0, 0, 0, 0, 0, 0.0, 0.0, -0.017857142857142856, -0.03125, 0.075, 0, 0, 0, 0, 0.0, -0.017857142857142856, 0.0, 0.0, -0.017857142857142856, 0.0, -0.0625, 0.0, 0.0, 0, 0, 0, 0, 0.0, 0, 0, 0, 0, 0.0, 0.0, 0.0, -0.0625, 0.0, -0.05, 0.0, 0.0, 0, 0, 0, 0, 0.0, 0.0, 0.0, 0.075, -0.017857142857142856, 0.0, -0.017857142857142856, 0.0, 0.0, 0.075, 0, 0, 0, 0, -0.017857142857142856, 0.0, 0.0, -0.0625, 0.075, 0, 0]\",\n          \"[0, 0, -0.05, -0.0625, 0, 0, 0, 0, 0.0, 0.0, 0.0, 0.0, 0, 0, 0, 0, 0.0, 0.0, 0.0, -0.03125, 0.075, 0.0, -0.0625, 0.0, 0.0, 0, 0, 0, 0, -0.0625, 0.0, 0, 0, 0, 0, -0.017857142857142856, 0.0, 0.0, 0.0, 0.0, 0.075, 0, 0, 0, 0, 0.0, -0.017857142857142856, 0.0, 0, 0, 0, 0, 0.0, 0.075, 0.0, -0.017857142857142856, 0.0, 0.075, 0, 0, 0, 0, 0.0, 0.0, 0, 0, 0, 0, 0.0, -0.05, -0.0625, 0.0, 0, 0, 0, 0, 0.0, 0.0, 0.0, 0.0, 0.0, 0, 0, 0, 0, -0.0625, 0, 0, 0, 0, 0.0, -0.017857142857142856, -0.03125, 0.075, 0, 0, 0, 0, 0.0, -0.05, -0.0625, 0.0, 0, 0, 0, 0, 0.0, 0.0, 0.0, 0.0, 0, 0, 0, 0, -0.0625, 0, 0, 0, 0, 0.0, 0.075, 0.0, -0.03125, 0, 0, 0, 0, 0.0, 0.0, 0, 0, 0, 0, -0.05, -0.017857142857142856, 0.0, 0.075, 0, 0, 0, 0, 0.0, -0.0625, 0.0, 0.0, 0.0, 0.075, 0, 0, 0, 0, 0.0, 0.0, 0, 0, 0, 0, 0.0, 0.0, 0, 0, 0, 0, -0.017857142857142856, 0.0, 0.0, -0.0625, 0.075, 0.0, 0.0, 0, 0, 0, 0, -0.0625, 0.0, 0, 0, 0, 0, 0.0, 0.0, 0.0, -0.0625, -0.017857142857142856, 0.0, 0, 0, 0, 0, 0.0, -0.0625, 0.0, 0.0, -0.017857142857142856, 0.0, -0.0625, 0.0, 0.0, 0.0, 0, 0, 0, 0, 0.0, -0.05, 0.075, 0.0, 0, 0, 0, 0, 0.0, -0.05, 0.075, 0.0, 0, 0, 0, 0, -0.017857142857142856, 0.0, 0.075, 0, 0, 0, 0, 0.0, 0.0, 0.0, 0.0, 0.075, 0.0, 0.0, 0.0, 0.0, 0, 0, 0, 0, -0.05, -0.017857142857142856, 0.0, 0.0, 0.075, 0.0, -0.0625, 0.0, 0.0, 0, 0, 0, 0, -0.0625, 0.0, 0.0, 0, 0, 0, 0, -0.017857142857142856, 0.0, 0.0, 0.075, 0.0, 0, 0, 0, 0, 0.0, -0.05, 0.075, 0, 0, 0, 0, 0.075, 0.0, 0.075, 0.0, 0.0, 0.0, 0.0, 0.0, 0.0, 0.075, 0.0, 0.0, -0.017857142857142856, 0.0, -0.0625, 0.0, 0.0, 0, 0, 0, 0, -0.05, -0.017857142857142856, 0.0, 0, 0, 0, 0, 0.0, -0.017857142857142856, 0.0, 0.0, 0.075, -0.03125, 0, 0, 0, 0, 0.0, -0.05, -0.017857142857142856, 0.0, 0, 0, 0, 0, -0.0625, 0, 0, 0, 0, 0.0, 0.075, 0.0, -0.017857142857142856, 0.0, 0, 0, 0, 0, 0.0, 0.0, 0, 0, 0, 0, -0.017857142857142856, 0.0, -0.017857142857142856, 0.0, 0.0, 0.0, 0.075, 0, 0, 0, 0, 0.0, -0.05, 0.075, 0, 0, 0, 0, 0.0, -0.05, -0.0625, 0.0, 0.0, 0.0, 0, 0, 0, 0, -0.0625, 0, 0, 0, 0, 0.0, -0.017857142857142856, -0.0625, -0.03125, -0.03125, -0.0625, -0.03125, 0, 0, 0, 0, -0.017857142857142856, 0.0, -0.03125, 0, 0, 0, 0, 0.0, -0.05, 0.075, 0, 0, 0, 0, 0.0, 0.075, -0.017857142857142856, 0.0, 0.0, -0.0625, 0.0, 0.0, 0.0, 0, 0, 0, 0, 0.0, 0.0, 0, 0, 0, 0, 0.0, 0.0, -0.05, 0.075, 0.0, 0, 0, 0, 0, 0.0, 0.075, 0.0, 0.0, 0.0, 0.075, 0, 0, 0, 0, -0.0625, 0, 0, 0, 0, -0.03125, 0.0, 0, 0, 0, 0, 0.0, 0.0, 0.0, 0, 0, 0, 0, -0.05, -0.017857142857142856, 0.0, 0.075, 0, 0, 0, 0, 0.0, -0.05, -0.0625, 0.0, 0, 0, 0, 0, 0.0, 0.0, 0.0, 0.0, 0.0, 0.075, 0.0, 0, 0, 0, 0, 0.0, 0.0, 0.0, 0, 0, 0, 0, 0.0, -0.017857142857142856, -0.03125, 0.0, 0.0, 0, 0, 0, 0, 0.0, -0.0625, 0.0, -0.05, 0, 0, 0, 0, 0.0, 0.0, 0.0, -0.017857142857142856, 0.0, 0.0, 0.075, 0.0, 0.0, 0, 0, 0, 0, 0.0, 0.0, 0, 0, 0, 0, 0.0, 0.075, 0.0, 0.0, 0.0, 0.075, 0, 0, 0, 0, -0.0625, 0, 0, 0, 0, 0.0, 0.075, 0.075, 0, 0, 0, 0, 0.0, 0.075, 0.0, 0.0, 0.0, -0.017857142857142856, 0.0, 0.0, 0.0, 0, 0, 0, 0, -0.017857142857142856, 0.0, -0.03125, 0, 0, 0, 0, -0.017857142857142856, 0.0, 0, 0, 0, 0, 0.0, 0.0, 0.075, -0.03125, 0, 0, 0, 0, 0.0, 0.0, 0, 0]\",\n          \"[0, 0, -0.0625, 0, 0, 0, 0, 0.0, 0.0, 0.0, 0.075, 0, 0, 0, 0, 0.0, -0.0625, 0.0, -0.0625, 0, 0]\"\n        ],\n        \"semantic_type\": \"\",\n        \"description\": \"\"\n      }\n    },\n    {\n      \"column\": \"avg_sentiment\",\n      \"properties\": {\n        \"dtype\": \"number\",\n        \"std\": 0.0027362987014084277,\n        \"min\": -0.0053571428571428,\n        \"max\": -0.0003432899207248,\n        \"num_unique_values\": 3,\n        \"samples\": [\n          -0.0003432899207248,\n          -0.0009507557289127,\n          -0.0053571428571428\n        ],\n        \"semantic_type\": \"\",\n        \"description\": \"\"\n      }\n    },\n    {\n      \"column\": \"max_sentiment\",\n      \"properties\": {\n        \"dtype\": \"number\",\n        \"std\": 0.0,\n        \"min\": 0.075,\n        \"max\": 0.075,\n        \"num_unique_values\": 1,\n        \"samples\": [\n          0.075\n        ],\n        \"semantic_type\": \"\",\n        \"description\": \"\"\n      }\n    },\n    {\n      \"column\": \"min_sentiment\",\n      \"properties\": {\n        \"dtype\": \"number\",\n        \"std\": 0.0,\n        \"min\": -0.0625,\n        \"max\": -0.0625,\n        \"num_unique_values\": 1,\n        \"samples\": [\n          -0.0625\n        ],\n        \"semantic_type\": \"\",\n        \"description\": \"\"\n      }\n    },\n    {\n      \"column\": \"mean_vector\",\n      \"properties\": {\n        \"dtype\": \"string\",\n        \"num_unique_values\": 3,\n        \"samples\": [\n          \"[-1.74650893e-01  1.21741869e-01 -1.44969858e-02  1.38892516e-01\\n -4.50833552e-02  3.06578651e-02 -9.93117616e-02 -4.05951962e-02\\n -3.89460698e-02  2.27622744e-02 -5.78211844e-02 -9.26881135e-02\\n -2.18273506e-01  1.57972593e-02 -1.15465038e-01  9.76448134e-02\\n  1.02311514e-01  1.71922788e-01 -1.49703799e-02  1.57547481e-02\\n -2.62648314e-01 -4.85353284e-02  1.18741162e-01  2.18612067e-02\\n -9.07914191e-02  2.99160611e-02 -2.57264674e-01  5.33254147e-02\\n -2.33337637e-02 -3.54736075e-02 -4.98104468e-03  3.32762152e-02\\n -7.25009143e-02 -9.43411589e-02 -1.36758715e-01  8.96755606e-02\\n -2.30916753e-01  1.12834498e-01 -5.54672964e-02  8.33745748e-02\\n -3.66401337e-02 -4.85233404e-02  6.70786127e-02  9.40444395e-02\\n  6.20944463e-02 -5.02555370e-02 -4.33391929e-02 -1.84945762e-01\\n -1.32749826e-01  7.42076263e-02 -1.69124573e-01  2.39464968e-01\\n -3.27444598e-02  2.35419884e-01  5.50603718e-02  1.43725172e-01\\n -1.62981257e-01 -9.34446678e-02 -2.44884961e-03 -1.72726274e-01\\n -1.31501064e-01 -8.95558894e-02 -1.99071139e-01 -4.67880890e-02\\n -4.83073592e-02 -2.03843325e-01 -1.11498460e-01  1.16837427e-01\\n -6.03332110e-02  4.91045453e-02  1.88215505e-02 -4.90166359e-02\\n  5.18997833e-02  1.38445594e-03 -3.78148146e-02 -2.27354784e-02\\n  1.35708526e-01  1.86956394e-02  6.43909164e-03 -8.79435539e-02\\n -1.36046499e-01 -1.05641745e-02 -3.01178861e-02 -6.24211784e-03\\n  1.27837688e-01  8.58916640e-02  2.34472146e-03  2.09986642e-01\\n  1.33374548e-02  6.00496605e-02  2.10866667e-02  2.40611713e-02\\n -3.71504799e-02 -1.30759090e-01  4.02557813e-02  1.10065155e-01\\n -8.80983695e-02  9.63448957e-02  2.61698067e-01 -2.41748579e-02\\n -8.86525065e-02 -1.06582344e-02 -7.08945692e-02 -4.58100578e-03\\n -6.16465248e-02  1.56361878e-01 -8.22577626e-02  4.67995107e-02\\n  1.01692872e-02  2.23710686e-02 -1.36260822e-01 -1.85360789e-01\\n -2.70855259e-02 -3.35303582e-02  6.57442361e-02  1.63287774e-01\\n  7.52449706e-02 -4.44657169e-02 -2.39597261e-02 -2.63626724e-02\\n  1.15731351e-01  7.47747272e-02 -9.20917839e-03  3.77371199e-02\\n  1.19061649e-01 -1.73640713e-01 -1.09297983e-01 -2.93330736e-02\\n  4.85093147e-02  1.15604289e-01 -8.28663111e-02 -2.26659030e-02\\n -7.52464756e-02 -5.03800176e-02 -1.76969171e-01  8.18969682e-02\\n -4.51128148e-02  3.00357211e-02  2.46208057e-01  1.38553783e-01\\n  1.95114121e-01 -7.15463236e-02  4.31155786e-02 -3.79209295e-02\\n -5.88140711e-02 -9.86725762e-02 -6.90132901e-02  1.57163888e-01\\n -5.36264740e-02  2.98012178e-02  7.24320412e-02 -3.05576324e-01\\n -4.31583785e-02 -3.98757793e-02 -1.09268427e-01 -9.97040197e-02\\n  9.06292349e-02  1.77217260e-01 -3.86370160e-02 -3.50160040e-02\\n  1.78101212e-02  8.95652920e-02 -1.03796590e-02  8.11732281e-03\\n -1.47363422e-02 -4.79299910e-02  1.66268691e-01  2.63208039e-02\\n -1.02544732e-01  1.00313120e-01 -1.23750113e-01 -1.02569461e-01\\n -3.90977189e-02 -6.68560192e-02 -1.18068550e-02  2.21355155e-01\\n  2.69115686e-01 -2.16292918e-01  3.26752774e-02 -9.91579369e-02\\n  5.44615381e-04  2.69070286e-02  2.62527950e-02 -6.31165430e-02\\n -2.95051318e-02  7.45998248e-02 -6.68485388e-02  8.76465216e-02\\n -4.42301966e-02  3.60249728e-02  1.23449303e-01 -4.12585102e-02\\n -2.48850435e-01 -1.21195531e-02  1.30882412e-01  5.12661636e-02\\n -7.25162104e-02 -2.04078760e-02  6.42453954e-02 -9.19654891e-02\\n -1.13155775e-01  1.31897833e-02 -2.00540558e-01 -1.39387369e-01\\n  8.19801688e-02 -8.92077610e-02 -2.88635958e-02  1.05992839e-01\\n -5.02272919e-02  1.64630383e-01  1.47055387e-01  1.00963704e-01\\n -1.56902775e-01 -1.18618179e-02 -8.85559767e-02  4.72720079e-02\\n  1.65963128e-01 -7.24323243e-02 -1.62171826e-01  7.29240850e-03\\n -1.34832069e-01  1.32279873e-01  6.95792958e-02 -1.84667781e-02\\n  1.31041463e-03 -1.05525792e-01  7.36409128e-02  4.78901118e-02\\n -2.21122667e-04 -1.52611673e-01  2.18222626e-02 -5.79120107e-02\\n -8.99548829e-02  1.76760051e-02  3.62121034e-03  2.18953118e-02\\n  4.35126796e-02  1.12658292e-01  9.10776183e-02  9.74269733e-02\\n  9.44186449e-02  8.42054784e-02  2.86609799e-01 -5.81008866e-02\\n -2.49083471e-02  7.21202865e-02 -1.58319086e-01  1.53740346e-01\\n  4.65450659e-02 -8.93766657e-02  7.55828843e-02  2.05190759e-02\\n  5.80981821e-02  1.08345136e-01 -1.87557358e-02 -1.29143178e-01\\n -4.71775122e-02  6.98311105e-02  2.97994167e-02 -7.40403831e-02\\n  8.54477882e-02 -1.68815311e-02  9.48718265e-02 -1.72673278e-02\\n -9.68164876e-02  2.11729705e-02 -4.97746002e-03  3.68731865e-03\\n -1.20174615e-02 -5.98946847e-02 -7.93225914e-02 -2.54310537e-02\\n  3.60986516e-02  3.07575669e-02  8.38118494e-02 -7.49983415e-02\\n -1.60518855e-01 -1.39566407e-01 -9.57773998e-02  6.16114251e-02\\n -8.98149163e-02  1.50422588e-01  5.98853594e-03  1.07233049e-02\\n  9.95495915e-03  6.29244223e-02 -9.77263693e-03 -2.01896299e-02\\n -6.01581000e-02 -3.28642204e-02  7.16975853e-02 -3.31501593e-04\\n -9.75892767e-02  8.92978013e-02 -2.77235936e-02 -1.56397298e-01\\n -1.03861935e-01 -2.43919678e-02 -1.21451184e-01  1.41083345e-01]\"\n        ],\n        \"semantic_type\": \"\",\n        \"description\": \"\"\n      }\n    },\n    {\n      \"column\": \"bos\",\n      \"properties\": {\n        \"dtype\": \"string\",\n        \"num_unique_values\": 3,\n        \"samples\": [\n          \"iodine.n.01 girl.n.01 sol.n.03 much.n.01 injury.n.01 each.s.01 other.a.01 merely.r.01 truly.r.01 sleep_together.v.01 maine.n.01 up.v.01 smoke.n.07 angstrom.n.01 battalion.n.02 angstrom.n.01 day.n.01 eating.n.01 pill.n.01 more.n.01 food.n.01 iodine.n.01 americium.n.01 doomed.n.01 there.n.01 be.v.01 no.n.01 one.n.01 discovery.n.03 maine.n.01 americium.n.01 iodine.n.01 look.n.02 associate_in_nursing.n.01 end.n.01 iodine.n.01 try.v.01 discovery.n.03 information_technology.n.01 multiple.n.01 times.n.01 information_technology.n.01 never.r.01 work.v.01 stallion.n.01 life.n.01 hour_angle.n.02 be.v.01 fill.v.01 grief.n.01 death.n.01 all.a.01 kind.n.01 sleep_together.v.01 up.v.01 crap.n.01 iodine.n.01 feel.n.01 like.n.01 end.n.01 maine.n.01 iodine.n.01 always.r.01 state.v.01 resilience.n.01 come.v.01 transport.v.02 two.n.01 brother.n.01 inch.n.01 heart.n.01 sol.n.03 populate.v.01 on.a.01 done.s.01 memory.n.01 iodine.n.01 die.n.01 three.n.01 people.n.01 die.n.01 information_technology.n.01 volition.n.01 not.r.01 beryllium.n.01 angstrom.n.01 suicide.n.01 information_technology.n.01 volition.n.01 beryllium.n.01 maine.n.01 killing.n.01 memory.n.01 iodine.n.01 bash.n.02 not.r.01 evening.n.01 privation.n.01 aid.n.02 iodine.n.01 privation.n.01 discovery.n.03 peace.n.01 iodine.n.01 girl.n.01 sol.n.03 much.n.01 iodine.n.01 hate.n.01 washington.n.02 redress.n.02 washington.n.02 manner.n.01 excessively.r.01 much.n.01 pressure.n.01 topographic_point.n.01 on.a.01 iodine.n.01 never.r.01 state.v.01 washington.n.02 remedy.n.02 know.v.01 information_technology.n.01 iodine.n.01 americium.n.01 certain.a.02 iodine.n.01 hate.n.01 end.v.01 things.n.01 iodine.n.01 can.n.01 not.r.01 range.n.02 out.n.01 now.n.01 evening.n.01 iodine.n.01 desire.v.01 volition.n.01 never.r.01 semen.n.01 expression.n.01 iodine.n.01 americium.n.01 stopping_point.n.01 thing.n.01 privation.n.01 see.n.01 merely.r.01 arsenic.n.02 know.n.01 iodine.n.01 americium.n.01 just.a.01 angstrom.n.01 child.n.01 queens.n.01 nothing.n.01 bash.n.02 not.r.01 mean.n.01 crap.n.01 blade.n.01 redemption.n.01 roentgen.n.01 tonight.n.01 intolerable.a.01\"\n        ],\n        \"semantic_type\": \"\",\n        \"description\": \"\"\n      }\n    },\n    {\n      \"column\": \"bos_lesk\",\n      \"properties\": {\n        \"dtype\": \"string\",\n        \"num_unique_values\": 3,\n        \"samples\": [\n          \"miss.n.03 much.r.04 detriment.n.01 very.r.01 sleep_together.v.01 smoke.n.02 pack.v.12 sidereal_day.n.01 eat.v.04 pill.n.05 food.n.02 suffer.v.11 one.s.06 rule.v.04 look.v.03 goal.n.01 try_on.v.01 rule.v.04 multiple.n.01 times.n.01 never.r.02 work.v.27 entire.s.03 life_sentence.n.01 meet.v.04 grief.n.01 end.n.06 sort.n.04 sleep_together.v.01 stool.v.04 tactile_property.n.01 like.n.02 goal.n.01 constantly.r.02 tell.v.03 resilience.n.01 hail.v.02 transport.v.02 two.n.01 buddy.n.01 heart.n.10 could live.v.07 memory.n.05 die.v.08 three.s.01 people.n.03 die.v.08 suicide.n.02 killing.n.03 memory.n.05 tied.s.05 wish.n.01 help_oneself.v.01 wish.n.01 rule.v.04 peace.n.05 miss.n.03 much.r.04 hate.n.01 remedy.n.02 way.r.01 much.r.04 pressure.n.02 topographic_point.n.01 never.r.02 tell.v.03 remedy.n.02 know.v.04 surely.r.01 hate.n.01 end.v.01 thing.n.12 reach.v.07 tied.s.05 want.v.03 never.r.02 hail.v.02 spirit.n.02 last.v.01 thing.n.12 wish.n.01 visit.v.01 know.v.04 annie kid.n.02 queens.n.01 nothing.n.01 mean.v.07 stool.v.04 meloverazor sword.n.01 salvation.n.02 roentgen.n.01 tonight.n.01 intolerable.a.01 annie\"\n        ],\n        \"semantic_type\": \"\",\n        \"description\": \"\"\n      }\n    }\n  ]\n}"
            }
          },
          "metadata": {},
          "execution_count": 11
        }
      ],
      "source": [
        "df.sample(3)"
      ]
    },
    {
      "cell_type": "code",
      "execution_count": 12,
      "metadata": {
        "colab": {
          "base_uri": "https://localhost:8080/"
        },
        "id": "vKFdUzKS4wQk",
        "outputId": "4ca2e6cd-ba06-4a8f-9297-3b10e7725cd5"
      },
      "outputs": [
        {
          "output_type": "execute_result",
          "data": {
            "text/plain": [
              "(52681, 19)"
            ]
          },
          "metadata": {},
          "execution_count": 12
        }
      ],
      "source": [
        "df.shape"
      ]
    },
    {
      "cell_type": "markdown",
      "metadata": {
        "id": "G1ZUulIVId-A"
      },
      "source": [
        "# ***Vectorizing using TF-IDF***"
      ]
    },
    {
      "cell_type": "markdown",
      "metadata": {
        "id": "2zoEONwt0TYx"
      },
      "source": [
        "## About VEctorizing Approach"
      ]
    },
    {
      "cell_type": "markdown",
      "metadata": {
        "id": "MQgG20H7qTO8"
      },
      "source": [
        "**What is the TF (Term of Frequency) and IDF (Inverse Document Frequency)?**\n",
        "\n",
        "---\n",
        "```\n",
        "\n",
        "\n",
        "```\n",
        "---\n",
        "\n",
        "* **What is TF-IDF?**\n",
        "\n",
        "TF-IDF (Term Frequency-Inverse Document Frequency) is a numerical statistic used to evaluate the importance of a word in a document relative to a collection of documents, typically in the context of text mining and Natural Language Processing (NLP). It is commonly used as a feature extraction method to convert textual data into numerical features that machine learning models can process.\n",
        "\n",
        "* The TF-IDF measure combines two components:\n",
        "\n",
        "  1. **Term Frequency (TF):**\n",
        "\n",
        "  **Definition:** The number of times a word (term) appears in a document, divided by the total number of words in that document. It gives us a sense of how important a word is within a single document.\n",
        "\n",
        "  **Formula:**\n",
        "\n",
        "   \\begin{align}\n",
        "   \\text{TF}(t, d) = \\frac{\\text{Number of times term } t \\text{ appears in document } d}{\\text{Total number of terms in document } d}\n",
        "   \\end{align}\n",
        "\n",
        "  \n",
        "  2. **Inverse Document Frequency (IDF):**\n",
        "  \n",
        "    **Definition:** The logarithm of the total number of documents in the corpus divided by the number of documents containing the term.\n",
        "  \n",
        "    It measures how important a word is across the whole corpus. Common words that appear in many documents (like \"the,\" \"is\") have low IDF values because they are less informative, while rare terms have higher IDF values.\n",
        "\n",
        "    **Formula:**\n",
        "\n",
        "\n",
        "\n",
        "  \\begin{align}\n",
        "   \\text{IDF}(t, D) = \\log \\left( \\frac{\\text{Total number of documents in the corpus}}{1 + \\text{Number of documents containing the term } t} \\right)\n",
        " \\end{align}\n",
        "\n",
        "3. **TF-IDF:**\n",
        "\n",
        "  **Definition:** The product of the term frequency (TF) and inverse document frequency (IDF) for a term in a document. It reflects both the term's frequency within a specific document and how unique or important the term is across the entire document corpus.\n",
        "  \n",
        "  **Formula:**\n",
        "\n",
        "   \\begin{align}\n",
        "   \\text{TF-IDF}(t, d, D) = \\text{TF}(t, d) \\times \\text{IDF}(t, D)\n",
        "   \\end{align}\n",
        "\n",
        "  In these formulas:\n",
        "  - \\( t \\) refers to a term (word),\n",
        "  - \\( d \\) refers to a document,\n",
        "  - \\( D \\) refers to the entire corpus (collection of documents),\n",
        "  - \\( \\log \\) is the logarithm function, typically base 10 or natural logarithm.\n",
        "\n",
        "\n",
        "* **How TF-IDF is Useful**\n",
        "  **Feature Extraction in NLP:** TF-IDF helps convert raw text data into a matrix of numerical features, making the data suitable for machine learning models. Each document is represented as a vector of TF-IDF values, where each value corresponds to the importance of a word in that document. This is a common technique in text classification tasks, such as sentiment analysis, spam detection, and topic classification.\n",
        "\n",
        "  **Captures the Importance of Words:** By using TF-IDF, we can ignore frequently occurring but uninformative words (e.g., \"the\", \"and\") and focus on more meaningful terms that are key to the context of a document. This helps improve the accuracy and relevance of the model's predictions by emphasizing words that differentiate one document from another.\n",
        "\n",
        "  **Reduces Noise in Text:** TF-IDF reduces the weight of very common words across all documents, as they are often not useful for distinguishing between documents. It assigns higher importance to rare and meaningful terms, which tend to carry more information about the content of the document.\n",
        "\n",
        "  **Improves Text Similarity Measures:** TF-IDF vectors are often used to calculate the similarity between documents (e.g., using cosine similarity). This is useful in tasks like document clustering, search engines, and recommendation systems.\n",
        "\n",
        "  \n",
        "* **Use Case in Mental Health Sentiment Analysis**\n",
        "\n",
        "  In our dataset, which contains mental health-related statements, applying TF-IDF can help the model understand which words are most significant for predicting the mental health status of a given statement. For example:\n",
        "\n",
        "    - Words like \"hopeless,\" \"depressed,\" and \"suicidal\" may have high TF-IDF scores in documents labeled with \"Depression\" or \"Suicidal\" mental health statuses, but these words may be rare across other categories.\n",
        "  \n",
        "   - Common words like \"I,\" \"the,\" and \"is\" will have low IDF values since they appear in many documents, making them less useful for classification.\n",
        "\n",
        "  By transforming the text data into TF-IDF vectors, you provide a more informative and compact representation of the statements, which can lead to better performance of machine learning models.\n",
        "\n"
      ]
    },
    {
      "cell_type": "markdown",
      "metadata": {
        "id": "5GIcT_7-vPIT"
      },
      "source": [
        "---\n",
        "```\n",
        "\n",
        "\n",
        "\n",
        "\n",
        "\n",
        "\n",
        "\n",
        "\n",
        "\n",
        "```\n",
        "---"
      ]
    },
    {
      "cell_type": "markdown",
      "metadata": {
        "id": "X0BfmXqdsArU"
      },
      "source": [
        "## Initialize separate TF-IDF Vectorizer\n"
      ]
    },
    {
      "cell_type": "markdown",
      "metadata": {
        "id": "6ypQOujNtvoe"
      },
      "source": [
        "Initialize separate TF-IDF Vectorizer for verbs and nouns and adj , stemm\n"
      ]
    },
    {
      "cell_type": "code",
      "execution_count": 13,
      "metadata": {
        "id": "4yGkNkh0Ko6w"
      },
      "outputs": [],
      "source": [
        "vectorizer_emojis = TfidfVectorizer(max_features=100, stop_words='english')\n",
        "\n",
        "vectorizer_imp = TfidfVectorizer(ngram_range=(1, 2), max_features=10000, stop_words='english')\n",
        "\n",
        "vectorizer_stemmes = TfidfVectorizer(ngram_range=(1, 2), max_features=2000, stop_words='english')\n",
        "\n",
        "vectorizer_verbs = TfidfVectorizer(ngram_range=(1, 2), max_features=1000, stop_words='english')\n",
        "\n",
        "vectorizer_nouns = TfidfVectorizer(ngram_range=(1, 2), max_features=1000, stop_words='english')\n",
        "\n",
        "vectorizer_adjectives = TfidfVectorizer(ngram_range=(1, 2), max_features=1000, stop_words='english')\n",
        "\n",
        "vectorizer_bos = TfidfVectorizer(ngram_range=(1, 2), max_features=10000, stop_words='english')\n"
      ]
    },
    {
      "cell_type": "markdown",
      "metadata": {
        "id": "YI7_TNFwLJOb"
      },
      "source": [
        "## Extract Verb, Nouuns , ... Vectors"
      ]
    },
    {
      "cell_type": "markdown",
      "metadata": {
        "id": "tZZZXLyjhBHK"
      },
      "source": [
        "### importtant word"
      ]
    },
    {
      "cell_type": "code",
      "execution_count": 14,
      "metadata": {
        "id": "57q61G1ahBHL"
      },
      "outputs": [],
      "source": [
        "\n",
        "X_imp_tfidf = vectorizer_emojis.fit_transform(df['important_words'])\n"
      ]
    },
    {
      "cell_type": "markdown",
      "metadata": {
        "id": "iEWYzKrLHM3w"
      },
      "source": [
        "### Emojies"
      ]
    },
    {
      "cell_type": "code",
      "execution_count": 15,
      "metadata": {
        "id": "RUwKAPzSHi-u"
      },
      "outputs": [],
      "source": [
        "# Emojis\n",
        "X_emojis_tfidf = vectorizer_emojis.fit_transform(df['statement_with_emojis'])"
      ]
    },
    {
      "cell_type": "markdown",
      "metadata": {
        "id": "2Bxu6YurHyAY"
      },
      "source": [
        "### stemmes"
      ]
    },
    {
      "cell_type": "code",
      "execution_count": 16,
      "metadata": {
        "id": "jXGvP4IAHzBj"
      },
      "outputs": [],
      "source": [
        "# Adjectives\n",
        "X_stemm_tfidf = vectorizer_stemmes.fit_transform(df['tokens_stemmed'].astype(str))\n"
      ]
    },
    {
      "cell_type": "markdown",
      "metadata": {
        "id": "ppYN2ADdHTkv"
      },
      "source": [
        "### verbs"
      ]
    },
    {
      "cell_type": "code",
      "execution_count": 17,
      "metadata": {
        "id": "rnXyz83iHYBt"
      },
      "outputs": [],
      "source": [
        "# Verbs\n",
        "X_verbs_tfidf = vectorizer_verbs.fit_transform(df['tokens_verbs'].astype(str))"
      ]
    },
    {
      "cell_type": "markdown",
      "metadata": {
        "id": "QV6rldV9HY6-"
      },
      "source": [
        "### nouns"
      ]
    },
    {
      "cell_type": "code",
      "execution_count": 18,
      "metadata": {
        "id": "1k4EMXp9HbpM"
      },
      "outputs": [],
      "source": [
        "# Nouns\n",
        "X_nouns_tfidf = vectorizer_nouns.fit_transform(df['tokens_nouns'].astype(str))"
      ]
    },
    {
      "cell_type": "markdown",
      "metadata": {
        "id": "ZqHOF5bTHeDX"
      },
      "source": [
        "### Adjectives"
      ]
    },
    {
      "cell_type": "code",
      "execution_count": 19,
      "metadata": {
        "id": "ImR1_PmoHgUf"
      },
      "outputs": [],
      "source": [
        "# @title Adjectives\n",
        "\n",
        "X_adjectives_tfidf = vectorizer_adjectives.fit_transform(df['tokens_adj'].astype(str))\n"
      ]
    },
    {
      "cell_type": "code",
      "execution_count": 20,
      "metadata": {
        "id": "UOiuiMppS9y0"
      },
      "outputs": [],
      "source": [
        "# @title BOS\n",
        "X_bos_tfidf = vectorizer_bos.fit_transform(df['bos_lesk'].astype(str))\n"
      ]
    },
    {
      "cell_type": "markdown",
      "metadata": {
        "id": "wPZehjwhHmay"
      },
      "source": [
        "## comdine Vectors"
      ]
    },
    {
      "cell_type": "code",
      "execution_count": 21,
      "metadata": {
        "colab": {
          "base_uri": "https://localhost:8080/"
        },
        "id": "27R0sPNwr_ZD",
        "outputId": "c55f4986-4a1c-4580-d7b1-6c6e8c2fb5e9"
      },
      "outputs": [
        {
          "output_type": "stream",
          "name": "stdout",
          "text": [
            "Total number of combined features: 10000\n"
          ]
        }
      ],
      "source": [
        "\n",
        "\n",
        "# Combine all TF-IDF features into one matrix\n",
        "# X_combined_tfidf = hstack([2*X_verbs_tfidf, X_nouns_tfidf, 0.5 * X_adjectives_tfidf, 0.5*X_emojis_tfidf,2*X_stemm_tfidf])\n",
        "X_combined_tfidf =  hstack([X_bos_tfidf])\n",
        "print(\"Total number of combined features:\", X_combined_tfidf.shape[1])\n"
      ]
    },
    {
      "cell_type": "markdown",
      "metadata": {
        "id": "JmjO043Idcjy"
      },
      "source": [
        "# ***Feature Selection***"
      ]
    },
    {
      "cell_type": "markdown",
      "metadata": {
        "id": "SNkQWvaYGCGD"
      },
      "source": [
        "### Spliting"
      ]
    },
    {
      "cell_type": "code",
      "execution_count": 22,
      "metadata": {
        "id": "IjaxLl7_dfNh"
      },
      "outputs": [],
      "source": [
        "# Split data into train and test sets\n",
        "X_train, X_test, y_train, y_test = train_test_split(X_combined_tfidf, df['status'], test_size=0.2, random_state=42)"
      ]
    },
    {
      "cell_type": "markdown",
      "metadata": {
        "id": "Z9EgLsbYGD8v"
      },
      "source": [
        "### Select K Best"
      ]
    },
    {
      "cell_type": "code",
      "execution_count": 49,
      "metadata": {
        "id": "c2x7yL8zeMFG"
      },
      "outputs": [],
      "source": [
        "# Arrays to store results\n",
        "feature_counts = []\n",
        "train_accuracies = []\n",
        "test_accuracies = []\n",
        "from sklearn.feature_selection import SelectKBest, f_classif\n",
        "\n",
        "# Iterate over different values of k\n",
        "for k in range(100, X_train.shape[1], 500):\n",
        "    # Select top k features using mutual information as the score function\n",
        "    selector = SelectKBest(score_func=chi2, k=k)\n",
        "\n",
        "    # Fit and transform the training set\n",
        "    X_train_selected = selector.fit_transform(X_train, y_train)\n",
        "    X_test_selected = selector.transform(X_test)\n",
        "\n",
        "    # Train a logistic regression model\n",
        "    model = LogisticRegression(max_iter=600, random_state=42)\n",
        "    model.fit(X_train_selected, y_train)\n",
        "\n",
        "    # Record the number of features and accuracies\n",
        "    feature_counts.append(k)\n",
        "    train_accuracies.append(accuracy_score(y_train, model.predict(X_train_selected)))\n",
        "    test_accuracies.append(accuracy_score(y_test, model.predict(X_test_selected)))\n"
      ]
    },
    {
      "cell_type": "markdown",
      "metadata": {
        "id": "B39-MI6RGIIx"
      },
      "source": [
        "### Plot"
      ]
    },
    {
      "cell_type": "code",
      "execution_count": 50,
      "metadata": {
        "colab": {
          "base_uri": "https://localhost:8080/",
          "height": 564
        },
        "id": "IyUxEo1aeSaC",
        "outputId": "b7551aca-7e2f-4346-c421-495c2e4da5d4"
      },
      "outputs": [
        {
          "output_type": "display_data",
          "data": {
            "text/plain": [
              "<Figure size 1200x600 with 1 Axes>"
            ],
            "image/png": "[encoded data removed]"
          },
          "metadata": {}
        }
      ],
      "source": [
        "# Plot the accuracy vs. number of features\n",
        "plt.figure(figsize=(12, 6))\n",
        "plt.plot(feature_counts, train_accuracies, label=\"Train Accuracy\", marker=\"o\", color=\"blue\")\n",
        "plt.plot(feature_counts, test_accuracies, label=\"Test Accuracy\", marker=\"o\", color=\"orange\")\n",
        "plt.xlabel(\"Number of Selected Features\")\n",
        "plt.ylabel(\"Accuracy\")\n",
        "plt.title(\"Accuracy vs. Number of Selected Features \")\n",
        "plt.legend()\n",
        "plt.grid()\n",
        "plt.show()\n"
      ]
    },
    {
      "cell_type": "markdown",
      "metadata": {
        "id": "x2HIGR8TII0_"
      },
      "source": [
        "# ***Dataset Spliting, Encoding and Staging***"
      ]
    },
    {
      "cell_type": "code",
      "execution_count": 23,
      "metadata": {
        "id": "cg4m53SqjPma"
      },
      "outputs": [],
      "source": [
        "selector = SelectKBest(score_func=chi2, k=5503)\n",
        "\n",
        "    # Fit and transform the training set\n",
        "X_train_selected = selector.fit_transform(X_train, y_train)\n",
        "X_test_selected = selector.transform(X_test)"
      ]
    },
    {
      "cell_type": "code",
      "execution_count": 24,
      "metadata": {
        "id": "P6qRmm8qsSQ7"
      },
      "outputs": [],
      "source": [
        "# Split the vectorized data into train and test sets\n",
        "#X_train_full, X_test, y_train_full, y_test = train_test_split(X_combined_tfidf, df['status'], test_size=0.2, random_state=42)\n",
        "X_train_full, X_test, y_train_full, y_test =X_train_selected, X_test_selected, y_train , y_test"
      ]
    },
    {
      "cell_type": "markdown",
      "metadata": {
        "id": "IsoZkHmzIQTW"
      },
      "source": [
        "### Encode LAbles and slpit status"
      ]
    },
    {
      "cell_type": "markdown",
      "metadata": {
        "id": "IewgAILzl4qL"
      },
      "source": [
        "#### Encode LAbles"
      ]
    },
    {
      "cell_type": "code",
      "execution_count": 25,
      "metadata": {
        "id": "3CGQCl1asU30"
      },
      "outputs": [],
      "source": [
        "# Encode labels for binary classification (Stage 1)\n",
        "binary_encoder = LabelEncoder()\n",
        "y_train_full_binary = binary_encoder.fit_transform(y_train_full.apply(lambda x: 'Normal' if x == 'Normal' else 'Non-Normal'))\n",
        "y_test_binary = binary_encoder.transform(y_test.apply(lambda x: 'Normal' if x == 'Normal' else 'Non-Normal'))\n",
        "\n",
        "# Encode labels for multi-class classification (Stage 2)\n",
        "multi_encoder = LabelEncoder()\n",
        "y_train_full_multi = multi_encoder.fit_transform(y_train_full[y_train_full != 'Normal'])  # Only for \"Non-Normal\" classes\n",
        "y_test_multi = multi_encoder.transform(y_test[y_test != 'Normal'])  # Only for \"Non-Normal\" classes\n"
      ]
    },
    {
      "cell_type": "markdown",
      "metadata": {
        "id": "rdgn2Kd1lbxE"
      },
      "source": [
        "#### split to Stages"
      ]
    },
    {
      "cell_type": "code",
      "execution_count": 26,
      "metadata": {
        "id": "ooDJjot1sXEK"
      },
      "outputs": [],
      "source": [
        "# Split train data for Stage 1 and Stage 2\n",
        "X_train_tfidf_stage1 = X_train_full\n",
        "X_train_tfidf_stage2 = X_train_full[y_train_full != 'Normal']\n",
        "y_train_tfidf_stage1 = y_train_full_binary\n",
        "y_train_tfidf_stage2 = y_train_full_multi\n",
        "\n",
        "X_test_tfidf_stage1 = X_test\n",
        "X_test_tfidf_stage2 = X_test[y_test != 'Normal']\n",
        "\n"
      ]
    },
    {
      "cell_type": "markdown",
      "metadata": {
        "id": "00wfz1PalsD0"
      },
      "source": [
        "### OverSampling using SMOTE  "
      ]
    },
    {
      "cell_type": "code",
      "execution_count": 27,
      "metadata": {
        "id": "vDC-irbF79IU"
      },
      "outputs": [],
      "source": [
        "\n",
        "# Apply SMOTE for oversampling on Stage 2\n",
        "smote = SMOTE(random_state=42)\n",
        "\n",
        "#X_train_tfidf_stage2, y_train_stage2 = smote.fit_resample(X_train_tfidf_stage2, y_train_tfidf_stage2)\n",
        "#X_train_tfidf_stage1, y_train_stage1 = smote.fit_resample(X_train_tfidf_stage1, y_train_tfidf_stage1)\n",
        "\n"
      ]
    },
    {
      "cell_type": "markdown",
      "metadata": {
        "id": "7k5uJ1q4KmPV"
      },
      "source": [
        "# ***Normal Statement Classification***"
      ]
    },
    {
      "cell_type": "markdown",
      "metadata": {
        "id": "gzObnP4mk_Kt"
      },
      "source": [
        "### What we will do"
      ]
    },
    {
      "cell_type": "markdown",
      "metadata": {
        "id": "pvc6-GGgk3MC"
      },
      "source": [
        "\n",
        ">  Stage 1\n",
        "\n",
        ">  1.1  Logistic regression classifier\n",
        "\n",
        ">  2.2 neural network classifier\n",
        "\n",
        ">  2.3 chosssing the best classifier\n"
      ]
    },
    {
      "cell_type": "markdown",
      "metadata": {
        "id": "_FNBI8azKo8u"
      },
      "source": [
        "##  1.1 Stage 1: SVM"
      ]
    },
    {
      "cell_type": "markdown",
      "metadata": {
        "id": "1386nu2LeOM3"
      },
      "source": [
        "### Grid Search Param Definie"
      ]
    },
    {
      "cell_type": "code",
      "execution_count": 28,
      "metadata": {
        "id": "dnvLTIE1eRC4"
      },
      "outputs": [],
      "source": [
        "# Define the binary classifier\n",
        "clf = LogisticRegression(max_iter=1000, random_state=42)\n",
        "\n",
        "# Define the parameter grid for GridSearchCV\n",
        "param_grid = {\n",
        "    'C': [0.01, 0.1, 0.8,1,2, 10, 100],  # Regularization strength\n",
        "    'solver': ['lbfgs', 'liblinear'],  # Optimization algorithms\n",
        "    'penalty': ['l2'],  # Regularization type\n",
        "}\n"
      ]
    },
    {
      "cell_type": "markdown",
      "metadata": {
        "id": "N6X1q-PhiIKm"
      },
      "source": [
        "###  Grid Search Fit"
      ]
    },
    {
      "cell_type": "code",
      "execution_count": 29,
      "metadata": {
        "colab": {
          "base_uri": "https://localhost:8080/",
          "height": 0
        },
        "id": "80tSJKWjeWfU",
        "outputId": "1f966f2d-17d1-4323-c5a6-97a1c20ba450"
      },
      "outputs": [
        {
          "output_type": "execute_result",
          "data": {
            "text/plain": [
              "GridSearchCV(cv=5, estimator=LogisticRegression(max_iter=1000, random_state=42),\n",
              "             param_grid={'C': [0.01, 0.1, 0.8, 1, 2, 10, 100],\n",
              "                         'penalty': ['l2'], 'solver': ['lbfgs', 'liblinear']},\n",
              "             scoring='accuracy')"
            ],
            "text/html": [
              "<style>#sk-container-id-1 {\n",
              "  /* Definition of color scheme common for light and dark mode */\n",
              "  --sklearn-color-text: #000;\n",
              "  --sklearn-color-text-muted: #666;\n",
              "  --sklearn-color-line: gray;\n",
              "  /* Definition of color scheme for unfitted estimators */\n",
              "  --sklearn-color-unfitted-level-0: #fff5e6;\n",
              "  --sklearn-color-unfitted-level-1: #f6e4d2;\n",
              "  --sklearn-color-unfitted-level-2: #ffe0b3;\n",
              "  --sklearn-color-unfitted-level-3: chocolate;\n",
              "  /* Definition of color scheme for fitted estimators */\n",
              "  --sklearn-color-fitted-level-0: #f0f8ff;\n",
              "  --sklearn-color-fitted-level-1: #d4ebff;\n",
              "  --sklearn-color-fitted-level-2: #b3dbfd;\n",
              "  --sklearn-color-fitted-level-3: cornflowerblue;\n",
              "\n",
              "  /* Specific color for light theme */\n",
              "  --sklearn-color-text-on-default-background: var(--sg-text-color, var(--theme-code-foreground, var(--jp-content-font-color1, black)));\n",
              "  --sklearn-color-background: var(--sg-background-color, var(--theme-background, var(--jp-layout-color0, white)));\n",
              "  --sklearn-color-border-box: var(--sg-text-color, var(--theme-code-foreground, var(--jp-content-font-color1, black)));\n",
              "  --sklearn-color-icon: #696969;\n",
              "\n",
              "  @media (prefers-color-scheme: dark) {\n",
              "    /* Redefinition of color scheme for dark theme */\n",
              "    --sklearn-color-text-on-default-background: var(--sg-text-color, var(--theme-code-foreground, var(--jp-content-font-color1, white)));\n",
              "    --sklearn-color-background: var(--sg-background-color, var(--theme-background, var(--jp-layout-color0, #111)));\n",
              "    --sklearn-color-border-box: var(--sg-text-color, var(--theme-code-foreground, var(--jp-content-font-color1, white)));\n",
              "    --sklearn-color-icon: #878787;\n",
              "  }\n",
              "}\n",
              "\n",
              "#sk-container-id-1 {\n",
              "  color: var(--sklearn-color-text);\n",
              "}\n",
              "\n",
              "#sk-container-id-1 pre {\n",
              "  padding: 0;\n",
              "}\n",
              "\n",
              "#sk-container-id-1 input.sk-hidden--visually {\n",
              "  border: 0;\n",
              "  clip: rect(1px 1px 1px 1px);\n",
              "  clip: rect(1px, 1px, 1px, 1px);\n",
              "  height: 1px;\n",
              "  margin: -1px;\n",
              "  overflow: hidden;\n",
              "  padding: 0;\n",
              "  position: absolute;\n",
              "  width: 1px;\n",
              "}\n",
              "\n",
              "#sk-container-id-1 div.sk-dashed-wrapped {\n",
              "  border: 1px dashed var(--sklearn-color-line);\n",
              "  margin: 0 0.4em 0.5em 0.4em;\n",
              "  box-sizing: border-box;\n",
              "  padding-bottom: 0.4em;\n",
              "  background-color: var(--sklearn-color-background);\n",
              "}\n",
              "\n",
              "#sk-container-id-1 div.sk-container {\n",
              "  /* jupyter's `normalize.less` sets `[hidden] { display: none; }`\n",
              "     but bootstrap.min.css set `[hidden] { display: none !important; }`\n",
              "     so we also need the `!important` here to be able to override the\n",
              "     default hidden behavior on the sphinx rendered scikit-learn.org.\n",
              "     See: https://github.com/scikit-learn/scikit-learn/issues/21755 */\n",
              "  display: inline-block !important;\n",
              "  position: relative;\n",
              "}\n",
              "\n",
              "#sk-container-id-1 div.sk-text-repr-fallback {\n",
              "  display: none;\n",
              "}\n",
              "\n",
              "div.sk-parallel-item,\n",
              "div.sk-serial,\n",
              "div.sk-item {\n",
              "  /* draw centered vertical line to link estimators */\n",
              "  background-image: linear-gradient(var(--sklearn-color-text-on-default-background), var(--sklearn-color-text-on-default-background));\n",
              "  background-size: 2px 100%;\n",
              "  background-repeat: no-repeat;\n",
              "  background-position: center center;\n",
              "}\n",
              "\n",
              "/* Parallel-specific style estimator block */\n",
              "\n",
              "#sk-container-id-1 div.sk-parallel-item::after {\n",
              "  content: \"\";\n",
              "  width: 100%;\n",
              "  border-bottom: 2px solid var(--sklearn-color-text-on-default-background);\n",
              "  flex-grow: 1;\n",
              "}\n",
              "\n",
              "#sk-container-id-1 div.sk-parallel {\n",
              "  display: flex;\n",
              "  align-items: stretch;\n",
              "  justify-content: center;\n",
              "  background-color: var(--sklearn-color-background);\n",
              "  position: relative;\n",
              "}\n",
              "\n",
              "#sk-container-id-1 div.sk-parallel-item {\n",
              "  display: flex;\n",
              "  flex-direction: column;\n",
              "}\n",
              "\n",
              "#sk-container-id-1 div.sk-parallel-item:first-child::after {\n",
              "  align-self: flex-end;\n",
              "  width: 50%;\n",
              "}\n",
              "\n",
              "#sk-container-id-1 div.sk-parallel-item:last-child::after {\n",
              "  align-self: flex-start;\n",
              "  width: 50%;\n",
              "}\n",
              "\n",
              "#sk-container-id-1 div.sk-parallel-item:only-child::after {\n",
              "  width: 0;\n",
              "}\n",
              "\n",
              "/* Serial-specific style estimator block */\n",
              "\n",
              "#sk-container-id-1 div.sk-serial {\n",
              "  display: flex;\n",
              "  flex-direction: column;\n",
              "  align-items: center;\n",
              "  background-color: var(--sklearn-color-background);\n",
              "  padding-right: 1em;\n",
              "  padding-left: 1em;\n",
              "}\n",
              "\n",
              "\n",
              "/* Toggleable style: style used for estimator/Pipeline/ColumnTransformer box that is\n",
              "clickable and can be expanded/collapsed.\n",
              "- Pipeline and ColumnTransformer use this feature and define the default style\n",
              "- Estimators will overwrite some part of the style using the `sk-estimator` class\n",
              "*/\n",
              "\n",
              "/* Pipeline and ColumnTransformer style (default) */\n",
              "\n",
              "#sk-container-id-1 div.sk-toggleable {\n",
              "  /* Default theme specific background. It is overwritten whether we have a\n",
              "  specific estimator or a Pipeline/ColumnTransformer */\n",
              "  background-color: var(--sklearn-color-background);\n",
              "}\n",
              "\n",
              "/* Toggleable label */\n",
              "#sk-container-id-1 label.sk-toggleable__label {\n",
              "  cursor: pointer;\n",
              "  display: flex;\n",
              "  width: 100%;\n",
              "  margin-bottom: 0;\n",
              "  padding: 0.5em;\n",
              "  box-sizing: border-box;\n",
              "  text-align: center;\n",
              "  align-items: start;\n",
              "  justify-content: space-between;\n",
              "  gap: 0.5em;\n",
              "}\n",
              "\n",
              "#sk-container-id-1 label.sk-toggleable__label .caption {\n",
              "  font-size: 0.6rem;\n",
              "  font-weight: lighter;\n",
              "  color: var(--sklearn-color-text-muted);\n",
              "}\n",
              "\n",
              "#sk-container-id-1 label.sk-toggleable__label-arrow:before {\n",
              "  /* Arrow on the left of the label */\n",
              "  content: \"▸\";\n",
              "  float: left;\n",
              "  margin-right: 0.25em;\n",
              "  color: var(--sklearn-color-icon);\n",
              "}\n",
              "\n",
              "#sk-container-id-1 label.sk-toggleable__label-arrow:hover:before {\n",
              "  color: var(--sklearn-color-text);\n",
              "}\n",
              "\n",
              "/* Toggleable content - dropdown */\n",
              "\n",
              "#sk-container-id-1 div.sk-toggleable__content {\n",
              "  max-height: 0;\n",
              "  max-width: 0;\n",
              "  overflow: hidden;\n",
              "  text-align: left;\n",
              "  /* unfitted */\n",
              "  background-color: var(--sklearn-color-unfitted-level-0);\n",
              "}\n",
              "\n",
              "#sk-container-id-1 div.sk-toggleable__content.fitted {\n",
              "  /* fitted */\n",
              "  background-color: var(--sklearn-color-fitted-level-0);\n",
              "}\n",
              "\n",
              "#sk-container-id-1 div.sk-toggleable__content pre {\n",
              "  margin: 0.2em;\n",
              "  border-radius: 0.25em;\n",
              "  color: var(--sklearn-color-text);\n",
              "  /* unfitted */\n",
              "  background-color: var(--sklearn-color-unfitted-level-0);\n",
              "}\n",
              "\n",
              "#sk-container-id-1 div.sk-toggleable__content.fitted pre {\n",
              "  /* unfitted */\n",
              "  background-color: var(--sklearn-color-fitted-level-0);\n",
              "}\n",
              "\n",
              "#sk-container-id-1 input.sk-toggleable__control:checked~div.sk-toggleable__content {\n",
              "  /* Expand drop-down */\n",
              "  max-height: 200px;\n",
              "  max-width: 100%;\n",
              "  overflow: auto;\n",
              "}\n",
              "\n",
              "#sk-container-id-1 input.sk-toggleable__control:checked~label.sk-toggleable__label-arrow:before {\n",
              "  content: \"▾\";\n",
              "}\n",
              "\n",
              "/* Pipeline/ColumnTransformer-specific style */\n",
              "\n",
              "#sk-container-id-1 div.sk-label input.sk-toggleable__control:checked~label.sk-toggleable__label {\n",
              "  color: var(--sklearn-color-text);\n",
              "  background-color: var(--sklearn-color-unfitted-level-2);\n",
              "}\n",
              "\n",
              "#sk-container-id-1 div.sk-label.fitted input.sk-toggleable__control:checked~label.sk-toggleable__label {\n",
              "  background-color: var(--sklearn-color-fitted-level-2);\n",
              "}\n",
              "\n",
              "/* Estimator-specific style */\n",
              "\n",
              "/* Colorize estimator box */\n",
              "#sk-container-id-1 div.sk-estimator input.sk-toggleable__control:checked~label.sk-toggleable__label {\n",
              "  /* unfitted */\n",
              "  background-color: var(--sklearn-color-unfitted-level-2);\n",
              "}\n",
              "\n",
              "#sk-container-id-1 div.sk-estimator.fitted input.sk-toggleable__control:checked~label.sk-toggleable__label {\n",
              "  /* fitted */\n",
              "  background-color: var(--sklearn-color-fitted-level-2);\n",
              "}\n",
              "\n",
              "#sk-container-id-1 div.sk-label label.sk-toggleable__label,\n",
              "#sk-container-id-1 div.sk-label label {\n",
              "  /* The background is the default theme color */\n",
              "  color: var(--sklearn-color-text-on-default-background);\n",
              "}\n",
              "\n",
              "/* On hover, darken the color of the background */\n",
              "#sk-container-id-1 div.sk-label:hover label.sk-toggleable__label {\n",
              "  color: var(--sklearn-color-text);\n",
              "  background-color: var(--sklearn-color-unfitted-level-2);\n",
              "}\n",
              "\n",
              "/* Label box, darken color on hover, fitted */\n",
              "#sk-container-id-1 div.sk-label.fitted:hover label.sk-toggleable__label.fitted {\n",
              "  color: var(--sklearn-color-text);\n",
              "  background-color: var(--sklearn-color-fitted-level-2);\n",
              "}\n",
              "\n",
              "/* Estimator label */\n",
              "\n",
              "#sk-container-id-1 div.sk-label label {\n",
              "  font-family: monospace;\n",
              "  font-weight: bold;\n",
              "  display: inline-block;\n",
              "  line-height: 1.2em;\n",
              "}\n",
              "\n",
              "#sk-container-id-1 div.sk-label-container {\n",
              "  text-align: center;\n",
              "}\n",
              "\n",
              "/* Estimator-specific */\n",
              "#sk-container-id-1 div.sk-estimator {\n",
              "  font-family: monospace;\n",
              "  border: 1px dotted var(--sklearn-color-border-box);\n",
              "  border-radius: 0.25em;\n",
              "  box-sizing: border-box;\n",
              "  margin-bottom: 0.5em;\n",
              "  /* unfitted */\n",
              "  background-color: var(--sklearn-color-unfitted-level-0);\n",
              "}\n",
              "\n",
              "#sk-container-id-1 div.sk-estimator.fitted {\n",
              "  /* fitted */\n",
              "  background-color: var(--sklearn-color-fitted-level-0);\n",
              "}\n",
              "\n",
              "/* on hover */\n",
              "#sk-container-id-1 div.sk-estimator:hover {\n",
              "  /* unfitted */\n",
              "  background-color: var(--sklearn-color-unfitted-level-2);\n",
              "}\n",
              "\n",
              "#sk-container-id-1 div.sk-estimator.fitted:hover {\n",
              "  /* fitted */\n",
              "  background-color: var(--sklearn-color-fitted-level-2);\n",
              "}\n",
              "\n",
              "/* Specification for estimator info (e.g. \"i\" and \"?\") */\n",
              "\n",
              "/* Common style for \"i\" and \"?\" */\n",
              "\n",
              ".sk-estimator-doc-link,\n",
              "a:link.sk-estimator-doc-link,\n",
              "a:visited.sk-estimator-doc-link {\n",
              "  float: right;\n",
              "  font-size: smaller;\n",
              "  line-height: 1em;\n",
              "  font-family: monospace;\n",
              "  background-color: var(--sklearn-color-background);\n",
              "  border-radius: 1em;\n",
              "  height: 1em;\n",
              "  width: 1em;\n",
              "  text-decoration: none !important;\n",
              "  margin-left: 0.5em;\n",
              "  text-align: center;\n",
              "  /* unfitted */\n",
              "  border: var(--sklearn-color-unfitted-level-1) 1pt solid;\n",
              "  color: var(--sklearn-color-unfitted-level-1);\n",
              "}\n",
              "\n",
              ".sk-estimator-doc-link.fitted,\n",
              "a:link.sk-estimator-doc-link.fitted,\n",
              "a:visited.sk-estimator-doc-link.fitted {\n",
              "  /* fitted */\n",
              "  border: var(--sklearn-color-fitted-level-1) 1pt solid;\n",
              "  color: var(--sklearn-color-fitted-level-1);\n",
              "}\n",
              "\n",
              "/* On hover */\n",
              "div.sk-estimator:hover .sk-estimator-doc-link:hover,\n",
              ".sk-estimator-doc-link:hover,\n",
              "div.sk-label-container:hover .sk-estimator-doc-link:hover,\n",
              ".sk-estimator-doc-link:hover {\n",
              "  /* unfitted */\n",
              "  background-color: var(--sklearn-color-unfitted-level-3);\n",
              "  color: var(--sklearn-color-background);\n",
              "  text-decoration: none;\n",
              "}\n",
              "\n",
              "div.sk-estimator.fitted:hover .sk-estimator-doc-link.fitted:hover,\n",
              ".sk-estimator-doc-link.fitted:hover,\n",
              "div.sk-label-container:hover .sk-estimator-doc-link.fitted:hover,\n",
              ".sk-estimator-doc-link.fitted:hover {\n",
              "  /* fitted */\n",
              "  background-color: var(--sklearn-color-fitted-level-3);\n",
              "  color: var(--sklearn-color-background);\n",
              "  text-decoration: none;\n",
              "}\n",
              "\n",
              "/* Span, style for the box shown on hovering the info icon */\n",
              ".sk-estimator-doc-link span {\n",
              "  display: none;\n",
              "  z-index: 9999;\n",
              "  position: relative;\n",
              "  font-weight: normal;\n",
              "  right: .2ex;\n",
              "  padding: .5ex;\n",
              "  margin: .5ex;\n",
              "  width: min-content;\n",
              "  min-width: 20ex;\n",
              "  max-width: 50ex;\n",
              "  color: var(--sklearn-color-text);\n",
              "  box-shadow: 2pt 2pt 4pt #999;\n",
              "  /* unfitted */\n",
              "  background: var(--sklearn-color-unfitted-level-0);\n",
              "  border: .5pt solid var(--sklearn-color-unfitted-level-3);\n",
              "}\n",
              "\n",
              ".sk-estimator-doc-link.fitted span {\n",
              "  /* fitted */\n",
              "  background: var(--sklearn-color-fitted-level-0);\n",
              "  border: var(--sklearn-color-fitted-level-3);\n",
              "}\n",
              "\n",
              ".sk-estimator-doc-link:hover span {\n",
              "  display: block;\n",
              "}\n",
              "\n",
              "/* \"?\"-specific style due to the `<a>` HTML tag */\n",
              "\n",
              "#sk-container-id-1 a.estimator_doc_link {\n",
              "  float: right;\n",
              "  font-size: 1rem;\n",
              "  line-height: 1em;\n",
              "  font-family: monospace;\n",
              "  background-color: var(--sklearn-color-background);\n",
              "  border-radius: 1rem;\n",
              "  height: 1rem;\n",
              "  width: 1rem;\n",
              "  text-decoration: none;\n",
              "  /* unfitted */\n",
              "  color: var(--sklearn-color-unfitted-level-1);\n",
              "  border: var(--sklearn-color-unfitted-level-1) 1pt solid;\n",
              "}\n",
              "\n",
              "#sk-container-id-1 a.estimator_doc_link.fitted {\n",
              "  /* fitted */\n",
              "  border: var(--sklearn-color-fitted-level-1) 1pt solid;\n",
              "  color: var(--sklearn-color-fitted-level-1);\n",
              "}\n",
              "\n",
              "/* On hover */\n",
              "#sk-container-id-1 a.estimator_doc_link:hover {\n",
              "  /* unfitted */\n",
              "  background-color: var(--sklearn-color-unfitted-level-3);\n",
              "  color: var(--sklearn-color-background);\n",
              "  text-decoration: none;\n",
              "}\n",
              "\n",
              "#sk-container-id-1 a.estimator_doc_link.fitted:hover {\n",
              "  /* fitted */\n",
              "  background-color: var(--sklearn-color-fitted-level-3);\n",
              "}\n",
              "</style><div id=\"sk-container-id-1\" class=\"sk-top-container\"><div class=\"sk-text-repr-fallback\"><pre>GridSearchCV(cv=5, estimator=LogisticRegression(max_iter=1000, random_state=42),\n",
              "             param_grid={&#x27;C&#x27;: [0.01, 0.1, 0.8, 1, 2, 10, 100],\n",
              "                         &#x27;penalty&#x27;: [&#x27;l2&#x27;], &#x27;solver&#x27;: [&#x27;lbfgs&#x27;, &#x27;liblinear&#x27;]},\n",
              "             scoring=&#x27;accuracy&#x27;)</pre><b>In a Jupyter environment, please rerun this cell to show the HTML representation or trust the notebook. <br />On GitHub, the HTML representation is unable to render, please try loading this page with nbviewer.org.</b></div><div class=\"sk-container\" hidden><div class=\"sk-item sk-dashed-wrapped\"><div class=\"sk-label-container\"><div class=\"sk-label fitted sk-toggleable\"><input class=\"sk-toggleable__control sk-hidden--visually\" id=\"sk-estimator-id-1\" type=\"checkbox\" ><label for=\"sk-estimator-id-1\" class=\"sk-toggleable__label fitted sk-toggleable__label-arrow\"><div><div>GridSearchCV</div></div><div><a class=\"sk-estimator-doc-link fitted\" rel=\"noreferrer\" target=\"_blank\" href=\"https://scikit-learn.org/1.6/modules/generated/sklearn.model_selection.GridSearchCV.html\">?<span>Documentation for GridSearchCV</span></a><span class=\"sk-estimator-doc-link fitted\">i<span>Fitted</span></span></div></label><div class=\"sk-toggleable__content fitted\"><pre>GridSearchCV(cv=5, estimator=LogisticRegression(max_iter=1000, random_state=42),\n",
              "             param_grid={&#x27;C&#x27;: [0.01, 0.1, 0.8, 1, 2, 10, 100],\n",
              "                         &#x27;penalty&#x27;: [&#x27;l2&#x27;], &#x27;solver&#x27;: [&#x27;lbfgs&#x27;, &#x27;liblinear&#x27;]},\n",
              "             scoring=&#x27;accuracy&#x27;)</pre></div> </div></div><div class=\"sk-parallel\"><div class=\"sk-parallel-item\"><div class=\"sk-item\"><div class=\"sk-label-container\"><div class=\"sk-label fitted sk-toggleable\"><input class=\"sk-toggleable__control sk-hidden--visually\" id=\"sk-estimator-id-2\" type=\"checkbox\" ><label for=\"sk-estimator-id-2\" class=\"sk-toggleable__label fitted sk-toggleable__label-arrow\"><div><div>best_estimator_: LogisticRegression</div></div></label><div class=\"sk-toggleable__content fitted\"><pre>LogisticRegression(C=10, max_iter=1000, random_state=42, solver=&#x27;liblinear&#x27;)</pre></div> </div></div><div class=\"sk-serial\"><div class=\"sk-item\"><div class=\"sk-estimator fitted sk-toggleable\"><input class=\"sk-toggleable__control sk-hidden--visually\" id=\"sk-estimator-id-3\" type=\"checkbox\" ><label for=\"sk-estimator-id-3\" class=\"sk-toggleable__label fitted sk-toggleable__label-arrow\"><div><div>LogisticRegression</div></div><div><a class=\"sk-estimator-doc-link fitted\" rel=\"noreferrer\" target=\"_blank\" href=\"https://scikit-learn.org/1.6/modules/generated/sklearn.linear_model.LogisticRegression.html\">?<span>Documentation for LogisticRegression</span></a></div></label><div class=\"sk-toggleable__content fitted\"><pre>LogisticRegression(C=10, max_iter=1000, random_state=42, solver=&#x27;liblinear&#x27;)</pre></div> </div></div></div></div></div></div></div></div></div>"
            ]
          },
          "metadata": {},
          "execution_count": 29
        }
      ],
      "source": [
        "# Perform Grid Search with cross-validation\n",
        "grid_search = GridSearchCV(clf, param_grid, cv=5, scoring='accuracy')\n",
        "grid_search.fit(X_train_tfidf_stage1, y_train_tfidf_stage1)\n"
      ]
    },
    {
      "cell_type": "markdown",
      "metadata": {
        "id": "KJC5W42CiMjX"
      },
      "source": [
        "### best PArarms"
      ]
    },
    {
      "cell_type": "code",
      "execution_count": 30,
      "metadata": {
        "colab": {
          "base_uri": "https://localhost:8080/"
        },
        "id": "yRlDJTJSeaB6",
        "outputId": "117a4347-788d-4ab1-c7fb-54ea661885c5"
      },
      "outputs": [
        {
          "output_type": "stream",
          "name": "stdout",
          "text": [
            "Best parameters: {'C': 10, 'penalty': 'l2', 'solver': 'liblinear'}\n",
            "Best accuracy: 0.9359338589856037\n"
          ]
        }
      ],
      "source": [
        "\n",
        "# Get the best parameters and accuracy\n",
        "best_params = grid_search.best_params_\n",
        "best_accuracy = grid_search.best_score_\n",
        "\n",
        "print(f\"Best parameters: {best_params}\")\n",
        "print(f\"Best accuracy: {best_accuracy}\")\n"
      ]
    },
    {
      "cell_type": "code",
      "execution_count": 31,
      "metadata": {
        "colab": {
          "base_uri": "https://localhost:8080/",
          "height": 80
        },
        "id": "615Hjolkrztq",
        "outputId": "e445ab76-fdcb-4121-9bb0-d17cff5dfe1e"
      },
      "outputs": [
        {
          "output_type": "execute_result",
          "data": {
            "text/plain": [
              "SVC(C=0.7, random_state=42)"
            ],
            "text/html": [
              "<style>#sk-container-id-2 {\n",
              "  /* Definition of color scheme common for light and dark mode */\n",
              "  --sklearn-color-text: #000;\n",
              "  --sklearn-color-text-muted: #666;\n",
              "  --sklearn-color-line: gray;\n",
              "  /* Definition of color scheme for unfitted estimators */\n",
              "  --sklearn-color-unfitted-level-0: #fff5e6;\n",
              "  --sklearn-color-unfitted-level-1: #f6e4d2;\n",
              "  --sklearn-color-unfitted-level-2: #ffe0b3;\n",
              "  --sklearn-color-unfitted-level-3: chocolate;\n",
              "  /* Definition of color scheme for fitted estimators */\n",
              "  --sklearn-color-fitted-level-0: #f0f8ff;\n",
              "  --sklearn-color-fitted-level-1: #d4ebff;\n",
              "  --sklearn-color-fitted-level-2: #b3dbfd;\n",
              "  --sklearn-color-fitted-level-3: cornflowerblue;\n",
              "\n",
              "  /* Specific color for light theme */\n",
              "  --sklearn-color-text-on-default-background: var(--sg-text-color, var(--theme-code-foreground, var(--jp-content-font-color1, black)));\n",
              "  --sklearn-color-background: var(--sg-background-color, var(--theme-background, var(--jp-layout-color0, white)));\n",
              "  --sklearn-color-border-box: var(--sg-text-color, var(--theme-code-foreground, var(--jp-content-font-color1, black)));\n",
              "  --sklearn-color-icon: #696969;\n",
              "\n",
              "  @media (prefers-color-scheme: dark) {\n",
              "    /* Redefinition of color scheme for dark theme */\n",
              "    --sklearn-color-text-on-default-background: var(--sg-text-color, var(--theme-code-foreground, var(--jp-content-font-color1, white)));\n",
              "    --sklearn-color-background: var(--sg-background-color, var(--theme-background, var(--jp-layout-color0, #111)));\n",
              "    --sklearn-color-border-box: var(--sg-text-color, var(--theme-code-foreground, var(--jp-content-font-color1, white)));\n",
              "    --sklearn-color-icon: #878787;\n",
              "  }\n",
              "}\n",
              "\n",
              "#sk-container-id-2 {\n",
              "  color: var(--sklearn-color-text);\n",
              "}\n",
              "\n",
              "#sk-container-id-2 pre {\n",
              "  padding: 0;\n",
              "}\n",
              "\n",
              "#sk-container-id-2 input.sk-hidden--visually {\n",
              "  border: 0;\n",
              "  clip: rect(1px 1px 1px 1px);\n",
              "  clip: rect(1px, 1px, 1px, 1px);\n",
              "  height: 1px;\n",
              "  margin: -1px;\n",
              "  overflow: hidden;\n",
              "  padding: 0;\n",
              "  position: absolute;\n",
              "  width: 1px;\n",
              "}\n",
              "\n",
              "#sk-container-id-2 div.sk-dashed-wrapped {\n",
              "  border: 1px dashed var(--sklearn-color-line);\n",
              "  margin: 0 0.4em 0.5em 0.4em;\n",
              "  box-sizing: border-box;\n",
              "  padding-bottom: 0.4em;\n",
              "  background-color: var(--sklearn-color-background);\n",
              "}\n",
              "\n",
              "#sk-container-id-2 div.sk-container {\n",
              "  /* jupyter's `normalize.less` sets `[hidden] { display: none; }`\n",
              "     but bootstrap.min.css set `[hidden] { display: none !important; }`\n",
              "     so we also need the `!important` here to be able to override the\n",
              "     default hidden behavior on the sphinx rendered scikit-learn.org.\n",
              "     See: https://github.com/scikit-learn/scikit-learn/issues/21755 */\n",
              "  display: inline-block !important;\n",
              "  position: relative;\n",
              "}\n",
              "\n",
              "#sk-container-id-2 div.sk-text-repr-fallback {\n",
              "  display: none;\n",
              "}\n",
              "\n",
              "div.sk-parallel-item,\n",
              "div.sk-serial,\n",
              "div.sk-item {\n",
              "  /* draw centered vertical line to link estimators */\n",
              "  background-image: linear-gradient(var(--sklearn-color-text-on-default-background), var(--sklearn-color-text-on-default-background));\n",
              "  background-size: 2px 100%;\n",
              "  background-repeat: no-repeat;\n",
              "  background-position: center center;\n",
              "}\n",
              "\n",
              "/* Parallel-specific style estimator block */\n",
              "\n",
              "#sk-container-id-2 div.sk-parallel-item::after {\n",
              "  content: \"\";\n",
              "  width: 100%;\n",
              "  border-bottom: 2px solid var(--sklearn-color-text-on-default-background);\n",
              "  flex-grow: 1;\n",
              "}\n",
              "\n",
              "#sk-container-id-2 div.sk-parallel {\n",
              "  display: flex;\n",
              "  align-items: stretch;\n",
              "  justify-content: center;\n",
              "  background-color: var(--sklearn-color-background);\n",
              "  position: relative;\n",
              "}\n",
              "\n",
              "#sk-container-id-2 div.sk-parallel-item {\n",
              "  display: flex;\n",
              "  flex-direction: column;\n",
              "}\n",
              "\n",
              "#sk-container-id-2 div.sk-parallel-item:first-child::after {\n",
              "  align-self: flex-end;\n",
              "  width: 50%;\n",
              "}\n",
              "\n",
              "#sk-container-id-2 div.sk-parallel-item:last-child::after {\n",
              "  align-self: flex-start;\n",
              "  width: 50%;\n",
              "}\n",
              "\n",
              "#sk-container-id-2 div.sk-parallel-item:only-child::after {\n",
              "  width: 0;\n",
              "}\n",
              "\n",
              "/* Serial-specific style estimator block */\n",
              "\n",
              "#sk-container-id-2 div.sk-serial {\n",
              "  display: flex;\n",
              "  flex-direction: column;\n",
              "  align-items: center;\n",
              "  background-color: var(--sklearn-color-background);\n",
              "  padding-right: 1em;\n",
              "  padding-left: 1em;\n",
              "}\n",
              "\n",
              "\n",
              "/* Toggleable style: style used for estimator/Pipeline/ColumnTransformer box that is\n",
              "clickable and can be expanded/collapsed.\n",
              "- Pipeline and ColumnTransformer use this feature and define the default style\n",
              "- Estimators will overwrite some part of the style using the `sk-estimator` class\n",
              "*/\n",
              "\n",
              "/* Pipeline and ColumnTransformer style (default) */\n",
              "\n",
              "#sk-container-id-2 div.sk-toggleable {\n",
              "  /* Default theme specific background. It is overwritten whether we have a\n",
              "  specific estimator or a Pipeline/ColumnTransformer */\n",
              "  background-color: var(--sklearn-color-background);\n",
              "}\n",
              "\n",
              "/* Toggleable label */\n",
              "#sk-container-id-2 label.sk-toggleable__label {\n",
              "  cursor: pointer;\n",
              "  display: flex;\n",
              "  width: 100%;\n",
              "  margin-bottom: 0;\n",
              "  padding: 0.5em;\n",
              "  box-sizing: border-box;\n",
              "  text-align: center;\n",
              "  align-items: start;\n",
              "  justify-content: space-between;\n",
              "  gap: 0.5em;\n",
              "}\n",
              "\n",
              "#sk-container-id-2 label.sk-toggleable__label .caption {\n",
              "  font-size: 0.6rem;\n",
              "  font-weight: lighter;\n",
              "  color: var(--sklearn-color-text-muted);\n",
              "}\n",
              "\n",
              "#sk-container-id-2 label.sk-toggleable__label-arrow:before {\n",
              "  /* Arrow on the left of the label */\n",
              "  content: \"▸\";\n",
              "  float: left;\n",
              "  margin-right: 0.25em;\n",
              "  color: var(--sklearn-color-icon);\n",
              "}\n",
              "\n",
              "#sk-container-id-2 label.sk-toggleable__label-arrow:hover:before {\n",
              "  color: var(--sklearn-color-text);\n",
              "}\n",
              "\n",
              "/* Toggleable content - dropdown */\n",
              "\n",
              "#sk-container-id-2 div.sk-toggleable__content {\n",
              "  max-height: 0;\n",
              "  max-width: 0;\n",
              "  overflow: hidden;\n",
              "  text-align: left;\n",
              "  /* unfitted */\n",
              "  background-color: var(--sklearn-color-unfitted-level-0);\n",
              "}\n",
              "\n",
              "#sk-container-id-2 div.sk-toggleable__content.fitted {\n",
              "  /* fitted */\n",
              "  background-color: var(--sklearn-color-fitted-level-0);\n",
              "}\n",
              "\n",
              "#sk-container-id-2 div.sk-toggleable__content pre {\n",
              "  margin: 0.2em;\n",
              "  border-radius: 0.25em;\n",
              "  color: var(--sklearn-color-text);\n",
              "  /* unfitted */\n",
              "  background-color: var(--sklearn-color-unfitted-level-0);\n",
              "}\n",
              "\n",
              "#sk-container-id-2 div.sk-toggleable__content.fitted pre {\n",
              "  /* unfitted */\n",
              "  background-color: var(--sklearn-color-fitted-level-0);\n",
              "}\n",
              "\n",
              "#sk-container-id-2 input.sk-toggleable__control:checked~div.sk-toggleable__content {\n",
              "  /* Expand drop-down */\n",
              "  max-height: 200px;\n",
              "  max-width: 100%;\n",
              "  overflow: auto;\n",
              "}\n",
              "\n",
              "#sk-container-id-2 input.sk-toggleable__control:checked~label.sk-toggleable__label-arrow:before {\n",
              "  content: \"▾\";\n",
              "}\n",
              "\n",
              "/* Pipeline/ColumnTransformer-specific style */\n",
              "\n",
              "#sk-container-id-2 div.sk-label input.sk-toggleable__control:checked~label.sk-toggleable__label {\n",
              "  color: var(--sklearn-color-text);\n",
              "  background-color: var(--sklearn-color-unfitted-level-2);\n",
              "}\n",
              "\n",
              "#sk-container-id-2 div.sk-label.fitted input.sk-toggleable__control:checked~label.sk-toggleable__label {\n",
              "  background-color: var(--sklearn-color-fitted-level-2);\n",
              "}\n",
              "\n",
              "/* Estimator-specific style */\n",
              "\n",
              "/* Colorize estimator box */\n",
              "#sk-container-id-2 div.sk-estimator input.sk-toggleable__control:checked~label.sk-toggleable__label {\n",
              "  /* unfitted */\n",
              "  background-color: var(--sklearn-color-unfitted-level-2);\n",
              "}\n",
              "\n",
              "#sk-container-id-2 div.sk-estimator.fitted input.sk-toggleable__control:checked~label.sk-toggleable__label {\n",
              "  /* fitted */\n",
              "  background-color: var(--sklearn-color-fitted-level-2);\n",
              "}\n",
              "\n",
              "#sk-container-id-2 div.sk-label label.sk-toggleable__label,\n",
              "#sk-container-id-2 div.sk-label label {\n",
              "  /* The background is the default theme color */\n",
              "  color: var(--sklearn-color-text-on-default-background);\n",
              "}\n",
              "\n",
              "/* On hover, darken the color of the background */\n",
              "#sk-container-id-2 div.sk-label:hover label.sk-toggleable__label {\n",
              "  color: var(--sklearn-color-text);\n",
              "  background-color: var(--sklearn-color-unfitted-level-2);\n",
              "}\n",
              "\n",
              "/* Label box, darken color on hover, fitted */\n",
              "#sk-container-id-2 div.sk-label.fitted:hover label.sk-toggleable__label.fitted {\n",
              "  color: var(--sklearn-color-text);\n",
              "  background-color: var(--sklearn-color-fitted-level-2);\n",
              "}\n",
              "\n",
              "/* Estimator label */\n",
              "\n",
              "#sk-container-id-2 div.sk-label label {\n",
              "  font-family: monospace;\n",
              "  font-weight: bold;\n",
              "  display: inline-block;\n",
              "  line-height: 1.2em;\n",
              "}\n",
              "\n",
              "#sk-container-id-2 div.sk-label-container {\n",
              "  text-align: center;\n",
              "}\n",
              "\n",
              "/* Estimator-specific */\n",
              "#sk-container-id-2 div.sk-estimator {\n",
              "  font-family: monospace;\n",
              "  border: 1px dotted var(--sklearn-color-border-box);\n",
              "  border-radius: 0.25em;\n",
              "  box-sizing: border-box;\n",
              "  margin-bottom: 0.5em;\n",
              "  /* unfitted */\n",
              "  background-color: var(--sklearn-color-unfitted-level-0);\n",
              "}\n",
              "\n",
              "#sk-container-id-2 div.sk-estimator.fitted {\n",
              "  /* fitted */\n",
              "  background-color: var(--sklearn-color-fitted-level-0);\n",
              "}\n",
              "\n",
              "/* on hover */\n",
              "#sk-container-id-2 div.sk-estimator:hover {\n",
              "  /* unfitted */\n",
              "  background-color: var(--sklearn-color-unfitted-level-2);\n",
              "}\n",
              "\n",
              "#sk-container-id-2 div.sk-estimator.fitted:hover {\n",
              "  /* fitted */\n",
              "  background-color: var(--sklearn-color-fitted-level-2);\n",
              "}\n",
              "\n",
              "/* Specification for estimator info (e.g. \"i\" and \"?\") */\n",
              "\n",
              "/* Common style for \"i\" and \"?\" */\n",
              "\n",
              ".sk-estimator-doc-link,\n",
              "a:link.sk-estimator-doc-link,\n",
              "a:visited.sk-estimator-doc-link {\n",
              "  float: right;\n",
              "  font-size: smaller;\n",
              "  line-height: 1em;\n",
              "  font-family: monospace;\n",
              "  background-color: var(--sklearn-color-background);\n",
              "  border-radius: 1em;\n",
              "  height: 1em;\n",
              "  width: 1em;\n",
              "  text-decoration: none !important;\n",
              "  margin-left: 0.5em;\n",
              "  text-align: center;\n",
              "  /* unfitted */\n",
              "  border: var(--sklearn-color-unfitted-level-1) 1pt solid;\n",
              "  color: var(--sklearn-color-unfitted-level-1);\n",
              "}\n",
              "\n",
              ".sk-estimator-doc-link.fitted,\n",
              "a:link.sk-estimator-doc-link.fitted,\n",
              "a:visited.sk-estimator-doc-link.fitted {\n",
              "  /* fitted */\n",
              "  border: var(--sklearn-color-fitted-level-1) 1pt solid;\n",
              "  color: var(--sklearn-color-fitted-level-1);\n",
              "}\n",
              "\n",
              "/* On hover */\n",
              "div.sk-estimator:hover .sk-estimator-doc-link:hover,\n",
              ".sk-estimator-doc-link:hover,\n",
              "div.sk-label-container:hover .sk-estimator-doc-link:hover,\n",
              ".sk-estimator-doc-link:hover {\n",
              "  /* unfitted */\n",
              "  background-color: var(--sklearn-color-unfitted-level-3);\n",
              "  color: var(--sklearn-color-background);\n",
              "  text-decoration: none;\n",
              "}\n",
              "\n",
              "div.sk-estimator.fitted:hover .sk-estimator-doc-link.fitted:hover,\n",
              ".sk-estimator-doc-link.fitted:hover,\n",
              "div.sk-label-container:hover .sk-estimator-doc-link.fitted:hover,\n",
              ".sk-estimator-doc-link.fitted:hover {\n",
              "  /* fitted */\n",
              "  background-color: var(--sklearn-color-fitted-level-3);\n",
              "  color: var(--sklearn-color-background);\n",
              "  text-decoration: none;\n",
              "}\n",
              "\n",
              "/* Span, style for the box shown on hovering the info icon */\n",
              ".sk-estimator-doc-link span {\n",
              "  display: none;\n",
              "  z-index: 9999;\n",
              "  position: relative;\n",
              "  font-weight: normal;\n",
              "  right: .2ex;\n",
              "  padding: .5ex;\n",
              "  margin: .5ex;\n",
              "  width: min-content;\n",
              "  min-width: 20ex;\n",
              "  max-width: 50ex;\n",
              "  color: var(--sklearn-color-text);\n",
              "  box-shadow: 2pt 2pt 4pt #999;\n",
              "  /* unfitted */\n",
              "  background: var(--sklearn-color-unfitted-level-0);\n",
              "  border: .5pt solid var(--sklearn-color-unfitted-level-3);\n",
              "}\n",
              "\n",
              ".sk-estimator-doc-link.fitted span {\n",
              "  /* fitted */\n",
              "  background: var(--sklearn-color-fitted-level-0);\n",
              "  border: var(--sklearn-color-fitted-level-3);\n",
              "}\n",
              "\n",
              ".sk-estimator-doc-link:hover span {\n",
              "  display: block;\n",
              "}\n",
              "\n",
              "/* \"?\"-specific style due to the `<a>` HTML tag */\n",
              "\n",
              "#sk-container-id-2 a.estimator_doc_link {\n",
              "  float: right;\n",
              "  font-size: 1rem;\n",
              "  line-height: 1em;\n",
              "  font-family: monospace;\n",
              "  background-color: var(--sklearn-color-background);\n",
              "  border-radius: 1rem;\n",
              "  height: 1rem;\n",
              "  width: 1rem;\n",
              "  text-decoration: none;\n",
              "  /* unfitted */\n",
              "  color: var(--sklearn-color-unfitted-level-1);\n",
              "  border: var(--sklearn-color-unfitted-level-1) 1pt solid;\n",
              "}\n",
              "\n",
              "#sk-container-id-2 a.estimator_doc_link.fitted {\n",
              "  /* fitted */\n",
              "  border: var(--sklearn-color-fitted-level-1) 1pt solid;\n",
              "  color: var(--sklearn-color-fitted-level-1);\n",
              "}\n",
              "\n",
              "/* On hover */\n",
              "#sk-container-id-2 a.estimator_doc_link:hover {\n",
              "  /* unfitted */\n",
              "  background-color: var(--sklearn-color-unfitted-level-3);\n",
              "  color: var(--sklearn-color-background);\n",
              "  text-decoration: none;\n",
              "}\n",
              "\n",
              "#sk-container-id-2 a.estimator_doc_link.fitted:hover {\n",
              "  /* fitted */\n",
              "  background-color: var(--sklearn-color-fitted-level-3);\n",
              "}\n",
              "</style><div id=\"sk-container-id-2\" class=\"sk-top-container\"><div class=\"sk-text-repr-fallback\"><pre>SVC(C=0.7, random_state=42)</pre><b>In a Jupyter environment, please rerun this cell to show the HTML representation or trust the notebook. <br />On GitHub, the HTML representation is unable to render, please try loading this page with nbviewer.org.</b></div><div class=\"sk-container\" hidden><div class=\"sk-item\"><div class=\"sk-estimator fitted sk-toggleable\"><input class=\"sk-toggleable__control sk-hidden--visually\" id=\"sk-estimator-id-4\" type=\"checkbox\" checked><label for=\"sk-estimator-id-4\" class=\"sk-toggleable__label fitted sk-toggleable__label-arrow\"><div><div>SVC</div></div><div><a class=\"sk-estimator-doc-link fitted\" rel=\"noreferrer\" target=\"_blank\" href=\"https://scikit-learn.org/1.6/modules/generated/sklearn.svm.SVC.html\">?<span>Documentation for SVC</span></a><span class=\"sk-estimator-doc-link fitted\">i<span>Fitted</span></span></div></label><div class=\"sk-toggleable__content fitted\"><pre>SVC(C=0.7, random_state=42)</pre></div> </div></div></div></div>"
            ]
          },
          "metadata": {},
          "execution_count": 31
        }
      ],
      "source": [
        "logistic1_classifier= SVC(random_state=42,C=0.7)\n",
        "logistic1_classifier.fit(X_train_tfidf_stage1, y_train_tfidf_stage1)"
      ]
    },
    {
      "cell_type": "code",
      "execution_count": 32,
      "metadata": {
        "id": "GdAGySRMrqRi"
      },
      "outputs": [],
      "source": [
        "#logistic1_classifier= grid_search.best_estimator_"
      ]
    },
    {
      "cell_type": "markdown",
      "metadata": {
        "id": "4iuw-sZ1kp7K"
      },
      "source": [
        "### classification report for train"
      ]
    },
    {
      "cell_type": "code",
      "execution_count": 33,
      "metadata": {
        "colab": {
          "base_uri": "https://localhost:8080/"
        },
        "id": "qfXRN_MnktuY",
        "outputId": "f1bfea3c-b72a-48cf-c97c-324ef9009a8c"
      },
      "outputs": [
        {
          "output_type": "stream",
          "name": "stdout",
          "text": [
            "Stage 1 (Binary Classification) - Normal vs Non-Normal\n",
            "Accuracy: 0.9695093014426728\n",
            "              precision    recall  f1-score   support\n",
            "\n",
            "           0       0.97      0.98      0.98     29109\n",
            "           1       0.96      0.94      0.95     13035\n",
            "\n",
            "    accuracy                           0.97     42144\n",
            "   macro avg       0.97      0.96      0.96     42144\n",
            "weighted avg       0.97      0.97      0.97     42144\n",
            "\n",
            "Confusion Matrix:\n",
            " [[28562   547]\n",
            " [  738 12297]]\n"
          ]
        }
      ],
      "source": [
        "# Evaluate binary classifier\n",
        "y_pred_stage1 = logistic1_classifier.predict(X_train_tfidf_stage1)\n",
        "print(\"Stage 1 (Binary Classification) - Normal vs Non-Normal\")\n",
        "print(\"Accuracy:\", accuracy_score(y_train_tfidf_stage1, y_pred_stage1))\n",
        "print(classification_report(y_train_tfidf_stage1, y_pred_stage1))\n",
        "print(\"Confusion Matrix:\\n\", confusion_matrix(y_train_tfidf_stage1, y_pred_stage1))\n"
      ]
    },
    {
      "cell_type": "code",
      "execution_count": 34,
      "metadata": {
        "cellView": "form",
        "colab": {
          "base_uri": "https://localhost:8080/"
        },
        "id": "fIuJs8P6P0Ha",
        "outputId": "15a95a0c-44d6-4157-e7b9-bbf7e254beb4"
      },
      "outputs": [
        {
          "output_type": "stream",
          "name": "stdout",
          "text": [
            "Stage 1 (Binary Classification) - Normal vs Non-Normal\n",
            "Accuracy: 0.940115782480782\n",
            "              precision    recall  f1-score   support\n",
            "\n",
            "           0       0.95      0.96      0.96      7229\n",
            "           1       0.91      0.89      0.90      3308\n",
            "\n",
            "    accuracy                           0.94     10537\n",
            "   macro avg       0.93      0.93      0.93     10537\n",
            "weighted avg       0.94      0.94      0.94     10537\n",
            "\n",
            "Confusion Matrix:\n",
            " [[6947  282]\n",
            " [ 349 2959]]\n"
          ]
        }
      ],
      "source": [
        "# @title classification report\n",
        "# Evaluate binary classifier\n",
        "y_pred_stage1 = logistic1_classifier.predict(X_test_tfidf_stage1)\n",
        "print(\"Stage 1 (Binary Classification) - Normal vs Non-Normal\")\n",
        "print(\"Accuracy:\", accuracy_score(y_test_binary, y_pred_stage1))\n",
        "print(classification_report(y_test_binary, y_pred_stage1))\n",
        "print(\"Confusion Matrix:\\n\", confusion_matrix(y_test_binary, y_pred_stage1))\n"
      ]
    },
    {
      "cell_type": "code",
      "execution_count": 35,
      "metadata": {
        "cellView": "form",
        "colab": {
          "base_uri": "https://localhost:8080/",
          "height": 410
        },
        "id": "orZRC33gP5IK",
        "outputId": "753dc851-7aea-497c-fa79-15ce2bfa57ae"
      },
      "outputs": [
        {
          "output_type": "display_data",
          "data": {
            "text/plain": [
              "<Figure size 600x400 with 2 Axes>"
            ],
            "image/png": "[encoded data removed]"
          },
          "metadata": {}
        }
      ],
      "source": [
        "# @title Heat Map\n",
        "# Calculate confusion matrix for Stage 1\n",
        "conf_matrix_stage1 = confusion_matrix(y_test_binary, y_pred_stage1)\n",
        "\n",
        "# Plot heatmap for Stage 1\n",
        "plt.figure(figsize=(6, 4))\n",
        "sns.heatmap(conf_matrix_stage1, annot=True, fmt=\"d\", cmap=\"Blues\", xticklabels=binary_encoder.classes_, yticklabels=binary_encoder.classes_)\n",
        "plt.title(\"Confusion Matrix - Stage 1 (Normal vs Non-Normal)\")\n",
        "plt.xlabel(\"Predicted Labels\")\n",
        "plt.ylabel(\"True Labels\")\n",
        "plt.show()\n"
      ]
    },
    {
      "cell_type": "markdown",
      "metadata": {
        "id": "9KMmPGfFq0P_"
      },
      "source": [
        "## 1.3 Best Classifier for  Stage 1"
      ]
    },
    {
      "cell_type": "markdown",
      "metadata": {
        "id": "1XYBawINq5AX"
      },
      "source": [
        "we chose the best classfier for this stage"
      ]
    },
    {
      "cell_type": "code",
      "execution_count": 36,
      "metadata": {
        "id": "jn9pb-Yrq7td"
      },
      "outputs": [],
      "source": [
        "binary_classifier = logistic1_classifier"
      ]
    },
    {
      "cell_type": "markdown",
      "metadata": {
        "id": "wrP2kUOFK-J3"
      },
      "source": [
        "# ***Non Normal Statement Classification***"
      ]
    },
    {
      "cell_type": "markdown",
      "metadata": {
        "id": "6o0MmdiODUH6"
      },
      "source": [
        "## 2.1 SVM Stage 2"
      ]
    },
    {
      "cell_type": "markdown",
      "metadata": {
        "id": "9Em73VlEj8aH"
      },
      "source": [
        "### Grid Search Params"
      ]
    },
    {
      "cell_type": "code",
      "execution_count": 37,
      "metadata": {
        "id": "X8PyV11kNUES"
      },
      "outputs": [],
      "source": [
        "# Define the binary classifier\n",
        "clf = LogisticRegression(max_iter=1000, random_state=42)\n",
        "\n",
        "# Define the parameter grid for GridSearchCV\n",
        "param_grid = {\n",
        "    'C': [ 0.03,0.01, 0.02],  # Regularization strength\n",
        "    'solver': ['lbfgs'],  # Optimization algorithms\n",
        "    'penalty': ['l2'],  # Regularization type\n",
        "}\n",
        "\n",
        "# Initialize GridSearchCV\n",
        "grid_search = GridSearchCV(estimator=clf, param_grid=param_grid, scoring='accuracy', cv=5, n_jobs=-1, verbose=1)\n",
        "\n"
      ]
    },
    {
      "cell_type": "markdown",
      "metadata": {
        "id": "ijhMxfv0j_xo"
      },
      "source": [
        "### Train the Model"
      ]
    },
    {
      "cell_type": "code",
      "execution_count": 38,
      "metadata": {
        "colab": {
          "base_uri": "https://localhost:8080/",
          "height": 0
        },
        "id": "wsf5SS_LNVcE",
        "outputId": "0518b82c-d725-46da-a74d-c76b66bc4d22"
      },
      "outputs": [
        {
          "output_type": "stream",
          "name": "stdout",
          "text": [
            "Fitting 5 folds for each of 3 candidates, totalling 15 fits\n"
          ]
        },
        {
          "output_type": "execute_result",
          "data": {
            "text/plain": [
              "GridSearchCV(cv=5, estimator=LogisticRegression(max_iter=1000, random_state=42),\n",
              "             n_jobs=-1,\n",
              "             param_grid={'C': [0.03, 0.01, 0.02], 'penalty': ['l2'],\n",
              "                         'solver': ['lbfgs']},\n",
              "             scoring='accuracy', verbose=1)"
            ],
            "text/html": [
              "<style>#sk-container-id-3 {\n",
              "  /* Definition of color scheme common for light and dark mode */\n",
              "  --sklearn-color-text: #000;\n",
              "  --sklearn-color-text-muted: #666;\n",
              "  --sklearn-color-line: gray;\n",
              "  /* Definition of color scheme for unfitted estimators */\n",
              "  --sklearn-color-unfitted-level-0: #fff5e6;\n",
              "  --sklearn-color-unfitted-level-1: #f6e4d2;\n",
              "  --sklearn-color-unfitted-level-2: #ffe0b3;\n",
              "  --sklearn-color-unfitted-level-3: chocolate;\n",
              "  /* Definition of color scheme for fitted estimators */\n",
              "  --sklearn-color-fitted-level-0: #f0f8ff;\n",
              "  --sklearn-color-fitted-level-1: #d4ebff;\n",
              "  --sklearn-color-fitted-level-2: #b3dbfd;\n",
              "  --sklearn-color-fitted-level-3: cornflowerblue;\n",
              "\n",
              "  /* Specific color for light theme */\n",
              "  --sklearn-color-text-on-default-background: var(--sg-text-color, var(--theme-code-foreground, var(--jp-content-font-color1, black)));\n",
              "  --sklearn-color-background: var(--sg-background-color, var(--theme-background, var(--jp-layout-color0, white)));\n",
              "  --sklearn-color-border-box: var(--sg-text-color, var(--theme-code-foreground, var(--jp-content-font-color1, black)));\n",
              "  --sklearn-color-icon: #696969;\n",
              "\n",
              "  @media (prefers-color-scheme: dark) {\n",
              "    /* Redefinition of color scheme for dark theme */\n",
              "    --sklearn-color-text-on-default-background: var(--sg-text-color, var(--theme-code-foreground, var(--jp-content-font-color1, white)));\n",
              "    --sklearn-color-background: var(--sg-background-color, var(--theme-background, var(--jp-layout-color0, #111)));\n",
              "    --sklearn-color-border-box: var(--sg-text-color, var(--theme-code-foreground, var(--jp-content-font-color1, white)));\n",
              "    --sklearn-color-icon: #878787;\n",
              "  }\n",
              "}\n",
              "\n",
              "#sk-container-id-3 {\n",
              "  color: var(--sklearn-color-text);\n",
              "}\n",
              "\n",
              "#sk-container-id-3 pre {\n",
              "  padding: 0;\n",
              "}\n",
              "\n",
              "#sk-container-id-3 input.sk-hidden--visually {\n",
              "  border: 0;\n",
              "  clip: rect(1px 1px 1px 1px);\n",
              "  clip: rect(1px, 1px, 1px, 1px);\n",
              "  height: 1px;\n",
              "  margin: -1px;\n",
              "  overflow: hidden;\n",
              "  padding: 0;\n",
              "  position: absolute;\n",
              "  width: 1px;\n",
              "}\n",
              "\n",
              "#sk-container-id-3 div.sk-dashed-wrapped {\n",
              "  border: 1px dashed var(--sklearn-color-line);\n",
              "  margin: 0 0.4em 0.5em 0.4em;\n",
              "  box-sizing: border-box;\n",
              "  padding-bottom: 0.4em;\n",
              "  background-color: var(--sklearn-color-background);\n",
              "}\n",
              "\n",
              "#sk-container-id-3 div.sk-container {\n",
              "  /* jupyter's `normalize.less` sets `[hidden] { display: none; }`\n",
              "     but bootstrap.min.css set `[hidden] { display: none !important; }`\n",
              "     so we also need the `!important` here to be able to override the\n",
              "     default hidden behavior on the sphinx rendered scikit-learn.org.\n",
              "     See: https://github.com/scikit-learn/scikit-learn/issues/21755 */\n",
              "  display: inline-block !important;\n",
              "  position: relative;\n",
              "}\n",
              "\n",
              "#sk-container-id-3 div.sk-text-repr-fallback {\n",
              "  display: none;\n",
              "}\n",
              "\n",
              "div.sk-parallel-item,\n",
              "div.sk-serial,\n",
              "div.sk-item {\n",
              "  /* draw centered vertical line to link estimators */\n",
              "  background-image: linear-gradient(var(--sklearn-color-text-on-default-background), var(--sklearn-color-text-on-default-background));\n",
              "  background-size: 2px 100%;\n",
              "  background-repeat: no-repeat;\n",
              "  background-position: center center;\n",
              "}\n",
              "\n",
              "/* Parallel-specific style estimator block */\n",
              "\n",
              "#sk-container-id-3 div.sk-parallel-item::after {\n",
              "  content: \"\";\n",
              "  width: 100%;\n",
              "  border-bottom: 2px solid var(--sklearn-color-text-on-default-background);\n",
              "  flex-grow: 1;\n",
              "}\n",
              "\n",
              "#sk-container-id-3 div.sk-parallel {\n",
              "  display: flex;\n",
              "  align-items: stretch;\n",
              "  justify-content: center;\n",
              "  background-color: var(--sklearn-color-background);\n",
              "  position: relative;\n",
              "}\n",
              "\n",
              "#sk-container-id-3 div.sk-parallel-item {\n",
              "  display: flex;\n",
              "  flex-direction: column;\n",
              "}\n",
              "\n",
              "#sk-container-id-3 div.sk-parallel-item:first-child::after {\n",
              "  align-self: flex-end;\n",
              "  width: 50%;\n",
              "}\n",
              "\n",
              "#sk-container-id-3 div.sk-parallel-item:last-child::after {\n",
              "  align-self: flex-start;\n",
              "  width: 50%;\n",
              "}\n",
              "\n",
              "#sk-container-id-3 div.sk-parallel-item:only-child::after {\n",
              "  width: 0;\n",
              "}\n",
              "\n",
              "/* Serial-specific style estimator block */\n",
              "\n",
              "#sk-container-id-3 div.sk-serial {\n",
              "  display: flex;\n",
              "  flex-direction: column;\n",
              "  align-items: center;\n",
              "  background-color: var(--sklearn-color-background);\n",
              "  padding-right: 1em;\n",
              "  padding-left: 1em;\n",
              "}\n",
              "\n",
              "\n",
              "/* Toggleable style: style used for estimator/Pipeline/ColumnTransformer box that is\n",
              "clickable and can be expanded/collapsed.\n",
              "- Pipeline and ColumnTransformer use this feature and define the default style\n",
              "- Estimators will overwrite some part of the style using the `sk-estimator` class\n",
              "*/\n",
              "\n",
              "/* Pipeline and ColumnTransformer style (default) */\n",
              "\n",
              "#sk-container-id-3 div.sk-toggleable {\n",
              "  /* Default theme specific background. It is overwritten whether we have a\n",
              "  specific estimator or a Pipeline/ColumnTransformer */\n",
              "  background-color: var(--sklearn-color-background);\n",
              "}\n",
              "\n",
              "/* Toggleable label */\n",
              "#sk-container-id-3 label.sk-toggleable__label {\n",
              "  cursor: pointer;\n",
              "  display: flex;\n",
              "  width: 100%;\n",
              "  margin-bottom: 0;\n",
              "  padding: 0.5em;\n",
              "  box-sizing: border-box;\n",
              "  text-align: center;\n",
              "  align-items: start;\n",
              "  justify-content: space-between;\n",
              "  gap: 0.5em;\n",
              "}\n",
              "\n",
              "#sk-container-id-3 label.sk-toggleable__label .caption {\n",
              "  font-size: 0.6rem;\n",
              "  font-weight: lighter;\n",
              "  color: var(--sklearn-color-text-muted);\n",
              "}\n",
              "\n",
              "#sk-container-id-3 label.sk-toggleable__label-arrow:before {\n",
              "  /* Arrow on the left of the label */\n",
              "  content: \"▸\";\n",
              "  float: left;\n",
              "  margin-right: 0.25em;\n",
              "  color: var(--sklearn-color-icon);\n",
              "}\n",
              "\n",
              "#sk-container-id-3 label.sk-toggleable__label-arrow:hover:before {\n",
              "  color: var(--sklearn-color-text);\n",
              "}\n",
              "\n",
              "/* Toggleable content - dropdown */\n",
              "\n",
              "#sk-container-id-3 div.sk-toggleable__content {\n",
              "  max-height: 0;\n",
              "  max-width: 0;\n",
              "  overflow: hidden;\n",
              "  text-align: left;\n",
              "  /* unfitted */\n",
              "  background-color: var(--sklearn-color-unfitted-level-0);\n",
              "}\n",
              "\n",
              "#sk-container-id-3 div.sk-toggleable__content.fitted {\n",
              "  /* fitted */\n",
              "  background-color: var(--sklearn-color-fitted-level-0);\n",
              "}\n",
              "\n",
              "#sk-container-id-3 div.sk-toggleable__content pre {\n",
              "  margin: 0.2em;\n",
              "  border-radius: 0.25em;\n",
              "  color: var(--sklearn-color-text);\n",
              "  /* unfitted */\n",
              "  background-color: var(--sklearn-color-unfitted-level-0);\n",
              "}\n",
              "\n",
              "#sk-container-id-3 div.sk-toggleable__content.fitted pre {\n",
              "  /* unfitted */\n",
              "  background-color: var(--sklearn-color-fitted-level-0);\n",
              "}\n",
              "\n",
              "#sk-container-id-3 input.sk-toggleable__control:checked~div.sk-toggleable__content {\n",
              "  /* Expand drop-down */\n",
              "  max-height: 200px;\n",
              "  max-width: 100%;\n",
              "  overflow: auto;\n",
              "}\n",
              "\n",
              "#sk-container-id-3 input.sk-toggleable__control:checked~label.sk-toggleable__label-arrow:before {\n",
              "  content: \"▾\";\n",
              "}\n",
              "\n",
              "/* Pipeline/ColumnTransformer-specific style */\n",
              "\n",
              "#sk-container-id-3 div.sk-label input.sk-toggleable__control:checked~label.sk-toggleable__label {\n",
              "  color: var(--sklearn-color-text);\n",
              "  background-color: var(--sklearn-color-unfitted-level-2);\n",
              "}\n",
              "\n",
              "#sk-container-id-3 div.sk-label.fitted input.sk-toggleable__control:checked~label.sk-toggleable__label {\n",
              "  background-color: var(--sklearn-color-fitted-level-2);\n",
              "}\n",
              "\n",
              "/* Estimator-specific style */\n",
              "\n",
              "/* Colorize estimator box */\n",
              "#sk-container-id-3 div.sk-estimator input.sk-toggleable__control:checked~label.sk-toggleable__label {\n",
              "  /* unfitted */\n",
              "  background-color: var(--sklearn-color-unfitted-level-2);\n",
              "}\n",
              "\n",
              "#sk-container-id-3 div.sk-estimator.fitted input.sk-toggleable__control:checked~label.sk-toggleable__label {\n",
              "  /* fitted */\n",
              "  background-color: var(--sklearn-color-fitted-level-2);\n",
              "}\n",
              "\n",
              "#sk-container-id-3 div.sk-label label.sk-toggleable__label,\n",
              "#sk-container-id-3 div.sk-label label {\n",
              "  /* The background is the default theme color */\n",
              "  color: var(--sklearn-color-text-on-default-background);\n",
              "}\n",
              "\n",
              "/* On hover, darken the color of the background */\n",
              "#sk-container-id-3 div.sk-label:hover label.sk-toggleable__label {\n",
              "  color: var(--sklearn-color-text);\n",
              "  background-color: var(--sklearn-color-unfitted-level-2);\n",
              "}\n",
              "\n",
              "/* Label box, darken color on hover, fitted */\n",
              "#sk-container-id-3 div.sk-label.fitted:hover label.sk-toggleable__label.fitted {\n",
              "  color: var(--sklearn-color-text);\n",
              "  background-color: var(--sklearn-color-fitted-level-2);\n",
              "}\n",
              "\n",
              "/* Estimator label */\n",
              "\n",
              "#sk-container-id-3 div.sk-label label {\n",
              "  font-family: monospace;\n",
              "  font-weight: bold;\n",
              "  display: inline-block;\n",
              "  line-height: 1.2em;\n",
              "}\n",
              "\n",
              "#sk-container-id-3 div.sk-label-container {\n",
              "  text-align: center;\n",
              "}\n",
              "\n",
              "/* Estimator-specific */\n",
              "#sk-container-id-3 div.sk-estimator {\n",
              "  font-family: monospace;\n",
              "  border: 1px dotted var(--sklearn-color-border-box);\n",
              "  border-radius: 0.25em;\n",
              "  box-sizing: border-box;\n",
              "  margin-bottom: 0.5em;\n",
              "  /* unfitted */\n",
              "  background-color: var(--sklearn-color-unfitted-level-0);\n",
              "}\n",
              "\n",
              "#sk-container-id-3 div.sk-estimator.fitted {\n",
              "  /* fitted */\n",
              "  background-color: var(--sklearn-color-fitted-level-0);\n",
              "}\n",
              "\n",
              "/* on hover */\n",
              "#sk-container-id-3 div.sk-estimator:hover {\n",
              "  /* unfitted */\n",
              "  background-color: var(--sklearn-color-unfitted-level-2);\n",
              "}\n",
              "\n",
              "#sk-container-id-3 div.sk-estimator.fitted:hover {\n",
              "  /* fitted */\n",
              "  background-color: var(--sklearn-color-fitted-level-2);\n",
              "}\n",
              "\n",
              "/* Specification for estimator info (e.g. \"i\" and \"?\") */\n",
              "\n",
              "/* Common style for \"i\" and \"?\" */\n",
              "\n",
              ".sk-estimator-doc-link,\n",
              "a:link.sk-estimator-doc-link,\n",
              "a:visited.sk-estimator-doc-link {\n",
              "  float: right;\n",
              "  font-size: smaller;\n",
              "  line-height: 1em;\n",
              "  font-family: monospace;\n",
              "  background-color: var(--sklearn-color-background);\n",
              "  border-radius: 1em;\n",
              "  height: 1em;\n",
              "  width: 1em;\n",
              "  text-decoration: none !important;\n",
              "  margin-left: 0.5em;\n",
              "  text-align: center;\n",
              "  /* unfitted */\n",
              "  border: var(--sklearn-color-unfitted-level-1) 1pt solid;\n",
              "  color: var(--sklearn-color-unfitted-level-1);\n",
              "}\n",
              "\n",
              ".sk-estimator-doc-link.fitted,\n",
              "a:link.sk-estimator-doc-link.fitted,\n",
              "a:visited.sk-estimator-doc-link.fitted {\n",
              "  /* fitted */\n",
              "  border: var(--sklearn-color-fitted-level-1) 1pt solid;\n",
              "  color: var(--sklearn-color-fitted-level-1);\n",
              "}\n",
              "\n",
              "/* On hover */\n",
              "div.sk-estimator:hover .sk-estimator-doc-link:hover,\n",
              ".sk-estimator-doc-link:hover,\n",
              "div.sk-label-container:hover .sk-estimator-doc-link:hover,\n",
              ".sk-estimator-doc-link:hover {\n",
              "  /* unfitted */\n",
              "  background-color: var(--sklearn-color-unfitted-level-3);\n",
              "  color: var(--sklearn-color-background);\n",
              "  text-decoration: none;\n",
              "}\n",
              "\n",
              "div.sk-estimator.fitted:hover .sk-estimator-doc-link.fitted:hover,\n",
              ".sk-estimator-doc-link.fitted:hover,\n",
              "div.sk-label-container:hover .sk-estimator-doc-link.fitted:hover,\n",
              ".sk-estimator-doc-link.fitted:hover {\n",
              "  /* fitted */\n",
              "  background-color: var(--sklearn-color-fitted-level-3);\n",
              "  color: var(--sklearn-color-background);\n",
              "  text-decoration: none;\n",
              "}\n",
              "\n",
              "/* Span, style for the box shown on hovering the info icon */\n",
              ".sk-estimator-doc-link span {\n",
              "  display: none;\n",
              "  z-index: 9999;\n",
              "  position: relative;\n",
              "  font-weight: normal;\n",
              "  right: .2ex;\n",
              "  padding: .5ex;\n",
              "  margin: .5ex;\n",
              "  width: min-content;\n",
              "  min-width: 20ex;\n",
              "  max-width: 50ex;\n",
              "  color: var(--sklearn-color-text);\n",
              "  box-shadow: 2pt 2pt 4pt #999;\n",
              "  /* unfitted */\n",
              "  background: var(--sklearn-color-unfitted-level-0);\n",
              "  border: .5pt solid var(--sklearn-color-unfitted-level-3);\n",
              "}\n",
              "\n",
              ".sk-estimator-doc-link.fitted span {\n",
              "  /* fitted */\n",
              "  background: var(--sklearn-color-fitted-level-0);\n",
              "  border: var(--sklearn-color-fitted-level-3);\n",
              "}\n",
              "\n",
              ".sk-estimator-doc-link:hover span {\n",
              "  display: block;\n",
              "}\n",
              "\n",
              "/* \"?\"-specific style due to the `<a>` HTML tag */\n",
              "\n",
              "#sk-container-id-3 a.estimator_doc_link {\n",
              "  float: right;\n",
              "  font-size: 1rem;\n",
              "  line-height: 1em;\n",
              "  font-family: monospace;\n",
              "  background-color: var(--sklearn-color-background);\n",
              "  border-radius: 1rem;\n",
              "  height: 1rem;\n",
              "  width: 1rem;\n",
              "  text-decoration: none;\n",
              "  /* unfitted */\n",
              "  color: var(--sklearn-color-unfitted-level-1);\n",
              "  border: var(--sklearn-color-unfitted-level-1) 1pt solid;\n",
              "}\n",
              "\n",
              "#sk-container-id-3 a.estimator_doc_link.fitted {\n",
              "  /* fitted */\n",
              "  border: var(--sklearn-color-fitted-level-1) 1pt solid;\n",
              "  color: var(--sklearn-color-fitted-level-1);\n",
              "}\n",
              "\n",
              "/* On hover */\n",
              "#sk-container-id-3 a.estimator_doc_link:hover {\n",
              "  /* unfitted */\n",
              "  background-color: var(--sklearn-color-unfitted-level-3);\n",
              "  color: var(--sklearn-color-background);\n",
              "  text-decoration: none;\n",
              "}\n",
              "\n",
              "#sk-container-id-3 a.estimator_doc_link.fitted:hover {\n",
              "  /* fitted */\n",
              "  background-color: var(--sklearn-color-fitted-level-3);\n",
              "}\n",
              "</style><div id=\"sk-container-id-3\" class=\"sk-top-container\"><div class=\"sk-text-repr-fallback\"><pre>GridSearchCV(cv=5, estimator=LogisticRegression(max_iter=1000, random_state=42),\n",
              "             n_jobs=-1,\n",
              "             param_grid={&#x27;C&#x27;: [0.03, 0.01, 0.02], &#x27;penalty&#x27;: [&#x27;l2&#x27;],\n",
              "                         &#x27;solver&#x27;: [&#x27;lbfgs&#x27;]},\n",
              "             scoring=&#x27;accuracy&#x27;, verbose=1)</pre><b>In a Jupyter environment, please rerun this cell to show the HTML representation or trust the notebook. <br />On GitHub, the HTML representation is unable to render, please try loading this page with nbviewer.org.</b></div><div class=\"sk-container\" hidden><div class=\"sk-item sk-dashed-wrapped\"><div class=\"sk-label-container\"><div class=\"sk-label fitted sk-toggleable\"><input class=\"sk-toggleable__control sk-hidden--visually\" id=\"sk-estimator-id-5\" type=\"checkbox\" ><label for=\"sk-estimator-id-5\" class=\"sk-toggleable__label fitted sk-toggleable__label-arrow\"><div><div>GridSearchCV</div></div><div><a class=\"sk-estimator-doc-link fitted\" rel=\"noreferrer\" target=\"_blank\" href=\"https://scikit-learn.org/1.6/modules/generated/sklearn.model_selection.GridSearchCV.html\">?<span>Documentation for GridSearchCV</span></a><span class=\"sk-estimator-doc-link fitted\">i<span>Fitted</span></span></div></label><div class=\"sk-toggleable__content fitted\"><pre>GridSearchCV(cv=5, estimator=LogisticRegression(max_iter=1000, random_state=42),\n",
              "             n_jobs=-1,\n",
              "             param_grid={&#x27;C&#x27;: [0.03, 0.01, 0.02], &#x27;penalty&#x27;: [&#x27;l2&#x27;],\n",
              "                         &#x27;solver&#x27;: [&#x27;lbfgs&#x27;]},\n",
              "             scoring=&#x27;accuracy&#x27;, verbose=1)</pre></div> </div></div><div class=\"sk-parallel\"><div class=\"sk-parallel-item\"><div class=\"sk-item\"><div class=\"sk-label-container\"><div class=\"sk-label fitted sk-toggleable\"><input class=\"sk-toggleable__control sk-hidden--visually\" id=\"sk-estimator-id-6\" type=\"checkbox\" ><label for=\"sk-estimator-id-6\" class=\"sk-toggleable__label fitted sk-toggleable__label-arrow\"><div><div>best_estimator_: LogisticRegression</div></div></label><div class=\"sk-toggleable__content fitted\"><pre>LogisticRegression(C=0.03, max_iter=1000, random_state=42)</pre></div> </div></div><div class=\"sk-serial\"><div class=\"sk-item\"><div class=\"sk-estimator fitted sk-toggleable\"><input class=\"sk-toggleable__control sk-hidden--visually\" id=\"sk-estimator-id-7\" type=\"checkbox\" ><label for=\"sk-estimator-id-7\" class=\"sk-toggleable__label fitted sk-toggleable__label-arrow\"><div><div>LogisticRegression</div></div><div><a class=\"sk-estimator-doc-link fitted\" rel=\"noreferrer\" target=\"_blank\" href=\"https://scikit-learn.org/1.6/modules/generated/sklearn.linear_model.LogisticRegression.html\">?<span>Documentation for LogisticRegression</span></a></div></label><div class=\"sk-toggleable__content fitted\"><pre>LogisticRegression(C=0.03, max_iter=1000, random_state=42)</pre></div> </div></div></div></div></div></div></div></div></div>"
            ]
          },
          "metadata": {},
          "execution_count": 38
        }
      ],
      "source": [
        "# Fit the grid search on the training data\n",
        "grid_search.fit(X_train_tfidf_stage2, y_train_tfidf_stage2)\n",
        "\n"
      ]
    },
    {
      "cell_type": "markdown",
      "metadata": {
        "id": "j_jjMgeCkJc1"
      },
      "source": [
        "### Best Classifier"
      ]
    },
    {
      "cell_type": "code",
      "execution_count": 39,
      "metadata": {
        "colab": {
          "base_uri": "https://localhost:8080/"
        },
        "id": "41k3pKQVNdWs",
        "outputId": "2d0672b9-2265-4f4f-9781-9d757702c1b2"
      },
      "outputs": [
        {
          "output_type": "stream",
          "name": "stdout",
          "text": [
            "Best hyperparameters found:  {'C': 0.03, 'penalty': 'l2', 'solver': 'lbfgs'}\n"
          ]
        }
      ],
      "source": [
        "# Get the best model and hyperparameters\n",
        "best_clf = grid_search.best_estimator_\n",
        "print(\"Best hyperparameters found: \", grid_search.best_params_)\n"
      ]
    },
    {
      "cell_type": "code",
      "execution_count": 40,
      "metadata": {
        "colab": {
          "base_uri": "https://localhost:8080/",
          "height": 80
        },
        "id": "mBcMOdnH6Y5k",
        "outputId": "dfad67f5-9408-4703-a440-8167440b6cb8"
      },
      "outputs": [
        {
          "output_type": "execute_result",
          "data": {
            "text/plain": [
              "SVC(C=0.3, kernel='linear', random_state=42)"
            ],
            "text/html": [
              "<style>#sk-container-id-4 {\n",
              "  /* Definition of color scheme common for light and dark mode */\n",
              "  --sklearn-color-text: #000;\n",
              "  --sklearn-color-text-muted: #666;\n",
              "  --sklearn-color-line: gray;\n",
              "  /* Definition of color scheme for unfitted estimators */\n",
              "  --sklearn-color-unfitted-level-0: #fff5e6;\n",
              "  --sklearn-color-unfitted-level-1: #f6e4d2;\n",
              "  --sklearn-color-unfitted-level-2: #ffe0b3;\n",
              "  --sklearn-color-unfitted-level-3: chocolate;\n",
              "  /* Definition of color scheme for fitted estimators */\n",
              "  --sklearn-color-fitted-level-0: #f0f8ff;\n",
              "  --sklearn-color-fitted-level-1: #d4ebff;\n",
              "  --sklearn-color-fitted-level-2: #b3dbfd;\n",
              "  --sklearn-color-fitted-level-3: cornflowerblue;\n",
              "\n",
              "  /* Specific color for light theme */\n",
              "  --sklearn-color-text-on-default-background: var(--sg-text-color, var(--theme-code-foreground, var(--jp-content-font-color1, black)));\n",
              "  --sklearn-color-background: var(--sg-background-color, var(--theme-background, var(--jp-layout-color0, white)));\n",
              "  --sklearn-color-border-box: var(--sg-text-color, var(--theme-code-foreground, var(--jp-content-font-color1, black)));\n",
              "  --sklearn-color-icon: #696969;\n",
              "\n",
              "  @media (prefers-color-scheme: dark) {\n",
              "    /* Redefinition of color scheme for dark theme */\n",
              "    --sklearn-color-text-on-default-background: var(--sg-text-color, var(--theme-code-foreground, var(--jp-content-font-color1, white)));\n",
              "    --sklearn-color-background: var(--sg-background-color, var(--theme-background, var(--jp-layout-color0, #111)));\n",
              "    --sklearn-color-border-box: var(--sg-text-color, var(--theme-code-foreground, var(--jp-content-font-color1, white)));\n",
              "    --sklearn-color-icon: #878787;\n",
              "  }\n",
              "}\n",
              "\n",
              "#sk-container-id-4 {\n",
              "  color: var(--sklearn-color-text);\n",
              "}\n",
              "\n",
              "#sk-container-id-4 pre {\n",
              "  padding: 0;\n",
              "}\n",
              "\n",
              "#sk-container-id-4 input.sk-hidden--visually {\n",
              "  border: 0;\n",
              "  clip: rect(1px 1px 1px 1px);\n",
              "  clip: rect(1px, 1px, 1px, 1px);\n",
              "  height: 1px;\n",
              "  margin: -1px;\n",
              "  overflow: hidden;\n",
              "  padding: 0;\n",
              "  position: absolute;\n",
              "  width: 1px;\n",
              "}\n",
              "\n",
              "#sk-container-id-4 div.sk-dashed-wrapped {\n",
              "  border: 1px dashed var(--sklearn-color-line);\n",
              "  margin: 0 0.4em 0.5em 0.4em;\n",
              "  box-sizing: border-box;\n",
              "  padding-bottom: 0.4em;\n",
              "  background-color: var(--sklearn-color-background);\n",
              "}\n",
              "\n",
              "#sk-container-id-4 div.sk-container {\n",
              "  /* jupyter's `normalize.less` sets `[hidden] { display: none; }`\n",
              "     but bootstrap.min.css set `[hidden] { display: none !important; }`\n",
              "     so we also need the `!important` here to be able to override the\n",
              "     default hidden behavior on the sphinx rendered scikit-learn.org.\n",
              "     See: https://github.com/scikit-learn/scikit-learn/issues/21755 */\n",
              "  display: inline-block !important;\n",
              "  position: relative;\n",
              "}\n",
              "\n",
              "#sk-container-id-4 div.sk-text-repr-fallback {\n",
              "  display: none;\n",
              "}\n",
              "\n",
              "div.sk-parallel-item,\n",
              "div.sk-serial,\n",
              "div.sk-item {\n",
              "  /* draw centered vertical line to link estimators */\n",
              "  background-image: linear-gradient(var(--sklearn-color-text-on-default-background), var(--sklearn-color-text-on-default-background));\n",
              "  background-size: 2px 100%;\n",
              "  background-repeat: no-repeat;\n",
              "  background-position: center center;\n",
              "}\n",
              "\n",
              "/* Parallel-specific style estimator block */\n",
              "\n",
              "#sk-container-id-4 div.sk-parallel-item::after {\n",
              "  content: \"\";\n",
              "  width: 100%;\n",
              "  border-bottom: 2px solid var(--sklearn-color-text-on-default-background);\n",
              "  flex-grow: 1;\n",
              "}\n",
              "\n",
              "#sk-container-id-4 div.sk-parallel {\n",
              "  display: flex;\n",
              "  align-items: stretch;\n",
              "  justify-content: center;\n",
              "  background-color: var(--sklearn-color-background);\n",
              "  position: relative;\n",
              "}\n",
              "\n",
              "#sk-container-id-4 div.sk-parallel-item {\n",
              "  display: flex;\n",
              "  flex-direction: column;\n",
              "}\n",
              "\n",
              "#sk-container-id-4 div.sk-parallel-item:first-child::after {\n",
              "  align-self: flex-end;\n",
              "  width: 50%;\n",
              "}\n",
              "\n",
              "#sk-container-id-4 div.sk-parallel-item:last-child::after {\n",
              "  align-self: flex-start;\n",
              "  width: 50%;\n",
              "}\n",
              "\n",
              "#sk-container-id-4 div.sk-parallel-item:only-child::after {\n",
              "  width: 0;\n",
              "}\n",
              "\n",
              "/* Serial-specific style estimator block */\n",
              "\n",
              "#sk-container-id-4 div.sk-serial {\n",
              "  display: flex;\n",
              "  flex-direction: column;\n",
              "  align-items: center;\n",
              "  background-color: var(--sklearn-color-background);\n",
              "  padding-right: 1em;\n",
              "  padding-left: 1em;\n",
              "}\n",
              "\n",
              "\n",
              "/* Toggleable style: style used for estimator/Pipeline/ColumnTransformer box that is\n",
              "clickable and can be expanded/collapsed.\n",
              "- Pipeline and ColumnTransformer use this feature and define the default style\n",
              "- Estimators will overwrite some part of the style using the `sk-estimator` class\n",
              "*/\n",
              "\n",
              "/* Pipeline and ColumnTransformer style (default) */\n",
              "\n",
              "#sk-container-id-4 div.sk-toggleable {\n",
              "  /* Default theme specific background. It is overwritten whether we have a\n",
              "  specific estimator or a Pipeline/ColumnTransformer */\n",
              "  background-color: var(--sklearn-color-background);\n",
              "}\n",
              "\n",
              "/* Toggleable label */\n",
              "#sk-container-id-4 label.sk-toggleable__label {\n",
              "  cursor: pointer;\n",
              "  display: flex;\n",
              "  width: 100%;\n",
              "  margin-bottom: 0;\n",
              "  padding: 0.5em;\n",
              "  box-sizing: border-box;\n",
              "  text-align: center;\n",
              "  align-items: start;\n",
              "  justify-content: space-between;\n",
              "  gap: 0.5em;\n",
              "}\n",
              "\n",
              "#sk-container-id-4 label.sk-toggleable__label .caption {\n",
              "  font-size: 0.6rem;\n",
              "  font-weight: lighter;\n",
              "  color: var(--sklearn-color-text-muted);\n",
              "}\n",
              "\n",
              "#sk-container-id-4 label.sk-toggleable__label-arrow:before {\n",
              "  /* Arrow on the left of the label */\n",
              "  content: \"▸\";\n",
              "  float: left;\n",
              "  margin-right: 0.25em;\n",
              "  color: var(--sklearn-color-icon);\n",
              "}\n",
              "\n",
              "#sk-container-id-4 label.sk-toggleable__label-arrow:hover:before {\n",
              "  color: var(--sklearn-color-text);\n",
              "}\n",
              "\n",
              "/* Toggleable content - dropdown */\n",
              "\n",
              "#sk-container-id-4 div.sk-toggleable__content {\n",
              "  max-height: 0;\n",
              "  max-width: 0;\n",
              "  overflow: hidden;\n",
              "  text-align: left;\n",
              "  /* unfitted */\n",
              "  background-color: var(--sklearn-color-unfitted-level-0);\n",
              "}\n",
              "\n",
              "#sk-container-id-4 div.sk-toggleable__content.fitted {\n",
              "  /* fitted */\n",
              "  background-color: var(--sklearn-color-fitted-level-0);\n",
              "}\n",
              "\n",
              "#sk-container-id-4 div.sk-toggleable__content pre {\n",
              "  margin: 0.2em;\n",
              "  border-radius: 0.25em;\n",
              "  color: var(--sklearn-color-text);\n",
              "  /* unfitted */\n",
              "  background-color: var(--sklearn-color-unfitted-level-0);\n",
              "}\n",
              "\n",
              "#sk-container-id-4 div.sk-toggleable__content.fitted pre {\n",
              "  /* unfitted */\n",
              "  background-color: var(--sklearn-color-fitted-level-0);\n",
              "}\n",
              "\n",
              "#sk-container-id-4 input.sk-toggleable__control:checked~div.sk-toggleable__content {\n",
              "  /* Expand drop-down */\n",
              "  max-height: 200px;\n",
              "  max-width: 100%;\n",
              "  overflow: auto;\n",
              "}\n",
              "\n",
              "#sk-container-id-4 input.sk-toggleable__control:checked~label.sk-toggleable__label-arrow:before {\n",
              "  content: \"▾\";\n",
              "}\n",
              "\n",
              "/* Pipeline/ColumnTransformer-specific style */\n",
              "\n",
              "#sk-container-id-4 div.sk-label input.sk-toggleable__control:checked~label.sk-toggleable__label {\n",
              "  color: var(--sklearn-color-text);\n",
              "  background-color: var(--sklearn-color-unfitted-level-2);\n",
              "}\n",
              "\n",
              "#sk-container-id-4 div.sk-label.fitted input.sk-toggleable__control:checked~label.sk-toggleable__label {\n",
              "  background-color: var(--sklearn-color-fitted-level-2);\n",
              "}\n",
              "\n",
              "/* Estimator-specific style */\n",
              "\n",
              "/* Colorize estimator box */\n",
              "#sk-container-id-4 div.sk-estimator input.sk-toggleable__control:checked~label.sk-toggleable__label {\n",
              "  /* unfitted */\n",
              "  background-color: var(--sklearn-color-unfitted-level-2);\n",
              "}\n",
              "\n",
              "#sk-container-id-4 div.sk-estimator.fitted input.sk-toggleable__control:checked~label.sk-toggleable__label {\n",
              "  /* fitted */\n",
              "  background-color: var(--sklearn-color-fitted-level-2);\n",
              "}\n",
              "\n",
              "#sk-container-id-4 div.sk-label label.sk-toggleable__label,\n",
              "#sk-container-id-4 div.sk-label label {\n",
              "  /* The background is the default theme color */\n",
              "  color: var(--sklearn-color-text-on-default-background);\n",
              "}\n",
              "\n",
              "/* On hover, darken the color of the background */\n",
              "#sk-container-id-4 div.sk-label:hover label.sk-toggleable__label {\n",
              "  color: var(--sklearn-color-text);\n",
              "  background-color: var(--sklearn-color-unfitted-level-2);\n",
              "}\n",
              "\n",
              "/* Label box, darken color on hover, fitted */\n",
              "#sk-container-id-4 div.sk-label.fitted:hover label.sk-toggleable__label.fitted {\n",
              "  color: var(--sklearn-color-text);\n",
              "  background-color: var(--sklearn-color-fitted-level-2);\n",
              "}\n",
              "\n",
              "/* Estimator label */\n",
              "\n",
              "#sk-container-id-4 div.sk-label label {\n",
              "  font-family: monospace;\n",
              "  font-weight: bold;\n",
              "  display: inline-block;\n",
              "  line-height: 1.2em;\n",
              "}\n",
              "\n",
              "#sk-container-id-4 div.sk-label-container {\n",
              "  text-align: center;\n",
              "}\n",
              "\n",
              "/* Estimator-specific */\n",
              "#sk-container-id-4 div.sk-estimator {\n",
              "  font-family: monospace;\n",
              "  border: 1px dotted var(--sklearn-color-border-box);\n",
              "  border-radius: 0.25em;\n",
              "  box-sizing: border-box;\n",
              "  margin-bottom: 0.5em;\n",
              "  /* unfitted */\n",
              "  background-color: var(--sklearn-color-unfitted-level-0);\n",
              "}\n",
              "\n",
              "#sk-container-id-4 div.sk-estimator.fitted {\n",
              "  /* fitted */\n",
              "  background-color: var(--sklearn-color-fitted-level-0);\n",
              "}\n",
              "\n",
              "/* on hover */\n",
              "#sk-container-id-4 div.sk-estimator:hover {\n",
              "  /* unfitted */\n",
              "  background-color: var(--sklearn-color-unfitted-level-2);\n",
              "}\n",
              "\n",
              "#sk-container-id-4 div.sk-estimator.fitted:hover {\n",
              "  /* fitted */\n",
              "  background-color: var(--sklearn-color-fitted-level-2);\n",
              "}\n",
              "\n",
              "/* Specification for estimator info (e.g. \"i\" and \"?\") */\n",
              "\n",
              "/* Common style for \"i\" and \"?\" */\n",
              "\n",
              ".sk-estimator-doc-link,\n",
              "a:link.sk-estimator-doc-link,\n",
              "a:visited.sk-estimator-doc-link {\n",
              "  float: right;\n",
              "  font-size: smaller;\n",
              "  line-height: 1em;\n",
              "  font-family: monospace;\n",
              "  background-color: var(--sklearn-color-background);\n",
              "  border-radius: 1em;\n",
              "  height: 1em;\n",
              "  width: 1em;\n",
              "  text-decoration: none !important;\n",
              "  margin-left: 0.5em;\n",
              "  text-align: center;\n",
              "  /* unfitted */\n",
              "  border: var(--sklearn-color-unfitted-level-1) 1pt solid;\n",
              "  color: var(--sklearn-color-unfitted-level-1);\n",
              "}\n",
              "\n",
              ".sk-estimator-doc-link.fitted,\n",
              "a:link.sk-estimator-doc-link.fitted,\n",
              "a:visited.sk-estimator-doc-link.fitted {\n",
              "  /* fitted */\n",
              "  border: var(--sklearn-color-fitted-level-1) 1pt solid;\n",
              "  color: var(--sklearn-color-fitted-level-1);\n",
              "}\n",
              "\n",
              "/* On hover */\n",
              "div.sk-estimator:hover .sk-estimator-doc-link:hover,\n",
              ".sk-estimator-doc-link:hover,\n",
              "div.sk-label-container:hover .sk-estimator-doc-link:hover,\n",
              ".sk-estimator-doc-link:hover {\n",
              "  /* unfitted */\n",
              "  background-color: var(--sklearn-color-unfitted-level-3);\n",
              "  color: var(--sklearn-color-background);\n",
              "  text-decoration: none;\n",
              "}\n",
              "\n",
              "div.sk-estimator.fitted:hover .sk-estimator-doc-link.fitted:hover,\n",
              ".sk-estimator-doc-link.fitted:hover,\n",
              "div.sk-label-container:hover .sk-estimator-doc-link.fitted:hover,\n",
              ".sk-estimator-doc-link.fitted:hover {\n",
              "  /* fitted */\n",
              "  background-color: var(--sklearn-color-fitted-level-3);\n",
              "  color: var(--sklearn-color-background);\n",
              "  text-decoration: none;\n",
              "}\n",
              "\n",
              "/* Span, style for the box shown on hovering the info icon */\n",
              ".sk-estimator-doc-link span {\n",
              "  display: none;\n",
              "  z-index: 9999;\n",
              "  position: relative;\n",
              "  font-weight: normal;\n",
              "  right: .2ex;\n",
              "  padding: .5ex;\n",
              "  margin: .5ex;\n",
              "  width: min-content;\n",
              "  min-width: 20ex;\n",
              "  max-width: 50ex;\n",
              "  color: var(--sklearn-color-text);\n",
              "  box-shadow: 2pt 2pt 4pt #999;\n",
              "  /* unfitted */\n",
              "  background: var(--sklearn-color-unfitted-level-0);\n",
              "  border: .5pt solid var(--sklearn-color-unfitted-level-3);\n",
              "}\n",
              "\n",
              ".sk-estimator-doc-link.fitted span {\n",
              "  /* fitted */\n",
              "  background: var(--sklearn-color-fitted-level-0);\n",
              "  border: var(--sklearn-color-fitted-level-3);\n",
              "}\n",
              "\n",
              ".sk-estimator-doc-link:hover span {\n",
              "  display: block;\n",
              "}\n",
              "\n",
              "/* \"?\"-specific style due to the `<a>` HTML tag */\n",
              "\n",
              "#sk-container-id-4 a.estimator_doc_link {\n",
              "  float: right;\n",
              "  font-size: 1rem;\n",
              "  line-height: 1em;\n",
              "  font-family: monospace;\n",
              "  background-color: var(--sklearn-color-background);\n",
              "  border-radius: 1rem;\n",
              "  height: 1rem;\n",
              "  width: 1rem;\n",
              "  text-decoration: none;\n",
              "  /* unfitted */\n",
              "  color: var(--sklearn-color-unfitted-level-1);\n",
              "  border: var(--sklearn-color-unfitted-level-1) 1pt solid;\n",
              "}\n",
              "\n",
              "#sk-container-id-4 a.estimator_doc_link.fitted {\n",
              "  /* fitted */\n",
              "  border: var(--sklearn-color-fitted-level-1) 1pt solid;\n",
              "  color: var(--sklearn-color-fitted-level-1);\n",
              "}\n",
              "\n",
              "/* On hover */\n",
              "#sk-container-id-4 a.estimator_doc_link:hover {\n",
              "  /* unfitted */\n",
              "  background-color: var(--sklearn-color-unfitted-level-3);\n",
              "  color: var(--sklearn-color-background);\n",
              "  text-decoration: none;\n",
              "}\n",
              "\n",
              "#sk-container-id-4 a.estimator_doc_link.fitted:hover {\n",
              "  /* fitted */\n",
              "  background-color: var(--sklearn-color-fitted-level-3);\n",
              "}\n",
              "</style><div id=\"sk-container-id-4\" class=\"sk-top-container\"><div class=\"sk-text-repr-fallback\"><pre>SVC(C=0.3, kernel=&#x27;linear&#x27;, random_state=42)</pre><b>In a Jupyter environment, please rerun this cell to show the HTML representation or trust the notebook. <br />On GitHub, the HTML representation is unable to render, please try loading this page with nbviewer.org.</b></div><div class=\"sk-container\" hidden><div class=\"sk-item\"><div class=\"sk-estimator fitted sk-toggleable\"><input class=\"sk-toggleable__control sk-hidden--visually\" id=\"sk-estimator-id-8\" type=\"checkbox\" checked><label for=\"sk-estimator-id-8\" class=\"sk-toggleable__label fitted sk-toggleable__label-arrow\"><div><div>SVC</div></div><div><a class=\"sk-estimator-doc-link fitted\" rel=\"noreferrer\" target=\"_blank\" href=\"https://scikit-learn.org/1.6/modules/generated/sklearn.svm.SVC.html\">?<span>Documentation for SVC</span></a><span class=\"sk-estimator-doc-link fitted\">i<span>Fitted</span></span></div></label><div class=\"sk-toggleable__content fitted\"><pre>SVC(C=0.3, kernel=&#x27;linear&#x27;, random_state=42)</pre></div> </div></div></div></div>"
            ]
          },
          "metadata": {},
          "execution_count": 40
        }
      ],
      "source": [
        "# Train multi-class classifier for Stage 2\n",
        "logistic_classifier =best_clf\n",
        "logistic_classifier = SVC(random_state=42,kernel='linear',C=0.3)\n",
        "\n",
        "logistic_classifier.fit(X_train_tfidf_stage2, y_train_tfidf_stage2)\n"
      ]
    },
    {
      "cell_type": "markdown",
      "metadata": {
        "id": "S7eDIGOfl6_Y"
      },
      "source": [
        "### Classification report on training"
      ]
    },
    {
      "cell_type": "code",
      "execution_count": 41,
      "metadata": {
        "colab": {
          "base_uri": "https://localhost:8080/"
        },
        "id": "cprfGU8-mCol",
        "outputId": "c98e1f2e-5f4d-40b9-b989-90b2ab06ee13"
      },
      "outputs": [
        {
          "output_type": "stream",
          "name": "stdout",
          "text": [
            "Stage 1 (Binary Classification) - Normal vs Non-Normal\n",
            "Accuracy: 0.69827201209248\n",
            "              precision    recall  f1-score   support\n",
            "\n",
            "           0       0.83      0.78      0.81      3086\n",
            "           1       0.93      0.57      0.71      2250\n",
            "           2       0.63      0.83      0.72     12388\n",
            "           3       0.99      0.22      0.36       840\n",
            "           4       0.90      0.26      0.40      2051\n",
            "           5       0.73      0.66      0.69      8494\n",
            "\n",
            "    accuracy                           0.70     29109\n",
            "   macro avg       0.83      0.55      0.61     29109\n",
            "weighted avg       0.73      0.70      0.69     29109\n",
            "\n",
            "Confusion Matrix:\n",
            " [[ 2408    11   594     0    18    55]\n",
            " [   60  1293   808     1     8    80]\n",
            " [  202    65 10331     0    23  1767]\n",
            " [    7     2   601   186     3    41]\n",
            " [  186     4  1190     1   524   146]\n",
            " [   30    15  2857     0     8  5584]]\n"
          ]
        }
      ],
      "source": [
        "# Evaluate binary classifier\n",
        "y_pred_stage2 = logistic_classifier.predict(X_train_tfidf_stage2)\n",
        "print(\"Stage 1 (Binary Classification) - Normal vs Non-Normal\")\n",
        "print(\"Accuracy:\", accuracy_score(y_train_tfidf_stage2, y_pred_stage2))\n",
        "print(classification_report(y_train_tfidf_stage2, y_pred_stage2))\n",
        "print(\"Confusion Matrix:\\n\", confusion_matrix(y_train_tfidf_stage2, y_pred_stage2))\n"
      ]
    },
    {
      "cell_type": "markdown",
      "metadata": {
        "id": "RJYz-psmjdIt"
      },
      "source": [
        "### Classification Report"
      ]
    },
    {
      "cell_type": "code",
      "execution_count": 42,
      "metadata": {
        "colab": {
          "base_uri": "https://localhost:8080/"
        },
        "id": "rBCSAmxlI4m6",
        "outputId": "2b8a02cf-f39c-4435-b9dd-ab45391d210c"
      },
      "outputs": [
        {
          "output_type": "stream",
          "name": "stdout",
          "text": [
            "Stage 2 (Multi-Class Classification) - Specific Conditions\n",
            "Accuracy: 0.6590123115230322\n",
            "              precision    recall  f1-score   support\n",
            "\n",
            "           0       0.83      0.75      0.79       755\n",
            "           1       0.91      0.54      0.68       527\n",
            "           2       0.59      0.80      0.68      3016\n",
            "           3       0.94      0.19      0.31       237\n",
            "           4       0.87      0.25      0.39       536\n",
            "           5       0.68      0.62      0.65      2158\n",
            "\n",
            "    accuracy                           0.66      7229\n",
            "   macro avg       0.80      0.52      0.58      7229\n",
            "weighted avg       0.70      0.66      0.65      7229\n",
            "\n",
            "Confusion Matrix:\n",
            " [[ 567    3  165    0    8   12]\n",
            " [   6  286  208    1    1   25]\n",
            " [  62   14 2403    0   10  527]\n",
            " [   3    1  173   44    0   16]\n",
            " [  41    2  316    2  135   40]\n",
            " [   7   10  810    0    2 1329]]\n"
          ]
        }
      ],
      "source": [
        "\n",
        "# Evaluate multi-class classifier\n",
        "y_pred_stage2 = logistic_classifier.predict(X_test_tfidf_stage2)\n",
        "print(\"Stage 2 (Multi-Class Classification) - Specific Conditions\")\n",
        "print(\"Accuracy:\", accuracy_score(y_test_multi, y_pred_stage2))\n",
        "print(classification_report(y_test_multi, y_pred_stage2))\n",
        "conf_matrix_stage2= confusion_matrix(y_test_multi, y_pred_stage2)\n",
        "print(\"Confusion Matrix:\\n\",conf_matrix_stage2)\n"
      ]
    },
    {
      "cell_type": "markdown",
      "metadata": {
        "id": "1SwFykRWj1vm"
      },
      "source": [
        "### Heat Map"
      ]
    },
    {
      "cell_type": "code",
      "execution_count": 43,
      "metadata": {
        "colab": {
          "base_uri": "https://localhost:8080/",
          "height": 842
        },
        "id": "qpQymDjLJkZ9",
        "outputId": "494933e7-925f-4f41-d820-03dc30775b5c"
      },
      "outputs": [
        {
          "output_type": "display_data",
          "data": {
            "text/plain": [
              "<Figure size 1000x800 with 2 Axes>"
            ],
            "image/png": "[encoded data removed]"
          },
          "metadata": {}
        }
      ],
      "source": [
        "# Plot heatmap for Stage 2\n",
        "plt.figure(figsize=(10, 8))\n",
        "sns.heatmap(conf_matrix_stage2, annot=True, fmt=\"d\", cmap=\"Blues\", xticklabels=multi_encoder.classes_, yticklabels=multi_encoder.classes_)\n",
        "plt.title(\"Confusion Matrix - Stage 2 (Non-Normal Classes)\")\n",
        "plt.xlabel(\"Predicted Labels\")\n",
        "plt.ylabel(\"True Labels\")\n",
        "plt.show()\n"
      ]
    },
    {
      "cell_type": "markdown",
      "metadata": {
        "id": "cOvRnG0Gptjg"
      },
      "source": [
        "## 2.3 Best Model"
      ]
    },
    {
      "cell_type": "markdown",
      "metadata": {
        "id": "JNmu1-d-pyKe"
      },
      "source": [
        "choosing the best classfier for this stage"
      ]
    },
    {
      "cell_type": "code",
      "execution_count": 44,
      "metadata": {
        "id": "aGB95rZSqB_V"
      },
      "outputs": [],
      "source": [
        "multi_classifier = logistic_classifier"
      ]
    },
    {
      "cell_type": "markdown",
      "metadata": {
        "id": "nFsqfQ_dI9Sf"
      },
      "source": [
        "# ***combined Two Classifiers***"
      ]
    },
    {
      "cell_type": "markdown",
      "metadata": {
        "id": "o0zTVmgUmqeu"
      },
      "source": [
        "## ***3.1 Predict the test set***"
      ]
    },
    {
      "cell_type": "markdown",
      "metadata": {
        "id": "PT8ue-tVmtkA"
      },
      "source": [
        "### Initialize list for final predictions and true labels\n"
      ]
    },
    {
      "cell_type": "code",
      "execution_count": 45,
      "metadata": {
        "id": "xwudzQE5m0UI"
      },
      "outputs": [],
      "source": [
        "# Initialize list for final predictions and true labels\n",
        "final_predictions = []\n",
        "ground_truth = y_test.tolist()  # Convert y_test to list for easy comparison\n"
      ]
    },
    {
      "cell_type": "markdown",
      "metadata": {
        "id": "FQu5cKSNm3Cc"
      },
      "source": [
        "### Iterate Over the Test Samples"
      ]
    },
    {
      "cell_type": "code",
      "execution_count": 46,
      "metadata": {
        "id": "41MbdUZfUAyg"
      },
      "outputs": [],
      "source": [
        "\n",
        "# Iterate through each sample in X_test\n",
        "for i, test in enumerate(X_test):\n",
        "    # Vectorize the text for Stage 1\n",
        "    # vectorized_text_stage1 = vectorizer_stage1.transform([text])\n",
        "    test = test.reshape(1, -1)\n",
        "    # Stage 1 Prediction (Binary Classification)\n",
        "    stage1_prediction = binary_classifier.predict(test)[0]\n",
        "\n",
        "    if stage1_prediction == binary_encoder.transform(['Normal'])[0]:  # If predicted as \"Normal\"\n",
        "        final_predictions.append('Normal')\n",
        "    else:\n",
        "        # If predicted as \"Non-Normal,\" vectorize for Stage 2 and predict specific condition\n",
        "        # vectorized_text_stage2 = vectorizer_stage2.transform([text])\n",
        "        stage2_prediction = multi_classifier.predict(test)[0]\n",
        "        #stage2_prediction = model.predict(test).argmax(axis=1)\n",
        "\n",
        "        final_predictions.append(multi_encoder.inverse_transform([stage2_prediction])[0])\n"
      ]
    },
    {
      "cell_type": "markdown",
      "metadata": {
        "id": "bJki4GTxm-6c"
      },
      "source": [
        "## ***3.2 Classification Report***"
      ]
    },
    {
      "cell_type": "code",
      "execution_count": 47,
      "metadata": {
        "colab": {
          "base_uri": "https://localhost:8080/"
        },
        "id": "a6X0pg0lnG6r",
        "outputId": "0f1d593e-3b8e-464a-a260-b4ddb537354b"
      },
      "outputs": [
        {
          "output_type": "stream",
          "name": "stdout",
          "text": [
            "\n",
            "Combined Two-Level Classification Results\n",
            "Overall Accuracy: 0.72\n",
            "                      precision    recall  f1-score   support\n",
            "\n",
            "             Anxiety       0.81      0.74      0.77       755\n",
            "             Bipolar       0.90      0.54      0.67       527\n",
            "          Depression       0.56      0.77      0.65      3016\n",
            "              Normal       0.91      0.89      0.90      3308\n",
            "Personality disorder       0.94      0.19      0.31       237\n",
            "              Stress       0.82      0.24      0.38       536\n",
            "            Suicidal       0.65      0.59      0.62      2158\n",
            "\n",
            "            accuracy                           0.72     10537\n",
            "           macro avg       0.80      0.57      0.62     10537\n",
            "        weighted avg       0.75      0.72      0.71     10537\n",
            "\n"
          ]
        }
      ],
      "source": [
        "accuracy_score_final=accuracy_score(ground_truth, final_predictions)\n",
        "classification_report_final =classification_report(ground_truth, final_predictions)\n",
        "# Final Combined Evaluation\n",
        "print(\"\\nCombined Two-Level Classification Results\")\n",
        "print(f\"Overall Accuracy: {accuracy_score_final:.2f}\")\n",
        "print(classification_report_final)\n"
      ]
    },
    {
      "cell_type": "markdown",
      "metadata": {
        "id": "qdh95cCxnUmc"
      },
      "source": [
        "## ***3.3 Overall Heat Map***"
      ]
    },
    {
      "cell_type": "code",
      "execution_count": 48,
      "metadata": {
        "colab": {
          "base_uri": "https://localhost:8080/",
          "height": 842
        },
        "id": "pGWU3BzTm_xZ",
        "outputId": "5f14c478-b25a-482f-c8b9-61defc14de53"
      },
      "outputs": [
        {
          "output_type": "display_data",
          "data": {
            "text/plain": [
              "<Figure size 1000x800 with 2 Axes>"
            ],
            "image/png": "[encoded data removed]"
          },
          "metadata": {}
        }
      ],
      "source": [
        "# Confusion Matrix and Heatmap for Combined Results\n",
        "conf_matrix_combined = confusion_matrix(ground_truth, final_predictions, labels=df['status'].unique())\n",
        "plt.figure(figsize=(10, 8))\n",
        "sns.heatmap(conf_matrix_combined, annot=True, fmt=\"d\", cmap=\"Blues\", xticklabels=df['status'].unique(), yticklabels=df['status'].unique())\n",
        "plt.title(\"Confusion Matrix - Combined Results (All Classes)\")\n",
        "plt.xlabel(\"Predicted Labels\")\n",
        "plt.ylabel(\"True Labels\")\n",
        "plt.show()\n"
      ]
    },
    {
      "cell_type": "markdown",
      "metadata": {
        "id": "l2uXvCfknp9i"
      },
      "source": [
        "## ***3.4 Conclusion***"
      ]
    },
    {
      "cell_type": "markdown",
      "metadata": {
        "id": "3P1l2O_HnsK6"
      },
      "source": []
    }
  ],
  "metadata": {
    "colab": {
      "collapsed_sections": [
        "m8rEkxRwtt4k",
        "fBOZoO39FiBE",
        "af1gvf4LexF1",
        "NlQxSzrWk51W",
        "G1ZUulIVId-A",
        "2zoEONwt0TYx",
        "2Bxu6YurHyAY",
        "ppYN2ADdHTkv",
        "QV6rldV9HY6-",
        "wPZehjwhHmay",
        "JmjO043Idcjy",
        "SNkQWvaYGCGD",
        "Z9EgLsbYGD8v",
        "x2HIGR8TII0_",
        "IsoZkHmzIQTW",
        "00wfz1PalsD0",
        "7k5uJ1q4KmPV",
        "gzObnP4mk_Kt",
        "1386nu2LeOM3",
        "N6X1q-PhiIKm",
        "9KMmPGfFq0P_",
        "9Em73VlEj8aH",
        "ijhMxfv0j_xo",
        "cOvRnG0Gptjg",
        "l2uXvCfknp9i"
      ],
      "provenance": []
    },
    "kernelspec": {
      "display_name": "Python 3",
      "name": "python3"
    },
    "language_info": {
      "name": "python"
    }
  },
  "nbformat": 4,
  "nbformat_minor": 0
}