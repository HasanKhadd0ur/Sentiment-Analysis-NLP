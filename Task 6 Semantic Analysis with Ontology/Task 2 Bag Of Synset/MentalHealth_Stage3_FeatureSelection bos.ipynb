{
  "cells": [
    {
      "cell_type": "markdown",
      "metadata": {
        "id": "m8rEkxRwtt4k"
      },
      "source": [
        "# Dataset Loading from previous stage"
      ]
    },
    {
      "cell_type": "markdown",
      "metadata": {
        "id": "fBOZoO39FiBE"
      },
      "source": [
        "### Constants"
      ]
    },
    {
      "cell_type": "code",
      "execution_count": 1,
      "metadata": {
        "id": "Q7Io-5N4Fk5x"
      },
      "outputs": [],
      "source": [
        "data_read_path = '/content/drive/MyDrive/CombinedData.csv'\n",
        "data_clean_path='/content/drive/MyDrive/CombinedDataCleaned.csv'\n",
        "data_nlped_path='/content/drive/MyDrive/CombinedDataNLPed.csv'\n"
      ]
    },
    {
      "cell_type": "markdown",
      "metadata": {
        "id": "af1gvf4LexF1"
      },
      "source": [
        "## Import Libraries\n",
        "---\n",
        "lets start by importing the nessacary libraries"
      ]
    },
    {
      "cell_type": "markdown",
      "metadata": {
        "id": "Z7ppN7R6VVZK"
      },
      "source": [
        "#### insatll stanza"
      ]
    },
    {
      "cell_type": "code",
      "execution_count": 2,
      "metadata": {
        "colab": {
          "base_uri": "https://localhost:8080/"
        },
        "id": "b-6CwuswmqE8",
        "outputId": "a192eb90-4d5f-4805-dec3-e065fb9959e1"
      },
      "outputs": [
        {
          "output_type": "stream",
          "name": "stdout",
          "text": [
            "Requirement already satisfied: contractions in /usr/local/lib/python3.11/dist-packages (0.1.73)\n",
            "Requirement already satisfied: textsearch>=0.0.21 in /usr/local/lib/python3.11/dist-packages (from contractions) (0.0.24)\n",
            "Requirement already satisfied: anyascii in /usr/local/lib/python3.11/dist-packages (from textsearch>=0.0.21->contractions) (0.3.2)\n",
            "Requirement already satisfied: pyahocorasick in /usr/local/lib/python3.11/dist-packages (from textsearch>=0.0.21->contractions) (2.1.0)\n"
          ]
        }
      ],
      "source": [
        "pip install contractions"
      ]
    },
    {
      "cell_type": "code",
      "execution_count": 3,
      "metadata": {
        "colab": {
          "base_uri": "https://localhost:8080/"
        },
        "id": "JzYMui5-Va8Y",
        "outputId": "1093118a-7b74-44c9-ab7f-5aee35b20ad0"
      },
      "outputs": [
        {
          "output_type": "stream",
          "name": "stdout",
          "text": [
            "Requirement already satisfied: stanza in /usr/local/lib/python3.11/dist-packages (1.10.1)\n",
            "Requirement already satisfied: emoji in /usr/local/lib/python3.11/dist-packages (from stanza) (2.14.1)\n",
            "Requirement already satisfied: numpy in /usr/local/lib/python3.11/dist-packages (from stanza) (1.26.4)\n",
            "Requirement already satisfied: protobuf>=3.15.0 in /usr/local/lib/python3.11/dist-packages (from stanza) (4.25.5)\n",
            "Requirement already satisfied: requests in /usr/local/lib/python3.11/dist-packages (from stanza) (2.32.3)\n",
            "Requirement already satisfied: networkx in /usr/local/lib/python3.11/dist-packages (from stanza) (3.4.2)\n",
            "Requirement already satisfied: torch>=1.3.0 in /usr/local/lib/python3.11/dist-packages (from stanza) (2.5.1+cu121)\n",
            "Requirement already satisfied: tqdm in /usr/local/lib/python3.11/dist-packages (from stanza) (4.67.1)\n",
            "Requirement already satisfied: filelock in /usr/local/lib/python3.11/dist-packages (from torch>=1.3.0->stanza) (3.16.1)\n",
            "Requirement already satisfied: typing-extensions>=4.8.0 in /usr/local/lib/python3.11/dist-packages (from torch>=1.3.0->stanza) (4.12.2)\n",
            "Requirement already satisfied: jinja2 in /usr/local/lib/python3.11/dist-packages (from torch>=1.3.0->stanza) (3.1.5)\n",
            "Requirement already satisfied: fsspec in /usr/local/lib/python3.11/dist-packages (from torch>=1.3.0->stanza) (2024.10.0)\n",
            "Requirement already satisfied: nvidia-cuda-nvrtc-cu12==12.1.105 in /usr/local/lib/python3.11/dist-packages (from torch>=1.3.0->stanza) (12.1.105)\n",
            "Requirement already satisfied: nvidia-cuda-runtime-cu12==12.1.105 in /usr/local/lib/python3.11/dist-packages (from torch>=1.3.0->stanza) (12.1.105)\n",
            "Requirement already satisfied: nvidia-cuda-cupti-cu12==12.1.105 in /usr/local/lib/python3.11/dist-packages (from torch>=1.3.0->stanza) (12.1.105)\n",
            "Requirement already satisfied: nvidia-cudnn-cu12==9.1.0.70 in /usr/local/lib/python3.11/dist-packages (from torch>=1.3.0->stanza) (9.1.0.70)\n",
            "Requirement already satisfied: nvidia-cublas-cu12==12.1.3.1 in /usr/local/lib/python3.11/dist-packages (from torch>=1.3.0->stanza) (12.1.3.1)\n",
            "Requirement already satisfied: nvidia-cufft-cu12==11.0.2.54 in /usr/local/lib/python3.11/dist-packages (from torch>=1.3.0->stanza) (11.0.2.54)\n",
            "Requirement already satisfied: nvidia-curand-cu12==10.3.2.106 in /usr/local/lib/python3.11/dist-packages (from torch>=1.3.0->stanza) (10.3.2.106)\n",
            "Requirement already satisfied: nvidia-cusolver-cu12==11.4.5.107 in /usr/local/lib/python3.11/dist-packages (from torch>=1.3.0->stanza) (11.4.5.107)\n",
            "Requirement already satisfied: nvidia-cusparse-cu12==12.1.0.106 in /usr/local/lib/python3.11/dist-packages (from torch>=1.3.0->stanza) (12.1.0.106)\n",
            "Requirement already satisfied: nvidia-nccl-cu12==2.21.5 in /usr/local/lib/python3.11/dist-packages (from torch>=1.3.0->stanza) (2.21.5)\n",
            "Requirement already satisfied: nvidia-nvtx-cu12==12.1.105 in /usr/local/lib/python3.11/dist-packages (from torch>=1.3.0->stanza) (12.1.105)\n",
            "Requirement already satisfied: triton==3.1.0 in /usr/local/lib/python3.11/dist-packages (from torch>=1.3.0->stanza) (3.1.0)\n",
            "Requirement already satisfied: sympy==1.13.1 in /usr/local/lib/python3.11/dist-packages (from torch>=1.3.0->stanza) (1.13.1)\n",
            "Requirement already satisfied: nvidia-nvjitlink-cu12 in /usr/local/lib/python3.11/dist-packages (from nvidia-cusolver-cu12==11.4.5.107->torch>=1.3.0->stanza) (12.6.85)\n",
            "Requirement already satisfied: mpmath<1.4,>=1.1.0 in /usr/local/lib/python3.11/dist-packages (from sympy==1.13.1->torch>=1.3.0->stanza) (1.3.0)\n",
            "Requirement already satisfied: charset-normalizer<4,>=2 in /usr/local/lib/python3.11/dist-packages (from requests->stanza) (3.4.1)\n",
            "Requirement already satisfied: idna<4,>=2.5 in /usr/local/lib/python3.11/dist-packages (from requests->stanza) (3.10)\n",
            "Requirement already satisfied: urllib3<3,>=1.21.1 in /usr/local/lib/python3.11/dist-packages (from requests->stanza) (2.3.0)\n",
            "Requirement already satisfied: certifi>=2017.4.17 in /usr/local/lib/python3.11/dist-packages (from requests->stanza) (2024.12.14)\n",
            "Requirement already satisfied: MarkupSafe>=2.0 in /usr/local/lib/python3.11/dist-packages (from jinja2->torch>=1.3.0->stanza) (3.0.2)\n"
          ]
        }
      ],
      "source": [
        "pip install stanza"
      ]
    },
    {
      "cell_type": "markdown",
      "metadata": {
        "id": "D7sgY1lGFDs6"
      },
      "source": [
        "### import"
      ]
    },
    {
      "cell_type": "code",
      "execution_count": 4,
      "metadata": {
        "id": "Krv1D_e3eWlK"
      },
      "outputs": [],
      "source": [
        "import pandas as pd\n",
        "import numpy as np\n",
        "import matplotlib.pyplot as plt\n",
        "import seaborn as sns\n",
        "%matplotlib inline\n",
        "from nltk.corpus import stopwords\n",
        "from imblearn.over_sampling import SMOTE\n",
        "from sklearn.feature_extraction.text import TfidfVectorizer\n",
        "from scipy.sparse import hstack\n",
        "import emoji\n",
        "import contractions\n",
        "import re\n",
        "import numpy as np\n",
        "import matplotlib.pyplot as plt\n",
        "from sklearn.feature_selection import SelectKBest, mutual_info_classif ,chi2\n",
        "from sklearn.linear_model import LogisticRegression\n",
        "from sklearn.metrics import accuracy_score\n",
        "from sklearn.model_selection import train_test_split\n",
        "import random\n",
        "#from imblearn.over_sampling import RandomOverSampler\n",
        "from scipy.sparse import hstack  # To combine sparse matrices\n",
        "from wordcloud import WordCloud\n",
        "from tensorflow.keras.models import Sequential\n",
        "from tensorflow.keras.layers import Dense, Dropout\n",
        "from tensorflow.keras.optimizers import Adam\n",
        "from tensorflow.keras.layers import BatchNormalization\n",
        "from sklearn.metrics import accuracy_score, confusion_matrix, classification_report\n",
        "from tensorflow.keras.regularizers import l2\n",
        "\n",
        "from sklearn.svm import SVC\n",
        "from sklearn.model_selection import GridSearchCV\n",
        "from sklearn.metrics import accuracy_score, confusion_matrix, classification_report\n",
        "from sklearn.neighbors import KNeighborsClassifier\n",
        "from sklearn.model_selection import GridSearchCV\n",
        "from sklearn.metrics import accuracy_score, confusion_matrix, classification_report\n",
        "from sklearn.linear_model import LogisticRegression\n",
        "from sklearn.model_selection import GridSearchCV\n",
        "from sklearn.metrics import accuracy_score, confusion_matrix, classification_report\n",
        "from google.colab import drive\n",
        "from textblob import TextBlob\n",
        "\n",
        "\n",
        "import nltk\n",
        "from nltk.tokenize import word_tokenize\n",
        "from nltk.stem import PorterStemmer\n",
        "\n",
        "import stanza\n",
        "from sklearn.feature_extraction.text import TfidfVectorizer\n",
        "from sklearn.model_selection import train_test_split, GridSearchCV\n",
        "from sklearn.preprocessing import LabelEncoder\n",
        "from sklearn.linear_model import LogisticRegression\n",
        "from sklearn.naive_bayes import BernoulliNB\n",
        "from sklearn.tree import DecisionTreeClassifier\n",
        "from sklearn.metrics import accuracy_score, classification_report, confusion_matrix\n",
        "\n",
        "import warnings\n",
        "warnings.filterwarnings(\"ignore\")"
      ]
    },
    {
      "cell_type": "code",
      "execution_count": 5,
      "metadata": {
        "colab": {
          "base_uri": "https://localhost:8080/"
        },
        "id": "_haVmI4LYEId",
        "outputId": "9e98ecc4-c24a-4cf8-f252-2d13d99d4010"
      },
      "outputs": [
        {
          "output_type": "stream",
          "name": "stdout",
          "text": [
            "Num GPUs Available:  0\n"
          ]
        }
      ],
      "source": [
        "import tensorflow as tf\n",
        "\n",
        "# Check if GPU is available\n",
        "print(\"Num GPUs Available: \", len(tf.config.list_physical_devices('GPU')))\n"
      ]
    },
    {
      "cell_type": "markdown",
      "metadata": {
        "id": "jH6im3xME6T_"
      },
      "source": [
        "### Download packages"
      ]
    },
    {
      "cell_type": "code",
      "execution_count": 6,
      "metadata": {
        "colab": {
          "base_uri": "https://localhost:8080/"
        },
        "id": "pC17Na0_FAkf",
        "outputId": "b0ebe07e-29b8-4e94-d87b-46aae986ecec"
      },
      "outputs": [
        {
          "output_type": "stream",
          "name": "stderr",
          "text": [
            "[nltk_data] Downloading package stopwords to /root/nltk_data...\n",
            "[nltk_data]   Package stopwords is already up-to-date!\n",
            "[nltk_data] Downloading package punkt to /root/nltk_data...\n",
            "[nltk_data]   Package punkt is already up-to-date!\n",
            "[nltk_data] Downloading package punkt_tab to /root/nltk_data...\n",
            "[nltk_data]   Package punkt_tab is already up-to-date!\n",
            "[nltk_data] Downloading package averaged_perceptron_tagger_eng to\n",
            "[nltk_data]     /root/nltk_data...\n",
            "[nltk_data]   Package averaged_perceptron_tagger_eng is already up-to-\n",
            "[nltk_data]       date!\n"
          ]
        },
        {
          "output_type": "execute_result",
          "data": {
            "text/plain": [
              "True"
            ]
          },
          "metadata": {},
          "execution_count": 6
        }
      ],
      "source": [
        "nltk.download('stopwords')\n",
        "nltk.download('punkt')\n",
        "nltk.download('punkt_tab')\n",
        "nltk.download('averaged_perceptron_tagger_eng')\n"
      ]
    },
    {
      "cell_type": "markdown",
      "metadata": {
        "id": "NlQxSzrWk51W"
      },
      "source": [
        "## Loading the dataset"
      ]
    },
    {
      "cell_type": "code",
      "execution_count": 7,
      "metadata": {
        "colab": {
          "base_uri": "https://localhost:8080/"
        },
        "id": "4keFRwVDzDvC",
        "outputId": "470a84d6-3c74-4939-cdff-2b8fe766c973"
      },
      "outputs": [
        {
          "output_type": "stream",
          "name": "stdout",
          "text": [
            "Drive already mounted at /content/drive; to attempt to forcibly remount, call drive.mount(\"/content/drive\", force_remount=True).\n"
          ]
        }
      ],
      "source": [
        "drive.mount('/content/drive')"
      ]
    },
    {
      "cell_type": "code",
      "execution_count": 8,
      "metadata": {
        "id": "HYum3Ub9fOa-"
      },
      "outputs": [],
      "source": [
        "df = pd.read_csv(data_nlped_path)"
      ]
    },
    {
      "cell_type": "code",
      "execution_count": 9,
      "metadata": {
        "id": "fNnBBB_6ecXi"
      },
      "outputs": [],
      "source": [
        "df.fillna(\"\", inplace=True)"
      ]
    },
    {
      "cell_type": "code",
      "execution_count": 10,
      "metadata": {
        "colab": {
          "base_uri": "https://localhost:8080/",
          "height": 0
        },
        "id": "XWnQ63c-fOPv",
        "outputId": "cca6a9eb-b6b8-41a0-b23c-e17552f110d0"
      },
      "outputs": [
        {
          "output_type": "execute_result",
          "data": {
            "text/plain": [
              "                                               statement      status  \\\n",
              "49200  sense of fear have you ever felt a sense of fe...      Stress   \n",
              "12469  hi all i could really use some advise thank yo...    Suicidal   \n",
              "16345  i just want to to rest that is all no more nig...  Depression   \n",
              "\n",
              "       statemnent_length  num_of_words  num_of_sentences  \\\n",
              "49200                956           155                 8   \n",
              "12469               1638           306                23   \n",
              "16345                412            79                 7   \n",
              "\n",
              "                                   statement_with_emojis  \\\n",
              "49200  sense of fear have you ever felt a sense of fe...   \n",
              "12469  hi all i could really use some advise thank yo...   \n",
              "16345  i just want to to rest that is all no more nig...   \n",
              "\n",
              "                                                  tokens  \\\n",
              "49200  ['sense', 'of', 'fear', 'have', 'you', 'ever',...   \n",
              "12469  ['hi', 'all', 'i', 'could', 'really', 'use', '...   \n",
              "16345  ['i', 'just', 'want', 'to', 'to', 'rest', 'tha...   \n",
              "\n",
              "                                          tokens_stemmed  \\\n",
              "49200  sens of fear have you ever felt a sens of fear...   \n",
              "12469  hi all i could realli use some advis thank you...   \n",
              "16345  i just want to to rest that is all no more nig...   \n",
              "\n",
              "                                            tokens_verbs  \\\n",
              "49200  have felt seemed take mind leaving feeling be ...   \n",
              "12469  use comment feel trapped do align i am go have...   \n",
              "16345  want rest is nightmeres find trying proof tire...   \n",
              "\n",
              "                                            tokens_nouns  \\\n",
              "49200  sense fear sense fear body fear emotion life s...   \n",
              "12469  hi i advise thank advance longstoryshort i off...   \n",
              "16345  i confusion people work peace folks peace i wo...   \n",
              "\n",
              "                                              tokens_adj  \\\n",
              "49200  helpless paralyzing rid practical current such...   \n",
              "12469  unfulfilling existential usas economic societa...   \n",
              "16345  more more pretending more medicine i dead fuck...   \n",
              "\n",
              "                                         important_words  \\\n",
              "49200  article sense emotion current take to selftalk...   \n",
              "12469  bad everyday happy align wake butt economic wa...   \n",
              "16345  not proof all tired hurt confusion i no rest a...   \n",
              "\n",
              "                                        sentiment_scores  avg_sentiment  \\\n",
              "49200  [0, 0, 0.0, 0.075, 0.0, 0.0, 0.075, 0, 0, 0, 0...       0.001131   \n",
              "12469  [0, 0, -0.05, -0.0625, 0, 0, 0, 0, -0.01785714...      -0.001045   \n",
              "16345  [0, 0, -0.0625, 0, 0, 0, 0, 0.0, 0.0, 0.0, 0.0...       0.000272   \n",
              "\n",
              "       max_sentiment  min_sentiment  \\\n",
              "49200          0.075        -0.0625   \n",
              "12469          0.075        -0.0625   \n",
              "16345          0.075        -0.0625   \n",
              "\n",
              "                                             mean_vector  \\\n",
              "49200  [-0.18241154  0.12263284 -0.00671802  0.136138...   \n",
              "12469  [-0.17456989  0.1133945  -0.00775682  0.139806...   \n",
              "16345  [-1.75858065e-01  1.15660362e-01 -2.06090473e-...   \n",
              "\n",
              "                                                     bos  \\\n",
              "49200  sense.n.01 fear.n.01 rich_person.n.01 ever.r.0...   \n",
              "12469  hello.n.01 all.a.01 iodine.n.01 truly.r.01 use...   \n",
              "16345  iodine.n.01 just.a.01 privation.n.01 remainder...   \n",
              "\n",
              "                                                bos_lesk  \n",
              "49200  sense.n.05 fear.v.01 ever.r.03 felt.n.01 sense...  \n",
              "12469  hawaii.n.01 could very.r.01 use.v.01 propose.v...  \n",
              "16345  wish.n.01 stay.v.01 nightmeres confusion.n.05 ...  "
            ],
            "text/html": [
              "\n",
              "  <div id=\"df-25fe88ff-80b9-41e8-ab56-0cf89f761a30\" class=\"colab-df-container\">\n",
              "    <div>\n",
              "<style scoped>\n",
              "    .dataframe tbody tr th:only-of-type {\n",
              "        vertical-align: middle;\n",
              "    }\n",
              "\n",
              "    .dataframe tbody tr th {\n",
              "        vertical-align: top;\n",
              "    }\n",
              "\n",
              "    .dataframe thead th {\n",
              "        text-align: right;\n",
              "    }\n",
              "</style>\n",
              "<table border=\"1\" class=\"dataframe\">\n",
              "  <thead>\n",
              "    <tr style=\"text-align: right;\">\n",
              "      <th></th>\n",
              "      <th>statement</th>\n",
              "      <th>status</th>\n",
              "      <th>statemnent_length</th>\n",
              "      <th>num_of_words</th>\n",
              "      <th>num_of_sentences</th>\n",
              "      <th>statement_with_emojis</th>\n",
              "      <th>tokens</th>\n",
              "      <th>tokens_stemmed</th>\n",
              "      <th>tokens_verbs</th>\n",
              "      <th>tokens_nouns</th>\n",
              "      <th>tokens_adj</th>\n",
              "      <th>important_words</th>\n",
              "      <th>sentiment_scores</th>\n",
              "      <th>avg_sentiment</th>\n",
              "      <th>max_sentiment</th>\n",
              "      <th>min_sentiment</th>\n",
              "      <th>mean_vector</th>\n",
              "      <th>bos</th>\n",
              "      <th>bos_lesk</th>\n",
              "    </tr>\n",
              "  </thead>\n",
              "  <tbody>\n",
              "    <tr>\n",
              "      <th>49200</th>\n",
              "      <td>sense of fear have you ever felt a sense of fe...</td>\n",
              "      <td>Stress</td>\n",
              "      <td>956</td>\n",
              "      <td>155</td>\n",
              "      <td>8</td>\n",
              "      <td>sense of fear have you ever felt a sense of fe...</td>\n",
              "      <td>['sense', 'of', 'fear', 'have', 'you', 'ever',...</td>\n",
              "      <td>sens of fear have you ever felt a sens of fear...</td>\n",
              "      <td>have felt seemed take mind leaving feeling be ...</td>\n",
              "      <td>sense fear sense fear body fear emotion life s...</td>\n",
              "      <td>helpless paralyzing rid practical current such...</td>\n",
              "      <td>article sense emotion current take to selftalk...</td>\n",
              "      <td>[0, 0, 0.0, 0.075, 0.0, 0.0, 0.075, 0, 0, 0, 0...</td>\n",
              "      <td>0.001131</td>\n",
              "      <td>0.075</td>\n",
              "      <td>-0.0625</td>\n",
              "      <td>[-0.18241154  0.12263284 -0.00671802  0.136138...</td>\n",
              "      <td>sense.n.01 fear.n.01 rich_person.n.01 ever.r.0...</td>\n",
              "      <td>sense.n.05 fear.v.01 ever.r.03 felt.n.01 sense...</td>\n",
              "    </tr>\n",
              "    <tr>\n",
              "      <th>12469</th>\n",
              "      <td>hi all i could really use some advise thank yo...</td>\n",
              "      <td>Suicidal</td>\n",
              "      <td>1638</td>\n",
              "      <td>306</td>\n",
              "      <td>23</td>\n",
              "      <td>hi all i could really use some advise thank yo...</td>\n",
              "      <td>['hi', 'all', 'i', 'could', 'really', 'use', '...</td>\n",
              "      <td>hi all i could realli use some advis thank you...</td>\n",
              "      <td>use comment feel trapped do align i am go have...</td>\n",
              "      <td>hi i advise thank advance longstoryshort i off...</td>\n",
              "      <td>unfulfilling existential usas economic societa...</td>\n",
              "      <td>bad everyday happy align wake butt economic wa...</td>\n",
              "      <td>[0, 0, -0.05, -0.0625, 0, 0, 0, 0, -0.01785714...</td>\n",
              "      <td>-0.001045</td>\n",
              "      <td>0.075</td>\n",
              "      <td>-0.0625</td>\n",
              "      <td>[-0.17456989  0.1133945  -0.00775682  0.139806...</td>\n",
              "      <td>hello.n.01 all.a.01 iodine.n.01 truly.r.01 use...</td>\n",
              "      <td>hawaii.n.01 could very.r.01 use.v.01 propose.v...</td>\n",
              "    </tr>\n",
              "    <tr>\n",
              "      <th>16345</th>\n",
              "      <td>i just want to to rest that is all no more nig...</td>\n",
              "      <td>Depression</td>\n",
              "      <td>412</td>\n",
              "      <td>79</td>\n",
              "      <td>7</td>\n",
              "      <td>i just want to to rest that is all no more nig...</td>\n",
              "      <td>['i', 'just', 'want', 'to', 'to', 'rest', 'tha...</td>\n",
              "      <td>i just want to to rest that is all no more nig...</td>\n",
              "      <td>want rest is nightmeres find trying proof tire...</td>\n",
              "      <td>i confusion people work peace folks peace i wo...</td>\n",
              "      <td>more more pretending more medicine i dead fuck...</td>\n",
              "      <td>not proof all tired hurt confusion i no rest a...</td>\n",
              "      <td>[0, 0, -0.0625, 0, 0, 0, 0, 0.0, 0.0, 0.0, 0.0...</td>\n",
              "      <td>0.000272</td>\n",
              "      <td>0.075</td>\n",
              "      <td>-0.0625</td>\n",
              "      <td>[-1.75858065e-01  1.15660362e-01 -2.06090473e-...</td>\n",
              "      <td>iodine.n.01 just.a.01 privation.n.01 remainder...</td>\n",
              "      <td>wish.n.01 stay.v.01 nightmeres confusion.n.05 ...</td>\n",
              "    </tr>\n",
              "  </tbody>\n",
              "</table>\n",
              "</div>\n",
              "    <div class=\"colab-df-buttons\">\n",
              "\n",
              "  <div class=\"colab-df-container\">\n",
              "    <button class=\"colab-df-convert\" onclick=\"convertToInteractive('df-25fe88ff-80b9-41e8-ab56-0cf89f761a30')\"\n",
              "            title=\"Convert this dataframe to an interactive table.\"\n",
              "            style=\"display:none;\">\n",
              "\n",
              "  <svg xmlns=\"http://www.w3.org/2000/svg\" height=\"24px\" viewBox=\"0 -960 960 960\">\n",
              "    <path d=\"M120-120v-720h720v720H120Zm60-500h600v-160H180v160Zm220 220h160v-160H400v160Zm0 220h160v-160H400v160ZM180-400h160v-160H180v160Zm440 0h160v-160H620v160ZM180-180h160v-160H180v160Zm440 0h160v-160H620v160Z\"/>\n",
              "  </svg>\n",
              "    </button>\n",
              "\n",
              "  <style>\n",
              "    .colab-df-container {\n",
              "      display:flex;\n",
              "      gap: 12px;\n",
              "    }\n",
              "\n",
              "    .colab-df-convert {\n",
              "      background-color: #E8F0FE;\n",
              "      border: none;\n",
              "      border-radius: 50%;\n",
              "      cursor: pointer;\n",
              "      display: none;\n",
              "      fill: #1967D2;\n",
              "      height: 32px;\n",
              "      padding: 0 0 0 0;\n",
              "      width: 32px;\n",
              "    }\n",
              "\n",
              "    .colab-df-convert:hover {\n",
              "      background-color: #E2EBFA;\n",
              "      box-shadow: 0px 1px 2px rgba(60, 64, 67, 0.3), 0px 1px 3px 1px rgba(60, 64, 67, 0.15);\n",
              "      fill: #174EA6;\n",
              "    }\n",
              "\n",
              "    .colab-df-buttons div {\n",
              "      margin-bottom: 4px;\n",
              "    }\n",
              "\n",
              "    [theme=dark] .colab-df-convert {\n",
              "      background-color: #3B4455;\n",
              "      fill: #D2E3FC;\n",
              "    }\n",
              "\n",
              "    [theme=dark] .colab-df-convert:hover {\n",
              "      background-color: #434B5C;\n",
              "      box-shadow: 0px 1px 3px 1px rgba(0, 0, 0, 0.15);\n",
              "      filter: drop-shadow(0px 1px 2px rgba(0, 0, 0, 0.3));\n",
              "      fill: #FFFFFF;\n",
              "    }\n",
              "  </style>\n",
              "\n",
              "    <script>\n",
              "      const buttonEl =\n",
              "        document.querySelector('#df-25fe88ff-80b9-41e8-ab56-0cf89f761a30 button.colab-df-convert');\n",
              "      buttonEl.style.display =\n",
              "        google.colab.kernel.accessAllowed ? 'block' : 'none';\n",
              "\n",
              "      async function convertToInteractive(key) {\n",
              "        const element = document.querySelector('#df-25fe88ff-80b9-41e8-ab56-0cf89f761a30');\n",
              "        const dataTable =\n",
              "          await google.colab.kernel.invokeFunction('convertToInteractive',\n",
              "                                                    [key], {});\n",
              "        if (!dataTable) return;\n",
              "\n",
              "        const docLinkHtml = 'Like what you see? Visit the ' +\n",
              "          '<a target=\"_blank\" href=https://colab.research.google.com/notebooks/data_table.ipynb>data table notebook</a>'\n",
              "          + ' to learn more about interactive tables.';\n",
              "        element.innerHTML = '';\n",
              "        dataTable['output_type'] = 'display_data';\n",
              "        await google.colab.output.renderOutput(dataTable, element);\n",
              "        const docLink = document.createElement('div');\n",
              "        docLink.innerHTML = docLinkHtml;\n",
              "        element.appendChild(docLink);\n",
              "      }\n",
              "    </script>\n",
              "  </div>\n",
              "\n",
              "\n",
              "<div id=\"df-6c8059de-6e31-425f-a1fb-43397b4c0b9a\">\n",
              "  <button class=\"colab-df-quickchart\" onclick=\"quickchart('df-6c8059de-6e31-425f-a1fb-43397b4c0b9a')\"\n",
              "            title=\"Suggest charts\"\n",
              "            style=\"display:none;\">\n",
              "\n",
              "<svg xmlns=\"http://www.w3.org/2000/svg\" height=\"24px\"viewBox=\"0 0 24 24\"\n",
              "     width=\"24px\">\n",
              "    <g>\n",
              "        <path d=\"M19 3H5c-1.1 0-2 .9-2 2v14c0 1.1.9 2 2 2h14c1.1 0 2-.9 2-2V5c0-1.1-.9-2-2-2zM9 17H7v-7h2v7zm4 0h-2V7h2v10zm4 0h-2v-4h2v4z\"/>\n",
              "    </g>\n",
              "</svg>\n",
              "  </button>\n",
              "\n",
              "<style>\n",
              "  .colab-df-quickchart {\n",
              "      --bg-color: #E8F0FE;\n",
              "      --fill-color: #1967D2;\n",
              "      --hover-bg-color: #E2EBFA;\n",
              "      --hover-fill-color: #174EA6;\n",
              "      --disabled-fill-color: #AAA;\n",
              "      --disabled-bg-color: #DDD;\n",
              "  }\n",
              "\n",
              "  [theme=dark] .colab-df-quickchart {\n",
              "      --bg-color: #3B4455;\n",
              "      --fill-color: #D2E3FC;\n",
              "      --hover-bg-color: #434B5C;\n",
              "      --hover-fill-color: #FFFFFF;\n",
              "      --disabled-bg-color: #3B4455;\n",
              "      --disabled-fill-color: #666;\n",
              "  }\n",
              "\n",
              "  .colab-df-quickchart {\n",
              "    background-color: var(--bg-color);\n",
              "    border: none;\n",
              "    border-radius: 50%;\n",
              "    cursor: pointer;\n",
              "    display: none;\n",
              "    fill: var(--fill-color);\n",
              "    height: 32px;\n",
              "    padding: 0;\n",
              "    width: 32px;\n",
              "  }\n",
              "\n",
              "  .colab-df-quickchart:hover {\n",
              "    background-color: var(--hover-bg-color);\n",
              "    box-shadow: 0 1px 2px rgba(60, 64, 67, 0.3), 0 1px 3px 1px rgba(60, 64, 67, 0.15);\n",
              "    fill: var(--button-hover-fill-color);\n",
              "  }\n",
              "\n",
              "  .colab-df-quickchart-complete:disabled,\n",
              "  .colab-df-quickchart-complete:disabled:hover {\n",
              "    background-color: var(--disabled-bg-color);\n",
              "    fill: var(--disabled-fill-color);\n",
              "    box-shadow: none;\n",
              "  }\n",
              "\n",
              "  .colab-df-spinner {\n",
              "    border: 2px solid var(--fill-color);\n",
              "    border-color: transparent;\n",
              "    border-bottom-color: var(--fill-color);\n",
              "    animation:\n",
              "      spin 1s steps(1) infinite;\n",
              "  }\n",
              "\n",
              "  @keyframes spin {\n",
              "    0% {\n",
              "      border-color: transparent;\n",
              "      border-bottom-color: var(--fill-color);\n",
              "      border-left-color: var(--fill-color);\n",
              "    }\n",
              "    20% {\n",
              "      border-color: transparent;\n",
              "      border-left-color: var(--fill-color);\n",
              "      border-top-color: var(--fill-color);\n",
              "    }\n",
              "    30% {\n",
              "      border-color: transparent;\n",
              "      border-left-color: var(--fill-color);\n",
              "      border-top-color: var(--fill-color);\n",
              "      border-right-color: var(--fill-color);\n",
              "    }\n",
              "    40% {\n",
              "      border-color: transparent;\n",
              "      border-right-color: var(--fill-color);\n",
              "      border-top-color: var(--fill-color);\n",
              "    }\n",
              "    60% {\n",
              "      border-color: transparent;\n",
              "      border-right-color: var(--fill-color);\n",
              "    }\n",
              "    80% {\n",
              "      border-color: transparent;\n",
              "      border-right-color: var(--fill-color);\n",
              "      border-bottom-color: var(--fill-color);\n",
              "    }\n",
              "    90% {\n",
              "      border-color: transparent;\n",
              "      border-bottom-color: var(--fill-color);\n",
              "    }\n",
              "  }\n",
              "</style>\n",
              "\n",
              "  <script>\n",
              "    async function quickchart(key) {\n",
              "      const quickchartButtonEl =\n",
              "        document.querySelector('#' + key + ' button');\n",
              "      quickchartButtonEl.disabled = true;  // To prevent multiple clicks.\n",
              "      quickchartButtonEl.classList.add('colab-df-spinner');\n",
              "      try {\n",
              "        const charts = await google.colab.kernel.invokeFunction(\n",
              "            'suggestCharts', [key], {});\n",
              "      } catch (error) {\n",
              "        console.error('Error during call to suggestCharts:', error);\n",
              "      }\n",
              "      quickchartButtonEl.classList.remove('colab-df-spinner');\n",
              "      quickchartButtonEl.classList.add('colab-df-quickchart-complete');\n",
              "    }\n",
              "    (() => {\n",
              "      let quickchartButtonEl =\n",
              "        document.querySelector('#df-6c8059de-6e31-425f-a1fb-43397b4c0b9a button');\n",
              "      quickchartButtonEl.style.display =\n",
              "        google.colab.kernel.accessAllowed ? 'block' : 'none';\n",
              "    })();\n",
              "  </script>\n",
              "</div>\n",
              "\n",
              "    </div>\n",
              "  </div>\n"
            ],
            "application/vnd.google.colaboratory.intrinsic+json": {
              "type": "dataframe",
              "summary": "{\n  \"name\": \"df\",\n  \"rows\": 3,\n  \"fields\": [\n    {\n      \"column\": \"statement\",\n      \"properties\": {\n        \"dtype\": \"string\",\n        \"num_unique_values\": 3,\n        \"samples\": [\n          \"sense of fear have you ever felt a sense of fear that seemed to take over your body and mind leaving you feeling helpless fear can be a paralyzing emotion preventing us from moving forward in life but what if there was something you could do about it what if there were ways to get rid of the sense of fear in this article we will explore practical tips and techniques for overcoming feelings of fear whether your fear is rooted in an event or situation from the past or stems from current worries and anxieties these strategies may help you ease your fears so that they do not control your life well discuss how to identify triggers use selftalk to reframe thoughts practice relaxation methods such as meditation and deep breathing exercises reach out for support when needed and more so let us dive into learning how to manage fear and gain peace of mind\",\n          \"hi all i could really use some advise thank you in advance to those who comment longstoryshort i feel trapped in unfulfilling office jobs that do not align with who i am as a person every day i go through some sort of existential crisis and lately i have really been wondering what the purpose of life is on top of this usas economic and societal climate really makes me depressed jobs i would actually be happy with would not pay a livable wage cost of living is too damn high and greed is so rampant amongst corporationsrich people anyway i have been working in my professional career for about 7 years now but i still feel like a scared little girl when it comes to taking on responsibilities and talking to other people all the information that comes my way at work does not stick i do not have interest in retaining it and it is really starting to bite me in the butt my career motivation is tanked and i feel very guilty about it i know this is not who i really i am seriously i can be a very driven and happy person but especially lately i really just want to shut myself away i want to quit but bills need to be paidso my question is how do i get out of this rutt and find fulfillment i have tried therapy antidepressants career coaches exercising and eating well i have also changed jobs a couple times gone back to school for masters etc but over time i sink back to these bad feelings how can i gain confidence in my job and skills what will make me want to wake up everyday i miss the feeling of the world is my oyster the world is shit advise on fulfillment\",\n          \"i just want to to rest that is all no more nightmeres no more confusion no more pretending no more people no more work no more medicine just peace that all folks a peace that i will never find in this word or in my head no anger no revange against order not trying to proof anything or hurt people that i love just tired what is the difference we are all dead anyway tired so fucking tired\"\n        ],\n        \"semantic_type\": \"\",\n        \"description\": \"\"\n      }\n    },\n    {\n      \"column\": \"status\",\n      \"properties\": {\n        \"dtype\": \"string\",\n        \"num_unique_values\": 3,\n        \"samples\": [\n          \"Stress\",\n          \"Suicidal\",\n          \"Depression\"\n        ],\n        \"semantic_type\": \"\",\n        \"description\": \"\"\n      }\n    },\n    {\n      \"column\": \"statemnent_length\",\n      \"properties\": {\n        \"dtype\": \"number\",\n        \"std\": 614,\n        \"min\": 412,\n        \"max\": 1638,\n        \"num_unique_values\": 3,\n        \"samples\": [\n          956,\n          1638,\n          412\n        ],\n        \"semantic_type\": \"\",\n        \"description\": \"\"\n      }\n    },\n    {\n      \"column\": \"num_of_words\",\n      \"properties\": {\n        \"dtype\": \"number\",\n        \"std\": 115,\n        \"min\": 79,\n        \"max\": 306,\n        \"num_unique_values\": 3,\n        \"samples\": [\n          155,\n          306,\n          79\n        ],\n        \"semantic_type\": \"\",\n        \"description\": \"\"\n      }\n    },\n    {\n      \"column\": \"num_of_sentences\",\n      \"properties\": {\n        \"dtype\": \"number\",\n        \"std\": 8,\n        \"min\": 7,\n        \"max\": 23,\n        \"num_unique_values\": 3,\n        \"samples\": [\n          8,\n          23,\n          7\n        ],\n        \"semantic_type\": \"\",\n        \"description\": \"\"\n      }\n    },\n    {\n      \"column\": \"statement_with_emojis\",\n      \"properties\": {\n        \"dtype\": \"string\",\n        \"num_unique_values\": 3,\n        \"samples\": [\n          \"sense of fear have you ever felt a sense of fear that seemed to take over your body and mind leaving you feeling helpless fear can be a paralyzing emotion preventing us from moving forward in life but what if there was something you could do about it what if there were ways to get rid of the sense of fear\\n\\nin this article we will explore practical tips and techniques for overcoming feelings of fear whether your fear is rooted in an event or situation from the past or stems from current worries and anxieties these strategies may help you ease your fears so that they dont control your life\\n\\nwell discuss how to identify triggers use selftalk to reframe thoughts practice relaxation methods such as meditation and deep breathing exercises reach out for support when needed and more so lets dive into learning how to manage fear and gain peace of mind\",\n          \"hi all i could really use some advise thank you in advance to those who comment  longstoryshort i feel trapped in unfulfilling office jobs that do not align with who i am as a person every day i go through some sort of existential crisis and lately i have really been wondering what the purpose of life is on top of this usas economic and societal climate really makes me depressed jobs i would actually be happy with would not pay a livable wage cost of living is too damn high and greed is so rampant amongst corporationsrich people anyway i have been working in my professional career for about 7 years now but i still feel like a scared little girl when it comes to taking on responsibilities and talking to other people all the information that comes my way at work does not stick i do not have interest in retaining it and it is really starting to bite me in the butt my career motivation is tanked and i feel very guilty about it  i know this is not who i really i am seriously i can be a very driven and happy person but especially lately i really just want to shut myself away i want to quit but bills need to be paidso my question is how do i get out of this rutt and find fulfillment i have tried therapy antidepressants career coaches exercising and eating well i have also changed jobs a couple times gone back to school for masters etc but over time i sink back to these bad feelings how can i gain confidence in my job and skills what will make me want to wake up everyday i miss the feeling of the world is my oyster the world is shit advise on fulfillment\",\n          \"i just want to to rest that is all no more nightmeres no more confusion no more pretending no more people no more work no more medicine just peace  that all folks a peace that i will never find in this word or in my head no anger no revange against order not trying to proof anything or hurt people that i love just tired what is the difference we are all dead anyway tired so fucking tired\"\n        ],\n        \"semantic_type\": \"\",\n        \"description\": \"\"\n      }\n    },\n    {\n      \"column\": \"tokens\",\n      \"properties\": {\n        \"dtype\": \"string\",\n        \"num_unique_values\": 3,\n        \"samples\": [\n          \"['sense', 'of', 'fear', 'have', 'you', 'ever', 'felt', 'a', 'sense', 'of', 'fear', 'that', 'seemed', 'to', 'take', 'over', 'your', 'body', 'and', 'mind', 'leaving', 'you', 'feeling', 'helpless', 'fear', 'can', 'be', 'a', 'paralyzing', 'emotion', 'preventing', 'us', 'from', 'moving', 'forward', 'in', 'life', 'but', 'what', 'if', 'there', 'was', 'something', 'you', 'could', 'do', 'about', 'it', 'what', 'if', 'there', 'were', 'ways', 'to', 'get', 'rid', 'of', 'the', 'sense', 'of', 'fear', 'in', 'this', 'article', 'we', 'will', 'explore', 'practical', 'tips', 'and', 'techniques', 'for', 'overcoming', 'feelings', 'of', 'fear', 'whether', 'your', 'fear', 'is', 'rooted', 'in', 'an', 'event', 'or', 'situation', 'from', 'the', 'past', 'or', 'stems', 'from', 'current', 'worries', 'and', 'anxieties', 'these', 'strategies', 'may', 'help', 'you', 'ease', 'your', 'fears', 'so', 'that', 'they', 'do', 'not', 'control', 'your', 'life', 'well', 'discuss', 'how', 'to', 'identify', 'triggers', 'use', 'selftalk', 'to', 'reframe', 'thoughts', 'practice', 'relaxation', 'methods', 'such', 'as', 'meditation', 'and', 'deep', 'breathing', 'exercises', 'reach', 'out', 'for', 'support', 'when', 'needed', 'and', 'more', 'so', 'let', 'us', 'dive', 'into', 'learning', 'how', 'to', 'manage', 'fear', 'and', 'gain', 'peace', 'of', 'mind']\",\n          \"['hi', 'all', 'i', 'could', 'really', 'use', 'some', 'advise', 'thank', 'you', 'in', 'advance', 'to', 'those', 'who', 'comment', 'longstoryshort', 'i', 'feel', 'trapped', 'in', 'unfulfilling', 'office', 'jobs', 'that', 'do', 'not', 'align', 'with', 'who', 'i', 'am', 'as', 'a', 'person', 'every', 'day', 'i', 'go', 'through', 'some', 'sort', 'of', 'existential', 'crisis', 'and', 'lately', 'i', 'have', 'really', 'been', 'wondering', 'what', 'the', 'purpose', 'of', 'life', 'is', 'on', 'top', 'of', 'this', 'usas', 'economic', 'and', 'societal', 'climate', 'really', 'makes', 'me', 'depressed', 'jobs', 'i', 'would', 'actually', 'be', 'happy', 'with', 'would', 'not', 'pay', 'a', 'livable', 'wage', 'cost', 'of', 'living', 'is', 'too', 'damn', 'high', 'and', 'greed', 'is', 'so', 'rampant', 'amongst', 'corporationsrich', 'people', 'anyway', 'i', 'have', 'been', 'working', 'in', 'my', 'professional', 'career', 'for', 'about', '7', 'years', 'now', 'but', 'i', 'still', 'feel', 'like', 'a', 'scared', 'little', 'girl', 'when', 'it', 'comes', 'to', 'taking', 'on', 'responsibilities', 'and', 'talking', 'to', 'other', 'people', 'all', 'the', 'information', 'that', 'comes', 'my', 'way', 'at', 'work', 'does', 'not', 'stick', 'i', 'do', 'not', 'have', 'interest', 'in', 'retaining', 'it', 'and', 'it', 'is', 'really', 'starting', 'to', 'bite', 'me', 'in', 'the', 'butt', 'my', 'career', 'motivation', 'is', 'tanked', 'and', 'i', 'feel', 'very', 'guilty', 'about', 'it', 'i', 'know', 'this', 'is', 'not', 'who', 'i', 'really', 'i', 'am', 'seriously', 'i', 'can', 'be', 'a', 'very', 'driven', 'and', 'happy', 'person', 'but', 'especially', 'lately', 'i', 'really', 'just', 'want', 'to', 'shut', 'myself', 'away', 'i', 'want', 'to', 'quit', 'but', 'bills', 'need', 'to', 'be', 'paidso', 'my', 'question', 'is', 'how', 'do', 'i', 'get', 'out', 'of', 'this', 'rutt', 'and', 'find', 'fulfillment', 'i', 'have', 'tried', 'therapy', 'antidepressants', 'career', 'coaches', 'exercising', 'and', 'eating', 'well', 'i', 'have', 'also', 'changed', 'jobs', 'a', 'couple', 'times', 'gone', 'back', 'to', 'school', 'for', 'masters', 'etc', 'but', 'over', 'time', 'i', 'sink', 'back', 'to', 'these', 'bad', 'feelings', 'how', 'can', 'i', 'gain', 'confidence', 'in', 'my', 'job', 'and', 'skills', 'what', 'will', 'make', 'me', 'want', 'to', 'wake', 'up', 'everyday', 'i', 'miss', 'the', 'feeling', 'of', 'the', 'world', 'is', 'my', 'oyster', 'the', 'world', 'is', 'shit', 'advise', 'on', 'fulfillment']\",\n          \"['i', 'just', 'want', 'to', 'to', 'rest', 'that', 'is', 'all', 'no', 'more', 'nightmeres', 'no', 'more', 'confusion', 'no', 'more', 'pretending', 'no', 'more', 'people', 'no', 'more', 'work', 'no', 'more', 'medicine', 'just', 'peace', 'that', 'all', 'folks', 'a', 'peace', 'that', 'i', 'will', 'never', 'find', 'in', 'this', 'word', 'or', 'in', 'my', 'head', 'no', 'anger', 'no', 'revange', 'against', 'order', 'not', 'trying', 'to', 'proof', 'anything', 'or', 'hurt', 'people', 'that', 'i', 'love', 'just', 'tired', 'what', 'is', 'the', 'difference', 'we', 'are', 'all', 'dead', 'anyway', 'tired', 'so', 'fucking', 'tired']\"\n        ],\n        \"semantic_type\": \"\",\n        \"description\": \"\"\n      }\n    },\n    {\n      \"column\": \"tokens_stemmed\",\n      \"properties\": {\n        \"dtype\": \"string\",\n        \"num_unique_values\": 3,\n        \"samples\": [\n          \"sens of fear have you ever felt a sens of fear that seem to take over your bodi and mind leav you feel helpless fear can be a paralyz emot prevent us from move forward in life but what if there was someth you could do about it what if there were way to get rid of the sens of fear in this articl we will explor practic tip and techniqu for overcom feel of fear whether your fear is root in an event or situat from the past or stem from current worri and anxieti these strategi may help you eas your fear so that they do not control your life well discuss how to identifi trigger use selftalk to refram thought practic relax method such as medit and deep breath exercis reach out for support when need and more so let us dive into learn how to manag fear and gain peac of mind\",\n          \"hi all i could realli use some advis thank you in advanc to those who comment longstoryshort i feel trap in unfulfil offic job that do not align with who i am as a person everi day i go through some sort of existenti crisi and late i have realli been wonder what the purpos of life is on top of this usa econom and societ climat realli make me depress job i would actual be happi with would not pay a livabl wage cost of live is too damn high and greed is so rampant amongst corporationsrich peopl anyway i have been work in my profession career for about 7 year now but i still feel like a scare littl girl when it come to take on respons and talk to other peopl all the inform that come my way at work doe not stick i do not have interest in retain it and it is realli start to bite me in the butt my career motiv is tank and i feel veri guilti about it i know this is not who i realli i am serious i can be a veri driven and happi person but especi late i realli just want to shut myself away i want to quit but bill need to be paidso my question is how do i get out of this rutt and find fulfil i have tri therapi antidepress career coach exercis and eat well i have also chang job a coupl time gone back to school for master etc but over time i sink back to these bad feel how can i gain confid in my job and skill what will make me want to wake up everyday i miss the feel of the world is my oyster the world is shit advis on fulfil\",\n          \"i just want to to rest that is all no more nightmer no more confus no more pretend no more peopl no more work no more medicin just peac that all folk a peac that i will never find in this word or in my head no anger no revang against order not tri to proof anyth or hurt peopl that i love just tire what is the differ we are all dead anyway tire so fuck tire\"\n        ],\n        \"semantic_type\": \"\",\n        \"description\": \"\"\n      }\n    },\n    {\n      \"column\": \"tokens_verbs\",\n      \"properties\": {\n        \"dtype\": \"string\",\n        \"num_unique_values\": 3,\n        \"samples\": [\n          \"have felt seemed take mind leaving feeling be preventing moving was do were get explore overcoming is rooted stems help ease do control discuss identify use reframe reach needed let dive learning manage gain\",\n          \"use comment feel trapped do align i am go have been wondering is makes be pay is is i have been working i feel comes taking talking comes does stick do have retaining is starting bite is tanked feel i know is i am be want shut i want quit need be is i get find have tried career exercising eating have changed times gone etc sink i gain skills make want wake miss is is\",\n          \"want rest is nightmeres find trying proof tired is are tired\"\n        ],\n        \"semantic_type\": \"\",\n        \"description\": \"\"\n      }\n    },\n    {\n      \"column\": \"tokens_nouns\",\n      \"properties\": {\n        \"dtype\": \"string\",\n        \"num_unique_values\": 3,\n        \"samples\": [\n          \"sense fear sense fear body fear emotion life something ways sense fear article tips techniques feelings fear fear event situation past worries anxieties strategies fears life triggers selftalk thoughts practice relaxation methods meditation breathing exercises support fear peace mind\",\n          \"hi i advise thank advance longstoryshort i office jobs person day i sort crisis i purpose life top climate jobs i wage cost living greed amongst people career years girl responsibilities people information way work i interest butt career motivation person bills question rutt fulfillment i therapy antidepressants coaches i jobs couple school masters time feelings confidence job i feeling world oyster world advise fulfillment\",\n          \"i confusion people work peace folks peace i word head anger revange order anything hurt people love difference\"\n        ],\n        \"semantic_type\": \"\",\n        \"description\": \"\"\n      }\n    },\n    {\n      \"column\": \"tokens_adj\",\n      \"properties\": {\n        \"dtype\": \"string\",\n        \"num_unique_values\": 3,\n        \"samples\": [\n          \"helpless paralyzing rid practical current such deep\",\n          \"unfulfilling existential usas economic societal depressed happy livable damn high rampant corporationsrich professional scared little other i guilty i i driven happy i paidso do i bad everyday shit\",\n          \"more more pretending more medicine i dead fucking tired\"\n        ],\n        \"semantic_type\": \"\",\n        \"description\": \"\"\n      }\n    },\n    {\n      \"column\": \"important_words\",\n      \"properties\": {\n        \"dtype\": \"string\",\n        \"num_unique_values\": 3,\n        \"samples\": [\n          \"article sense emotion current take to selftalk helpless it and will feeling we seemed reframe anxieties moving as ever so do may from thoughts control overcoming body what about have for use let into gain when more strategies fears but were worries identify forward ease fear meditation not methods practical deep reach discuss over a us life support in of felt rooted dive could needed tips exercises explore manage feelings breathing that peace paralyzing well how such event help mind leaving you preventing be they techniques triggers past\",\n          \"bad everyday happy align wake butt economic way fulfillment wage job damn actually to 7 away it these find and bills will feeling at taking working as person usas masters bite retaining am so coaches advise do other out miss career times crisis who back been comes work corporationsrich thank jobs what school through still about i anyway especially have people for use livable purpose like little sort confidence gain know too when is top also talking eating quit does longstoryshort driven etc but can feel just stick question tanked cost not scared time rampant on greed me myself responsibilities pay over a life years existential in sink of hi wondering rutt could those tried trapped gone professional interest go feelings skills get now seriously living amongst with that this guilty well depressed makes how world my lately need really make girl day comment changed advance would you unfulfilling starting be climate shut very high want information\",\n          \"not proof all tired hurt confusion i no rest anyway people folks head to love in find will is anything more order we never are pretending nightmeres word medicine trying against dead so just or peace fucking work want that\"\n        ],\n        \"semantic_type\": \"\",\n        \"description\": \"\"\n      }\n    },\n    {\n      \"column\": \"sentiment_scores\",\n      \"properties\": {\n        \"dtype\": \"string\",\n        \"num_unique_values\": 3,\n        \"samples\": [\n          \"[0, 0, 0.0, 0.075, 0.0, 0.0, 0.075, 0, 0, 0, 0, 0.0, 0.0, 0, 0, 0, 0, 0.0, 0.075, -0.017857142857142856, 0.0, 0, 0, 0, 0, -0.05, -0.017857142857142856, 0.0, 0.075, 0, 0, 0, 0, 0.0, 0.0, 0.0, 0, 0, 0, 0, 0.075, 0.0, 0.075, 0.0, 0, 0, 0, 0, 0.0, 0.075, 0.0, 0.0, 0, 0, 0, 0, -0.017857142857142856, 0, 0, 0, 0, 0.0, 0.075, 0.0, 0.0, 0.075, 0, 0, 0, 0, 0.0, 0.0, 0, 0, 0, 0, 0.0, 0.075, -0.017857142857142856, 0.0, 0, 0, 0, 0, 0.0, -0.05, -0.017857142857142856, 0.0, 0, 0, 0, 0, 0.0, 0.075, 0.075, 0.0, 0.075, -0.03125, 0, 0, 0, 0, 0.0, 0.0, 0, 0, 0, 0, 0.0, -0.017857142857142856, 0.0, 0.075, 0, 0, 0, 0, 0.0, 0.0, 0.075, 0.0, 0, 0, 0, 0, 0.0, 0.0, 0.0, 0.0, 0, 0, 0, 0, 0.0, 0.0, -0.03125, 0.0, 0, 0, 0, 0, -0.017857142857142856, 0.0, -0.03125, 0, 0, 0, 0, 0.0, -0.0625, 0.0, -0.03125, 0, 0, 0, 0, 0.0, 0.075, -0.017857142857142856, 0.0, -0.0625, 0.0, 0.0, 0, 0, 0, 0, 0.0, 0.0, 0.0, 0, 0, 0, 0, 0.0, 0.075, 0.075, 0.0, -0.0625, 0.0, 0.0, 0, 0, 0, 0, -0.05, 0.075, 0.0, 0.0, 0.0, 0.075, 0.0, 0.0, 0, 0, 0, 0, 0.0, 0.075, -0.017857142857142856, 0.0, 0, 0, 0, 0, 0.0, -0.017857142857142856, 0.0, 0, 0, 0, 0, 0.0, 0.075, 0, 0, 0, 0, -0.017857142857142856, 0, 0, 0, 0, 0.0, -0.017857142857142856, 0.0, -0.017857142857142856, 0.0, 0.0, 0.0, -0.0625, 0.0, 0.0, 0, 0, 0, 0, 0.075, 0.0, 0.0, 0.0, -0.0625, 0.0, 0.0, 0, 0, 0, 0, 0.0, 0.0, 0.075, 0.0, 0.075, 0.0, 0.0, -0.0625, 0.0, 0.0, 0, 0, 0, 0, 0.0, 0.0, 0, 0, 0, 0, 0.0, 0.0, 0.0, 0.0, 0, 0, 0, 0, 0.0, 0.0, 0.0, -0.0625, 0.0, 0.0, 0, 0, 0, 0, 0.0, 0.0, 0.0, 0.0, -0.017857142857142856, 0.0, -0.03125, 0, 0, 0, 0, -0.0625, 0.0, 0, 0, 0, 0, 0.0, -0.0625, 0.0, 0.075, 0, 0, 0, 0, 0.0, 0.0, 0.0, 0, 0, 0, 0, 0.0, -0.05, -0.017857142857142856, 0.0, 0, 0, 0, 0, -0.0625, 0.0, 0, 0, 0, 0, 0.0, -0.05, 0.075, 0.0, 0.075, 0, 0, 0, 0, 0.0, -0.017857142857142856, 0.0, 0, 0, 0, 0, 0.0, 0.0, 0.0, 0.075, 0.0, -0.05, -0.0625, 0.0, 0.0, 0, 0, 0, 0, 0.0, 0.0, 0.0, 0, 0, 0, 0, 0.0, 0.0, 0.0, 0.0, -0.03125, 0, 0, 0, 0, -0.03125, 0.0, 0, 0, 0, 0, -0.017857142857142856, 0.0, 0.0, 0.0, 0.0, 0, 0, 0, 0, -0.0625, 0.0, 0, 0, 0, 0, 0.0, -0.05, -0.017857142857142856, 0.0, 0, 0, 0, 0, -0.0625, 0.0, 0, 0, 0, 0, 0.0, -0.05, 0.075, 0.0, 0.075, 0, 0, 0, 0, 0.0, 0.075, 0.0, 0.075, 0, 0, 0, 0, 0.0, -0.017857142857142856, 0.0, 0.0, 0, 0, 0, 0, 0.0, 0.0, 0, 0, 0, 0, 0.0, 0.075, 0.0, 0, 0, 0, 0, 0.0, -0.0625, -0.03125, 0, 0, 0, 0, 0.0, 0.0, 0, 0, 0, 0, 0.0, -0.05, 0.075, 0, 0, 0, 0, 0.0, 0.075, 0.0, 0.0, 0.075, 0, 0, 0, 0, 0.0, 0.0, 0, 0, 0, 0, 0.0, 0.075, -0.017857142857142856, 0.0, 0, 0, 0, 0, -0.0625, 0.0, 0, 0, 0, 0, 0.0, -0.05, -0.0625, 0.0, 0, 0, 0, 0, -0.017857142857142856, 0.0, 0.0, -0.0625, 0.0, 0.0, 0.075, 0, 0, 0, 0, 0.0, 0.075, 0, 0, 0, 0, 0.0, -0.0625, 0.0, 0.0, 0, 0, 0, 0, 0.075, 0.0, 0.0, 0.0, 0.0, 0.0, 0.075, 0, 0, 0, 0, 0.0, 0.0, -0.017857142857142856, 0.0, 0.0, -0.0625, 0.0, -0.017857142857142856, 0.0, 0, 0, 0, 0, 0.0, -0.0625, 0.0, 0.0, 0, 0, 0, 0, -0.017857142857142856, 0.0, -0.03125, 0, 0, 0, 0, 0.0, 0.075, 0.0, -0.05, 0.0, -0.0625, 0.0, 0.0, 0.075, 0.0, 0, 0, 0, 0, 0.0, 0.0, 0.0, 0, 0, 0, 0, 0.0, 0.0, 0.075, 0.0, 0.0, 0.0, 0.0, -0.0625, 0.0, 0.0, 0, 0, 0, 0, 0.0, 0.075, 0.075, 0.0, -0.0625, 0.0, 0.0, 0.0, 0, 0, 0, 0, 0.0, 0.0, 0, 0, 0, 0, 0.0, 0.075, -0.017857142857142856, 0.0, 0, 0, 0, 0, 0.0, -0.05, 0.075, 0.0, -0.05, 0.075, 0.0, 0, 0, 0, 0, 0.0, 0.0, 0.0, 0.0, 0, 0, 0, 0, 0.0, 0.075, -0.017857142857142856, 0.0, 0, 0, 0, 0, -0.0625, 0.0, 0, 0, 0, 0, 0.0, 0.0, 0.0, 0.0, 0.075, -0.03125, 0, 0, 0, 0, -0.0625, 0.0, 0, 0, 0, 0, -0.017857142857142856, 0.0, 0, 0, 0, 0, 0.075, 0.0, 0.075, 0.0, 0.0, 0, 0, 0, 0, 0.0, 0.0, 0, 0, 0, 0, 0.0, -0.0625, 0.0, 0.0, -0.017857142857142856, 0.0, -0.0625, 0.0, 0.0, 0, 0, 0, 0, 0.0, 0.0, 0.0, 0.0, 0, 0, 0, 0, 0.0, -0.05, 0.075, 0, 0, 0, 0, 0.0, -0.017857142857142856, 0.0, 0.0, 0, 0, 0, 0, 0.0, 0.0, 0, 0, 0, 0, 0.0, 0.0, 0.075, 0.0, 0.0, 0, 0, 0, 0, 0.0, 0.0, 0.0, 0.0, 0, 0, 0, 0, 0.0, 0.0, 0.0, 0.0, 0.075, 0.0, 0.0, 0, 0, 0, 0, 0.0, 0.0, 0.0, 0.0, -0.0625, 0.075, 0.0, 0, 0, 0, 0, -0.017857142857142856, 0.0, -0.03125, 0, 0, 0, 0, -0.017857142857142856, 0.0, 0.0, -0.0625, 0.075, 0.0, -0.0625, 0.075, 0.0, 0, 0, 0, 0, 0.0, -0.05, 0.075, 0.0, 0.075, 0, 0, 0, 0, 0.0, 0.0, 0.0, -0.017857142857142856, 0.0, 0.075, 0.0, -0.0625, 0.075, 0.0, 0, 0, 0, 0, 0.0, -0.017857142857142856, 0.0, 0, 0, 0, 0, -0.05, 0.075, 0.0, 0.0, 0, 0, 0, 0, 0.0, 0.0, 0.0, 0, 0, 0, 0, 0.075, -0.017857142857142856, 0.0, 0.075, 0, 0, 0, 0, 0.0, 0.0, 0.0, 0.0, 0, 0, 0, 0, 0.0, 0.075, -0.017857142857142856, 0.0, 0.0, 0, 0, 0, 0, 0.0, 0.0, 0, 0, 0, 0, 0.0, -0.05, -0.017857142857142856, 0.0, 0, 0, 0, 0, 0.0, -0.05, 0.075, 0.0, 0, 0, 0, 0, -0.03125, 0.0, 0, 0, 0, 0, 0.0, 0.0, 0.0, 0, 0, 0, 0, 0.0, 0.0, 0.0, 0.0, 0.0, 0.0, 0.0, 0, 0, 0, 0, 0.0, 0.0, 0.0, 0.0, 0, 0, 0, 0, 0.0, -0.0625, 0.0, 0.075, 0, 0, 0, 0, 0.0, 0.075, 0.0, 0.0, 0, 0, 0, 0, -0.03125, -0.0625, 0.0, 0.0, 0.0, 0.0, 0.0, 0, 0, 0, 0, -0.05, 0.0, 0.0, 0, 0, 0, 0, 0.0, 0.0, 0, 0, 0, 0, -0.0625, -0.03125, 0.075, 0.0, 0.0, -0.0625, 0.0, 0.0, 0, 0, 0, 0, 0.0, 0.0, -0.0625, 0.0, 0.0, 0.075, 0.0, 0.0, 0, 0, 0, 0, 0.0, 0.0, 0.075, 0, 0, 0, 0, 0.0, 0.075, 0.0, 0.0, 0.0, -0.017857142857142856, 0.0, 0.0, 0, 0, 0, 0, 0.0, 0.0, 0, 0, 0, 0, 0.0, 0.075, 0.0, 0.0, -0.017857142857142856, 0.0, 0.075, 0, 0, 0, 0, 0.0, -0.05, 0.0, 0.0, 0.0, -0.05, 0.0, 0.0, 0, 0, 0, 0, 0.0, 0.0, -0.017857142857142856, 0.0, 0.0, -0.0625, 0.0, 0.075, 0, 0, 0, 0, 0.0, 0.075, 0.0, -0.017857142857142856, 0.0, -0.017857142857142856, 0.0, -0.0625, 0.0, 0.0, 0, 0, 0, 0, 0.0, 0.075, 0.0, -0.05, 0.0, -0.03125, 0.0, 0, 0, 0, 0, 0.0, 0.0, 0.0, -0.05, 0, 0, 0, 0, -0.017857142857142856, 0.0, 0, 0, 0, 0, 0.0, 0.075, -0.03125, -0.0625, 0.0, -0.017857142857142856, 0.0, -0.0625, 0.0, 0.0, 0, 0, 0, 0, -0.017857142857142856, 0.0, -0.03125, 0, 0, 0, 0, -0.03125, 0.075, 0.075, 0.0, 0, 0, 0, 0, 0.0, 0.0, 0.075, -0.017857142857142856, 0.0, -0.05, -0.0625, 0.0, 0.0, 0, 0, 0, 0, 0.075, 0.0, 0.075, 0.0, 0.0, -0.0625, 0.0, 0.075, 0.0, 0, 0, 0, 0, 0.0, 0.075, -0.017857142857142856, 0.0, -0.05, 0, 0, 0, 0, 0.0, 0.0, 0.0, 0, 0, 0, 0, 0.0, 0.0, 0.0, 0, 0, 0, 0, 0.0, 0.0, 0.0, 0.0, 0.0, 0.0, 0.0, 0, 0, 0, 0, 0.0, -0.05, 0.075, 0.0, 0, 0, 0, 0, 0.0, 0.075, 0.075, -0.03125, 0.075, -0.03125, 0, 0, 0, 0, -0.017857142857142856, 0.0, -0.03125, 0, 0, 0, 0, 0.0, 0.0, 0.0, 0.075, 0, 0, 0, 0, 0.0, 0.0, 0, 0, 0, 0, 0.0, 0.075, 0.0, 0, 0, 0, 0, 0.0, 0.0, 0, 0, 0, 0, -0.03125, -0.0625, 0.0, 0.075, 0, 0, 0, 0, -0.0625, 0.0, 0.0, 0.0, 0, 0, 0, 0, 0.0, 0.075, -0.017857142857142856, 0.0, 0.0, -0.0625, 0.0, 0.0, 0, 0, 0, 0, -0.05, 0.0, 0.0, 0, 0, 0, 0, 0.0, 0.0, 0, 0, 0, 0, 0.0, -0.017857142857142856, 0.0, -0.017857142857142856, 0.0, 0.075, 0, 0, 0, 0, 0.0, 0.075, -0.017857142857142856, 0.0, 0, 0, 0, 0, -0.017857142857142856, 0.0, -0.03125, 0, 0, 0, 0, 0.0, -0.017857142857142856, -0.0625, 0.0, 0, 0, 0, 0, 0.0, 0.075, -0.017857142857142856, 0.0, 0.075, 0, 0, 0, 0, 0.0, 0.0, 0, 0, 0, 0, 0.0, -0.0625, 0.0, -0.03125, 0, 0]\",\n          \"[0, 0, -0.05, -0.0625, 0, 0, 0, 0, -0.017857142857142856, 0.0, 0.0, 0, 0, 0, 0, -0.0625, 0, 0, 0, 0, 0.0, 0.0, 0.0, 0.0, -0.03125, 0, 0, 0, 0, 0.0, 0.075, -0.017857142857142856, 0.0, 0.0, 0.0, 0, 0, 0, 0, 0.0, 0.0, 0.075, 0, 0, 0, 0, 0.0, 0.0, 0.0, 0.075, 0, 0, 0, 0, -0.017857142857142856, -0.03125, 0.0, -0.0625, 0.0, 0.075, 0, 0, 0, 0, 0.0, -0.05, -0.017857142857142856, 0.0, 0.0, 0, 0, 0, 0, 0.0, 0.0, 0.0, 0, 0, 0, 0, -0.0625, 0.0, 0, 0, 0, 0, -0.017857142857142856, -0.03125, 0.0, -0.017857142857142856, 0.0, 0.0, 0.075, 0, 0, 0, 0, 0.0, 0.0, 0, 0, 0, 0, 0.0, -0.05, 0.0, 0.0, 0.075, 0, 0, 0, 0, 0.0, -0.05, 0.0, 0, 0, 0, 0, 0.0, 0.0, 0.0, 0.0, 0.075, 0.0, 0.0, 0, 0, 0, 0, 0.0, 0.0, 0.0, 0.0, 0.0, 0.0, 0.0, 0.0, 0.0, 0.0, -0.05, 0.0, 0.0, 0.0, 0, 0, 0, 0, -0.0625, 0, 0, 0, 0, 0.0, 0.075, 0.075, 0.0, 0, 0, 0, 0, 0.0, 0.0, -0.017857142857142856, 0.0, 0.0, 0.075, -0.03125, 0, 0, 0, 0, -0.0625, 0.0, 0, 0, 0, 0, 0.0, 0.0, 0.0, 0.0, 0.0, 0.0, -0.0625, 0.0, 0.0, -0.0625, 0.0, 0.0, 0, 0, 0, 0, 0.0, 0.0, 0.0, -0.0625, 0.0, 0.075, 0, 0, 0, 0, 0.0, 0.0, 0.0, 0.0, 0, 0, 0, 0, 0.0, -0.05, -0.017857142857142856, 0.0, 0, 0, 0, 0, -0.03125, 0.0, 0, 0, 0, 0, 0.0, 0.0, 0.0, 0, 0, 0, 0, -0.017857142857142856, 0.0, -0.0625, 0.0, 0.0, 0, 0, 0, 0, 0.0, -0.0625, 0.0, -0.05, 0, 0, 0, 0, 0.0, -0.05, 0.0, 0, 0, 0, 0, -0.0625, 0, 0, 0, 0, -0.017857142857142856, 0.0, 0, 0, 0, 0, -0.017857142857142856, 0.0, 0, 0, 0, 0, -0.017857142857142856, 0, 0, 0, 0, 0.0, 0.075, 0.0, 0.0, 0.0, 0.0, 0, 0, 0, 0, 0.075, 0.0, 0.075, 0.0, 0.0, 0, 0, 0, 0, -0.03125, -0.017857142857142856, 0.0, 0, 0, 0, 0, -0.0625, 0, 0, 0, 0, 0.0, 0.0, 0, 0, 0, 0, 0.0, -0.05, 0.0, 0.0, 0.0, 0.0, -0.05, 0, 0, 0, 0, 0.0, 0.0, 0.0, 0.075, 0, 0, 0, 0, 0.0, 0.0, 0.0, 0.0, 0, 0, 0, 0, 0.0, 0.0, 0, 0, 0, 0, 0.075, 0.0, -0.0625, 0.0, 0.0, 0.075, 0.0, 0.0, -0.0625, -0.017857142857142856, 0.0, 0, 0, 0, 0, 0.0, 0.0, -0.0625, 0.0, -0.0625, 0.0, 0, 0, 0, 0, -0.017857142857142856, 0.0, -0.03125, 0, 0, 0, 0, 0.0, -0.017857142857142856, 0.0, 0.075, 0.0, 0.0, 0, 0, 0, 0, -0.0625, 0, 0, 0, 0, -0.05, -0.017857142857142856, 0.0, 0.075, 0, 0, 0, 0, 0.0, 0.075, -0.017857142857142856, 0.0, 0.0, 0.0, 0, 0, 0, 0, 0.0, 0.075, 0.075, 0.0, 0, 0, 0, 0, 0.0, 0.0, 0.0, -0.03125, 0.075, 0.0, -0.0625, 0.0, 0.0, 0, 0, 0, 0, 0.0, -0.05, -0.017857142857142856, 0.0, 0, 0, 0, 0, 0.0, -0.05, 0.075, 0, 0, 0, 0, 0.0, 0.0, 0.0, 0.0, 0.0, 0.0, 0.075, 0, 0, 0, 0, 0.0, 0.0, 0, 0, 0, 0, 0.0, -0.0625, 0.0, 0.075, 0, 0, 0, 0, -0.0625, 0.0, 0, 0, 0, 0, 0.0, 0.0, 0, 0, 0, 0, 0.0, 0.0, 0.0, 0, 0, 0, 0, 0.0, 0.0, 0, 0, 0, 0, 0.0, -0.05, -0.0625, 0.0, 0, 0, 0, 0, 0.0, 0.0, -0.017857142857142856, 0.0, 0, 0, 0, 0, 0.075, 0.0, 0.0, 0.0, 0.0, 0.0, -0.0625, 0.0, 0, 0, 0, 0, -0.017857142857142856, 0.0, -0.03125, 0, 0, 0, 0, 0.0, 0.0, 0.0, -0.0625, 0.075, 0.0, -0.017857142857142856, 0.0, 0, 0, 0, 0, 0.0, 0.0, -0.0625, 0.0, -0.017857142857142856, 0.0, 0.075, 0, 0, 0, 0, 0.0, 0.075, -0.017857142857142856, 0.0, 0.0, 0.0, 0, 0, 0, 0, 0.0, -0.017857142857142856, 0.0, 0.075, 0.0, 0, 0, 0, 0, 0.0, 0.075, 0, 0, 0, 0, -0.03125, 0.075, 0.0, 0.0, 0.075, 0.0, 0.0, 0.075, -0.03125, 0, 0, 0, 0, 0.0, 0.0, 0.0, 0.0, 0, 0, 0, 0, -0.0625, 0, 0, 0, 0, 0.0, 0.0, 0.0, 0.0, -0.03125, 0, 0, 0, 0, -0.017857142857142856, 0.0, 0.0, 0.0, -0.017857142857142856, 0.0, 0.0, 0.0, 0, 0, 0, 0, 0.0, 0.075, 0, 0, 0, 0, -0.05, -0.017857142857142856, 0.0, 0.0, 0.0, 0, 0, 0, 0, 0.0, -0.0625, 0.0, -0.05, 0, 0, 0, 0, 0.0, 0.0, 0.0, 0.0, -0.03125, 0, 0, 0, 0, 0.0, 0.0, 0.0, 0, 0, 0, 0, 0.0, -0.017857142857142856, 0.0, 0, 0, 0, 0, -0.017857142857142856, 0, 0, 0, 0, 0.0, -0.0625, 0.0, -0.017857142857142856, 0.0, 0.0, 0.075, 0, 0, 0, 0, 0.0, -0.017857142857142856, 0.0, 0.075, 0, 0, 0, 0, 0.0, 0.0, 0.0, 0.0, 0, 0, 0, 0, 0.0, 0.0, 0, 0, 0, 0, 0.0, -0.0625, 0.0, -0.0625, 0.0, 0.0, 0, 0, 0, 0, -0.0625, 0.0, 0, 0, 0, 0, 0.0, 0.0, 0.0, 0, 0, 0, 0, -0.03125, -0.017857142857142856, 0.0, 0.0, 0, 0, 0, 0, -0.05, -0.0625, 0.0, -0.05, 0, 0, 0, 0, -0.017857142857142856, 0.0, -0.03125, 0, 0, 0, 0, 0.0, 0.0, 0.075, 0.075, -0.03125, 0, 0, 0, 0, -0.0625, 0.0, 0, 0, 0, 0, 0.0, 0.0, 0, 0, 0, 0, 0.0, -0.017857142857142856, 0.0, 0.0, -0.017857142857142856, 0.0, 0.0, 0, 0, 0, 0, -0.017857142857142856, 0.0, 0.0, 0.0, 0.0, 0.0, 0.0, 0, 0, 0, 0, 0.0, 0.0, 0.0, 0.0, 0.0, 0.0, -0.017857142857142856, 0.0, -0.0625, 0.0, 0.0, 0.0, 0.0, -0.0625, 0.0, -0.05, 0, 0, 0, 0, 0.0, 0.075, 0.0, 0.0, 0.0, 0.075, 0, 0, 0, 0, -0.017857142857142856, 0.0, 0.0, 0.0, -0.017857142857142856, 0.0, 0, 0, 0, 0, -0.0625, 0, 0, 0, 0, -0.05, -0.017857142857142856, 0.0, 0.075, 0, 0, 0, 0, 0.0, 0.075, 0.075, 0.0, 0, 0, 0, 0, 0.0, 0.0, 0.0, 0.0, -0.0625, 0.0, 0.0, 0, 0, 0, 0, -0.0625, 0.0, 0, 0, 0, 0, 0.0, 0.0, 0, 0, 0, 0, 0.0, 0.0, 0.0, 0.0, 0.075, 0.0, 0.0, -0.0625, 0.0, 0.0, -0.017857142857142856, 0.0, 0, 0, 0, 0, 0.0, -0.017857142857142856, 0.0, 0.075, 0.075, 0.0, 0, 0, 0, 0, 0.0, 0.0, 0.0, 0, 0, 0, 0, -0.017857142857142856, 0.0, 0.0, 0.0, 0.0, 0, 0, 0, 0, 0.0, 0, 0, 0, 0, 0.0, 0.075, -0.017857142857142856, 0.0, 0.0, 0, 0, 0, 0, 0.0, 0.0, 0.0, 0, 0, 0, 0, 0.0, 0.0, 0.0, 0, 0, 0, 0, -0.0625, 0, 0, 0, 0, 0.0, 0.0, -0.0625, 0.0, 0.0, 0, 0, 0, 0, 0.0, 0.075, 0.075, 0.0, 0, 0, 0, 0, 0.0, -0.0625, 0.0, 0.075, 0, 0, 0, 0, -0.017857142857142856, 0, 0, 0, 0, 0.0, 0.0, -0.017857142857142856, 0.0, 0.075, -0.03125, 0, 0, 0, 0, 0.0, -0.0625, 0.0, 0.0, 0.0, 0.075, 0, 0, 0, 0, 0.0, -0.0625, 0.0, 0.0, 0, 0, 0, 0, 0.0, -0.05, 0.075, 0.0, 0, 0, 0, 0, -0.0625, 0.0, 0, 0, 0, 0, 0.0, 0.0, 0.0, 0.075, 0.0, 0, 0, 0, 0, 0.0, 0.0, 0, 0, 0, 0, 0.0, -0.017857142857142856, 0.0, -0.0625, 0.0, 0.0, 0, 0, 0, 0, 0.0, 0.0, 0, 0, 0, 0, 0.0, 0.075, 0.0, 0.0, 0.0, 0.0, 0.0, -0.0625, 0.0, -0.0625, 0.0, -0.0625, 0.0, -0.0625, 0.075, 0.0, 0, 0, 0, 0, -0.017857142857142856, 0.0, -0.03125, 0, 0, 0, 0, 0.0, -0.017857142857142856, 0.0, 0.0, -0.0625, 0.0, 0.0, 0, 0, 0, 0, 0.0, 0.0, 0, 0, 0, 0, 0.0, 0.0, -0.05, 0.075, 0.0, 0, 0, 0, 0, 0.0, 0.075, 0.0, 0.0, 0.0, 0.075, 0, 0, 0, 0, -0.017857142857142856, 0.0, 0.0, 0, 0, 0, 0, 0.0, -0.05, 0.075, 0, 0, 0, 0, -0.0625, 0.0, 0.0, 0.0, 0.0, 0.0, -0.017857142857142856, 0.0, -0.0625, 0.0, 0.0, 0, 0, 0, 0, 0.0, -0.05, -0.017857142857142856, 0.0, 0, 0, 0, 0, 0.0, 0.0, 0.0, 0.075, 0.0, 0, 0, 0, 0, 0.0, 0.0, 0, 0, 0, 0, 0.0, -0.017857142857142856, 0.0, 0, 0, 0, 0, -0.017857142857142856, 0.0, 0, 0, 0, 0, 0.0, 0.0, 0.0, 0.0, 0, 0, 0, 0, -0.03125, 0.0, 0.075, 0.0, 0, 0, 0, 0, 0.0, 0.0, 0.0, 0, 0, 0, 0, 0.0, 0.0, -0.0625, 0.0, 0.0, 0, 0, 0, 0, -0.0625, 0, 0, 0, 0, -0.03125, 0.0, 0, 0, 0, 0, 0.0, 0.0, 0.0, 0, 0, 0, 0, -0.05, -0.017857142857142856, 0.0, 0.075, 0, 0, 0, 0, -0.0625, 0.0, 0.0, 0.075, 0.0, 0.075, 0.0, 0.0, 0, 0, 0, 0, -0.0625, 0.0, 0, 0, 0, 0, 0.0, 0.075, 0.0, -0.017857142857142856, -0.0625, 0.0, -0.0625, 0.0, 0.0, 0, 0, 0, 0, -0.0625, 0.0, 0, 0, 0, 0, -0.017857142857142856, 0.0, -0.03125, 0, 0, 0, 0, -0.0625, 0.0, 0, 0, 0, 0, -0.0625, 0.0, 0, 0, 0, 0, 0.0, 0.075, -0.017857142857142856, 0.0, 0.0, 0.0, 0, 0, 0, 0, 0.0, 0.0, -0.017857142857142856, 0.0, 0.0, -0.0625, 0.0, 0.0, 0, 0, 0, 0, 0.0, 0.0, 0, 0, 0, 0, 0.0, -0.0625, 0.0, 0.075, 0, 0, 0, 0, 0.0, 0.075, 0, 0, 0, 0, -0.0625, 0.0, 0, 0, 0, 0, 0.0, -0.05, 0.075, 0, 0, 0, 0, 0.0, 0.0, 0.0, 0.0, 0, 0, 0, 0, 0.0, 0.0, 0, 0, 0, 0, 0.0, -0.017857142857142856, 0.0, 0.075, 0.075, 0.0, 0, 0, 0, 0, 0.0, 0.0, 0.0, -0.0625, 0.0, -0.017857142857142856, 0.0, -0.0625, 0.0, 0.0, 0, 0, 0, 0, -0.0625, 0.0, 0, 0, 0, 0, 0.0, -0.017857142857142856, 0.0, 0.0, 0.075, -0.03125, 0, 0, 0, 0, -0.017857142857142856, 0.0, -0.03125, 0, 0, 0, 0, -0.0625, 0, 0, 0, 0, 0.0, 0.075, 0.075, 0.0, 0, 0, 0, 0, 0.0, 0.075, 0.0, 0.0, 0, 0, 0, 0, 0.0, 0.0, -0.0625, 0.0, 0.0, 0.0, 0, 0, 0, 0, -0.017857142857142856, 0.0, 0.0, 0.0, 0.0, 0, 0, 0, 0, -0.0625, 0.0, 0, 0, 0, 0, -0.0625, 0, 0, 0, 0, 0.0, 0.0, 0.0, 0.0, 0, 0, 0, 0, 0.0, -0.05, -0.0625, 0.0, 0, 0, 0, 0, -0.0625, 0.0, 0, 0, 0, 0, 0.0, 0.0, 0.0, 0, 0, 0, 0, 0.0, -0.05, 0.0, 0, 0, 0, 0, -0.0625, 0, 0, 0, 0, 0.0, 0.075, -0.017857142857142856, 0.0, 0.0, 0.0, 0, 0, 0, 0, -0.0625, 0, 0, 0, 0, -0.017857142857142856, 0.0, 0, 0, 0, 0, 0.0, 0.075, 0.0, -0.0625, 0.0, 0.0, 0.0, 0.0, 0.0, 0, 0, 0, 0, -0.0625, 0, 0, 0, 0, 0.0, -0.017857142857142856, 0.0, 0, 0, 0, 0, 0.0, 0.075, 0, 0, 0, 0, -0.017857142857142856, 0, 0, 0, 0, 0.0, 0.075, 0.0, 0.0, 0, 0, 0, 0, -0.03125, 0.0, -0.0625, 0.0, 0.075, 0.0, 0, 0, 0, 0, -0.017857142857142856, 0.0, -0.03125, 0, 0, 0, 0, -0.05, -0.017857142857142856, 0.0, 0.0, 0.0, 0, 0, 0, 0, 0.0, 0.075, 0.0, 0.0, 0.0, 0.0, 0, 0, 0, 0, 0.0, 0.0, 0.0, 0, 0, 0, 0, 0.075, 0.0, 0.0, 0.075, 0.0, -0.0625, -0.017857142857142856, 0.0, 0.0, 0.0, 0, 0, 0, 0, 0.0, -0.017857142857142856, 0.0, 0.075, 0.0, 0.0, 0, 0, 0, 0, -0.0625, 0, 0, 0, 0, 0.0, 0.075, -0.017857142857142856, 0.0, 0.0, 0.0, 0, 0, 0, 0, 0.0, 0.0, 0.0, 0.0, 0, 0, 0, 0, 0.0, -0.017857142857142856, 0.0, 0.0, 0, 0, 0, 0, 0.0, 0.0, 0, 0, 0, 0, 0.0, -0.05, 0.0, 0.0, 0, 0, 0, 0, 0.0, 0.0, 0.0, 0.075, 0.0, 0.0, 0, 0, 0, 0, -0.017857142857142856, 0.0, -0.017857142857142856, 0.0, 0, 0, 0, 0, -0.0625, 0, 0, 0, 0, 0.0, -0.017857142857142856, 0.0, 0.0, 0, 0, 0, 0, 0.0, 0.0, 0, 0, 0, 0, 0.0, 0.0, -0.0625, 0.0, 0, 0, 0, 0, 0.0, 0.0, 0.0, 0, 0, 0, 0, 0.0, -0.0625, 0.0, 0.0, 0.0, 0, 0, 0, 0, 0.0, 0.075, 0.075, -0.03125, 0, 0, 0, 0, 0.0, 0.0, 0, 0, 0, 0, 0.0, 0.075, 0, 0, 0, 0, 0.0, -0.017857142857142856, -0.0625, -0.03125, 0.0, 0.0, 0, 0, 0, 0, 0.0, 0.0, 0, 0, 0, 0, 0.0, 0.0, 0.075, 0.0, 0.0, -0.0625, 0.0, 0.0, 0, 0, 0, 0, -0.0625, 0.0, 0, 0, 0, 0, -0.05, 0.0, 0.0, 0, 0, 0, 0, -0.03125, 0.0, 0, 0, 0, 0, -0.0625, 0, 0, 0, 0, 0.0, 0.075, 0.0, 0, 0, 0, 0, 0.0, 0.0, 0.0, 0, 0, 0, 0, 0.0, 0.0, 0, 0, 0, 0, 0.0, -0.05, -0.0625, 0.0, 0, 0, 0, 0, 0.0, 0.0, 0.0, 0.0, 0, 0, 0, 0, -0.017857142857142856, 0.0, -0.03125, 0, 0, 0, 0, 0.0, -0.0625, 0.0, -0.03125, 0, 0, 0, 0, 0.0, 0.0, 0.0, 0.0, -0.0625, 0.0, 0.0, 0.0, 0.075, 0.0, 0.0, 0, 0, 0, 0, -0.0625, 0, 0, 0, 0, -0.05, -0.017857142857142856, 0.0, 0.075, 0, 0, 0, 0, 0.0, 0.0, -0.0625, 0.075, -0.03125, 0, 0, 0, 0, 0.0, -0.05, 0.075, 0.0, -0.017857142857142856, 0.0, 0.0, 0, 0, 0, 0, -0.017857142857142856, 0.0, 0.0, -0.0625, -0.03125, 0.075, 0.0, 0.0, 0.075, 0.0, 0.0, -0.017857142857142856, 0.0, 0.0, 0.0, 0, 0, 0, 0, 0.0, -0.017857142857142856, 0.0, 0.075, 0.075, 0.0, 0, 0, 0, 0, 0.0, 0.0, -0.017857142857142856, 0.0, -0.05, 0.075, 0.0, 0, 0, 0, 0, 0.075, 0.0, 0.075, 0.0, 0.0, -0.0625, 0.0, -0.0625, 0.0, 0.0, 0, 0, 0, 0, -0.017857142857142856, 0.0, -0.03125, 0, 0, 0, 0, 0.075, -0.017857142857142856, 0.0, -0.0625, 0.0, 0.0, 0, 0, 0, 0, 0.0, 0.075, 0.0, 0.0, 0, 0, 0, 0, -0.0625, 0, 0, 0, 0, -0.05, -0.017857142857142856, 0.0, 0.075, 0, 0, 0, 0, -0.017857142857142856, 0.0, 0.0, 0.0, 0, 0, 0, 0, 0.0, -0.05, -0.017857142857142856, 0.0, 0.0, 0.075, -0.03125, 0, 0, 0, 0, 0.0, 0.0, 0.0, 0.0, 0, 0, 0, 0, -0.017857142857142856, 0, 0, 0, 0, 0.0, 0.0, 0.0, 0.0, 0.0, 0.075, 0, 0, 0, 0, 0.0, -0.0625, 0.0, 0.075, 0.0, 0, 0, 0, 0, 0.0, 0.0, 0.0, 0.075, 0, 0, 0, 0, 0.0, -0.017857142857142856, 0.0, 0.0, 0, 0, 0, 0, 0.0, 0.0, 0, 0, 0, 0, 0.0, 0.0, -0.05, 0.0, 0.0, 0.0, 0, 0, 0, 0, 0.0, 0.0, 0.0, 0, 0, 0, 0, 0.0, -0.017857142857142856, 0.0, 0.0, 0.075, 0.0, 0.0, 0, 0, 0, 0, 0.075, 0.0, 0.0, 0, 0, 0, 0, 0.0, 0.0, 0.0, 0, 0, 0, 0, 0.0, 0.0, 0.075, 0.0, 0, 0, 0, 0, 0.0, -0.0625, 0.0, 0.075, 0, 0, 0, 0, -0.0625, 0, 0, 0, 0, 0.0, -0.0625, 0.0, 0.0, 0, 0, 0, 0, 0.0, -0.017857142857142856, 0.0, 0.0, 0, 0, 0, 0, 0.0, 0.0, 0, 0, 0, 0, 0.0, -0.05, 0.075, 0.0, 0.075, 0, 0, 0, 0, 0.0, -0.017857142857142856, -0.03125, 0, 0, 0, 0, 0.0, 0.075, 0.075, 0.0, -0.0625, 0.0, 0.0, 0.0, 0, 0, 0, 0, -0.05, 0.0, 0.0, 0, 0, 0, 0, 0.0, -0.017857142857142856, 0.0, 0, 0, 0, 0, -0.0625, 0, 0, 0, 0, 0.0, -0.017857142857142856, -0.0625, 0.0, 0, 0, 0, 0, 0.0, 0.0, 0.0, 0.0, -0.0625, -0.03125, 0.075, 0.0, 0.0, 0.075, 0, 0, 0, 0, -0.0625, 0.0, 0, 0, 0, 0, 0.0, 0.0, 0, 0, 0, 0, 0.0, 0.0, 0.0, 0, 0, 0, 0, -0.017857142857142856, 0.0, -0.03125, 0, 0, 0, 0, 0.0, 0.0, -0.0625, 0.0, 0.0, 0.0, 0, 0, 0, 0, 0.0, -0.05, -0.017857142857142856, 0.0, 0, 0, 0, 0, 0.0, -0.0625, 0.0, 0.0, 0, 0, 0, 0, 0.0, -0.017857142857142856, 0.0, 0.075, 0, 0, 0, 0, 0.0, 0.075, 0, 0, 0, 0, 0.0, -0.017857142857142856, 0.0, 0.0, 0, 0, 0, 0, 0.0, 0.0, 0, 0, 0, 0, 0.0, -0.017857142857142856, 0.0, 0.075, 0, 0, 0, 0, 0.0, 0.0, 0, 0, 0, 0, 0.075, 0.0, 0.075, 0.0, 0.0, -0.03125, -0.017857142857142856, 0.0, 0, 0, 0, 0, -0.0625, 0, 0, 0, 0, 0.0, -0.0625, 0.0, 0.0, 0, 0, 0, 0, 0.0, -0.05, 0.075, 0, 0, 0, 0, 0.0, 0.075, 0.075, 0.0, -0.0625, 0.0, 0.0, 0, 0, 0, 0, 0.0, 0.0, 0, 0, 0, 0, 0.0, -0.05, 0.075, 0, 0, 0, 0, 0.0, 0.0, 0.0, 0.0, -0.03125, 0, 0, 0, 0, -0.0625, 0.0, 0, 0, 0, 0, 0.0, 0.0, 0, 0, 0, 0, 0.0, 0.0, 0.0, 0.0, 0.075, 0.0, 0, 0, 0, 0, 0.0, -0.05, 0.075, 0, 0, 0, 0, 0.0, 0.0, 0.0, 0.0, -0.03125, 0, 0, 0, 0, -0.0625, 0.0, 0, 0, 0, 0, 0.0, -0.05, -0.0625, 0.0, 0, 0, 0, 0, -0.017857142857142856, -0.03125, 0.0, -0.0625, 0.0, 0.075, 0, 0, 0, 0, 0.0, 0.0, 0, 0, 0, 0, 0.0, 0.0, 0.0, 0.0, -0.0625, 0.0, 0.0, 0.0, 0.075, 0.0, 0.0, 0, 0]\",\n          \"[0, 0, -0.0625, 0, 0, 0, 0, 0.0, 0.0, 0.0, 0.0, 0, 0, 0, 0, 0.0, -0.017857142857142856, 0.0, 0.0, 0, 0, 0, 0, 0.0, 0.0, 0, 0, 0, 0, 0.0, 0.0, 0, 0, 0, 0, 0.0, 0.075, 0.0, 0.0, 0, 0, 0, 0, 0.0, -0.05, -0.017857142857142856, 0.0, 0, 0, 0, 0, -0.0625, 0.0, 0, 0, 0, 0, -0.017857142857142856, 0.0, 0.0, 0, 0, 0, 0, 0.0, 0.0, 0, 0, 0, 0, 0.0, 0.0, 0.0, 0.075, 0, 0, 0, 0, 0.0, -0.0625, 0.0, -0.05, 0.0, 0.0, 0.075, 0.0, 0.075, 0.0, 0, 0, 0, 0, 0.0, 0.0, 0, 0, 0, 0, 0.0, 0.0, 0.0, 0.075, 0, 0, 0, 0, 0.0, 0.0, 0.0, 0.0, 0.0, 0.0, -0.0625, 0.0, 0.0, 0, 0, 0, 0, 0.0, 0.0, 0, 0, 0, 0, 0.0, 0.0, 0.0, 0.075, 0, 0, 0, 0, 0.0, 0.0, 0.075, 0.0, 0.075, 0.0, -0.03125, -0.0625, 0.0, 0.0, 0, 0, 0, 0, 0.0, 0.0, 0, 0, 0, 0, 0.0, 0.0, 0.0, 0.075, 0, 0, 0, 0, 0.0, 0.075, 0.0, 0.0, 0.0, 0.075, 0, 0, 0, 0, 0.0, 0.0, 0, 0, 0, 0, 0.0, 0.0, 0.0, 0.075, 0, 0, 0, 0, 0.0, 0.0, 0.0, 0.0, 0, 0, 0, 0, 0.0, 0.0, 0, 0, 0, 0, 0.0, 0.0, 0.0, 0.075, 0, 0, 0, 0, 0.0, 0.075, -0.03125, -0.0625, 0.0, -0.0625, 0.0, 0.075, 0, 0, 0, 0, 0.0, 0.0, 0.0, 0.0, 0, 0, 0, 0, 0.0, 0.075, -0.017857142857142856, 0.0, 0.075, 0, 0, 0, 0, 0.0, -0.05, -0.017857142857142856, 0.0, 0, 0, 0, 0, -0.017857142857142856, 0.0, 0.0, 0, 0, 0, 0, 0.0, 0.0, 0.0, 0.0, 0.0, 0, 0, 0, 0, -0.017857142857142856, 0, 0, 0, 0, 0.0, 0.075, -0.017857142857142856, 0.0, 0.075, 0, 0, 0, 0, 0.0, -0.05, -0.017857142857142856, 0.0, 0, 0, 0, 0, -0.0625, 0, 0, 0, 0, 0.0, -0.0625, 0.0, 0.0, 0, 0, 0, 0, 0.0, 0.075, 0.0, 0.075, 0.0, 0, 0, 0, 0, 0.0, -0.0625, 0.0, -0.03125, 0, 0, 0, 0, -0.0625, 0.0, 0, 0, 0, 0, 0.0, -0.05, -0.0625, 0.0, 0, 0, 0, 0, 0.0, 0.0, 0.0, -0.03125, 0, 0, 0, 0, 0.0, 0.0, 0, 0, 0, 0, -0.0625, 0.0, 0, 0, 0, 0, 0.0, 0.0, 0, 0, 0, 0, -0.05, 0.075, -0.017857142857142856, -0.03125, 0, 0, 0, 0, 0.0, 0.0, 0, 0, 0, 0, -0.017857142857142856, 0.0, 0.0, 0.075, 0.0, 0, 0, 0, 0, 0.0, 0.0, 0, 0, 0, 0, 0.0, 0.075, 0.0, -0.017857142857142856, 0.0, 0.0, 0.075, 0, 0, 0, 0, -0.017857142857142856, 0.0, -0.017857142857142856, -0.0625, 0.0, 0.0, 0.0, 0, 0, 0, 0, 0.0, 0.0, -0.03125, 0.075, 0.0, 0, 0, 0, 0, 0.0, 0.0, 0.0, 0, 0, 0, 0, 0.0, 0.0, 0.0, -0.0625, 0.0, 0.0, 0, 0, 0, 0, 0.0, 0.0, 0, 0, 0, 0, 0.0, 0.0, 0.0, 0.0, 0.0, 0, 0, 0, 0, -0.017857142857142856, 0.0, 0.0, 0.0, -0.05, -0.0625, 0.0, 0.0, 0, 0, 0, 0, 0.0, 0.0, 0, 0, 0, 0, -0.05, 0.0, 0.0, 0.0, 0, 0, 0, 0, 0.0, 0.075, 0.0, 0.0, 0.0, 0.075, 0, 0, 0, 0, 0.0, -0.05, -0.017857142857142856, 0.0, 0, 0, 0, 0, -0.0625, 0, 0, 0, 0, 0.0, 0.0, 0.0, 0.075, 0, 0, 0, 0, 0.0, 0.0, 0.0, 0.0, 0, 0, 0, 0, 0.0, -0.0625, 0.0, 0.075, -0.03125, 0, 0, 0, 0, 0.0, -0.05, -0.017857142857142856, 0.0, 0, 0, 0, 0, -0.0625, 0.0, 0, 0, 0, 0, 0.0, -0.05, 0.075, 0, 0, 0, 0, -0.03125, -0.0625, 0.0, 0.0, 0.075, 0.0, 0.075, 0.0, 0.0, 0.075, 0, 0, 0, 0, 0.0, 0.075, 0, 0, 0, 0, -0.017857142857142856, 0.0, 0.075, 0, 0, 0, 0, -0.017857142857142856, 0.0, 0.0, 0, 0, 0, 0, -0.03125, 0.075, -0.017857142857142856, -0.03125, 0, 0, 0, 0, -0.017857142857142856, 0.0, 0.0, 0.0, -0.017857142857142856, 0.0, 0, 0, 0, 0, 0.0, -0.0625, 0.0, 0.075, -0.03125, 0, 0, 0, 0, 0.0, 0.0, 0, 0, 0, 0, 0.0, 0.0, 0.0, 0.0, -0.0625, 0.0, 0.0, 0, 0, 0, 0, 0.0, -0.0625, 0.0, 0.075, -0.03125, 0, 0]\"\n        ],\n        \"semantic_type\": \"\",\n        \"description\": \"\"\n      }\n    },\n    {\n      \"column\": \"avg_sentiment\",\n      \"properties\": {\n        \"dtype\": \"number\",\n        \"std\": 0.0010956579420592885,\n        \"min\": -0.0010446033024567,\n        \"max\": 0.0011307277628032,\n        \"num_unique_values\": 3,\n        \"samples\": [\n          0.0011307277628032,\n          -0.0010446033024567,\n          0.0002718635531135\n        ],\n        \"semantic_type\": \"\",\n        \"description\": \"\"\n      }\n    },\n    {\n      \"column\": \"max_sentiment\",\n      \"properties\": {\n        \"dtype\": \"number\",\n        \"std\": 0.0,\n        \"min\": 0.075,\n        \"max\": 0.075,\n        \"num_unique_values\": 1,\n        \"samples\": [\n          0.075\n        ],\n        \"semantic_type\": \"\",\n        \"description\": \"\"\n      }\n    },\n    {\n      \"column\": \"min_sentiment\",\n      \"properties\": {\n        \"dtype\": \"number\",\n        \"std\": 0.0,\n        \"min\": -0.0625,\n        \"max\": -0.0625,\n        \"num_unique_values\": 1,\n        \"samples\": [\n          -0.0625\n        ],\n        \"semantic_type\": \"\",\n        \"description\": \"\"\n      }\n    },\n    {\n      \"column\": \"mean_vector\",\n      \"properties\": {\n        \"dtype\": \"string\",\n        \"num_unique_values\": 3,\n        \"samples\": [\n          \"[-0.18241154  0.12263284 -0.00671802  0.1361384  -0.0436965   0.02976912\\n -0.09600146 -0.04012057 -0.04099421  0.02640832 -0.06112652 -0.09604641\\n -0.21645543  0.02100609 -0.12289669  0.09699156  0.10639703  0.17430282\\n -0.01517474  0.011523   -0.266957   -0.04303707  0.11683289  0.03049002\\n -0.09587963  0.03246079 -0.2475386   0.05088738 -0.02903764 -0.03566863\\n -0.00837825  0.02922296 -0.08066136 -0.09103663 -0.13140294  0.08969411\\n -0.22778612  0.10815562 -0.05654867  0.08213068 -0.04235604 -0.05000392\\n  0.05791453  0.09004205  0.0589624  -0.03600117 -0.04449736 -0.18651363\\n -0.12806365  0.08275744 -0.176778    0.2496887  -0.0396538   0.22545727\\n  0.05695174  0.14907974 -0.17241083 -0.10868958  0.00684716 -0.17033507\\n -0.13272585 -0.07553728 -0.19907102 -0.04713699 -0.05116826 -0.19632076\\n -0.10940698  0.11697185 -0.07447279  0.05316926  0.03184677 -0.05760162\\n  0.04427436  0.00217863 -0.02369021 -0.02162569  0.14190796  0.02568448\\n  0.01537746 -0.08817816 -0.14088877 -0.00531704 -0.03988584 -0.01610734\\n  0.1361764   0.06724773 -0.00084779  0.20972113  0.01574346  0.06287621\\n  0.02753855  0.02478801 -0.03533455 -0.13109663  0.05002468  0.11085272\\n -0.08741612  0.10622665  0.26988143 -0.02152503 -0.08806156 -0.00246721\\n -0.06687755 -0.00971676 -0.05608612  0.15296108 -0.08777535  0.05158466\\n  0.01146989  0.01646105 -0.14251275 -0.19298585 -0.03138838 -0.03484945\\n  0.05920733  0.17026393  0.07683172 -0.04194308 -0.02281691 -0.03243172\\n  0.11596113  0.07642658 -0.01990388  0.02864181  0.12635806 -0.17153804\\n -0.11415598 -0.03652629  0.05401404  0.11547504 -0.07029957 -0.02133853\\n -0.0762556  -0.04223454 -0.16714773  0.08949543 -0.03124443  0.02821768\\n  0.25399944  0.13162057  0.20564036 -0.07807467  0.03509899 -0.04917037\\n -0.05746927 -0.10080542 -0.05998775  0.15942873 -0.05225062  0.02947873\\n  0.06631069 -0.29674143 -0.04176629 -0.04541506 -0.10757942 -0.11419225\\n  0.07999657  0.17787097 -0.03415683 -0.03969681  0.0138446   0.09128822\\n -0.01035584  0.00055389 -0.01474871 -0.04569561  0.16158317  0.02067302\\n -0.10322417  0.09378651 -0.11779436 -0.10231662 -0.04728394 -0.0572456\\n -0.01523631  0.22236758  0.26001656 -0.22335508  0.02177068 -0.09350305\\n  0.00999288  0.0248775   0.03119437 -0.062455   -0.0242469   0.07482287\\n -0.06123241  0.08010282 -0.04513432  0.04241486  0.13049166 -0.04918358\\n -0.24856459 -0.0105546   0.1309054   0.0450513  -0.06934039 -0.01813065\\n  0.0627049  -0.08492094 -0.10729145  0.01829913 -0.20571998 -0.13507505\\n  0.08111506 -0.08720546 -0.02307563  0.11172471 -0.0480138   0.17447734\\n  0.15822454  0.09064862 -0.15465523 -0.00374682 -0.08392494  0.06156221\\n  0.16666636 -0.07232131 -0.16735472  0.00949771 -0.12013002  0.1317118\\n  0.06725791 -0.01753082 -0.00690103 -0.09537286  0.0728689   0.04856908\\n  0.01361757 -0.15520966  0.02051644 -0.05911199 -0.08973484  0.01414799\\n  0.0097477   0.02255791  0.04918297  0.10576542  0.09533578  0.10542417\\n  0.08896497  0.07563642  0.28035834 -0.05485646 -0.01888216  0.06874979\\n -0.15245922  0.1557656   0.04983408 -0.08235598  0.06349514  0.01177816\\n  0.05713721  0.10954167 -0.0219303  -0.14078818 -0.05496235  0.05479882\\n  0.03577882 -0.08294546  0.07831013 -0.0097656   0.10294867 -0.01787382\\n -0.09121275  0.00803598 -0.0007794  -0.00064276 -0.00851363 -0.05525913\\n -0.08352649 -0.02275696  0.03349085  0.02480291  0.0844885  -0.07646517\\n -0.1648785  -0.13507958 -0.10015398  0.06855258 -0.10119195  0.14794016\\n  0.00873576  0.00482364  0.00595484  0.06442067 -0.02013722 -0.0225182\\n -0.06153042 -0.03830385  0.08025133 -0.01270946 -0.09751623  0.08923265\\n -0.02829597 -0.15626462 -0.10154042 -0.0301125  -0.12008134  0.1575174 ]\"\n        ],\n        \"semantic_type\": \"\",\n        \"description\": \"\"\n      }\n    },\n    {\n      \"column\": \"bos\",\n      \"properties\": {\n        \"dtype\": \"string\",\n        \"num_unique_values\": 3,\n        \"samples\": [\n          \"sense.n.01 fear.n.01 rich_person.n.01 ever.r.01 felt.n.01 angstrom.n.01 sense.n.01 fear.n.01 look.v.02 return.n.06 over.n.01 body.n.01 mind.n.01 departure.n.01 feeling.n.01 helpless.s.01 fear.n.01 can.n.01 beryllium.n.01 angstrom.n.01 paralyze.v.01 emotion.n.01 prevent.v.01 united_states.n.01 travel.v.01 forward.n.01 inch.n.01 life.n.01 merely.r.01 there.n.01 washington.n.02 bash.n.02 about.s.01 information_technology.n.01 there.n.01 be.v.01 ways.n.01 get.n.01 rid.v.01 sense.n.01 fear.n.01 inch.n.01 article.n.01 volition.n.01 research.v.02 practical.a.01 tip.n.01 technique.n.01 get_the_better_of.v.01 feelings.n.01 fear.n.01 fear.n.01 be.v.01 root.v.01 inch.n.01 associate_in_nursing.n.01 event.n.01 oregon.n.01 situation.n.01 past.n.01 oregon.n.01 root.n.03 current.n.01 concern.n.04 anxiety.n.01 scheme.n.01 may.n.01 aid.n.02 ease.n.01 fear.n.01 sol.n.03 bash.n.02 not.r.01 control.n.01 life.n.01 well.n.01 discus.n.01 identify.v.01 gun_trigger.n.01 use.n.01 idea.n.01 practice.n.01 relaxation.n.01 method.n.01 such.s.01 arsenic.n.02 meditation.n.01 deep.n.01 breathing.n.01 exercise.n.01 range.n.02 out.n.01 support.n.01 necessitate.v.01 more.n.01 sol.n.03 lashkar-e-taiba.n.01 united_states.n.01 honkytonk.n.01 learning.n.01 pull_off.v.03 fear.n.01 addition.n.03 peace.n.01 mind.n.01\"\n        ],\n        \"semantic_type\": \"\",\n        \"description\": \"\"\n      }\n    },\n    {\n      \"column\": \"bos_lesk\",\n      \"properties\": {\n        \"dtype\": \"string\",\n        \"num_unique_values\": 3,\n        \"samples\": [\n          \"sense.n.05 fear.v.01 ever.r.03 felt.n.01 sense.n.05 fear.v.01 look.v.02 take.v.39 soundbox.n.01 thinker.n.01 leave.v.11 spirit.n.02 helpless.s.03 fear.v.01 paralyze.v.02 emotion.n.01 prevent.v.02 uranium.n.01 moving.a.03 forward.n.02 life_sentence.n.01 something could ways.n.01 receive.v.02 rid.v.01 sense.n.05 fear.v.01 article.v.01 research.v.02 practical.s.04 tip.v.03 technique.n.01 get_the_better_of.v.01 spirit.n.02 fear.v.01 whether fear.v.01 settle.v.07 event.n.03 situation.n.03 past.s.02 stem_turn.n.01 current.n.02 worry.n.02 anxiety.n.02 strategy.n.02 whitethorn.n.01 help_oneself.v.01 ease.n.02 fear.v.01 master.v.04 life_sentence.n.01 well.v.01 hash_out.v.01 name.v.02 trigger.n.02 use.v.01 selftalk reframe thought.n.03 rehearse.v.01 relaxation.n.06 method.n.01 meditation.n.01 trench.n.02 rest.v.02 exercise.v.03 reach.v.07 support.v.09 need.v.03 let.v.01 uranium.n.01 prima_donna.n.02 learn.v.04 pull_off.v.03 fear.v.01 reach.v.01 peace.n.05 thinker.n.01\"\n        ],\n        \"semantic_type\": \"\",\n        \"description\": \"\"\n      }\n    }\n  ]\n}"
            }
          },
          "metadata": {},
          "execution_count": 10
        }
      ],
      "source": [
        "df.sample(3)"
      ]
    },
    {
      "cell_type": "code",
      "execution_count": 11,
      "metadata": {
        "colab": {
          "base_uri": "https://localhost:8080/"
        },
        "id": "vKFdUzKS4wQk",
        "outputId": "80bd8cdf-8f34-4872-b932-3749b7d7fe60"
      },
      "outputs": [
        {
          "output_type": "execute_result",
          "data": {
            "text/plain": [
              "(52681, 19)"
            ]
          },
          "metadata": {},
          "execution_count": 11
        }
      ],
      "source": [
        "df.shape"
      ]
    },
    {
      "cell_type": "markdown",
      "metadata": {
        "id": "G1ZUulIVId-A"
      },
      "source": [
        "# ***Vectorizing using TF-IDF***"
      ]
    },
    {
      "cell_type": "markdown",
      "metadata": {
        "id": "2zoEONwt0TYx"
      },
      "source": [
        "## About VEctorizing Approach"
      ]
    },
    {
      "cell_type": "markdown",
      "metadata": {
        "id": "MQgG20H7qTO8"
      },
      "source": [
        "**What is the TF (Term of Frequency) and IDF (Inverse Document Frequency)?**\n",
        "\n",
        "---\n",
        "```\n",
        "\n",
        "\n",
        "```\n",
        "---\n",
        "\n",
        "* **What is TF-IDF?**\n",
        "\n",
        "TF-IDF (Term Frequency-Inverse Document Frequency) is a numerical statistic used to evaluate the importance of a word in a document relative to a collection of documents, typically in the context of text mining and Natural Language Processing (NLP). It is commonly used as a feature extraction method to convert textual data into numerical features that machine learning models can process.\n",
        "\n",
        "* The TF-IDF measure combines two components:\n",
        "\n",
        "  1. **Term Frequency (TF):**\n",
        "\n",
        "  **Definition:** The number of times a word (term) appears in a document, divided by the total number of words in that document. It gives us a sense of how important a word is within a single document.\n",
        "\n",
        "  **Formula:**\n",
        "\n",
        "   \\begin{align}\n",
        "   \\text{TF}(t, d) = \\frac{\\text{Number of times term } t \\text{ appears in document } d}{\\text{Total number of terms in document } d}\n",
        "   \\end{align}\n",
        "\n",
        "  \n",
        "  2. **Inverse Document Frequency (IDF):**\n",
        "  \n",
        "    **Definition:** The logarithm of the total number of documents in the corpus divided by the number of documents containing the term.\n",
        "  \n",
        "    It measures how important a word is across the whole corpus. Common words that appear in many documents (like \"the,\" \"is\") have low IDF values because they are less informative, while rare terms have higher IDF values.\n",
        "\n",
        "    **Formula:**\n",
        "\n",
        "\n",
        "\n",
        "  \\begin{align}\n",
        "   \\text{IDF}(t, D) = \\log \\left( \\frac{\\text{Total number of documents in the corpus}}{1 + \\text{Number of documents containing the term } t} \\right)\n",
        " \\end{align}\n",
        "\n",
        "3. **TF-IDF:**\n",
        "\n",
        "  **Definition:** The product of the term frequency (TF) and inverse document frequency (IDF) for a term in a document. It reflects both the term's frequency within a specific document and how unique or important the term is across the entire document corpus.\n",
        "  \n",
        "  **Formula:**\n",
        "\n",
        "   \\begin{align}\n",
        "   \\text{TF-IDF}(t, d, D) = \\text{TF}(t, d) \\times \\text{IDF}(t, D)\n",
        "   \\end{align}\n",
        "\n",
        "  In these formulas:\n",
        "  - \\( t \\) refers to a term (word),\n",
        "  - \\( d \\) refers to a document,\n",
        "  - \\( D \\) refers to the entire corpus (collection of documents),\n",
        "  - \\( \\log \\) is the logarithm function, typically base 10 or natural logarithm.\n",
        "\n",
        "\n",
        "* **How TF-IDF is Useful**\n",
        "  **Feature Extraction in NLP:** TF-IDF helps convert raw text data into a matrix of numerical features, making the data suitable for machine learning models. Each document is represented as a vector of TF-IDF values, where each value corresponds to the importance of a word in that document. This is a common technique in text classification tasks, such as sentiment analysis, spam detection, and topic classification.\n",
        "\n",
        "  **Captures the Importance of Words:** By using TF-IDF, we can ignore frequently occurring but uninformative words (e.g., \"the\", \"and\") and focus on more meaningful terms that are key to the context of a document. This helps improve the accuracy and relevance of the model's predictions by emphasizing words that differentiate one document from another.\n",
        "\n",
        "  **Reduces Noise in Text:** TF-IDF reduces the weight of very common words across all documents, as they are often not useful for distinguishing between documents. It assigns higher importance to rare and meaningful terms, which tend to carry more information about the content of the document.\n",
        "\n",
        "  **Improves Text Similarity Measures:** TF-IDF vectors are often used to calculate the similarity between documents (e.g., using cosine similarity). This is useful in tasks like document clustering, search engines, and recommendation systems.\n",
        "\n",
        "  \n",
        "* **Use Case in Mental Health Sentiment Analysis**\n",
        "\n",
        "  In our dataset, which contains mental health-related statements, applying TF-IDF can help the model understand which words are most significant for predicting the mental health status of a given statement. For example:\n",
        "\n",
        "    - Words like \"hopeless,\" \"depressed,\" and \"suicidal\" may have high TF-IDF scores in documents labeled with \"Depression\" or \"Suicidal\" mental health statuses, but these words may be rare across other categories.\n",
        "  \n",
        "   - Common words like \"I,\" \"the,\" and \"is\" will have low IDF values since they appear in many documents, making them less useful for classification.\n",
        "\n",
        "  By transforming the text data into TF-IDF vectors, you provide a more informative and compact representation of the statements, which can lead to better performance of machine learning models.\n",
        "\n"
      ]
    },
    {
      "cell_type": "markdown",
      "metadata": {
        "id": "5GIcT_7-vPIT"
      },
      "source": [
        "---\n",
        "```\n",
        "\n",
        "\n",
        "\n",
        "\n",
        "\n",
        "\n",
        "\n",
        "\n",
        "\n",
        "```\n",
        "---"
      ]
    },
    {
      "cell_type": "markdown",
      "metadata": {
        "id": "X0BfmXqdsArU"
      },
      "source": [
        "## Initialize separate TF-IDF Vectorizer\n"
      ]
    },
    {
      "cell_type": "markdown",
      "metadata": {
        "id": "6ypQOujNtvoe"
      },
      "source": [
        "Initialize separate TF-IDF Vectorizer for verbs and nouns and adj , stemm\n"
      ]
    },
    {
      "cell_type": "code",
      "execution_count": 12,
      "metadata": {
        "id": "4yGkNkh0Ko6w"
      },
      "outputs": [],
      "source": [
        "vectorizer_emojis = TfidfVectorizer(max_features=100, stop_words='english')\n",
        "\n",
        "vectorizer_imp = TfidfVectorizer(ngram_range=(1, 2), max_features=10000, stop_words='english')\n",
        "\n",
        "vectorizer_stemmes = TfidfVectorizer(ngram_range=(1, 2), max_features=2000, stop_words='english')\n",
        "\n",
        "vectorizer_verbs = TfidfVectorizer(ngram_range=(1, 2), max_features=1000, stop_words='english')\n",
        "\n",
        "vectorizer_nouns = TfidfVectorizer(ngram_range=(1, 2), max_features=1000, stop_words='english')\n",
        "\n",
        "vectorizer_adjectives = TfidfVectorizer(ngram_range=(1, 2), max_features=1000, stop_words='english')\n",
        "\n",
        "vectorizer_bos = TfidfVectorizer(ngram_range=(1, 2), max_features=10000, stop_words='english')\n"
      ]
    },
    {
      "cell_type": "markdown",
      "metadata": {
        "id": "YI7_TNFwLJOb"
      },
      "source": [
        "## Extract Verb, Nouuns , ... Vectors"
      ]
    },
    {
      "cell_type": "markdown",
      "metadata": {
        "id": "tZZZXLyjhBHK"
      },
      "source": [
        "### importtant word"
      ]
    },
    {
      "cell_type": "code",
      "execution_count": 13,
      "metadata": {
        "id": "57q61G1ahBHL"
      },
      "outputs": [],
      "source": [
        "\n",
        "X_imp_tfidf = vectorizer_emojis.fit_transform(df['important_words'])\n"
      ]
    },
    {
      "cell_type": "markdown",
      "metadata": {
        "id": "iEWYzKrLHM3w"
      },
      "source": [
        "### Emojies"
      ]
    },
    {
      "cell_type": "code",
      "execution_count": 14,
      "metadata": {
        "id": "RUwKAPzSHi-u"
      },
      "outputs": [],
      "source": [
        "# Emojis\n",
        "X_emojis_tfidf = vectorizer_emojis.fit_transform(df['statement_with_emojis'])"
      ]
    },
    {
      "cell_type": "markdown",
      "metadata": {
        "id": "2Bxu6YurHyAY"
      },
      "source": [
        "### stemmes"
      ]
    },
    {
      "cell_type": "code",
      "execution_count": 15,
      "metadata": {
        "id": "jXGvP4IAHzBj"
      },
      "outputs": [],
      "source": [
        "# Adjectives\n",
        "X_stemm_tfidf = vectorizer_stemmes.fit_transform(df['tokens_stemmed'].astype(str))\n"
      ]
    },
    {
      "cell_type": "markdown",
      "metadata": {
        "id": "ppYN2ADdHTkv"
      },
      "source": [
        "### verbs"
      ]
    },
    {
      "cell_type": "code",
      "execution_count": 16,
      "metadata": {
        "id": "rnXyz83iHYBt"
      },
      "outputs": [],
      "source": [
        "# Verbs\n",
        "X_verbs_tfidf = vectorizer_verbs.fit_transform(df['tokens_verbs'].astype(str))"
      ]
    },
    {
      "cell_type": "markdown",
      "metadata": {
        "id": "QV6rldV9HY6-"
      },
      "source": [
        "### nouns"
      ]
    },
    {
      "cell_type": "code",
      "execution_count": 17,
      "metadata": {
        "id": "1k4EMXp9HbpM"
      },
      "outputs": [],
      "source": [
        "# Nouns\n",
        "X_nouns_tfidf = vectorizer_nouns.fit_transform(df['tokens_nouns'].astype(str))"
      ]
    },
    {
      "cell_type": "markdown",
      "metadata": {
        "id": "ZqHOF5bTHeDX"
      },
      "source": [
        "### Adjectives"
      ]
    },
    {
      "cell_type": "code",
      "execution_count": 18,
      "metadata": {
        "id": "ImR1_PmoHgUf"
      },
      "outputs": [],
      "source": [
        "# @title Adjectives\n",
        "\n",
        "X_adjectives_tfidf = vectorizer_adjectives.fit_transform(df['tokens_adj'].astype(str))\n"
      ]
    },
    {
      "cell_type": "code",
      "execution_count": 55,
      "metadata": {
        "id": "UOiuiMppS9y0"
      },
      "outputs": [],
      "source": [
        "# @title BOS\n",
        "X_bos_tfidf = vectorizer_bos.fit_transform(df['bos'].astype(str))\n"
      ]
    },
    {
      "cell_type": "markdown",
      "metadata": {
        "id": "wPZehjwhHmay"
      },
      "source": [
        "## comdine Vectors"
      ]
    },
    {
      "cell_type": "code",
      "execution_count": 56,
      "metadata": {
        "colab": {
          "base_uri": "https://localhost:8080/"
        },
        "id": "27R0sPNwr_ZD",
        "outputId": "446140f2-648b-4788-8eee-3b3cfd3e2e2e"
      },
      "outputs": [
        {
          "output_type": "stream",
          "name": "stdout",
          "text": [
            "Total number of combined features: 10000\n"
          ]
        }
      ],
      "source": [
        "\n",
        "\n",
        "# Combine all TF-IDF features into one matrix\n",
        "# X_combined_tfidf = hstack([2*X_verbs_tfidf, X_nouns_tfidf, 0.5 * X_adjectives_tfidf, 0.5*X_emojis_tfidf,2*X_stemm_tfidf])\n",
        "X_combined_tfidf =  hstack([X_bos_tfidf])\n",
        "print(\"Total number of combined features:\", X_combined_tfidf.shape[1])\n"
      ]
    },
    {
      "cell_type": "markdown",
      "metadata": {
        "id": "JmjO043Idcjy"
      },
      "source": [
        "# ***Feature Selection***"
      ]
    },
    {
      "cell_type": "markdown",
      "metadata": {
        "id": "SNkQWvaYGCGD"
      },
      "source": [
        "### Spliting"
      ]
    },
    {
      "cell_type": "code",
      "execution_count": 57,
      "metadata": {
        "id": "IjaxLl7_dfNh"
      },
      "outputs": [],
      "source": [
        "# Split data into train and test sets\n",
        "X_train, X_test, y_train, y_test = train_test_split(X_combined_tfidf, df['status'], test_size=0.2, random_state=42)"
      ]
    },
    {
      "cell_type": "markdown",
      "metadata": {
        "id": "Z9EgLsbYGD8v"
      },
      "source": [
        "### Select K Best"
      ]
    },
    {
      "cell_type": "code",
      "execution_count": 58,
      "metadata": {
        "colab": {
          "base_uri": "https://localhost:8080/",
          "height": 356
        },
        "id": "c2x7yL8zeMFG",
        "outputId": "813459b2-afb2-433e-9fe3-a75a2a02df10"
      },
      "outputs": [
        {
          "output_type": "error",
          "ename": "KeyboardInterrupt",
          "evalue": "",
          "traceback": [
            "\u001b[0;31m---------------------------------------------------------------------------\u001b[0m",
            "\u001b[0;31mKeyboardInterrupt\u001b[0m                         Traceback (most recent call last)",
            "\u001b[0;32m<ipython-input-58-5e566bade865>\u001b[0m in \u001b[0;36m<cell line: 0>\u001b[0;34m()\u001b[0m\n\u001b[1;32m     16\u001b[0m     \u001b[0;31m# Train a logistic regression model\u001b[0m\u001b[0;34m\u001b[0m\u001b[0;34m\u001b[0m\u001b[0m\n\u001b[1;32m     17\u001b[0m     \u001b[0mmodel\u001b[0m \u001b[0;34m=\u001b[0m \u001b[0mLogisticRegression\u001b[0m\u001b[0;34m(\u001b[0m\u001b[0mmax_iter\u001b[0m\u001b[0;34m=\u001b[0m\u001b[0;36m600\u001b[0m\u001b[0;34m,\u001b[0m \u001b[0mrandom_state\u001b[0m\u001b[0;34m=\u001b[0m\u001b[0;36m42\u001b[0m\u001b[0;34m)\u001b[0m\u001b[0;34m\u001b[0m\u001b[0;34m\u001b[0m\u001b[0m\n\u001b[0;32m---> 18\u001b[0;31m     \u001b[0mmodel\u001b[0m\u001b[0;34m.\u001b[0m\u001b[0mfit\u001b[0m\u001b[0;34m(\u001b[0m\u001b[0mX_train_selected\u001b[0m\u001b[0;34m,\u001b[0m \u001b[0my_train\u001b[0m\u001b[0;34m)\u001b[0m\u001b[0;34m\u001b[0m\u001b[0;34m\u001b[0m\u001b[0m\n\u001b[0m\u001b[1;32m     19\u001b[0m \u001b[0;34m\u001b[0m\u001b[0m\n\u001b[1;32m     20\u001b[0m     \u001b[0;31m# Record the number of features and accuracies\u001b[0m\u001b[0;34m\u001b[0m\u001b[0;34m\u001b[0m\u001b[0m\n",
            "\u001b[0;32m/usr/local/lib/python3.11/dist-packages/sklearn/base.py\u001b[0m in \u001b[0;36mwrapper\u001b[0;34m(estimator, *args, **kwargs)\u001b[0m\n\u001b[1;32m   1387\u001b[0m                 )\n\u001b[1;32m   1388\u001b[0m             ):\n\u001b[0;32m-> 1389\u001b[0;31m                 \u001b[0;32mreturn\u001b[0m \u001b[0mfit_method\u001b[0m\u001b[0;34m(\u001b[0m\u001b[0mestimator\u001b[0m\u001b[0;34m,\u001b[0m \u001b[0;34m*\u001b[0m\u001b[0margs\u001b[0m\u001b[0;34m,\u001b[0m \u001b[0;34m**\u001b[0m\u001b[0mkwargs\u001b[0m\u001b[0;34m)\u001b[0m\u001b[0;34m\u001b[0m\u001b[0;34m\u001b[0m\u001b[0m\n\u001b[0m\u001b[1;32m   1390\u001b[0m \u001b[0;34m\u001b[0m\u001b[0m\n\u001b[1;32m   1391\u001b[0m         \u001b[0;32mreturn\u001b[0m \u001b[0mwrapper\u001b[0m\u001b[0;34m\u001b[0m\u001b[0;34m\u001b[0m\u001b[0m\n",
            "\u001b[0;32m/usr/local/lib/python3.11/dist-packages/sklearn/linear_model/_logistic.py\u001b[0m in \u001b[0;36mfit\u001b[0;34m(self, X, y, sample_weight)\u001b[0m\n\u001b[1;32m   1348\u001b[0m             \u001b[0mn_threads\u001b[0m \u001b[0;34m=\u001b[0m \u001b[0;36m1\u001b[0m\u001b[0;34m\u001b[0m\u001b[0;34m\u001b[0m\u001b[0m\n\u001b[1;32m   1349\u001b[0m \u001b[0;34m\u001b[0m\u001b[0m\n\u001b[0;32m-> 1350\u001b[0;31m         fold_coefs_ = Parallel(n_jobs=self.n_jobs, verbose=self.verbose, prefer=prefer)(\n\u001b[0m\u001b[1;32m   1351\u001b[0m             path_func(\n\u001b[1;32m   1352\u001b[0m                 \u001b[0mX\u001b[0m\u001b[0;34m,\u001b[0m\u001b[0;34m\u001b[0m\u001b[0;34m\u001b[0m\u001b[0m\n",
            "\u001b[0;32m/usr/local/lib/python3.11/dist-packages/sklearn/utils/parallel.py\u001b[0m in \u001b[0;36m__call__\u001b[0;34m(self, iterable)\u001b[0m\n\u001b[1;32m     75\u001b[0m             \u001b[0;32mfor\u001b[0m \u001b[0mdelayed_func\u001b[0m\u001b[0;34m,\u001b[0m \u001b[0margs\u001b[0m\u001b[0;34m,\u001b[0m \u001b[0mkwargs\u001b[0m \u001b[0;32min\u001b[0m \u001b[0miterable\u001b[0m\u001b[0;34m\u001b[0m\u001b[0;34m\u001b[0m\u001b[0m\n\u001b[1;32m     76\u001b[0m         )\n\u001b[0;32m---> 77\u001b[0;31m         \u001b[0;32mreturn\u001b[0m \u001b[0msuper\u001b[0m\u001b[0;34m(\u001b[0m\u001b[0;34m)\u001b[0m\u001b[0;34m.\u001b[0m\u001b[0m__call__\u001b[0m\u001b[0;34m(\u001b[0m\u001b[0miterable_with_config\u001b[0m\u001b[0;34m)\u001b[0m\u001b[0;34m\u001b[0m\u001b[0;34m\u001b[0m\u001b[0m\n\u001b[0m\u001b[1;32m     78\u001b[0m \u001b[0;34m\u001b[0m\u001b[0m\n\u001b[1;32m     79\u001b[0m \u001b[0;34m\u001b[0m\u001b[0m\n",
            "\u001b[0;32m/usr/local/lib/python3.11/dist-packages/joblib/parallel.py\u001b[0m in \u001b[0;36m__call__\u001b[0;34m(self, iterable)\u001b[0m\n\u001b[1;32m   1916\u001b[0m             \u001b[0moutput\u001b[0m \u001b[0;34m=\u001b[0m \u001b[0mself\u001b[0m\u001b[0;34m.\u001b[0m\u001b[0m_get_sequential_output\u001b[0m\u001b[0;34m(\u001b[0m\u001b[0miterable\u001b[0m\u001b[0;34m)\u001b[0m\u001b[0;34m\u001b[0m\u001b[0;34m\u001b[0m\u001b[0m\n\u001b[1;32m   1917\u001b[0m             \u001b[0mnext\u001b[0m\u001b[0;34m(\u001b[0m\u001b[0moutput\u001b[0m\u001b[0;34m)\u001b[0m\u001b[0;34m\u001b[0m\u001b[0;34m\u001b[0m\u001b[0m\n\u001b[0;32m-> 1918\u001b[0;31m             \u001b[0;32mreturn\u001b[0m \u001b[0moutput\u001b[0m \u001b[0;32mif\u001b[0m \u001b[0mself\u001b[0m\u001b[0;34m.\u001b[0m\u001b[0mreturn_generator\u001b[0m \u001b[0;32melse\u001b[0m \u001b[0mlist\u001b[0m\u001b[0;34m(\u001b[0m\u001b[0moutput\u001b[0m\u001b[0;34m)\u001b[0m\u001b[0;34m\u001b[0m\u001b[0;34m\u001b[0m\u001b[0m\n\u001b[0m\u001b[1;32m   1919\u001b[0m \u001b[0;34m\u001b[0m\u001b[0m\n\u001b[1;32m   1920\u001b[0m         \u001b[0;31m# Let's create an ID that uniquely identifies the current call. If the\u001b[0m\u001b[0;34m\u001b[0m\u001b[0;34m\u001b[0m\u001b[0m\n",
            "\u001b[0;32m/usr/local/lib/python3.11/dist-packages/joblib/parallel.py\u001b[0m in \u001b[0;36m_get_sequential_output\u001b[0;34m(self, iterable)\u001b[0m\n\u001b[1;32m   1845\u001b[0m                 \u001b[0mself\u001b[0m\u001b[0;34m.\u001b[0m\u001b[0mn_dispatched_batches\u001b[0m \u001b[0;34m+=\u001b[0m \u001b[0;36m1\u001b[0m\u001b[0;34m\u001b[0m\u001b[0;34m\u001b[0m\u001b[0m\n\u001b[1;32m   1846\u001b[0m                 \u001b[0mself\u001b[0m\u001b[0;34m.\u001b[0m\u001b[0mn_dispatched_tasks\u001b[0m \u001b[0;34m+=\u001b[0m \u001b[0;36m1\u001b[0m\u001b[0;34m\u001b[0m\u001b[0;34m\u001b[0m\u001b[0m\n\u001b[0;32m-> 1847\u001b[0;31m                 \u001b[0mres\u001b[0m \u001b[0;34m=\u001b[0m \u001b[0mfunc\u001b[0m\u001b[0;34m(\u001b[0m\u001b[0;34m*\u001b[0m\u001b[0margs\u001b[0m\u001b[0;34m,\u001b[0m \u001b[0;34m**\u001b[0m\u001b[0mkwargs\u001b[0m\u001b[0;34m)\u001b[0m\u001b[0;34m\u001b[0m\u001b[0;34m\u001b[0m\u001b[0m\n\u001b[0m\u001b[1;32m   1848\u001b[0m                 \u001b[0mself\u001b[0m\u001b[0;34m.\u001b[0m\u001b[0mn_completed_tasks\u001b[0m \u001b[0;34m+=\u001b[0m \u001b[0;36m1\u001b[0m\u001b[0;34m\u001b[0m\u001b[0;34m\u001b[0m\u001b[0m\n\u001b[1;32m   1849\u001b[0m                 \u001b[0mself\u001b[0m\u001b[0;34m.\u001b[0m\u001b[0mprint_progress\u001b[0m\u001b[0;34m(\u001b[0m\u001b[0;34m)\u001b[0m\u001b[0;34m\u001b[0m\u001b[0;34m\u001b[0m\u001b[0m\n",
            "\u001b[0;32m/usr/local/lib/python3.11/dist-packages/sklearn/utils/parallel.py\u001b[0m in \u001b[0;36m__call__\u001b[0;34m(self, *args, **kwargs)\u001b[0m\n\u001b[1;32m    137\u001b[0m             \u001b[0mconfig\u001b[0m \u001b[0;34m=\u001b[0m \u001b[0;34m{\u001b[0m\u001b[0;34m}\u001b[0m\u001b[0;34m\u001b[0m\u001b[0;34m\u001b[0m\u001b[0m\n\u001b[1;32m    138\u001b[0m         \u001b[0;32mwith\u001b[0m \u001b[0mconfig_context\u001b[0m\u001b[0;34m(\u001b[0m\u001b[0;34m**\u001b[0m\u001b[0mconfig\u001b[0m\u001b[0;34m)\u001b[0m\u001b[0;34m:\u001b[0m\u001b[0;34m\u001b[0m\u001b[0;34m\u001b[0m\u001b[0m\n\u001b[0;32m--> 139\u001b[0;31m             \u001b[0;32mreturn\u001b[0m \u001b[0mself\u001b[0m\u001b[0;34m.\u001b[0m\u001b[0mfunction\u001b[0m\u001b[0;34m(\u001b[0m\u001b[0;34m*\u001b[0m\u001b[0margs\u001b[0m\u001b[0;34m,\u001b[0m \u001b[0;34m**\u001b[0m\u001b[0mkwargs\u001b[0m\u001b[0;34m)\u001b[0m\u001b[0;34m\u001b[0m\u001b[0;34m\u001b[0m\u001b[0m\n\u001b[0m\u001b[1;32m    140\u001b[0m \u001b[0;34m\u001b[0m\u001b[0m\n\u001b[1;32m    141\u001b[0m \u001b[0;34m\u001b[0m\u001b[0m\n",
            "\u001b[0;32m/usr/local/lib/python3.11/dist-packages/sklearn/linear_model/_logistic.py\u001b[0m in \u001b[0;36m_logistic_regression_path\u001b[0;34m(X, y, pos_class, Cs, fit_intercept, max_iter, tol, verbose, solver, coef, class_weight, dual, penalty, intercept_scaling, multi_class, random_state, check_input, max_squared_sum, sample_weight, l1_ratio, n_threads)\u001b[0m\n\u001b[1;32m    449\u001b[0m                 \u001b[0mnp\u001b[0m\u001b[0;34m.\u001b[0m\u001b[0msearchsorted\u001b[0m\u001b[0;34m(\u001b[0m\u001b[0mnp\u001b[0m\u001b[0;34m.\u001b[0m\u001b[0marray\u001b[0m\u001b[0;34m(\u001b[0m\u001b[0;34m[\u001b[0m\u001b[0;36m0\u001b[0m\u001b[0;34m,\u001b[0m \u001b[0;36m1\u001b[0m\u001b[0;34m,\u001b[0m \u001b[0;36m2\u001b[0m\u001b[0;34m,\u001b[0m \u001b[0;36m3\u001b[0m\u001b[0;34m]\u001b[0m\u001b[0;34m)\u001b[0m\u001b[0;34m,\u001b[0m \u001b[0mverbose\u001b[0m\u001b[0;34m)\u001b[0m\u001b[0;34m\u001b[0m\u001b[0;34m\u001b[0m\u001b[0m\n\u001b[1;32m    450\u001b[0m             ]\n\u001b[0;32m--> 451\u001b[0;31m             opt_res = optimize.minimize(\n\u001b[0m\u001b[1;32m    452\u001b[0m                 \u001b[0mfunc\u001b[0m\u001b[0;34m,\u001b[0m\u001b[0;34m\u001b[0m\u001b[0;34m\u001b[0m\u001b[0m\n\u001b[1;32m    453\u001b[0m                 \u001b[0mw0\u001b[0m\u001b[0;34m,\u001b[0m\u001b[0;34m\u001b[0m\u001b[0;34m\u001b[0m\u001b[0m\n",
            "\u001b[0;32m/usr/local/lib/python3.11/dist-packages/scipy/optimize/_minimize.py\u001b[0m in \u001b[0;36mminimize\u001b[0;34m(fun, x0, args, method, jac, hess, hessp, bounds, constraints, tol, callback, options)\u001b[0m\n\u001b[1;32m    711\u001b[0m                                  **options)\n\u001b[1;32m    712\u001b[0m     \u001b[0;32melif\u001b[0m \u001b[0mmeth\u001b[0m \u001b[0;34m==\u001b[0m \u001b[0;34m'l-bfgs-b'\u001b[0m\u001b[0;34m:\u001b[0m\u001b[0;34m\u001b[0m\u001b[0;34m\u001b[0m\u001b[0m\n\u001b[0;32m--> 713\u001b[0;31m         res = _minimize_lbfgsb(fun, x0, args, jac, bounds,\n\u001b[0m\u001b[1;32m    714\u001b[0m                                callback=callback, **options)\n\u001b[1;32m    715\u001b[0m     \u001b[0;32melif\u001b[0m \u001b[0mmeth\u001b[0m \u001b[0;34m==\u001b[0m \u001b[0;34m'tnc'\u001b[0m\u001b[0;34m:\u001b[0m\u001b[0;34m\u001b[0m\u001b[0;34m\u001b[0m\u001b[0m\n",
            "\u001b[0;32m/usr/local/lib/python3.11/dist-packages/scipy/optimize/_lbfgsb_py.py\u001b[0m in \u001b[0;36m_minimize_lbfgsb\u001b[0;34m(fun, x0, args, jac, bounds, disp, maxcor, ftol, gtol, eps, maxfun, maxiter, iprint, callback, maxls, finite_diff_rel_step, **unknown_options)\u001b[0m\n\u001b[1;32m    405\u001b[0m             \u001b[0;31m# until the completion of the current minimization iteration.\u001b[0m\u001b[0;34m\u001b[0m\u001b[0;34m\u001b[0m\u001b[0m\n\u001b[1;32m    406\u001b[0m             \u001b[0;31m# Overwrite f and g:\u001b[0m\u001b[0;34m\u001b[0m\u001b[0;34m\u001b[0m\u001b[0m\n\u001b[0;32m--> 407\u001b[0;31m             \u001b[0mf\u001b[0m\u001b[0;34m,\u001b[0m \u001b[0mg\u001b[0m \u001b[0;34m=\u001b[0m \u001b[0mfunc_and_grad\u001b[0m\u001b[0;34m(\u001b[0m\u001b[0mx\u001b[0m\u001b[0;34m)\u001b[0m\u001b[0;34m\u001b[0m\u001b[0;34m\u001b[0m\u001b[0m\n\u001b[0m\u001b[1;32m    408\u001b[0m         \u001b[0;32melif\u001b[0m \u001b[0mtask_str\u001b[0m\u001b[0;34m.\u001b[0m\u001b[0mstartswith\u001b[0m\u001b[0;34m(\u001b[0m\u001b[0;34mb'NEW_X'\u001b[0m\u001b[0;34m)\u001b[0m\u001b[0;34m:\u001b[0m\u001b[0;34m\u001b[0m\u001b[0;34m\u001b[0m\u001b[0m\n\u001b[1;32m    409\u001b[0m             \u001b[0;31m# new iteration\u001b[0m\u001b[0;34m\u001b[0m\u001b[0;34m\u001b[0m\u001b[0m\n",
            "\u001b[0;32m/usr/local/lib/python3.11/dist-packages/scipy/optimize/_differentiable_functions.py\u001b[0m in \u001b[0;36mfun_and_grad\u001b[0;34m(self, x)\u001b[0m\n\u001b[1;32m    294\u001b[0m         \u001b[0;32mif\u001b[0m \u001b[0;32mnot\u001b[0m \u001b[0mnp\u001b[0m\u001b[0;34m.\u001b[0m\u001b[0marray_equal\u001b[0m\u001b[0;34m(\u001b[0m\u001b[0mx\u001b[0m\u001b[0;34m,\u001b[0m \u001b[0mself\u001b[0m\u001b[0;34m.\u001b[0m\u001b[0mx\u001b[0m\u001b[0;34m)\u001b[0m\u001b[0;34m:\u001b[0m\u001b[0;34m\u001b[0m\u001b[0;34m\u001b[0m\u001b[0m\n\u001b[1;32m    295\u001b[0m             \u001b[0mself\u001b[0m\u001b[0;34m.\u001b[0m\u001b[0m_update_x_impl\u001b[0m\u001b[0;34m(\u001b[0m\u001b[0mx\u001b[0m\u001b[0;34m)\u001b[0m\u001b[0;34m\u001b[0m\u001b[0;34m\u001b[0m\u001b[0m\n\u001b[0;32m--> 296\u001b[0;31m         \u001b[0mself\u001b[0m\u001b[0;34m.\u001b[0m\u001b[0m_update_fun\u001b[0m\u001b[0;34m(\u001b[0m\u001b[0;34m)\u001b[0m\u001b[0;34m\u001b[0m\u001b[0;34m\u001b[0m\u001b[0m\n\u001b[0m\u001b[1;32m    297\u001b[0m         \u001b[0mself\u001b[0m\u001b[0;34m.\u001b[0m\u001b[0m_update_grad\u001b[0m\u001b[0;34m(\u001b[0m\u001b[0;34m)\u001b[0m\u001b[0;34m\u001b[0m\u001b[0;34m\u001b[0m\u001b[0m\n\u001b[1;32m    298\u001b[0m         \u001b[0;32mreturn\u001b[0m \u001b[0mself\u001b[0m\u001b[0;34m.\u001b[0m\u001b[0mf\u001b[0m\u001b[0;34m,\u001b[0m \u001b[0mself\u001b[0m\u001b[0;34m.\u001b[0m\u001b[0mg\u001b[0m\u001b[0;34m\u001b[0m\u001b[0;34m\u001b[0m\u001b[0m\n",
            "\u001b[0;32m/usr/local/lib/python3.11/dist-packages/scipy/optimize/_differentiable_functions.py\u001b[0m in \u001b[0;36m_update_fun\u001b[0;34m(self)\u001b[0m\n\u001b[1;32m    260\u001b[0m     \u001b[0;32mdef\u001b[0m \u001b[0m_update_fun\u001b[0m\u001b[0;34m(\u001b[0m\u001b[0mself\u001b[0m\u001b[0;34m)\u001b[0m\u001b[0;34m:\u001b[0m\u001b[0;34m\u001b[0m\u001b[0;34m\u001b[0m\u001b[0m\n\u001b[1;32m    261\u001b[0m         \u001b[0;32mif\u001b[0m \u001b[0;32mnot\u001b[0m \u001b[0mself\u001b[0m\u001b[0;34m.\u001b[0m\u001b[0mf_updated\u001b[0m\u001b[0;34m:\u001b[0m\u001b[0;34m\u001b[0m\u001b[0;34m\u001b[0m\u001b[0m\n\u001b[0;32m--> 262\u001b[0;31m             \u001b[0mself\u001b[0m\u001b[0;34m.\u001b[0m\u001b[0m_update_fun_impl\u001b[0m\u001b[0;34m(\u001b[0m\u001b[0;34m)\u001b[0m\u001b[0;34m\u001b[0m\u001b[0;34m\u001b[0m\u001b[0m\n\u001b[0m\u001b[1;32m    263\u001b[0m             \u001b[0mself\u001b[0m\u001b[0;34m.\u001b[0m\u001b[0mf_updated\u001b[0m \u001b[0;34m=\u001b[0m \u001b[0;32mTrue\u001b[0m\u001b[0;34m\u001b[0m\u001b[0;34m\u001b[0m\u001b[0m\n\u001b[1;32m    264\u001b[0m \u001b[0;34m\u001b[0m\u001b[0m\n",
            "\u001b[0;32m/usr/local/lib/python3.11/dist-packages/scipy/optimize/_differentiable_functions.py\u001b[0m in \u001b[0;36mupdate_fun\u001b[0;34m()\u001b[0m\n\u001b[1;32m    161\u001b[0m \u001b[0;34m\u001b[0m\u001b[0m\n\u001b[1;32m    162\u001b[0m         \u001b[0;32mdef\u001b[0m \u001b[0mupdate_fun\u001b[0m\u001b[0;34m(\u001b[0m\u001b[0;34m)\u001b[0m\u001b[0;34m:\u001b[0m\u001b[0;34m\u001b[0m\u001b[0;34m\u001b[0m\u001b[0m\n\u001b[0;32m--> 163\u001b[0;31m             \u001b[0mself\u001b[0m\u001b[0;34m.\u001b[0m\u001b[0mf\u001b[0m \u001b[0;34m=\u001b[0m \u001b[0mfun_wrapped\u001b[0m\u001b[0;34m(\u001b[0m\u001b[0mself\u001b[0m\u001b[0;34m.\u001b[0m\u001b[0mx\u001b[0m\u001b[0;34m)\u001b[0m\u001b[0;34m\u001b[0m\u001b[0;34m\u001b[0m\u001b[0m\n\u001b[0m\u001b[1;32m    164\u001b[0m \u001b[0;34m\u001b[0m\u001b[0m\n\u001b[1;32m    165\u001b[0m         \u001b[0mself\u001b[0m\u001b[0;34m.\u001b[0m\u001b[0m_update_fun_impl\u001b[0m \u001b[0;34m=\u001b[0m \u001b[0mupdate_fun\u001b[0m\u001b[0;34m\u001b[0m\u001b[0;34m\u001b[0m\u001b[0m\n",
            "\u001b[0;32m/usr/local/lib/python3.11/dist-packages/scipy/optimize/_differentiable_functions.py\u001b[0m in \u001b[0;36mfun_wrapped\u001b[0;34m(x)\u001b[0m\n\u001b[1;32m    143\u001b[0m             \u001b[0;31m# Overwriting results in undefined behaviour because\u001b[0m\u001b[0;34m\u001b[0m\u001b[0;34m\u001b[0m\u001b[0m\n\u001b[1;32m    144\u001b[0m             \u001b[0;31m# fun(self.x) will change self.x, with the two no longer linked.\u001b[0m\u001b[0;34m\u001b[0m\u001b[0;34m\u001b[0m\u001b[0m\n\u001b[0;32m--> 145\u001b[0;31m             \u001b[0mfx\u001b[0m \u001b[0;34m=\u001b[0m \u001b[0mfun\u001b[0m\u001b[0;34m(\u001b[0m\u001b[0mnp\u001b[0m\u001b[0;34m.\u001b[0m\u001b[0mcopy\u001b[0m\u001b[0;34m(\u001b[0m\u001b[0mx\u001b[0m\u001b[0;34m)\u001b[0m\u001b[0;34m,\u001b[0m \u001b[0;34m*\u001b[0m\u001b[0margs\u001b[0m\u001b[0;34m)\u001b[0m\u001b[0;34m\u001b[0m\u001b[0;34m\u001b[0m\u001b[0m\n\u001b[0m\u001b[1;32m    146\u001b[0m             \u001b[0;31m# Make sure the function returns a true scalar\u001b[0m\u001b[0;34m\u001b[0m\u001b[0;34m\u001b[0m\u001b[0m\n\u001b[1;32m    147\u001b[0m             \u001b[0;32mif\u001b[0m \u001b[0;32mnot\u001b[0m \u001b[0mnp\u001b[0m\u001b[0;34m.\u001b[0m\u001b[0misscalar\u001b[0m\u001b[0;34m(\u001b[0m\u001b[0mfx\u001b[0m\u001b[0;34m)\u001b[0m\u001b[0;34m:\u001b[0m\u001b[0;34m\u001b[0m\u001b[0;34m\u001b[0m\u001b[0m\n",
            "\u001b[0;32m/usr/local/lib/python3.11/dist-packages/scipy/optimize/_optimize.py\u001b[0m in \u001b[0;36m__call__\u001b[0;34m(self, x, *args)\u001b[0m\n\u001b[1;32m     77\u001b[0m     \u001b[0;32mdef\u001b[0m \u001b[0m__call__\u001b[0m\u001b[0;34m(\u001b[0m\u001b[0mself\u001b[0m\u001b[0;34m,\u001b[0m \u001b[0mx\u001b[0m\u001b[0;34m,\u001b[0m \u001b[0;34m*\u001b[0m\u001b[0margs\u001b[0m\u001b[0;34m)\u001b[0m\u001b[0;34m:\u001b[0m\u001b[0;34m\u001b[0m\u001b[0;34m\u001b[0m\u001b[0m\n\u001b[1;32m     78\u001b[0m         \u001b[0;34m\"\"\" returns the function value \"\"\"\u001b[0m\u001b[0;34m\u001b[0m\u001b[0;34m\u001b[0m\u001b[0m\n\u001b[0;32m---> 79\u001b[0;31m         \u001b[0mself\u001b[0m\u001b[0;34m.\u001b[0m\u001b[0m_compute_if_needed\u001b[0m\u001b[0;34m(\u001b[0m\u001b[0mx\u001b[0m\u001b[0;34m,\u001b[0m \u001b[0;34m*\u001b[0m\u001b[0margs\u001b[0m\u001b[0;34m)\u001b[0m\u001b[0;34m\u001b[0m\u001b[0;34m\u001b[0m\u001b[0m\n\u001b[0m\u001b[1;32m     80\u001b[0m         \u001b[0;32mreturn\u001b[0m \u001b[0mself\u001b[0m\u001b[0;34m.\u001b[0m\u001b[0m_value\u001b[0m\u001b[0;34m\u001b[0m\u001b[0;34m\u001b[0m\u001b[0m\n\u001b[1;32m     81\u001b[0m \u001b[0;34m\u001b[0m\u001b[0m\n",
            "\u001b[0;32m/usr/local/lib/python3.11/dist-packages/scipy/optimize/_optimize.py\u001b[0m in \u001b[0;36m_compute_if_needed\u001b[0;34m(self, x, *args)\u001b[0m\n\u001b[1;32m     71\u001b[0m         \u001b[0;32mif\u001b[0m \u001b[0;32mnot\u001b[0m \u001b[0mnp\u001b[0m\u001b[0;34m.\u001b[0m\u001b[0mall\u001b[0m\u001b[0;34m(\u001b[0m\u001b[0mx\u001b[0m \u001b[0;34m==\u001b[0m \u001b[0mself\u001b[0m\u001b[0;34m.\u001b[0m\u001b[0mx\u001b[0m\u001b[0;34m)\u001b[0m \u001b[0;32mor\u001b[0m \u001b[0mself\u001b[0m\u001b[0;34m.\u001b[0m\u001b[0m_value\u001b[0m \u001b[0;32mis\u001b[0m \u001b[0;32mNone\u001b[0m \u001b[0;32mor\u001b[0m \u001b[0mself\u001b[0m\u001b[0;34m.\u001b[0m\u001b[0mjac\u001b[0m \u001b[0;32mis\u001b[0m \u001b[0;32mNone\u001b[0m\u001b[0;34m:\u001b[0m\u001b[0;34m\u001b[0m\u001b[0;34m\u001b[0m\u001b[0m\n\u001b[1;32m     72\u001b[0m             \u001b[0mself\u001b[0m\u001b[0;34m.\u001b[0m\u001b[0mx\u001b[0m \u001b[0;34m=\u001b[0m \u001b[0mnp\u001b[0m\u001b[0;34m.\u001b[0m\u001b[0masarray\u001b[0m\u001b[0;34m(\u001b[0m\u001b[0mx\u001b[0m\u001b[0;34m)\u001b[0m\u001b[0;34m.\u001b[0m\u001b[0mcopy\u001b[0m\u001b[0;34m(\u001b[0m\u001b[0;34m)\u001b[0m\u001b[0;34m\u001b[0m\u001b[0;34m\u001b[0m\u001b[0m\n\u001b[0;32m---> 73\u001b[0;31m             \u001b[0mfg\u001b[0m \u001b[0;34m=\u001b[0m \u001b[0mself\u001b[0m\u001b[0;34m.\u001b[0m\u001b[0mfun\u001b[0m\u001b[0;34m(\u001b[0m\u001b[0mx\u001b[0m\u001b[0;34m,\u001b[0m \u001b[0;34m*\u001b[0m\u001b[0margs\u001b[0m\u001b[0;34m)\u001b[0m\u001b[0;34m\u001b[0m\u001b[0;34m\u001b[0m\u001b[0m\n\u001b[0m\u001b[1;32m     74\u001b[0m             \u001b[0mself\u001b[0m\u001b[0;34m.\u001b[0m\u001b[0mjac\u001b[0m \u001b[0;34m=\u001b[0m \u001b[0mfg\u001b[0m\u001b[0;34m[\u001b[0m\u001b[0;36m1\u001b[0m\u001b[0;34m]\u001b[0m\u001b[0;34m\u001b[0m\u001b[0;34m\u001b[0m\u001b[0m\n\u001b[1;32m     75\u001b[0m             \u001b[0mself\u001b[0m\u001b[0;34m.\u001b[0m\u001b[0m_value\u001b[0m \u001b[0;34m=\u001b[0m \u001b[0mfg\u001b[0m\u001b[0;34m[\u001b[0m\u001b[0;36m0\u001b[0m\u001b[0;34m]\u001b[0m\u001b[0;34m\u001b[0m\u001b[0;34m\u001b[0m\u001b[0m\n",
            "\u001b[0;32m/usr/local/lib/python3.11/dist-packages/sklearn/linear_model/_linear_loss.py\u001b[0m in \u001b[0;36mloss_gradient\u001b[0;34m(self, coef, X, y, sample_weight, l2_reg_strength, n_threads, raw_prediction)\u001b[0m\n\u001b[1;32m    334\u001b[0m             \u001b[0mgrad\u001b[0m \u001b[0;34m=\u001b[0m \u001b[0mnp\u001b[0m\u001b[0;34m.\u001b[0m\u001b[0mempty\u001b[0m\u001b[0;34m(\u001b[0m\u001b[0;34m(\u001b[0m\u001b[0mn_classes\u001b[0m\u001b[0;34m,\u001b[0m \u001b[0mn_dof\u001b[0m\u001b[0;34m)\u001b[0m\u001b[0;34m,\u001b[0m \u001b[0mdtype\u001b[0m\u001b[0;34m=\u001b[0m\u001b[0mweights\u001b[0m\u001b[0;34m.\u001b[0m\u001b[0mdtype\u001b[0m\u001b[0;34m,\u001b[0m \u001b[0morder\u001b[0m\u001b[0;34m=\u001b[0m\u001b[0;34m\"F\"\u001b[0m\u001b[0;34m)\u001b[0m\u001b[0;34m\u001b[0m\u001b[0;34m\u001b[0m\u001b[0m\n\u001b[1;32m    335\u001b[0m             \u001b[0;31m# grad_pointwise.shape = (n_samples, n_classes)\u001b[0m\u001b[0;34m\u001b[0m\u001b[0;34m\u001b[0m\u001b[0m\n\u001b[0;32m--> 336\u001b[0;31m             \u001b[0mgrad\u001b[0m\u001b[0;34m[\u001b[0m\u001b[0;34m:\u001b[0m\u001b[0;34m,\u001b[0m \u001b[0;34m:\u001b[0m\u001b[0mn_features\u001b[0m\u001b[0;34m]\u001b[0m \u001b[0;34m=\u001b[0m \u001b[0mgrad_pointwise\u001b[0m\u001b[0;34m.\u001b[0m\u001b[0mT\u001b[0m \u001b[0;34m@\u001b[0m \u001b[0mX\u001b[0m \u001b[0;34m+\u001b[0m \u001b[0ml2_reg_strength\u001b[0m \u001b[0;34m*\u001b[0m \u001b[0mweights\u001b[0m\u001b[0;34m\u001b[0m\u001b[0;34m\u001b[0m\u001b[0m\n\u001b[0m\u001b[1;32m    337\u001b[0m             \u001b[0;32mif\u001b[0m \u001b[0mself\u001b[0m\u001b[0;34m.\u001b[0m\u001b[0mfit_intercept\u001b[0m\u001b[0;34m:\u001b[0m\u001b[0;34m\u001b[0m\u001b[0;34m\u001b[0m\u001b[0m\n\u001b[1;32m    338\u001b[0m                 \u001b[0mgrad\u001b[0m\u001b[0;34m[\u001b[0m\u001b[0;34m:\u001b[0m\u001b[0;34m,\u001b[0m \u001b[0;34m-\u001b[0m\u001b[0;36m1\u001b[0m\u001b[0;34m]\u001b[0m \u001b[0;34m=\u001b[0m \u001b[0mgrad_pointwise\u001b[0m\u001b[0;34m.\u001b[0m\u001b[0msum\u001b[0m\u001b[0;34m(\u001b[0m\u001b[0maxis\u001b[0m\u001b[0;34m=\u001b[0m\u001b[0;36m0\u001b[0m\u001b[0;34m)\u001b[0m\u001b[0;34m\u001b[0m\u001b[0;34m\u001b[0m\u001b[0m\n",
            "\u001b[0;32m/usr/local/lib/python3.11/dist-packages/scipy/sparse/_base.py\u001b[0m in \u001b[0;36m__rmatmul__\u001b[0;34m(self, other)\u001b[0m\n\u001b[1;32m    699\u001b[0m             raise ValueError(\"Scalar operands are not allowed, \"\n\u001b[1;32m    700\u001b[0m                              \"use '*' instead\")\n\u001b[0;32m--> 701\u001b[0;31m         \u001b[0;32mreturn\u001b[0m \u001b[0mself\u001b[0m\u001b[0;34m.\u001b[0m\u001b[0m_rmatmul_dispatch\u001b[0m\u001b[0;34m(\u001b[0m\u001b[0mother\u001b[0m\u001b[0;34m)\u001b[0m\u001b[0;34m\u001b[0m\u001b[0;34m\u001b[0m\u001b[0m\n\u001b[0m\u001b[1;32m    702\u001b[0m \u001b[0;34m\u001b[0m\u001b[0m\n\u001b[1;32m    703\u001b[0m     \u001b[0;31m####################\u001b[0m\u001b[0;34m\u001b[0m\u001b[0;34m\u001b[0m\u001b[0m\n",
            "\u001b[0;32m/usr/local/lib/python3.11/dist-packages/scipy/sparse/_base.py\u001b[0m in \u001b[0;36m_rmatmul_dispatch\u001b[0;34m(self, other)\u001b[0m\n\u001b[1;32m    680\u001b[0m             \u001b[0;32mexcept\u001b[0m \u001b[0mAttributeError\u001b[0m\u001b[0;34m:\u001b[0m\u001b[0;34m\u001b[0m\u001b[0;34m\u001b[0m\u001b[0m\n\u001b[1;32m    681\u001b[0m                 \u001b[0mtr\u001b[0m \u001b[0;34m=\u001b[0m \u001b[0mnp\u001b[0m\u001b[0;34m.\u001b[0m\u001b[0masarray\u001b[0m\u001b[0;34m(\u001b[0m\u001b[0mother\u001b[0m\u001b[0;34m)\u001b[0m\u001b[0;34m.\u001b[0m\u001b[0mtranspose\u001b[0m\u001b[0;34m(\u001b[0m\u001b[0;34m)\u001b[0m\u001b[0;34m\u001b[0m\u001b[0;34m\u001b[0m\u001b[0m\n\u001b[0;32m--> 682\u001b[0;31m             \u001b[0mret\u001b[0m \u001b[0;34m=\u001b[0m \u001b[0mself\u001b[0m\u001b[0;34m.\u001b[0m\u001b[0mtranspose\u001b[0m\u001b[0;34m(\u001b[0m\u001b[0;34m)\u001b[0m\u001b[0;34m.\u001b[0m\u001b[0m_matmul_dispatch\u001b[0m\u001b[0;34m(\u001b[0m\u001b[0mtr\u001b[0m\u001b[0;34m)\u001b[0m\u001b[0;34m\u001b[0m\u001b[0;34m\u001b[0m\u001b[0m\n\u001b[0m\u001b[1;32m    683\u001b[0m             \u001b[0;32mif\u001b[0m \u001b[0mret\u001b[0m \u001b[0;32mis\u001b[0m \u001b[0mNotImplemented\u001b[0m\u001b[0;34m:\u001b[0m\u001b[0;34m\u001b[0m\u001b[0;34m\u001b[0m\u001b[0m\n\u001b[1;32m    684\u001b[0m                 \u001b[0;32mreturn\u001b[0m \u001b[0mNotImplemented\u001b[0m\u001b[0;34m\u001b[0m\u001b[0;34m\u001b[0m\u001b[0m\n",
            "\u001b[0;32m/usr/local/lib/python3.11/dist-packages/scipy/sparse/_base.py\u001b[0m in \u001b[0;36m_matmul_dispatch\u001b[0;34m(self, other)\u001b[0m\n\u001b[1;32m    593\u001b[0m                 \u001b[0;32mreturn\u001b[0m \u001b[0mresult\u001b[0m\u001b[0;34m.\u001b[0m\u001b[0mreshape\u001b[0m\u001b[0;34m(\u001b[0m\u001b[0mM\u001b[0m\u001b[0;34m,\u001b[0m \u001b[0;36m1\u001b[0m\u001b[0;34m)\u001b[0m\u001b[0;34m\u001b[0m\u001b[0;34m\u001b[0m\u001b[0m\n\u001b[1;32m    594\u001b[0m             \u001b[0;32melif\u001b[0m \u001b[0mother\u001b[0m\u001b[0;34m.\u001b[0m\u001b[0mndim\u001b[0m \u001b[0;34m==\u001b[0m \u001b[0;36m2\u001b[0m \u001b[0;32mand\u001b[0m \u001b[0mother\u001b[0m\u001b[0;34m.\u001b[0m\u001b[0mshape\u001b[0m\u001b[0;34m[\u001b[0m\u001b[0;36m0\u001b[0m\u001b[0;34m]\u001b[0m \u001b[0;34m==\u001b[0m \u001b[0mN\u001b[0m\u001b[0;34m:\u001b[0m\u001b[0;34m\u001b[0m\u001b[0;34m\u001b[0m\u001b[0m\n\u001b[0;32m--> 595\u001b[0;31m                 \u001b[0;32mreturn\u001b[0m \u001b[0mself\u001b[0m\u001b[0;34m.\u001b[0m\u001b[0m_matmul_multivector\u001b[0m\u001b[0;34m(\u001b[0m\u001b[0mother\u001b[0m\u001b[0;34m)\u001b[0m\u001b[0;34m\u001b[0m\u001b[0;34m\u001b[0m\u001b[0m\n\u001b[0m\u001b[1;32m    596\u001b[0m \u001b[0;34m\u001b[0m\u001b[0m\n\u001b[1;32m    597\u001b[0m         \u001b[0;32mif\u001b[0m \u001b[0misscalarlike\u001b[0m\u001b[0;34m(\u001b[0m\u001b[0mother\u001b[0m\u001b[0;34m)\u001b[0m\u001b[0;34m:\u001b[0m\u001b[0;34m\u001b[0m\u001b[0;34m\u001b[0m\u001b[0m\n",
            "\u001b[0;32m/usr/local/lib/python3.11/dist-packages/scipy/sparse/_compressed.py\u001b[0m in \u001b[0;36m_matmul_multivector\u001b[0;34m(self, other)\u001b[0m\n\u001b[1;32m    502\u001b[0m         \u001b[0;31m# csr_matvecs or csc_matvecs\u001b[0m\u001b[0;34m\u001b[0m\u001b[0;34m\u001b[0m\u001b[0m\n\u001b[1;32m    503\u001b[0m         \u001b[0mfn\u001b[0m \u001b[0;34m=\u001b[0m \u001b[0mgetattr\u001b[0m\u001b[0;34m(\u001b[0m\u001b[0m_sparsetools\u001b[0m\u001b[0;34m,\u001b[0m \u001b[0mself\u001b[0m\u001b[0;34m.\u001b[0m\u001b[0mformat\u001b[0m \u001b[0;34m+\u001b[0m \u001b[0;34m'_matvecs'\u001b[0m\u001b[0;34m)\u001b[0m\u001b[0;34m\u001b[0m\u001b[0;34m\u001b[0m\u001b[0m\n\u001b[0;32m--> 504\u001b[0;31m         fn(M, N, n_vecs, self.indptr, self.indices, self.data,\n\u001b[0m\u001b[1;32m    505\u001b[0m            other.ravel(), result.ravel())\n\u001b[1;32m    506\u001b[0m \u001b[0;34m\u001b[0m\u001b[0m\n",
            "\u001b[0;31mKeyboardInterrupt\u001b[0m: "
          ]
        }
      ],
      "source": [
        "# Arrays to store results\n",
        "feature_counts = []\n",
        "train_accuracies = []\n",
        "test_accuracies = []\n",
        "from sklearn.feature_selection import SelectKBest, f_classif\n",
        "\n",
        "# Iterate over different values of k\n",
        "for k in range(100, X_train.shape[1], 2000):\n",
        "    # Select top k features using mutual information as the score function\n",
        "    selector = SelectKBest(score_func=chi2, k=k)\n",
        "\n",
        "    # Fit and transform the training set\n",
        "    X_train_selected = selector.fit_transform(X_train, y_train)\n",
        "    X_test_selected = selector.transform(X_test)\n",
        "\n",
        "    # Train a logistic regression model\n",
        "    model = LogisticRegression(max_iter=600, random_state=42)\n",
        "    model.fit(X_train_selected, y_train)\n",
        "\n",
        "    # Record the number of features and accuracies\n",
        "    feature_counts.append(k)\n",
        "    train_accuracies.append(accuracy_score(y_train, model.predict(X_train_selected)))\n",
        "    test_accuracies.append(accuracy_score(y_test, model.predict(X_test_selected)))\n"
      ]
    },
    {
      "cell_type": "markdown",
      "metadata": {
        "id": "B39-MI6RGIIx"
      },
      "source": [
        "### Plot"
      ]
    },
    {
      "cell_type": "code",
      "execution_count": null,
      "metadata": {
        "id": "IyUxEo1aeSaC"
      },
      "outputs": [],
      "source": [
        "# Plot the accuracy vs. number of features\n",
        "plt.figure(figsize=(12, 6))\n",
        "plt.plot(feature_counts, train_accuracies, label=\"Train Accuracy\", marker=\"o\", color=\"blue\")\n",
        "plt.plot(feature_counts, test_accuracies, label=\"Test Accuracy\", marker=\"o\", color=\"orange\")\n",
        "plt.xlabel(\"Number of Selected Features\")\n",
        "plt.ylabel(\"Accuracy\")\n",
        "plt.title(\"Accuracy vs. Number of Selected Features \")\n",
        "plt.legend()\n",
        "plt.grid()\n",
        "plt.show()\n"
      ]
    },
    {
      "cell_type": "markdown",
      "metadata": {
        "id": "x2HIGR8TII0_"
      },
      "source": [
        "# ***Dataset Spliting, Encoding and Staging***"
      ]
    },
    {
      "cell_type": "code",
      "execution_count": 59,
      "metadata": {
        "id": "cg4m53SqjPma"
      },
      "outputs": [],
      "source": [
        "selector = SelectKBest(score_func=chi2, k=2003)\n",
        "\n",
        "    # Fit and transform the training set\n",
        "X_train_selected = selector.fit_transform(X_train, y_train)\n",
        "X_test_selected = selector.transform(X_test)"
      ]
    },
    {
      "cell_type": "code",
      "execution_count": 60,
      "metadata": {
        "id": "P6qRmm8qsSQ7"
      },
      "outputs": [],
      "source": [
        "# Split the vectorized data into train and test sets\n",
        "#X_train_full, X_test, y_train_full, y_test = train_test_split(X_combined_tfidf, df['status'], test_size=0.2, random_state=42)\n",
        "X_train_full, X_test, y_train_full, y_test =X_train_selected, X_test_selected, y_train , y_test"
      ]
    },
    {
      "cell_type": "markdown",
      "metadata": {
        "id": "IsoZkHmzIQTW"
      },
      "source": [
        "### Encode LAbles and slpit status"
      ]
    },
    {
      "cell_type": "markdown",
      "metadata": {
        "id": "IewgAILzl4qL"
      },
      "source": [
        "#### Encode LAbles"
      ]
    },
    {
      "cell_type": "code",
      "execution_count": 61,
      "metadata": {
        "id": "3CGQCl1asU30"
      },
      "outputs": [],
      "source": [
        "# Encode labels for binary classification (Stage 1)\n",
        "binary_encoder = LabelEncoder()\n",
        "y_train_full_binary = binary_encoder.fit_transform(y_train_full.apply(lambda x: 'Normal' if x == 'Normal' else 'Non-Normal'))\n",
        "y_test_binary = binary_encoder.transform(y_test.apply(lambda x: 'Normal' if x == 'Normal' else 'Non-Normal'))\n",
        "\n",
        "# Encode labels for multi-class classification (Stage 2)\n",
        "multi_encoder = LabelEncoder()\n",
        "y_train_full_multi = multi_encoder.fit_transform(y_train_full[y_train_full != 'Normal'])  # Only for \"Non-Normal\" classes\n",
        "y_test_multi = multi_encoder.transform(y_test[y_test != 'Normal'])  # Only for \"Non-Normal\" classes\n"
      ]
    },
    {
      "cell_type": "markdown",
      "metadata": {
        "id": "rdgn2Kd1lbxE"
      },
      "source": [
        "#### split to Stages"
      ]
    },
    {
      "cell_type": "code",
      "execution_count": 62,
      "metadata": {
        "id": "ooDJjot1sXEK"
      },
      "outputs": [],
      "source": [
        "# Split train data for Stage 1 and Stage 2\n",
        "X_train_tfidf_stage1 = X_train_full\n",
        "X_train_tfidf_stage2 = X_train_full[y_train_full != 'Normal']\n",
        "y_train_tfidf_stage1 = y_train_full_binary\n",
        "y_train_tfidf_stage2 = y_train_full_multi\n",
        "\n",
        "X_test_tfidf_stage1 = X_test\n",
        "X_test_tfidf_stage2 = X_test[y_test != 'Normal']\n",
        "\n"
      ]
    },
    {
      "cell_type": "markdown",
      "metadata": {
        "id": "00wfz1PalsD0"
      },
      "source": [
        "### OverSampling using SMOTE  "
      ]
    },
    {
      "cell_type": "code",
      "execution_count": 63,
      "metadata": {
        "id": "vDC-irbF79IU"
      },
      "outputs": [],
      "source": [
        "\n",
        "# Apply SMOTE for oversampling on Stage 2\n",
        "smote = SMOTE(random_state=42)\n",
        "\n",
        "#X_train_tfidf_stage2, y_train_stage2 = smote.fit_resample(X_train_tfidf_stage2, y_train_tfidf_stage2)\n",
        "#X_train_tfidf_stage1, y_train_stage1 = smote.fit_resample(X_train_tfidf_stage1, y_train_tfidf_stage1)\n",
        "\n"
      ]
    },
    {
      "cell_type": "markdown",
      "metadata": {
        "id": "7k5uJ1q4KmPV"
      },
      "source": [
        "# ***Normal Statement Classification***"
      ]
    },
    {
      "cell_type": "markdown",
      "metadata": {
        "id": "gzObnP4mk_Kt"
      },
      "source": [
        "### What we will do"
      ]
    },
    {
      "cell_type": "markdown",
      "metadata": {
        "id": "pvc6-GGgk3MC"
      },
      "source": [
        "\n",
        ">  Stage 1\n",
        "\n",
        ">  1.1  Logistic regression classifier\n",
        "\n",
        ">  2.2 neural network classifier\n",
        "\n",
        ">  2.3 chosssing the best classifier\n"
      ]
    },
    {
      "cell_type": "markdown",
      "metadata": {
        "id": "_FNBI8azKo8u"
      },
      "source": [
        "##  1.1 Stage 1: SVM"
      ]
    },
    {
      "cell_type": "markdown",
      "metadata": {
        "id": "1386nu2LeOM3"
      },
      "source": [
        "### Grid Search Param Definie"
      ]
    },
    {
      "cell_type": "code",
      "execution_count": 64,
      "metadata": {
        "id": "dnvLTIE1eRC4"
      },
      "outputs": [],
      "source": [
        "# Define the binary classifier\n",
        "clf = LogisticRegression(max_iter=1000, random_state=42)\n",
        "\n",
        "# Define the parameter grid for GridSearchCV\n",
        "param_grid = {\n",
        "    'C': [0.01, 0.1, 0.8,1,2, 10, 100],  # Regularization strength\n",
        "    'solver': ['lbfgs', 'liblinear'],  # Optimization algorithms\n",
        "    'penalty': ['l2'],  # Regularization type\n",
        "}\n"
      ]
    },
    {
      "cell_type": "markdown",
      "metadata": {
        "id": "N6X1q-PhiIKm"
      },
      "source": [
        "###  Grid Search Fit"
      ]
    },
    {
      "cell_type": "code",
      "execution_count": 65,
      "metadata": {
        "colab": {
          "base_uri": "https://localhost:8080/",
          "height": 0
        },
        "id": "80tSJKWjeWfU",
        "outputId": "4da72100-efa5-4f43-fb48-cade2d875e9a"
      },
      "outputs": [
        {
          "output_type": "execute_result",
          "data": {
            "text/plain": [
              "GridSearchCV(cv=5, estimator=LogisticRegression(max_iter=1000, random_state=42),\n",
              "             param_grid={'C': [0.01, 0.1, 0.8, 1, 2, 10, 100],\n",
              "                         'penalty': ['l2'], 'solver': ['lbfgs', 'liblinear']},\n",
              "             scoring='accuracy')"
            ],
            "text/html": [
              "<style>#sk-container-id-6 {\n",
              "  /* Definition of color scheme common for light and dark mode */\n",
              "  --sklearn-color-text: #000;\n",
              "  --sklearn-color-text-muted: #666;\n",
              "  --sklearn-color-line: gray;\n",
              "  /* Definition of color scheme for unfitted estimators */\n",
              "  --sklearn-color-unfitted-level-0: #fff5e6;\n",
              "  --sklearn-color-unfitted-level-1: #f6e4d2;\n",
              "  --sklearn-color-unfitted-level-2: #ffe0b3;\n",
              "  --sklearn-color-unfitted-level-3: chocolate;\n",
              "  /* Definition of color scheme for fitted estimators */\n",
              "  --sklearn-color-fitted-level-0: #f0f8ff;\n",
              "  --sklearn-color-fitted-level-1: #d4ebff;\n",
              "  --sklearn-color-fitted-level-2: #b3dbfd;\n",
              "  --sklearn-color-fitted-level-3: cornflowerblue;\n",
              "\n",
              "  /* Specific color for light theme */\n",
              "  --sklearn-color-text-on-default-background: var(--sg-text-color, var(--theme-code-foreground, var(--jp-content-font-color1, black)));\n",
              "  --sklearn-color-background: var(--sg-background-color, var(--theme-background, var(--jp-layout-color0, white)));\n",
              "  --sklearn-color-border-box: var(--sg-text-color, var(--theme-code-foreground, var(--jp-content-font-color1, black)));\n",
              "  --sklearn-color-icon: #696969;\n",
              "\n",
              "  @media (prefers-color-scheme: dark) {\n",
              "    /* Redefinition of color scheme for dark theme */\n",
              "    --sklearn-color-text-on-default-background: var(--sg-text-color, var(--theme-code-foreground, var(--jp-content-font-color1, white)));\n",
              "    --sklearn-color-background: var(--sg-background-color, var(--theme-background, var(--jp-layout-color0, #111)));\n",
              "    --sklearn-color-border-box: var(--sg-text-color, var(--theme-code-foreground, var(--jp-content-font-color1, white)));\n",
              "    --sklearn-color-icon: #878787;\n",
              "  }\n",
              "}\n",
              "\n",
              "#sk-container-id-6 {\n",
              "  color: var(--sklearn-color-text);\n",
              "}\n",
              "\n",
              "#sk-container-id-6 pre {\n",
              "  padding: 0;\n",
              "}\n",
              "\n",
              "#sk-container-id-6 input.sk-hidden--visually {\n",
              "  border: 0;\n",
              "  clip: rect(1px 1px 1px 1px);\n",
              "  clip: rect(1px, 1px, 1px, 1px);\n",
              "  height: 1px;\n",
              "  margin: -1px;\n",
              "  overflow: hidden;\n",
              "  padding: 0;\n",
              "  position: absolute;\n",
              "  width: 1px;\n",
              "}\n",
              "\n",
              "#sk-container-id-6 div.sk-dashed-wrapped {\n",
              "  border: 1px dashed var(--sklearn-color-line);\n",
              "  margin: 0 0.4em 0.5em 0.4em;\n",
              "  box-sizing: border-box;\n",
              "  padding-bottom: 0.4em;\n",
              "  background-color: var(--sklearn-color-background);\n",
              "}\n",
              "\n",
              "#sk-container-id-6 div.sk-container {\n",
              "  /* jupyter's `normalize.less` sets `[hidden] { display: none; }`\n",
              "     but bootstrap.min.css set `[hidden] { display: none !important; }`\n",
              "     so we also need the `!important` here to be able to override the\n",
              "     default hidden behavior on the sphinx rendered scikit-learn.org.\n",
              "     See: https://github.com/scikit-learn/scikit-learn/issues/21755 */\n",
              "  display: inline-block !important;\n",
              "  position: relative;\n",
              "}\n",
              "\n",
              "#sk-container-id-6 div.sk-text-repr-fallback {\n",
              "  display: none;\n",
              "}\n",
              "\n",
              "div.sk-parallel-item,\n",
              "div.sk-serial,\n",
              "div.sk-item {\n",
              "  /* draw centered vertical line to link estimators */\n",
              "  background-image: linear-gradient(var(--sklearn-color-text-on-default-background), var(--sklearn-color-text-on-default-background));\n",
              "  background-size: 2px 100%;\n",
              "  background-repeat: no-repeat;\n",
              "  background-position: center center;\n",
              "}\n",
              "\n",
              "/* Parallel-specific style estimator block */\n",
              "\n",
              "#sk-container-id-6 div.sk-parallel-item::after {\n",
              "  content: \"\";\n",
              "  width: 100%;\n",
              "  border-bottom: 2px solid var(--sklearn-color-text-on-default-background);\n",
              "  flex-grow: 1;\n",
              "}\n",
              "\n",
              "#sk-container-id-6 div.sk-parallel {\n",
              "  display: flex;\n",
              "  align-items: stretch;\n",
              "  justify-content: center;\n",
              "  background-color: var(--sklearn-color-background);\n",
              "  position: relative;\n",
              "}\n",
              "\n",
              "#sk-container-id-6 div.sk-parallel-item {\n",
              "  display: flex;\n",
              "  flex-direction: column;\n",
              "}\n",
              "\n",
              "#sk-container-id-6 div.sk-parallel-item:first-child::after {\n",
              "  align-self: flex-end;\n",
              "  width: 50%;\n",
              "}\n",
              "\n",
              "#sk-container-id-6 div.sk-parallel-item:last-child::after {\n",
              "  align-self: flex-start;\n",
              "  width: 50%;\n",
              "}\n",
              "\n",
              "#sk-container-id-6 div.sk-parallel-item:only-child::after {\n",
              "  width: 0;\n",
              "}\n",
              "\n",
              "/* Serial-specific style estimator block */\n",
              "\n",
              "#sk-container-id-6 div.sk-serial {\n",
              "  display: flex;\n",
              "  flex-direction: column;\n",
              "  align-items: center;\n",
              "  background-color: var(--sklearn-color-background);\n",
              "  padding-right: 1em;\n",
              "  padding-left: 1em;\n",
              "}\n",
              "\n",
              "\n",
              "/* Toggleable style: style used for estimator/Pipeline/ColumnTransformer box that is\n",
              "clickable and can be expanded/collapsed.\n",
              "- Pipeline and ColumnTransformer use this feature and define the default style\n",
              "- Estimators will overwrite some part of the style using the `sk-estimator` class\n",
              "*/\n",
              "\n",
              "/* Pipeline and ColumnTransformer style (default) */\n",
              "\n",
              "#sk-container-id-6 div.sk-toggleable {\n",
              "  /* Default theme specific background. It is overwritten whether we have a\n",
              "  specific estimator or a Pipeline/ColumnTransformer */\n",
              "  background-color: var(--sklearn-color-background);\n",
              "}\n",
              "\n",
              "/* Toggleable label */\n",
              "#sk-container-id-6 label.sk-toggleable__label {\n",
              "  cursor: pointer;\n",
              "  display: flex;\n",
              "  width: 100%;\n",
              "  margin-bottom: 0;\n",
              "  padding: 0.5em;\n",
              "  box-sizing: border-box;\n",
              "  text-align: center;\n",
              "  align-items: start;\n",
              "  justify-content: space-between;\n",
              "  gap: 0.5em;\n",
              "}\n",
              "\n",
              "#sk-container-id-6 label.sk-toggleable__label .caption {\n",
              "  font-size: 0.6rem;\n",
              "  font-weight: lighter;\n",
              "  color: var(--sklearn-color-text-muted);\n",
              "}\n",
              "\n",
              "#sk-container-id-6 label.sk-toggleable__label-arrow:before {\n",
              "  /* Arrow on the left of the label */\n",
              "  content: \"▸\";\n",
              "  float: left;\n",
              "  margin-right: 0.25em;\n",
              "  color: var(--sklearn-color-icon);\n",
              "}\n",
              "\n",
              "#sk-container-id-6 label.sk-toggleable__label-arrow:hover:before {\n",
              "  color: var(--sklearn-color-text);\n",
              "}\n",
              "\n",
              "/* Toggleable content - dropdown */\n",
              "\n",
              "#sk-container-id-6 div.sk-toggleable__content {\n",
              "  max-height: 0;\n",
              "  max-width: 0;\n",
              "  overflow: hidden;\n",
              "  text-align: left;\n",
              "  /* unfitted */\n",
              "  background-color: var(--sklearn-color-unfitted-level-0);\n",
              "}\n",
              "\n",
              "#sk-container-id-6 div.sk-toggleable__content.fitted {\n",
              "  /* fitted */\n",
              "  background-color: var(--sklearn-color-fitted-level-0);\n",
              "}\n",
              "\n",
              "#sk-container-id-6 div.sk-toggleable__content pre {\n",
              "  margin: 0.2em;\n",
              "  border-radius: 0.25em;\n",
              "  color: var(--sklearn-color-text);\n",
              "  /* unfitted */\n",
              "  background-color: var(--sklearn-color-unfitted-level-0);\n",
              "}\n",
              "\n",
              "#sk-container-id-6 div.sk-toggleable__content.fitted pre {\n",
              "  /* unfitted */\n",
              "  background-color: var(--sklearn-color-fitted-level-0);\n",
              "}\n",
              "\n",
              "#sk-container-id-6 input.sk-toggleable__control:checked~div.sk-toggleable__content {\n",
              "  /* Expand drop-down */\n",
              "  max-height: 200px;\n",
              "  max-width: 100%;\n",
              "  overflow: auto;\n",
              "}\n",
              "\n",
              "#sk-container-id-6 input.sk-toggleable__control:checked~label.sk-toggleable__label-arrow:before {\n",
              "  content: \"▾\";\n",
              "}\n",
              "\n",
              "/* Pipeline/ColumnTransformer-specific style */\n",
              "\n",
              "#sk-container-id-6 div.sk-label input.sk-toggleable__control:checked~label.sk-toggleable__label {\n",
              "  color: var(--sklearn-color-text);\n",
              "  background-color: var(--sklearn-color-unfitted-level-2);\n",
              "}\n",
              "\n",
              "#sk-container-id-6 div.sk-label.fitted input.sk-toggleable__control:checked~label.sk-toggleable__label {\n",
              "  background-color: var(--sklearn-color-fitted-level-2);\n",
              "}\n",
              "\n",
              "/* Estimator-specific style */\n",
              "\n",
              "/* Colorize estimator box */\n",
              "#sk-container-id-6 div.sk-estimator input.sk-toggleable__control:checked~label.sk-toggleable__label {\n",
              "  /* unfitted */\n",
              "  background-color: var(--sklearn-color-unfitted-level-2);\n",
              "}\n",
              "\n",
              "#sk-container-id-6 div.sk-estimator.fitted input.sk-toggleable__control:checked~label.sk-toggleable__label {\n",
              "  /* fitted */\n",
              "  background-color: var(--sklearn-color-fitted-level-2);\n",
              "}\n",
              "\n",
              "#sk-container-id-6 div.sk-label label.sk-toggleable__label,\n",
              "#sk-container-id-6 div.sk-label label {\n",
              "  /* The background is the default theme color */\n",
              "  color: var(--sklearn-color-text-on-default-background);\n",
              "}\n",
              "\n",
              "/* On hover, darken the color of the background */\n",
              "#sk-container-id-6 div.sk-label:hover label.sk-toggleable__label {\n",
              "  color: var(--sklearn-color-text);\n",
              "  background-color: var(--sklearn-color-unfitted-level-2);\n",
              "}\n",
              "\n",
              "/* Label box, darken color on hover, fitted */\n",
              "#sk-container-id-6 div.sk-label.fitted:hover label.sk-toggleable__label.fitted {\n",
              "  color: var(--sklearn-color-text);\n",
              "  background-color: var(--sklearn-color-fitted-level-2);\n",
              "}\n",
              "\n",
              "/* Estimator label */\n",
              "\n",
              "#sk-container-id-6 div.sk-label label {\n",
              "  font-family: monospace;\n",
              "  font-weight: bold;\n",
              "  display: inline-block;\n",
              "  line-height: 1.2em;\n",
              "}\n",
              "\n",
              "#sk-container-id-6 div.sk-label-container {\n",
              "  text-align: center;\n",
              "}\n",
              "\n",
              "/* Estimator-specific */\n",
              "#sk-container-id-6 div.sk-estimator {\n",
              "  font-family: monospace;\n",
              "  border: 1px dotted var(--sklearn-color-border-box);\n",
              "  border-radius: 0.25em;\n",
              "  box-sizing: border-box;\n",
              "  margin-bottom: 0.5em;\n",
              "  /* unfitted */\n",
              "  background-color: var(--sklearn-color-unfitted-level-0);\n",
              "}\n",
              "\n",
              "#sk-container-id-6 div.sk-estimator.fitted {\n",
              "  /* fitted */\n",
              "  background-color: var(--sklearn-color-fitted-level-0);\n",
              "}\n",
              "\n",
              "/* on hover */\n",
              "#sk-container-id-6 div.sk-estimator:hover {\n",
              "  /* unfitted */\n",
              "  background-color: var(--sklearn-color-unfitted-level-2);\n",
              "}\n",
              "\n",
              "#sk-container-id-6 div.sk-estimator.fitted:hover {\n",
              "  /* fitted */\n",
              "  background-color: var(--sklearn-color-fitted-level-2);\n",
              "}\n",
              "\n",
              "/* Specification for estimator info (e.g. \"i\" and \"?\") */\n",
              "\n",
              "/* Common style for \"i\" and \"?\" */\n",
              "\n",
              ".sk-estimator-doc-link,\n",
              "a:link.sk-estimator-doc-link,\n",
              "a:visited.sk-estimator-doc-link {\n",
              "  float: right;\n",
              "  font-size: smaller;\n",
              "  line-height: 1em;\n",
              "  font-family: monospace;\n",
              "  background-color: var(--sklearn-color-background);\n",
              "  border-radius: 1em;\n",
              "  height: 1em;\n",
              "  width: 1em;\n",
              "  text-decoration: none !important;\n",
              "  margin-left: 0.5em;\n",
              "  text-align: center;\n",
              "  /* unfitted */\n",
              "  border: var(--sklearn-color-unfitted-level-1) 1pt solid;\n",
              "  color: var(--sklearn-color-unfitted-level-1);\n",
              "}\n",
              "\n",
              ".sk-estimator-doc-link.fitted,\n",
              "a:link.sk-estimator-doc-link.fitted,\n",
              "a:visited.sk-estimator-doc-link.fitted {\n",
              "  /* fitted */\n",
              "  border: var(--sklearn-color-fitted-level-1) 1pt solid;\n",
              "  color: var(--sklearn-color-fitted-level-1);\n",
              "}\n",
              "\n",
              "/* On hover */\n",
              "div.sk-estimator:hover .sk-estimator-doc-link:hover,\n",
              ".sk-estimator-doc-link:hover,\n",
              "div.sk-label-container:hover .sk-estimator-doc-link:hover,\n",
              ".sk-estimator-doc-link:hover {\n",
              "  /* unfitted */\n",
              "  background-color: var(--sklearn-color-unfitted-level-3);\n",
              "  color: var(--sklearn-color-background);\n",
              "  text-decoration: none;\n",
              "}\n",
              "\n",
              "div.sk-estimator.fitted:hover .sk-estimator-doc-link.fitted:hover,\n",
              ".sk-estimator-doc-link.fitted:hover,\n",
              "div.sk-label-container:hover .sk-estimator-doc-link.fitted:hover,\n",
              ".sk-estimator-doc-link.fitted:hover {\n",
              "  /* fitted */\n",
              "  background-color: var(--sklearn-color-fitted-level-3);\n",
              "  color: var(--sklearn-color-background);\n",
              "  text-decoration: none;\n",
              "}\n",
              "\n",
              "/* Span, style for the box shown on hovering the info icon */\n",
              ".sk-estimator-doc-link span {\n",
              "  display: none;\n",
              "  z-index: 9999;\n",
              "  position: relative;\n",
              "  font-weight: normal;\n",
              "  right: .2ex;\n",
              "  padding: .5ex;\n",
              "  margin: .5ex;\n",
              "  width: min-content;\n",
              "  min-width: 20ex;\n",
              "  max-width: 50ex;\n",
              "  color: var(--sklearn-color-text);\n",
              "  box-shadow: 2pt 2pt 4pt #999;\n",
              "  /* unfitted */\n",
              "  background: var(--sklearn-color-unfitted-level-0);\n",
              "  border: .5pt solid var(--sklearn-color-unfitted-level-3);\n",
              "}\n",
              "\n",
              ".sk-estimator-doc-link.fitted span {\n",
              "  /* fitted */\n",
              "  background: var(--sklearn-color-fitted-level-0);\n",
              "  border: var(--sklearn-color-fitted-level-3);\n",
              "}\n",
              "\n",
              ".sk-estimator-doc-link:hover span {\n",
              "  display: block;\n",
              "}\n",
              "\n",
              "/* \"?\"-specific style due to the `<a>` HTML tag */\n",
              "\n",
              "#sk-container-id-6 a.estimator_doc_link {\n",
              "  float: right;\n",
              "  font-size: 1rem;\n",
              "  line-height: 1em;\n",
              "  font-family: monospace;\n",
              "  background-color: var(--sklearn-color-background);\n",
              "  border-radius: 1rem;\n",
              "  height: 1rem;\n",
              "  width: 1rem;\n",
              "  text-decoration: none;\n",
              "  /* unfitted */\n",
              "  color: var(--sklearn-color-unfitted-level-1);\n",
              "  border: var(--sklearn-color-unfitted-level-1) 1pt solid;\n",
              "}\n",
              "\n",
              "#sk-container-id-6 a.estimator_doc_link.fitted {\n",
              "  /* fitted */\n",
              "  border: var(--sklearn-color-fitted-level-1) 1pt solid;\n",
              "  color: var(--sklearn-color-fitted-level-1);\n",
              "}\n",
              "\n",
              "/* On hover */\n",
              "#sk-container-id-6 a.estimator_doc_link:hover {\n",
              "  /* unfitted */\n",
              "  background-color: var(--sklearn-color-unfitted-level-3);\n",
              "  color: var(--sklearn-color-background);\n",
              "  text-decoration: none;\n",
              "}\n",
              "\n",
              "#sk-container-id-6 a.estimator_doc_link.fitted:hover {\n",
              "  /* fitted */\n",
              "  background-color: var(--sklearn-color-fitted-level-3);\n",
              "}\n",
              "</style><div id=\"sk-container-id-6\" class=\"sk-top-container\"><div class=\"sk-text-repr-fallback\"><pre>GridSearchCV(cv=5, estimator=LogisticRegression(max_iter=1000, random_state=42),\n",
              "             param_grid={&#x27;C&#x27;: [0.01, 0.1, 0.8, 1, 2, 10, 100],\n",
              "                         &#x27;penalty&#x27;: [&#x27;l2&#x27;], &#x27;solver&#x27;: [&#x27;lbfgs&#x27;, &#x27;liblinear&#x27;]},\n",
              "             scoring=&#x27;accuracy&#x27;)</pre><b>In a Jupyter environment, please rerun this cell to show the HTML representation or trust the notebook. <br />On GitHub, the HTML representation is unable to render, please try loading this page with nbviewer.org.</b></div><div class=\"sk-container\" hidden><div class=\"sk-item sk-dashed-wrapped\"><div class=\"sk-label-container\"><div class=\"sk-label fitted sk-toggleable\"><input class=\"sk-toggleable__control sk-hidden--visually\" id=\"sk-estimator-id-12\" type=\"checkbox\" ><label for=\"sk-estimator-id-12\" class=\"sk-toggleable__label fitted sk-toggleable__label-arrow\"><div><div>GridSearchCV</div></div><div><a class=\"sk-estimator-doc-link fitted\" rel=\"noreferrer\" target=\"_blank\" href=\"https://scikit-learn.org/1.6/modules/generated/sklearn.model_selection.GridSearchCV.html\">?<span>Documentation for GridSearchCV</span></a><span class=\"sk-estimator-doc-link fitted\">i<span>Fitted</span></span></div></label><div class=\"sk-toggleable__content fitted\"><pre>GridSearchCV(cv=5, estimator=LogisticRegression(max_iter=1000, random_state=42),\n",
              "             param_grid={&#x27;C&#x27;: [0.01, 0.1, 0.8, 1, 2, 10, 100],\n",
              "                         &#x27;penalty&#x27;: [&#x27;l2&#x27;], &#x27;solver&#x27;: [&#x27;lbfgs&#x27;, &#x27;liblinear&#x27;]},\n",
              "             scoring=&#x27;accuracy&#x27;)</pre></div> </div></div><div class=\"sk-parallel\"><div class=\"sk-parallel-item\"><div class=\"sk-item\"><div class=\"sk-label-container\"><div class=\"sk-label fitted sk-toggleable\"><input class=\"sk-toggleable__control sk-hidden--visually\" id=\"sk-estimator-id-13\" type=\"checkbox\" ><label for=\"sk-estimator-id-13\" class=\"sk-toggleable__label fitted sk-toggleable__label-arrow\"><div><div>best_estimator_: LogisticRegression</div></div></label><div class=\"sk-toggleable__content fitted\"><pre>LogisticRegression(C=10, max_iter=1000, random_state=42, solver=&#x27;liblinear&#x27;)</pre></div> </div></div><div class=\"sk-serial\"><div class=\"sk-item\"><div class=\"sk-estimator fitted sk-toggleable\"><input class=\"sk-toggleable__control sk-hidden--visually\" id=\"sk-estimator-id-14\" type=\"checkbox\" ><label for=\"sk-estimator-id-14\" class=\"sk-toggleable__label fitted sk-toggleable__label-arrow\"><div><div>LogisticRegression</div></div><div><a class=\"sk-estimator-doc-link fitted\" rel=\"noreferrer\" target=\"_blank\" href=\"https://scikit-learn.org/1.6/modules/generated/sklearn.linear_model.LogisticRegression.html\">?<span>Documentation for LogisticRegression</span></a></div></label><div class=\"sk-toggleable__content fitted\"><pre>LogisticRegression(C=10, max_iter=1000, random_state=42, solver=&#x27;liblinear&#x27;)</pre></div> </div></div></div></div></div></div></div></div></div>"
            ]
          },
          "metadata": {},
          "execution_count": 65
        }
      ],
      "source": [
        "# Perform Grid Search with cross-validation\n",
        "grid_search = GridSearchCV(clf, param_grid, cv=5, scoring='accuracy')\n",
        "grid_search.fit(X_train_tfidf_stage1, y_train_tfidf_stage1)\n"
      ]
    },
    {
      "cell_type": "markdown",
      "metadata": {
        "id": "KJC5W42CiMjX"
      },
      "source": [
        "### best PArarms"
      ]
    },
    {
      "cell_type": "code",
      "execution_count": 66,
      "metadata": {
        "colab": {
          "base_uri": "https://localhost:8080/"
        },
        "id": "yRlDJTJSeaB6",
        "outputId": "bed5bf64-8af4-4cf3-8baa-ed70cb607a00"
      },
      "outputs": [
        {
          "output_type": "stream",
          "name": "stdout",
          "text": [
            "Best parameters: {'C': 10, 'penalty': 'l2', 'solver': 'liblinear'}\n",
            "Best accuracy: 0.9367406708246098\n"
          ]
        }
      ],
      "source": [
        "\n",
        "# Get the best parameters and accuracy\n",
        "best_params = grid_search.best_params_\n",
        "best_accuracy = grid_search.best_score_\n",
        "\n",
        "print(f\"Best parameters: {best_params}\")\n",
        "print(f\"Best accuracy: {best_accuracy}\")\n"
      ]
    },
    {
      "cell_type": "code",
      "execution_count": 67,
      "metadata": {
        "colab": {
          "base_uri": "https://localhost:8080/",
          "height": 80
        },
        "id": "615Hjolkrztq",
        "outputId": "d95e8ad1-49ee-447e-bbee-5f53ea7a317e"
      },
      "outputs": [
        {
          "output_type": "execute_result",
          "data": {
            "text/plain": [
              "SVC(C=0.7, random_state=42)"
            ],
            "text/html": [
              "<style>#sk-container-id-7 {\n",
              "  /* Definition of color scheme common for light and dark mode */\n",
              "  --sklearn-color-text: #000;\n",
              "  --sklearn-color-text-muted: #666;\n",
              "  --sklearn-color-line: gray;\n",
              "  /* Definition of color scheme for unfitted estimators */\n",
              "  --sklearn-color-unfitted-level-0: #fff5e6;\n",
              "  --sklearn-color-unfitted-level-1: #f6e4d2;\n",
              "  --sklearn-color-unfitted-level-2: #ffe0b3;\n",
              "  --sklearn-color-unfitted-level-3: chocolate;\n",
              "  /* Definition of color scheme for fitted estimators */\n",
              "  --sklearn-color-fitted-level-0: #f0f8ff;\n",
              "  --sklearn-color-fitted-level-1: #d4ebff;\n",
              "  --sklearn-color-fitted-level-2: #b3dbfd;\n",
              "  --sklearn-color-fitted-level-3: cornflowerblue;\n",
              "\n",
              "  /* Specific color for light theme */\n",
              "  --sklearn-color-text-on-default-background: var(--sg-text-color, var(--theme-code-foreground, var(--jp-content-font-color1, black)));\n",
              "  --sklearn-color-background: var(--sg-background-color, var(--theme-background, var(--jp-layout-color0, white)));\n",
              "  --sklearn-color-border-box: var(--sg-text-color, var(--theme-code-foreground, var(--jp-content-font-color1, black)));\n",
              "  --sklearn-color-icon: #696969;\n",
              "\n",
              "  @media (prefers-color-scheme: dark) {\n",
              "    /* Redefinition of color scheme for dark theme */\n",
              "    --sklearn-color-text-on-default-background: var(--sg-text-color, var(--theme-code-foreground, var(--jp-content-font-color1, white)));\n",
              "    --sklearn-color-background: var(--sg-background-color, var(--theme-background, var(--jp-layout-color0, #111)));\n",
              "    --sklearn-color-border-box: var(--sg-text-color, var(--theme-code-foreground, var(--jp-content-font-color1, white)));\n",
              "    --sklearn-color-icon: #878787;\n",
              "  }\n",
              "}\n",
              "\n",
              "#sk-container-id-7 {\n",
              "  color: var(--sklearn-color-text);\n",
              "}\n",
              "\n",
              "#sk-container-id-7 pre {\n",
              "  padding: 0;\n",
              "}\n",
              "\n",
              "#sk-container-id-7 input.sk-hidden--visually {\n",
              "  border: 0;\n",
              "  clip: rect(1px 1px 1px 1px);\n",
              "  clip: rect(1px, 1px, 1px, 1px);\n",
              "  height: 1px;\n",
              "  margin: -1px;\n",
              "  overflow: hidden;\n",
              "  padding: 0;\n",
              "  position: absolute;\n",
              "  width: 1px;\n",
              "}\n",
              "\n",
              "#sk-container-id-7 div.sk-dashed-wrapped {\n",
              "  border: 1px dashed var(--sklearn-color-line);\n",
              "  margin: 0 0.4em 0.5em 0.4em;\n",
              "  box-sizing: border-box;\n",
              "  padding-bottom: 0.4em;\n",
              "  background-color: var(--sklearn-color-background);\n",
              "}\n",
              "\n",
              "#sk-container-id-7 div.sk-container {\n",
              "  /* jupyter's `normalize.less` sets `[hidden] { display: none; }`\n",
              "     but bootstrap.min.css set `[hidden] { display: none !important; }`\n",
              "     so we also need the `!important` here to be able to override the\n",
              "     default hidden behavior on the sphinx rendered scikit-learn.org.\n",
              "     See: https://github.com/scikit-learn/scikit-learn/issues/21755 */\n",
              "  display: inline-block !important;\n",
              "  position: relative;\n",
              "}\n",
              "\n",
              "#sk-container-id-7 div.sk-text-repr-fallback {\n",
              "  display: none;\n",
              "}\n",
              "\n",
              "div.sk-parallel-item,\n",
              "div.sk-serial,\n",
              "div.sk-item {\n",
              "  /* draw centered vertical line to link estimators */\n",
              "  background-image: linear-gradient(var(--sklearn-color-text-on-default-background), var(--sklearn-color-text-on-default-background));\n",
              "  background-size: 2px 100%;\n",
              "  background-repeat: no-repeat;\n",
              "  background-position: center center;\n",
              "}\n",
              "\n",
              "/* Parallel-specific style estimator block */\n",
              "\n",
              "#sk-container-id-7 div.sk-parallel-item::after {\n",
              "  content: \"\";\n",
              "  width: 100%;\n",
              "  border-bottom: 2px solid var(--sklearn-color-text-on-default-background);\n",
              "  flex-grow: 1;\n",
              "}\n",
              "\n",
              "#sk-container-id-7 div.sk-parallel {\n",
              "  display: flex;\n",
              "  align-items: stretch;\n",
              "  justify-content: center;\n",
              "  background-color: var(--sklearn-color-background);\n",
              "  position: relative;\n",
              "}\n",
              "\n",
              "#sk-container-id-7 div.sk-parallel-item {\n",
              "  display: flex;\n",
              "  flex-direction: column;\n",
              "}\n",
              "\n",
              "#sk-container-id-7 div.sk-parallel-item:first-child::after {\n",
              "  align-self: flex-end;\n",
              "  width: 50%;\n",
              "}\n",
              "\n",
              "#sk-container-id-7 div.sk-parallel-item:last-child::after {\n",
              "  align-self: flex-start;\n",
              "  width: 50%;\n",
              "}\n",
              "\n",
              "#sk-container-id-7 div.sk-parallel-item:only-child::after {\n",
              "  width: 0;\n",
              "}\n",
              "\n",
              "/* Serial-specific style estimator block */\n",
              "\n",
              "#sk-container-id-7 div.sk-serial {\n",
              "  display: flex;\n",
              "  flex-direction: column;\n",
              "  align-items: center;\n",
              "  background-color: var(--sklearn-color-background);\n",
              "  padding-right: 1em;\n",
              "  padding-left: 1em;\n",
              "}\n",
              "\n",
              "\n",
              "/* Toggleable style: style used for estimator/Pipeline/ColumnTransformer box that is\n",
              "clickable and can be expanded/collapsed.\n",
              "- Pipeline and ColumnTransformer use this feature and define the default style\n",
              "- Estimators will overwrite some part of the style using the `sk-estimator` class\n",
              "*/\n",
              "\n",
              "/* Pipeline and ColumnTransformer style (default) */\n",
              "\n",
              "#sk-container-id-7 div.sk-toggleable {\n",
              "  /* Default theme specific background. It is overwritten whether we have a\n",
              "  specific estimator or a Pipeline/ColumnTransformer */\n",
              "  background-color: var(--sklearn-color-background);\n",
              "}\n",
              "\n",
              "/* Toggleable label */\n",
              "#sk-container-id-7 label.sk-toggleable__label {\n",
              "  cursor: pointer;\n",
              "  display: flex;\n",
              "  width: 100%;\n",
              "  margin-bottom: 0;\n",
              "  padding: 0.5em;\n",
              "  box-sizing: border-box;\n",
              "  text-align: center;\n",
              "  align-items: start;\n",
              "  justify-content: space-between;\n",
              "  gap: 0.5em;\n",
              "}\n",
              "\n",
              "#sk-container-id-7 label.sk-toggleable__label .caption {\n",
              "  font-size: 0.6rem;\n",
              "  font-weight: lighter;\n",
              "  color: var(--sklearn-color-text-muted);\n",
              "}\n",
              "\n",
              "#sk-container-id-7 label.sk-toggleable__label-arrow:before {\n",
              "  /* Arrow on the left of the label */\n",
              "  content: \"▸\";\n",
              "  float: left;\n",
              "  margin-right: 0.25em;\n",
              "  color: var(--sklearn-color-icon);\n",
              "}\n",
              "\n",
              "#sk-container-id-7 label.sk-toggleable__label-arrow:hover:before {\n",
              "  color: var(--sklearn-color-text);\n",
              "}\n",
              "\n",
              "/* Toggleable content - dropdown */\n",
              "\n",
              "#sk-container-id-7 div.sk-toggleable__content {\n",
              "  max-height: 0;\n",
              "  max-width: 0;\n",
              "  overflow: hidden;\n",
              "  text-align: left;\n",
              "  /* unfitted */\n",
              "  background-color: var(--sklearn-color-unfitted-level-0);\n",
              "}\n",
              "\n",
              "#sk-container-id-7 div.sk-toggleable__content.fitted {\n",
              "  /* fitted */\n",
              "  background-color: var(--sklearn-color-fitted-level-0);\n",
              "}\n",
              "\n",
              "#sk-container-id-7 div.sk-toggleable__content pre {\n",
              "  margin: 0.2em;\n",
              "  border-radius: 0.25em;\n",
              "  color: var(--sklearn-color-text);\n",
              "  /* unfitted */\n",
              "  background-color: var(--sklearn-color-unfitted-level-0);\n",
              "}\n",
              "\n",
              "#sk-container-id-7 div.sk-toggleable__content.fitted pre {\n",
              "  /* unfitted */\n",
              "  background-color: var(--sklearn-color-fitted-level-0);\n",
              "}\n",
              "\n",
              "#sk-container-id-7 input.sk-toggleable__control:checked~div.sk-toggleable__content {\n",
              "  /* Expand drop-down */\n",
              "  max-height: 200px;\n",
              "  max-width: 100%;\n",
              "  overflow: auto;\n",
              "}\n",
              "\n",
              "#sk-container-id-7 input.sk-toggleable__control:checked~label.sk-toggleable__label-arrow:before {\n",
              "  content: \"▾\";\n",
              "}\n",
              "\n",
              "/* Pipeline/ColumnTransformer-specific style */\n",
              "\n",
              "#sk-container-id-7 div.sk-label input.sk-toggleable__control:checked~label.sk-toggleable__label {\n",
              "  color: var(--sklearn-color-text);\n",
              "  background-color: var(--sklearn-color-unfitted-level-2);\n",
              "}\n",
              "\n",
              "#sk-container-id-7 div.sk-label.fitted input.sk-toggleable__control:checked~label.sk-toggleable__label {\n",
              "  background-color: var(--sklearn-color-fitted-level-2);\n",
              "}\n",
              "\n",
              "/* Estimator-specific style */\n",
              "\n",
              "/* Colorize estimator box */\n",
              "#sk-container-id-7 div.sk-estimator input.sk-toggleable__control:checked~label.sk-toggleable__label {\n",
              "  /* unfitted */\n",
              "  background-color: var(--sklearn-color-unfitted-level-2);\n",
              "}\n",
              "\n",
              "#sk-container-id-7 div.sk-estimator.fitted input.sk-toggleable__control:checked~label.sk-toggleable__label {\n",
              "  /* fitted */\n",
              "  background-color: var(--sklearn-color-fitted-level-2);\n",
              "}\n",
              "\n",
              "#sk-container-id-7 div.sk-label label.sk-toggleable__label,\n",
              "#sk-container-id-7 div.sk-label label {\n",
              "  /* The background is the default theme color */\n",
              "  color: var(--sklearn-color-text-on-default-background);\n",
              "}\n",
              "\n",
              "/* On hover, darken the color of the background */\n",
              "#sk-container-id-7 div.sk-label:hover label.sk-toggleable__label {\n",
              "  color: var(--sklearn-color-text);\n",
              "  background-color: var(--sklearn-color-unfitted-level-2);\n",
              "}\n",
              "\n",
              "/* Label box, darken color on hover, fitted */\n",
              "#sk-container-id-7 div.sk-label.fitted:hover label.sk-toggleable__label.fitted {\n",
              "  color: var(--sklearn-color-text);\n",
              "  background-color: var(--sklearn-color-fitted-level-2);\n",
              "}\n",
              "\n",
              "/* Estimator label */\n",
              "\n",
              "#sk-container-id-7 div.sk-label label {\n",
              "  font-family: monospace;\n",
              "  font-weight: bold;\n",
              "  display: inline-block;\n",
              "  line-height: 1.2em;\n",
              "}\n",
              "\n",
              "#sk-container-id-7 div.sk-label-container {\n",
              "  text-align: center;\n",
              "}\n",
              "\n",
              "/* Estimator-specific */\n",
              "#sk-container-id-7 div.sk-estimator {\n",
              "  font-family: monospace;\n",
              "  border: 1px dotted var(--sklearn-color-border-box);\n",
              "  border-radius: 0.25em;\n",
              "  box-sizing: border-box;\n",
              "  margin-bottom: 0.5em;\n",
              "  /* unfitted */\n",
              "  background-color: var(--sklearn-color-unfitted-level-0);\n",
              "}\n",
              "\n",
              "#sk-container-id-7 div.sk-estimator.fitted {\n",
              "  /* fitted */\n",
              "  background-color: var(--sklearn-color-fitted-level-0);\n",
              "}\n",
              "\n",
              "/* on hover */\n",
              "#sk-container-id-7 div.sk-estimator:hover {\n",
              "  /* unfitted */\n",
              "  background-color: var(--sklearn-color-unfitted-level-2);\n",
              "}\n",
              "\n",
              "#sk-container-id-7 div.sk-estimator.fitted:hover {\n",
              "  /* fitted */\n",
              "  background-color: var(--sklearn-color-fitted-level-2);\n",
              "}\n",
              "\n",
              "/* Specification for estimator info (e.g. \"i\" and \"?\") */\n",
              "\n",
              "/* Common style for \"i\" and \"?\" */\n",
              "\n",
              ".sk-estimator-doc-link,\n",
              "a:link.sk-estimator-doc-link,\n",
              "a:visited.sk-estimator-doc-link {\n",
              "  float: right;\n",
              "  font-size: smaller;\n",
              "  line-height: 1em;\n",
              "  font-family: monospace;\n",
              "  background-color: var(--sklearn-color-background);\n",
              "  border-radius: 1em;\n",
              "  height: 1em;\n",
              "  width: 1em;\n",
              "  text-decoration: none !important;\n",
              "  margin-left: 0.5em;\n",
              "  text-align: center;\n",
              "  /* unfitted */\n",
              "  border: var(--sklearn-color-unfitted-level-1) 1pt solid;\n",
              "  color: var(--sklearn-color-unfitted-level-1);\n",
              "}\n",
              "\n",
              ".sk-estimator-doc-link.fitted,\n",
              "a:link.sk-estimator-doc-link.fitted,\n",
              "a:visited.sk-estimator-doc-link.fitted {\n",
              "  /* fitted */\n",
              "  border: var(--sklearn-color-fitted-level-1) 1pt solid;\n",
              "  color: var(--sklearn-color-fitted-level-1);\n",
              "}\n",
              "\n",
              "/* On hover */\n",
              "div.sk-estimator:hover .sk-estimator-doc-link:hover,\n",
              ".sk-estimator-doc-link:hover,\n",
              "div.sk-label-container:hover .sk-estimator-doc-link:hover,\n",
              ".sk-estimator-doc-link:hover {\n",
              "  /* unfitted */\n",
              "  background-color: var(--sklearn-color-unfitted-level-3);\n",
              "  color: var(--sklearn-color-background);\n",
              "  text-decoration: none;\n",
              "}\n",
              "\n",
              "div.sk-estimator.fitted:hover .sk-estimator-doc-link.fitted:hover,\n",
              ".sk-estimator-doc-link.fitted:hover,\n",
              "div.sk-label-container:hover .sk-estimator-doc-link.fitted:hover,\n",
              ".sk-estimator-doc-link.fitted:hover {\n",
              "  /* fitted */\n",
              "  background-color: var(--sklearn-color-fitted-level-3);\n",
              "  color: var(--sklearn-color-background);\n",
              "  text-decoration: none;\n",
              "}\n",
              "\n",
              "/* Span, style for the box shown on hovering the info icon */\n",
              ".sk-estimator-doc-link span {\n",
              "  display: none;\n",
              "  z-index: 9999;\n",
              "  position: relative;\n",
              "  font-weight: normal;\n",
              "  right: .2ex;\n",
              "  padding: .5ex;\n",
              "  margin: .5ex;\n",
              "  width: min-content;\n",
              "  min-width: 20ex;\n",
              "  max-width: 50ex;\n",
              "  color: var(--sklearn-color-text);\n",
              "  box-shadow: 2pt 2pt 4pt #999;\n",
              "  /* unfitted */\n",
              "  background: var(--sklearn-color-unfitted-level-0);\n",
              "  border: .5pt solid var(--sklearn-color-unfitted-level-3);\n",
              "}\n",
              "\n",
              ".sk-estimator-doc-link.fitted span {\n",
              "  /* fitted */\n",
              "  background: var(--sklearn-color-fitted-level-0);\n",
              "  border: var(--sklearn-color-fitted-level-3);\n",
              "}\n",
              "\n",
              ".sk-estimator-doc-link:hover span {\n",
              "  display: block;\n",
              "}\n",
              "\n",
              "/* \"?\"-specific style due to the `<a>` HTML tag */\n",
              "\n",
              "#sk-container-id-7 a.estimator_doc_link {\n",
              "  float: right;\n",
              "  font-size: 1rem;\n",
              "  line-height: 1em;\n",
              "  font-family: monospace;\n",
              "  background-color: var(--sklearn-color-background);\n",
              "  border-radius: 1rem;\n",
              "  height: 1rem;\n",
              "  width: 1rem;\n",
              "  text-decoration: none;\n",
              "  /* unfitted */\n",
              "  color: var(--sklearn-color-unfitted-level-1);\n",
              "  border: var(--sklearn-color-unfitted-level-1) 1pt solid;\n",
              "}\n",
              "\n",
              "#sk-container-id-7 a.estimator_doc_link.fitted {\n",
              "  /* fitted */\n",
              "  border: var(--sklearn-color-fitted-level-1) 1pt solid;\n",
              "  color: var(--sklearn-color-fitted-level-1);\n",
              "}\n",
              "\n",
              "/* On hover */\n",
              "#sk-container-id-7 a.estimator_doc_link:hover {\n",
              "  /* unfitted */\n",
              "  background-color: var(--sklearn-color-unfitted-level-3);\n",
              "  color: var(--sklearn-color-background);\n",
              "  text-decoration: none;\n",
              "}\n",
              "\n",
              "#sk-container-id-7 a.estimator_doc_link.fitted:hover {\n",
              "  /* fitted */\n",
              "  background-color: var(--sklearn-color-fitted-level-3);\n",
              "}\n",
              "</style><div id=\"sk-container-id-7\" class=\"sk-top-container\"><div class=\"sk-text-repr-fallback\"><pre>SVC(C=0.7, random_state=42)</pre><b>In a Jupyter environment, please rerun this cell to show the HTML representation or trust the notebook. <br />On GitHub, the HTML representation is unable to render, please try loading this page with nbviewer.org.</b></div><div class=\"sk-container\" hidden><div class=\"sk-item\"><div class=\"sk-estimator fitted sk-toggleable\"><input class=\"sk-toggleable__control sk-hidden--visually\" id=\"sk-estimator-id-15\" type=\"checkbox\" checked><label for=\"sk-estimator-id-15\" class=\"sk-toggleable__label fitted sk-toggleable__label-arrow\"><div><div>SVC</div></div><div><a class=\"sk-estimator-doc-link fitted\" rel=\"noreferrer\" target=\"_blank\" href=\"https://scikit-learn.org/1.6/modules/generated/sklearn.svm.SVC.html\">?<span>Documentation for SVC</span></a><span class=\"sk-estimator-doc-link fitted\">i<span>Fitted</span></span></div></label><div class=\"sk-toggleable__content fitted\"><pre>SVC(C=0.7, random_state=42)</pre></div> </div></div></div></div>"
            ]
          },
          "metadata": {},
          "execution_count": 67
        }
      ],
      "source": [
        "logistic1_classifier= SVC(random_state=42,C=0.7)\n",
        "logistic1_classifier.fit(X_train_tfidf_stage1, y_train_tfidf_stage1)"
      ]
    },
    {
      "cell_type": "code",
      "execution_count": 68,
      "metadata": {
        "id": "GdAGySRMrqRi"
      },
      "outputs": [],
      "source": [
        "#logistic1_classifier= grid_search.best_estimator_"
      ]
    },
    {
      "cell_type": "markdown",
      "metadata": {
        "id": "4iuw-sZ1kp7K"
      },
      "source": [
        "### classification report for train"
      ]
    },
    {
      "cell_type": "code",
      "execution_count": 69,
      "metadata": {
        "colab": {
          "base_uri": "https://localhost:8080/"
        },
        "id": "qfXRN_MnktuY",
        "outputId": "843d1408-5131-4008-a387-65c705541a99"
      },
      "outputs": [
        {
          "output_type": "stream",
          "name": "stdout",
          "text": [
            "Stage 1 (Binary Classification) - Normal vs Non-Normal\n",
            "Accuracy: 0.95292331055429\n",
            "              precision    recall  f1-score   support\n",
            "\n",
            "           0       0.96      0.97      0.97     29109\n",
            "           1       0.93      0.92      0.92     13035\n",
            "\n",
            "    accuracy                           0.95     42144\n",
            "   macro avg       0.95      0.94      0.94     42144\n",
            "weighted avg       0.95      0.95      0.95     42144\n",
            "\n",
            "Confusion Matrix:\n",
            " [[28181   928]\n",
            " [ 1056 11979]]\n"
          ]
        }
      ],
      "source": [
        "# Evaluate binary classifier\n",
        "y_pred_stage1 = logistic1_classifier.predict(X_train_tfidf_stage1)\n",
        "print(\"Stage 1 (Binary Classification) - Normal vs Non-Normal\")\n",
        "print(\"Accuracy:\", accuracy_score(y_train_tfidf_stage1, y_pred_stage1))\n",
        "print(classification_report(y_train_tfidf_stage1, y_pred_stage1))\n",
        "print(\"Confusion Matrix:\\n\", confusion_matrix(y_train_tfidf_stage1, y_pred_stage1))\n"
      ]
    },
    {
      "cell_type": "markdown",
      "metadata": {
        "id": "aGpSzmF5iPfu"
      },
      "source": [
        "### classification report"
      ]
    },
    {
      "cell_type": "code",
      "execution_count": null,
      "metadata": {
        "id": "q2Zam9f2Iiro"
      },
      "outputs": [],
      "source": [
        "# Evaluate binary classifier\n",
        "y_pred_stage1 = logistic1_classifier.predict(X_test_tfidf_stage1)\n",
        "print(\"Stage 1 (Binary Classification) - Normal vs Non-Normal\")\n",
        "print(\"Accuracy:\", accuracy_score(y_test_binary, y_pred_stage1))\n",
        "print(classification_report(y_test_binary, y_pred_stage1))\n",
        "print(\"Confusion Matrix:\\n\", confusion_matrix(y_test_binary, y_pred_stage1))\n"
      ]
    },
    {
      "cell_type": "markdown",
      "metadata": {
        "id": "A5WCvSq0iW6I"
      },
      "source": [
        "### Heat Map"
      ]
    },
    {
      "cell_type": "code",
      "execution_count": null,
      "metadata": {
        "id": "Th1F9FjlJSyB"
      },
      "outputs": [],
      "source": [
        "# Calculate confusion matrix for Stage 1\n",
        "conf_matrix_stage1 = confusion_matrix(y_test_binary, y_pred_stage1)\n",
        "\n",
        "# Plot heatmap for Stage 1\n",
        "plt.figure(figsize=(6, 4))\n",
        "sns.heatmap(conf_matrix_stage1, annot=True, fmt=\"d\", cmap=\"Blues\", xticklabels=binary_encoder.classes_, yticklabels=binary_encoder.classes_)\n",
        "plt.title(\"Confusion Matrix - Stage 1 (Normal vs Non-Normal)\")\n",
        "plt.xlabel(\"Predicted Labels\")\n",
        "plt.ylabel(\"True Labels\")\n",
        "plt.show()\n"
      ]
    },
    {
      "cell_type": "markdown",
      "metadata": {
        "id": "9KMmPGfFq0P_"
      },
      "source": [
        "## 1.3 Best Classifier for  Stage 1"
      ]
    },
    {
      "cell_type": "markdown",
      "metadata": {
        "id": "1XYBawINq5AX"
      },
      "source": [
        "we chose the best classfier for this stage"
      ]
    },
    {
      "cell_type": "code",
      "execution_count": 70,
      "metadata": {
        "id": "jn9pb-Yrq7td"
      },
      "outputs": [],
      "source": [
        "binary_classifier = logistic1_classifier"
      ]
    },
    {
      "cell_type": "markdown",
      "metadata": {
        "id": "wrP2kUOFK-J3"
      },
      "source": [
        "# ***Non Normal Statement Classification***"
      ]
    },
    {
      "cell_type": "markdown",
      "metadata": {
        "id": "6o0MmdiODUH6"
      },
      "source": [
        "## 2.1 SVM Stage 2"
      ]
    },
    {
      "cell_type": "markdown",
      "metadata": {
        "id": "9Em73VlEj8aH"
      },
      "source": [
        "### Grid Search Params"
      ]
    },
    {
      "cell_type": "code",
      "execution_count": 71,
      "metadata": {
        "id": "X8PyV11kNUES"
      },
      "outputs": [],
      "source": [
        "# Define the binary classifier\n",
        "clf = LogisticRegression(max_iter=1000, random_state=42)\n",
        "\n",
        "# Define the parameter grid for GridSearchCV\n",
        "param_grid = {\n",
        "    'C': [ 0.03,0.01, 0.02],  # Regularization strength\n",
        "    'solver': ['lbfgs'],  # Optimization algorithms\n",
        "    'penalty': ['l2'],  # Regularization type\n",
        "}\n",
        "\n",
        "# Initialize GridSearchCV\n",
        "grid_search = GridSearchCV(estimator=clf, param_grid=param_grid, scoring='accuracy', cv=5, n_jobs=-1, verbose=1)\n",
        "\n"
      ]
    },
    {
      "cell_type": "markdown",
      "metadata": {
        "id": "ijhMxfv0j_xo"
      },
      "source": [
        "### Train the Model"
      ]
    },
    {
      "cell_type": "code",
      "execution_count": 72,
      "metadata": {
        "colab": {
          "base_uri": "https://localhost:8080/",
          "height": 0
        },
        "id": "wsf5SS_LNVcE",
        "outputId": "94c3b8c4-9ea1-4ed4-d0d9-43341585567c"
      },
      "outputs": [
        {
          "output_type": "stream",
          "name": "stdout",
          "text": [
            "Fitting 5 folds for each of 3 candidates, totalling 15 fits\n"
          ]
        },
        {
          "output_type": "execute_result",
          "data": {
            "text/plain": [
              "GridSearchCV(cv=5, estimator=LogisticRegression(max_iter=1000, random_state=42),\n",
              "             n_jobs=-1,\n",
              "             param_grid={'C': [0.03, 0.01, 0.02], 'penalty': ['l2'],\n",
              "                         'solver': ['lbfgs']},\n",
              "             scoring='accuracy', verbose=1)"
            ],
            "text/html": [
              "<style>#sk-container-id-8 {\n",
              "  /* Definition of color scheme common for light and dark mode */\n",
              "  --sklearn-color-text: #000;\n",
              "  --sklearn-color-text-muted: #666;\n",
              "  --sklearn-color-line: gray;\n",
              "  /* Definition of color scheme for unfitted estimators */\n",
              "  --sklearn-color-unfitted-level-0: #fff5e6;\n",
              "  --sklearn-color-unfitted-level-1: #f6e4d2;\n",
              "  --sklearn-color-unfitted-level-2: #ffe0b3;\n",
              "  --sklearn-color-unfitted-level-3: chocolate;\n",
              "  /* Definition of color scheme for fitted estimators */\n",
              "  --sklearn-color-fitted-level-0: #f0f8ff;\n",
              "  --sklearn-color-fitted-level-1: #d4ebff;\n",
              "  --sklearn-color-fitted-level-2: #b3dbfd;\n",
              "  --sklearn-color-fitted-level-3: cornflowerblue;\n",
              "\n",
              "  /* Specific color for light theme */\n",
              "  --sklearn-color-text-on-default-background: var(--sg-text-color, var(--theme-code-foreground, var(--jp-content-font-color1, black)));\n",
              "  --sklearn-color-background: var(--sg-background-color, var(--theme-background, var(--jp-layout-color0, white)));\n",
              "  --sklearn-color-border-box: var(--sg-text-color, var(--theme-code-foreground, var(--jp-content-font-color1, black)));\n",
              "  --sklearn-color-icon: #696969;\n",
              "\n",
              "  @media (prefers-color-scheme: dark) {\n",
              "    /* Redefinition of color scheme for dark theme */\n",
              "    --sklearn-color-text-on-default-background: var(--sg-text-color, var(--theme-code-foreground, var(--jp-content-font-color1, white)));\n",
              "    --sklearn-color-background: var(--sg-background-color, var(--theme-background, var(--jp-layout-color0, #111)));\n",
              "    --sklearn-color-border-box: var(--sg-text-color, var(--theme-code-foreground, var(--jp-content-font-color1, white)));\n",
              "    --sklearn-color-icon: #878787;\n",
              "  }\n",
              "}\n",
              "\n",
              "#sk-container-id-8 {\n",
              "  color: var(--sklearn-color-text);\n",
              "}\n",
              "\n",
              "#sk-container-id-8 pre {\n",
              "  padding: 0;\n",
              "}\n",
              "\n",
              "#sk-container-id-8 input.sk-hidden--visually {\n",
              "  border: 0;\n",
              "  clip: rect(1px 1px 1px 1px);\n",
              "  clip: rect(1px, 1px, 1px, 1px);\n",
              "  height: 1px;\n",
              "  margin: -1px;\n",
              "  overflow: hidden;\n",
              "  padding: 0;\n",
              "  position: absolute;\n",
              "  width: 1px;\n",
              "}\n",
              "\n",
              "#sk-container-id-8 div.sk-dashed-wrapped {\n",
              "  border: 1px dashed var(--sklearn-color-line);\n",
              "  margin: 0 0.4em 0.5em 0.4em;\n",
              "  box-sizing: border-box;\n",
              "  padding-bottom: 0.4em;\n",
              "  background-color: var(--sklearn-color-background);\n",
              "}\n",
              "\n",
              "#sk-container-id-8 div.sk-container {\n",
              "  /* jupyter's `normalize.less` sets `[hidden] { display: none; }`\n",
              "     but bootstrap.min.css set `[hidden] { display: none !important; }`\n",
              "     so we also need the `!important` here to be able to override the\n",
              "     default hidden behavior on the sphinx rendered scikit-learn.org.\n",
              "     See: https://github.com/scikit-learn/scikit-learn/issues/21755 */\n",
              "  display: inline-block !important;\n",
              "  position: relative;\n",
              "}\n",
              "\n",
              "#sk-container-id-8 div.sk-text-repr-fallback {\n",
              "  display: none;\n",
              "}\n",
              "\n",
              "div.sk-parallel-item,\n",
              "div.sk-serial,\n",
              "div.sk-item {\n",
              "  /* draw centered vertical line to link estimators */\n",
              "  background-image: linear-gradient(var(--sklearn-color-text-on-default-background), var(--sklearn-color-text-on-default-background));\n",
              "  background-size: 2px 100%;\n",
              "  background-repeat: no-repeat;\n",
              "  background-position: center center;\n",
              "}\n",
              "\n",
              "/* Parallel-specific style estimator block */\n",
              "\n",
              "#sk-container-id-8 div.sk-parallel-item::after {\n",
              "  content: \"\";\n",
              "  width: 100%;\n",
              "  border-bottom: 2px solid var(--sklearn-color-text-on-default-background);\n",
              "  flex-grow: 1;\n",
              "}\n",
              "\n",
              "#sk-container-id-8 div.sk-parallel {\n",
              "  display: flex;\n",
              "  align-items: stretch;\n",
              "  justify-content: center;\n",
              "  background-color: var(--sklearn-color-background);\n",
              "  position: relative;\n",
              "}\n",
              "\n",
              "#sk-container-id-8 div.sk-parallel-item {\n",
              "  display: flex;\n",
              "  flex-direction: column;\n",
              "}\n",
              "\n",
              "#sk-container-id-8 div.sk-parallel-item:first-child::after {\n",
              "  align-self: flex-end;\n",
              "  width: 50%;\n",
              "}\n",
              "\n",
              "#sk-container-id-8 div.sk-parallel-item:last-child::after {\n",
              "  align-self: flex-start;\n",
              "  width: 50%;\n",
              "}\n",
              "\n",
              "#sk-container-id-8 div.sk-parallel-item:only-child::after {\n",
              "  width: 0;\n",
              "}\n",
              "\n",
              "/* Serial-specific style estimator block */\n",
              "\n",
              "#sk-container-id-8 div.sk-serial {\n",
              "  display: flex;\n",
              "  flex-direction: column;\n",
              "  align-items: center;\n",
              "  background-color: var(--sklearn-color-background);\n",
              "  padding-right: 1em;\n",
              "  padding-left: 1em;\n",
              "}\n",
              "\n",
              "\n",
              "/* Toggleable style: style used for estimator/Pipeline/ColumnTransformer box that is\n",
              "clickable and can be expanded/collapsed.\n",
              "- Pipeline and ColumnTransformer use this feature and define the default style\n",
              "- Estimators will overwrite some part of the style using the `sk-estimator` class\n",
              "*/\n",
              "\n",
              "/* Pipeline and ColumnTransformer style (default) */\n",
              "\n",
              "#sk-container-id-8 div.sk-toggleable {\n",
              "  /* Default theme specific background. It is overwritten whether we have a\n",
              "  specific estimator or a Pipeline/ColumnTransformer */\n",
              "  background-color: var(--sklearn-color-background);\n",
              "}\n",
              "\n",
              "/* Toggleable label */\n",
              "#sk-container-id-8 label.sk-toggleable__label {\n",
              "  cursor: pointer;\n",
              "  display: flex;\n",
              "  width: 100%;\n",
              "  margin-bottom: 0;\n",
              "  padding: 0.5em;\n",
              "  box-sizing: border-box;\n",
              "  text-align: center;\n",
              "  align-items: start;\n",
              "  justify-content: space-between;\n",
              "  gap: 0.5em;\n",
              "}\n",
              "\n",
              "#sk-container-id-8 label.sk-toggleable__label .caption {\n",
              "  font-size: 0.6rem;\n",
              "  font-weight: lighter;\n",
              "  color: var(--sklearn-color-text-muted);\n",
              "}\n",
              "\n",
              "#sk-container-id-8 label.sk-toggleable__label-arrow:before {\n",
              "  /* Arrow on the left of the label */\n",
              "  content: \"▸\";\n",
              "  float: left;\n",
              "  margin-right: 0.25em;\n",
              "  color: var(--sklearn-color-icon);\n",
              "}\n",
              "\n",
              "#sk-container-id-8 label.sk-toggleable__label-arrow:hover:before {\n",
              "  color: var(--sklearn-color-text);\n",
              "}\n",
              "\n",
              "/* Toggleable content - dropdown */\n",
              "\n",
              "#sk-container-id-8 div.sk-toggleable__content {\n",
              "  max-height: 0;\n",
              "  max-width: 0;\n",
              "  overflow: hidden;\n",
              "  text-align: left;\n",
              "  /* unfitted */\n",
              "  background-color: var(--sklearn-color-unfitted-level-0);\n",
              "}\n",
              "\n",
              "#sk-container-id-8 div.sk-toggleable__content.fitted {\n",
              "  /* fitted */\n",
              "  background-color: var(--sklearn-color-fitted-level-0);\n",
              "}\n",
              "\n",
              "#sk-container-id-8 div.sk-toggleable__content pre {\n",
              "  margin: 0.2em;\n",
              "  border-radius: 0.25em;\n",
              "  color: var(--sklearn-color-text);\n",
              "  /* unfitted */\n",
              "  background-color: var(--sklearn-color-unfitted-level-0);\n",
              "}\n",
              "\n",
              "#sk-container-id-8 div.sk-toggleable__content.fitted pre {\n",
              "  /* unfitted */\n",
              "  background-color: var(--sklearn-color-fitted-level-0);\n",
              "}\n",
              "\n",
              "#sk-container-id-8 input.sk-toggleable__control:checked~div.sk-toggleable__content {\n",
              "  /* Expand drop-down */\n",
              "  max-height: 200px;\n",
              "  max-width: 100%;\n",
              "  overflow: auto;\n",
              "}\n",
              "\n",
              "#sk-container-id-8 input.sk-toggleable__control:checked~label.sk-toggleable__label-arrow:before {\n",
              "  content: \"▾\";\n",
              "}\n",
              "\n",
              "/* Pipeline/ColumnTransformer-specific style */\n",
              "\n",
              "#sk-container-id-8 div.sk-label input.sk-toggleable__control:checked~label.sk-toggleable__label {\n",
              "  color: var(--sklearn-color-text);\n",
              "  background-color: var(--sklearn-color-unfitted-level-2);\n",
              "}\n",
              "\n",
              "#sk-container-id-8 div.sk-label.fitted input.sk-toggleable__control:checked~label.sk-toggleable__label {\n",
              "  background-color: var(--sklearn-color-fitted-level-2);\n",
              "}\n",
              "\n",
              "/* Estimator-specific style */\n",
              "\n",
              "/* Colorize estimator box */\n",
              "#sk-container-id-8 div.sk-estimator input.sk-toggleable__control:checked~label.sk-toggleable__label {\n",
              "  /* unfitted */\n",
              "  background-color: var(--sklearn-color-unfitted-level-2);\n",
              "}\n",
              "\n",
              "#sk-container-id-8 div.sk-estimator.fitted input.sk-toggleable__control:checked~label.sk-toggleable__label {\n",
              "  /* fitted */\n",
              "  background-color: var(--sklearn-color-fitted-level-2);\n",
              "}\n",
              "\n",
              "#sk-container-id-8 div.sk-label label.sk-toggleable__label,\n",
              "#sk-container-id-8 div.sk-label label {\n",
              "  /* The background is the default theme color */\n",
              "  color: var(--sklearn-color-text-on-default-background);\n",
              "}\n",
              "\n",
              "/* On hover, darken the color of the background */\n",
              "#sk-container-id-8 div.sk-label:hover label.sk-toggleable__label {\n",
              "  color: var(--sklearn-color-text);\n",
              "  background-color: var(--sklearn-color-unfitted-level-2);\n",
              "}\n",
              "\n",
              "/* Label box, darken color on hover, fitted */\n",
              "#sk-container-id-8 div.sk-label.fitted:hover label.sk-toggleable__label.fitted {\n",
              "  color: var(--sklearn-color-text);\n",
              "  background-color: var(--sklearn-color-fitted-level-2);\n",
              "}\n",
              "\n",
              "/* Estimator label */\n",
              "\n",
              "#sk-container-id-8 div.sk-label label {\n",
              "  font-family: monospace;\n",
              "  font-weight: bold;\n",
              "  display: inline-block;\n",
              "  line-height: 1.2em;\n",
              "}\n",
              "\n",
              "#sk-container-id-8 div.sk-label-container {\n",
              "  text-align: center;\n",
              "}\n",
              "\n",
              "/* Estimator-specific */\n",
              "#sk-container-id-8 div.sk-estimator {\n",
              "  font-family: monospace;\n",
              "  border: 1px dotted var(--sklearn-color-border-box);\n",
              "  border-radius: 0.25em;\n",
              "  box-sizing: border-box;\n",
              "  margin-bottom: 0.5em;\n",
              "  /* unfitted */\n",
              "  background-color: var(--sklearn-color-unfitted-level-0);\n",
              "}\n",
              "\n",
              "#sk-container-id-8 div.sk-estimator.fitted {\n",
              "  /* fitted */\n",
              "  background-color: var(--sklearn-color-fitted-level-0);\n",
              "}\n",
              "\n",
              "/* on hover */\n",
              "#sk-container-id-8 div.sk-estimator:hover {\n",
              "  /* unfitted */\n",
              "  background-color: var(--sklearn-color-unfitted-level-2);\n",
              "}\n",
              "\n",
              "#sk-container-id-8 div.sk-estimator.fitted:hover {\n",
              "  /* fitted */\n",
              "  background-color: var(--sklearn-color-fitted-level-2);\n",
              "}\n",
              "\n",
              "/* Specification for estimator info (e.g. \"i\" and \"?\") */\n",
              "\n",
              "/* Common style for \"i\" and \"?\" */\n",
              "\n",
              ".sk-estimator-doc-link,\n",
              "a:link.sk-estimator-doc-link,\n",
              "a:visited.sk-estimator-doc-link {\n",
              "  float: right;\n",
              "  font-size: smaller;\n",
              "  line-height: 1em;\n",
              "  font-family: monospace;\n",
              "  background-color: var(--sklearn-color-background);\n",
              "  border-radius: 1em;\n",
              "  height: 1em;\n",
              "  width: 1em;\n",
              "  text-decoration: none !important;\n",
              "  margin-left: 0.5em;\n",
              "  text-align: center;\n",
              "  /* unfitted */\n",
              "  border: var(--sklearn-color-unfitted-level-1) 1pt solid;\n",
              "  color: var(--sklearn-color-unfitted-level-1);\n",
              "}\n",
              "\n",
              ".sk-estimator-doc-link.fitted,\n",
              "a:link.sk-estimator-doc-link.fitted,\n",
              "a:visited.sk-estimator-doc-link.fitted {\n",
              "  /* fitted */\n",
              "  border: var(--sklearn-color-fitted-level-1) 1pt solid;\n",
              "  color: var(--sklearn-color-fitted-level-1);\n",
              "}\n",
              "\n",
              "/* On hover */\n",
              "div.sk-estimator:hover .sk-estimator-doc-link:hover,\n",
              ".sk-estimator-doc-link:hover,\n",
              "div.sk-label-container:hover .sk-estimator-doc-link:hover,\n",
              ".sk-estimator-doc-link:hover {\n",
              "  /* unfitted */\n",
              "  background-color: var(--sklearn-color-unfitted-level-3);\n",
              "  color: var(--sklearn-color-background);\n",
              "  text-decoration: none;\n",
              "}\n",
              "\n",
              "div.sk-estimator.fitted:hover .sk-estimator-doc-link.fitted:hover,\n",
              ".sk-estimator-doc-link.fitted:hover,\n",
              "div.sk-label-container:hover .sk-estimator-doc-link.fitted:hover,\n",
              ".sk-estimator-doc-link.fitted:hover {\n",
              "  /* fitted */\n",
              "  background-color: var(--sklearn-color-fitted-level-3);\n",
              "  color: var(--sklearn-color-background);\n",
              "  text-decoration: none;\n",
              "}\n",
              "\n",
              "/* Span, style for the box shown on hovering the info icon */\n",
              ".sk-estimator-doc-link span {\n",
              "  display: none;\n",
              "  z-index: 9999;\n",
              "  position: relative;\n",
              "  font-weight: normal;\n",
              "  right: .2ex;\n",
              "  padding: .5ex;\n",
              "  margin: .5ex;\n",
              "  width: min-content;\n",
              "  min-width: 20ex;\n",
              "  max-width: 50ex;\n",
              "  color: var(--sklearn-color-text);\n",
              "  box-shadow: 2pt 2pt 4pt #999;\n",
              "  /* unfitted */\n",
              "  background: var(--sklearn-color-unfitted-level-0);\n",
              "  border: .5pt solid var(--sklearn-color-unfitted-level-3);\n",
              "}\n",
              "\n",
              ".sk-estimator-doc-link.fitted span {\n",
              "  /* fitted */\n",
              "  background: var(--sklearn-color-fitted-level-0);\n",
              "  border: var(--sklearn-color-fitted-level-3);\n",
              "}\n",
              "\n",
              ".sk-estimator-doc-link:hover span {\n",
              "  display: block;\n",
              "}\n",
              "\n",
              "/* \"?\"-specific style due to the `<a>` HTML tag */\n",
              "\n",
              "#sk-container-id-8 a.estimator_doc_link {\n",
              "  float: right;\n",
              "  font-size: 1rem;\n",
              "  line-height: 1em;\n",
              "  font-family: monospace;\n",
              "  background-color: var(--sklearn-color-background);\n",
              "  border-radius: 1rem;\n",
              "  height: 1rem;\n",
              "  width: 1rem;\n",
              "  text-decoration: none;\n",
              "  /* unfitted */\n",
              "  color: var(--sklearn-color-unfitted-level-1);\n",
              "  border: var(--sklearn-color-unfitted-level-1) 1pt solid;\n",
              "}\n",
              "\n",
              "#sk-container-id-8 a.estimator_doc_link.fitted {\n",
              "  /* fitted */\n",
              "  border: var(--sklearn-color-fitted-level-1) 1pt solid;\n",
              "  color: var(--sklearn-color-fitted-level-1);\n",
              "}\n",
              "\n",
              "/* On hover */\n",
              "#sk-container-id-8 a.estimator_doc_link:hover {\n",
              "  /* unfitted */\n",
              "  background-color: var(--sklearn-color-unfitted-level-3);\n",
              "  color: var(--sklearn-color-background);\n",
              "  text-decoration: none;\n",
              "}\n",
              "\n",
              "#sk-container-id-8 a.estimator_doc_link.fitted:hover {\n",
              "  /* fitted */\n",
              "  background-color: var(--sklearn-color-fitted-level-3);\n",
              "}\n",
              "</style><div id=\"sk-container-id-8\" class=\"sk-top-container\"><div class=\"sk-text-repr-fallback\"><pre>GridSearchCV(cv=5, estimator=LogisticRegression(max_iter=1000, random_state=42),\n",
              "             n_jobs=-1,\n",
              "             param_grid={&#x27;C&#x27;: [0.03, 0.01, 0.02], &#x27;penalty&#x27;: [&#x27;l2&#x27;],\n",
              "                         &#x27;solver&#x27;: [&#x27;lbfgs&#x27;]},\n",
              "             scoring=&#x27;accuracy&#x27;, verbose=1)</pre><b>In a Jupyter environment, please rerun this cell to show the HTML representation or trust the notebook. <br />On GitHub, the HTML representation is unable to render, please try loading this page with nbviewer.org.</b></div><div class=\"sk-container\" hidden><div class=\"sk-item sk-dashed-wrapped\"><div class=\"sk-label-container\"><div class=\"sk-label fitted sk-toggleable\"><input class=\"sk-toggleable__control sk-hidden--visually\" id=\"sk-estimator-id-16\" type=\"checkbox\" ><label for=\"sk-estimator-id-16\" class=\"sk-toggleable__label fitted sk-toggleable__label-arrow\"><div><div>GridSearchCV</div></div><div><a class=\"sk-estimator-doc-link fitted\" rel=\"noreferrer\" target=\"_blank\" href=\"https://scikit-learn.org/1.6/modules/generated/sklearn.model_selection.GridSearchCV.html\">?<span>Documentation for GridSearchCV</span></a><span class=\"sk-estimator-doc-link fitted\">i<span>Fitted</span></span></div></label><div class=\"sk-toggleable__content fitted\"><pre>GridSearchCV(cv=5, estimator=LogisticRegression(max_iter=1000, random_state=42),\n",
              "             n_jobs=-1,\n",
              "             param_grid={&#x27;C&#x27;: [0.03, 0.01, 0.02], &#x27;penalty&#x27;: [&#x27;l2&#x27;],\n",
              "                         &#x27;solver&#x27;: [&#x27;lbfgs&#x27;]},\n",
              "             scoring=&#x27;accuracy&#x27;, verbose=1)</pre></div> </div></div><div class=\"sk-parallel\"><div class=\"sk-parallel-item\"><div class=\"sk-item\"><div class=\"sk-label-container\"><div class=\"sk-label fitted sk-toggleable\"><input class=\"sk-toggleable__control sk-hidden--visually\" id=\"sk-estimator-id-17\" type=\"checkbox\" ><label for=\"sk-estimator-id-17\" class=\"sk-toggleable__label fitted sk-toggleable__label-arrow\"><div><div>best_estimator_: LogisticRegression</div></div></label><div class=\"sk-toggleable__content fitted\"><pre>LogisticRegression(C=0.03, max_iter=1000, random_state=42)</pre></div> </div></div><div class=\"sk-serial\"><div class=\"sk-item\"><div class=\"sk-estimator fitted sk-toggleable\"><input class=\"sk-toggleable__control sk-hidden--visually\" id=\"sk-estimator-id-18\" type=\"checkbox\" ><label for=\"sk-estimator-id-18\" class=\"sk-toggleable__label fitted sk-toggleable__label-arrow\"><div><div>LogisticRegression</div></div><div><a class=\"sk-estimator-doc-link fitted\" rel=\"noreferrer\" target=\"_blank\" href=\"https://scikit-learn.org/1.6/modules/generated/sklearn.linear_model.LogisticRegression.html\">?<span>Documentation for LogisticRegression</span></a></div></label><div class=\"sk-toggleable__content fitted\"><pre>LogisticRegression(C=0.03, max_iter=1000, random_state=42)</pre></div> </div></div></div></div></div></div></div></div></div>"
            ]
          },
          "metadata": {},
          "execution_count": 72
        }
      ],
      "source": [
        "# Fit the grid search on the training data\n",
        "grid_search.fit(X_train_tfidf_stage2, y_train_tfidf_stage2)\n",
        "\n"
      ]
    },
    {
      "cell_type": "markdown",
      "metadata": {
        "id": "j_jjMgeCkJc1"
      },
      "source": [
        "### Best Classifier"
      ]
    },
    {
      "cell_type": "code",
      "execution_count": 73,
      "metadata": {
        "colab": {
          "base_uri": "https://localhost:8080/"
        },
        "id": "41k3pKQVNdWs",
        "outputId": "ea0ffc39-a88f-4388-deef-60b6f97f6731"
      },
      "outputs": [
        {
          "output_type": "stream",
          "name": "stdout",
          "text": [
            "Best hyperparameters found:  {'C': 0.03, 'penalty': 'l2', 'solver': 'lbfgs'}\n"
          ]
        }
      ],
      "source": [
        "# Get the best model and hyperparameters\n",
        "best_clf = grid_search.best_estimator_\n",
        "print(\"Best hyperparameters found: \", grid_search.best_params_)\n"
      ]
    },
    {
      "cell_type": "code",
      "execution_count": 74,
      "metadata": {
        "colab": {
          "base_uri": "https://localhost:8080/",
          "height": 80
        },
        "id": "mBcMOdnH6Y5k",
        "outputId": "f4261bc2-1aae-482f-d4c6-d7b8a8882909"
      },
      "outputs": [
        {
          "output_type": "execute_result",
          "data": {
            "text/plain": [
              "SVC(C=0.3, kernel='linear', random_state=42)"
            ],
            "text/html": [
              "<style>#sk-container-id-9 {\n",
              "  /* Definition of color scheme common for light and dark mode */\n",
              "  --sklearn-color-text: #000;\n",
              "  --sklearn-color-text-muted: #666;\n",
              "  --sklearn-color-line: gray;\n",
              "  /* Definition of color scheme for unfitted estimators */\n",
              "  --sklearn-color-unfitted-level-0: #fff5e6;\n",
              "  --sklearn-color-unfitted-level-1: #f6e4d2;\n",
              "  --sklearn-color-unfitted-level-2: #ffe0b3;\n",
              "  --sklearn-color-unfitted-level-3: chocolate;\n",
              "  /* Definition of color scheme for fitted estimators */\n",
              "  --sklearn-color-fitted-level-0: #f0f8ff;\n",
              "  --sklearn-color-fitted-level-1: #d4ebff;\n",
              "  --sklearn-color-fitted-level-2: #b3dbfd;\n",
              "  --sklearn-color-fitted-level-3: cornflowerblue;\n",
              "\n",
              "  /* Specific color for light theme */\n",
              "  --sklearn-color-text-on-default-background: var(--sg-text-color, var(--theme-code-foreground, var(--jp-content-font-color1, black)));\n",
              "  --sklearn-color-background: var(--sg-background-color, var(--theme-background, var(--jp-layout-color0, white)));\n",
              "  --sklearn-color-border-box: var(--sg-text-color, var(--theme-code-foreground, var(--jp-content-font-color1, black)));\n",
              "  --sklearn-color-icon: #696969;\n",
              "\n",
              "  @media (prefers-color-scheme: dark) {\n",
              "    /* Redefinition of color scheme for dark theme */\n",
              "    --sklearn-color-text-on-default-background: var(--sg-text-color, var(--theme-code-foreground, var(--jp-content-font-color1, white)));\n",
              "    --sklearn-color-background: var(--sg-background-color, var(--theme-background, var(--jp-layout-color0, #111)));\n",
              "    --sklearn-color-border-box: var(--sg-text-color, var(--theme-code-foreground, var(--jp-content-font-color1, white)));\n",
              "    --sklearn-color-icon: #878787;\n",
              "  }\n",
              "}\n",
              "\n",
              "#sk-container-id-9 {\n",
              "  color: var(--sklearn-color-text);\n",
              "}\n",
              "\n",
              "#sk-container-id-9 pre {\n",
              "  padding: 0;\n",
              "}\n",
              "\n",
              "#sk-container-id-9 input.sk-hidden--visually {\n",
              "  border: 0;\n",
              "  clip: rect(1px 1px 1px 1px);\n",
              "  clip: rect(1px, 1px, 1px, 1px);\n",
              "  height: 1px;\n",
              "  margin: -1px;\n",
              "  overflow: hidden;\n",
              "  padding: 0;\n",
              "  position: absolute;\n",
              "  width: 1px;\n",
              "}\n",
              "\n",
              "#sk-container-id-9 div.sk-dashed-wrapped {\n",
              "  border: 1px dashed var(--sklearn-color-line);\n",
              "  margin: 0 0.4em 0.5em 0.4em;\n",
              "  box-sizing: border-box;\n",
              "  padding-bottom: 0.4em;\n",
              "  background-color: var(--sklearn-color-background);\n",
              "}\n",
              "\n",
              "#sk-container-id-9 div.sk-container {\n",
              "  /* jupyter's `normalize.less` sets `[hidden] { display: none; }`\n",
              "     but bootstrap.min.css set `[hidden] { display: none !important; }`\n",
              "     so we also need the `!important` here to be able to override the\n",
              "     default hidden behavior on the sphinx rendered scikit-learn.org.\n",
              "     See: https://github.com/scikit-learn/scikit-learn/issues/21755 */\n",
              "  display: inline-block !important;\n",
              "  position: relative;\n",
              "}\n",
              "\n",
              "#sk-container-id-9 div.sk-text-repr-fallback {\n",
              "  display: none;\n",
              "}\n",
              "\n",
              "div.sk-parallel-item,\n",
              "div.sk-serial,\n",
              "div.sk-item {\n",
              "  /* draw centered vertical line to link estimators */\n",
              "  background-image: linear-gradient(var(--sklearn-color-text-on-default-background), var(--sklearn-color-text-on-default-background));\n",
              "  background-size: 2px 100%;\n",
              "  background-repeat: no-repeat;\n",
              "  background-position: center center;\n",
              "}\n",
              "\n",
              "/* Parallel-specific style estimator block */\n",
              "\n",
              "#sk-container-id-9 div.sk-parallel-item::after {\n",
              "  content: \"\";\n",
              "  width: 100%;\n",
              "  border-bottom: 2px solid var(--sklearn-color-text-on-default-background);\n",
              "  flex-grow: 1;\n",
              "}\n",
              "\n",
              "#sk-container-id-9 div.sk-parallel {\n",
              "  display: flex;\n",
              "  align-items: stretch;\n",
              "  justify-content: center;\n",
              "  background-color: var(--sklearn-color-background);\n",
              "  position: relative;\n",
              "}\n",
              "\n",
              "#sk-container-id-9 div.sk-parallel-item {\n",
              "  display: flex;\n",
              "  flex-direction: column;\n",
              "}\n",
              "\n",
              "#sk-container-id-9 div.sk-parallel-item:first-child::after {\n",
              "  align-self: flex-end;\n",
              "  width: 50%;\n",
              "}\n",
              "\n",
              "#sk-container-id-9 div.sk-parallel-item:last-child::after {\n",
              "  align-self: flex-start;\n",
              "  width: 50%;\n",
              "}\n",
              "\n",
              "#sk-container-id-9 div.sk-parallel-item:only-child::after {\n",
              "  width: 0;\n",
              "}\n",
              "\n",
              "/* Serial-specific style estimator block */\n",
              "\n",
              "#sk-container-id-9 div.sk-serial {\n",
              "  display: flex;\n",
              "  flex-direction: column;\n",
              "  align-items: center;\n",
              "  background-color: var(--sklearn-color-background);\n",
              "  padding-right: 1em;\n",
              "  padding-left: 1em;\n",
              "}\n",
              "\n",
              "\n",
              "/* Toggleable style: style used for estimator/Pipeline/ColumnTransformer box that is\n",
              "clickable and can be expanded/collapsed.\n",
              "- Pipeline and ColumnTransformer use this feature and define the default style\n",
              "- Estimators will overwrite some part of the style using the `sk-estimator` class\n",
              "*/\n",
              "\n",
              "/* Pipeline and ColumnTransformer style (default) */\n",
              "\n",
              "#sk-container-id-9 div.sk-toggleable {\n",
              "  /* Default theme specific background. It is overwritten whether we have a\n",
              "  specific estimator or a Pipeline/ColumnTransformer */\n",
              "  background-color: var(--sklearn-color-background);\n",
              "}\n",
              "\n",
              "/* Toggleable label */\n",
              "#sk-container-id-9 label.sk-toggleable__label {\n",
              "  cursor: pointer;\n",
              "  display: flex;\n",
              "  width: 100%;\n",
              "  margin-bottom: 0;\n",
              "  padding: 0.5em;\n",
              "  box-sizing: border-box;\n",
              "  text-align: center;\n",
              "  align-items: start;\n",
              "  justify-content: space-between;\n",
              "  gap: 0.5em;\n",
              "}\n",
              "\n",
              "#sk-container-id-9 label.sk-toggleable__label .caption {\n",
              "  font-size: 0.6rem;\n",
              "  font-weight: lighter;\n",
              "  color: var(--sklearn-color-text-muted);\n",
              "}\n",
              "\n",
              "#sk-container-id-9 label.sk-toggleable__label-arrow:before {\n",
              "  /* Arrow on the left of the label */\n",
              "  content: \"▸\";\n",
              "  float: left;\n",
              "  margin-right: 0.25em;\n",
              "  color: var(--sklearn-color-icon);\n",
              "}\n",
              "\n",
              "#sk-container-id-9 label.sk-toggleable__label-arrow:hover:before {\n",
              "  color: var(--sklearn-color-text);\n",
              "}\n",
              "\n",
              "/* Toggleable content - dropdown */\n",
              "\n",
              "#sk-container-id-9 div.sk-toggleable__content {\n",
              "  max-height: 0;\n",
              "  max-width: 0;\n",
              "  overflow: hidden;\n",
              "  text-align: left;\n",
              "  /* unfitted */\n",
              "  background-color: var(--sklearn-color-unfitted-level-0);\n",
              "}\n",
              "\n",
              "#sk-container-id-9 div.sk-toggleable__content.fitted {\n",
              "  /* fitted */\n",
              "  background-color: var(--sklearn-color-fitted-level-0);\n",
              "}\n",
              "\n",
              "#sk-container-id-9 div.sk-toggleable__content pre {\n",
              "  margin: 0.2em;\n",
              "  border-radius: 0.25em;\n",
              "  color: var(--sklearn-color-text);\n",
              "  /* unfitted */\n",
              "  background-color: var(--sklearn-color-unfitted-level-0);\n",
              "}\n",
              "\n",
              "#sk-container-id-9 div.sk-toggleable__content.fitted pre {\n",
              "  /* unfitted */\n",
              "  background-color: var(--sklearn-color-fitted-level-0);\n",
              "}\n",
              "\n",
              "#sk-container-id-9 input.sk-toggleable__control:checked~div.sk-toggleable__content {\n",
              "  /* Expand drop-down */\n",
              "  max-height: 200px;\n",
              "  max-width: 100%;\n",
              "  overflow: auto;\n",
              "}\n",
              "\n",
              "#sk-container-id-9 input.sk-toggleable__control:checked~label.sk-toggleable__label-arrow:before {\n",
              "  content: \"▾\";\n",
              "}\n",
              "\n",
              "/* Pipeline/ColumnTransformer-specific style */\n",
              "\n",
              "#sk-container-id-9 div.sk-label input.sk-toggleable__control:checked~label.sk-toggleable__label {\n",
              "  color: var(--sklearn-color-text);\n",
              "  background-color: var(--sklearn-color-unfitted-level-2);\n",
              "}\n",
              "\n",
              "#sk-container-id-9 div.sk-label.fitted input.sk-toggleable__control:checked~label.sk-toggleable__label {\n",
              "  background-color: var(--sklearn-color-fitted-level-2);\n",
              "}\n",
              "\n",
              "/* Estimator-specific style */\n",
              "\n",
              "/* Colorize estimator box */\n",
              "#sk-container-id-9 div.sk-estimator input.sk-toggleable__control:checked~label.sk-toggleable__label {\n",
              "  /* unfitted */\n",
              "  background-color: var(--sklearn-color-unfitted-level-2);\n",
              "}\n",
              "\n",
              "#sk-container-id-9 div.sk-estimator.fitted input.sk-toggleable__control:checked~label.sk-toggleable__label {\n",
              "  /* fitted */\n",
              "  background-color: var(--sklearn-color-fitted-level-2);\n",
              "}\n",
              "\n",
              "#sk-container-id-9 div.sk-label label.sk-toggleable__label,\n",
              "#sk-container-id-9 div.sk-label label {\n",
              "  /* The background is the default theme color */\n",
              "  color: var(--sklearn-color-text-on-default-background);\n",
              "}\n",
              "\n",
              "/* On hover, darken the color of the background */\n",
              "#sk-container-id-9 div.sk-label:hover label.sk-toggleable__label {\n",
              "  color: var(--sklearn-color-text);\n",
              "  background-color: var(--sklearn-color-unfitted-level-2);\n",
              "}\n",
              "\n",
              "/* Label box, darken color on hover, fitted */\n",
              "#sk-container-id-9 div.sk-label.fitted:hover label.sk-toggleable__label.fitted {\n",
              "  color: var(--sklearn-color-text);\n",
              "  background-color: var(--sklearn-color-fitted-level-2);\n",
              "}\n",
              "\n",
              "/* Estimator label */\n",
              "\n",
              "#sk-container-id-9 div.sk-label label {\n",
              "  font-family: monospace;\n",
              "  font-weight: bold;\n",
              "  display: inline-block;\n",
              "  line-height: 1.2em;\n",
              "}\n",
              "\n",
              "#sk-container-id-9 div.sk-label-container {\n",
              "  text-align: center;\n",
              "}\n",
              "\n",
              "/* Estimator-specific */\n",
              "#sk-container-id-9 div.sk-estimator {\n",
              "  font-family: monospace;\n",
              "  border: 1px dotted var(--sklearn-color-border-box);\n",
              "  border-radius: 0.25em;\n",
              "  box-sizing: border-box;\n",
              "  margin-bottom: 0.5em;\n",
              "  /* unfitted */\n",
              "  background-color: var(--sklearn-color-unfitted-level-0);\n",
              "}\n",
              "\n",
              "#sk-container-id-9 div.sk-estimator.fitted {\n",
              "  /* fitted */\n",
              "  background-color: var(--sklearn-color-fitted-level-0);\n",
              "}\n",
              "\n",
              "/* on hover */\n",
              "#sk-container-id-9 div.sk-estimator:hover {\n",
              "  /* unfitted */\n",
              "  background-color: var(--sklearn-color-unfitted-level-2);\n",
              "}\n",
              "\n",
              "#sk-container-id-9 div.sk-estimator.fitted:hover {\n",
              "  /* fitted */\n",
              "  background-color: var(--sklearn-color-fitted-level-2);\n",
              "}\n",
              "\n",
              "/* Specification for estimator info (e.g. \"i\" and \"?\") */\n",
              "\n",
              "/* Common style for \"i\" and \"?\" */\n",
              "\n",
              ".sk-estimator-doc-link,\n",
              "a:link.sk-estimator-doc-link,\n",
              "a:visited.sk-estimator-doc-link {\n",
              "  float: right;\n",
              "  font-size: smaller;\n",
              "  line-height: 1em;\n",
              "  font-family: monospace;\n",
              "  background-color: var(--sklearn-color-background);\n",
              "  border-radius: 1em;\n",
              "  height: 1em;\n",
              "  width: 1em;\n",
              "  text-decoration: none !important;\n",
              "  margin-left: 0.5em;\n",
              "  text-align: center;\n",
              "  /* unfitted */\n",
              "  border: var(--sklearn-color-unfitted-level-1) 1pt solid;\n",
              "  color: var(--sklearn-color-unfitted-level-1);\n",
              "}\n",
              "\n",
              ".sk-estimator-doc-link.fitted,\n",
              "a:link.sk-estimator-doc-link.fitted,\n",
              "a:visited.sk-estimator-doc-link.fitted {\n",
              "  /* fitted */\n",
              "  border: var(--sklearn-color-fitted-level-1) 1pt solid;\n",
              "  color: var(--sklearn-color-fitted-level-1);\n",
              "}\n",
              "\n",
              "/* On hover */\n",
              "div.sk-estimator:hover .sk-estimator-doc-link:hover,\n",
              ".sk-estimator-doc-link:hover,\n",
              "div.sk-label-container:hover .sk-estimator-doc-link:hover,\n",
              ".sk-estimator-doc-link:hover {\n",
              "  /* unfitted */\n",
              "  background-color: var(--sklearn-color-unfitted-level-3);\n",
              "  color: var(--sklearn-color-background);\n",
              "  text-decoration: none;\n",
              "}\n",
              "\n",
              "div.sk-estimator.fitted:hover .sk-estimator-doc-link.fitted:hover,\n",
              ".sk-estimator-doc-link.fitted:hover,\n",
              "div.sk-label-container:hover .sk-estimator-doc-link.fitted:hover,\n",
              ".sk-estimator-doc-link.fitted:hover {\n",
              "  /* fitted */\n",
              "  background-color: var(--sklearn-color-fitted-level-3);\n",
              "  color: var(--sklearn-color-background);\n",
              "  text-decoration: none;\n",
              "}\n",
              "\n",
              "/* Span, style for the box shown on hovering the info icon */\n",
              ".sk-estimator-doc-link span {\n",
              "  display: none;\n",
              "  z-index: 9999;\n",
              "  position: relative;\n",
              "  font-weight: normal;\n",
              "  right: .2ex;\n",
              "  padding: .5ex;\n",
              "  margin: .5ex;\n",
              "  width: min-content;\n",
              "  min-width: 20ex;\n",
              "  max-width: 50ex;\n",
              "  color: var(--sklearn-color-text);\n",
              "  box-shadow: 2pt 2pt 4pt #999;\n",
              "  /* unfitted */\n",
              "  background: var(--sklearn-color-unfitted-level-0);\n",
              "  border: .5pt solid var(--sklearn-color-unfitted-level-3);\n",
              "}\n",
              "\n",
              ".sk-estimator-doc-link.fitted span {\n",
              "  /* fitted */\n",
              "  background: var(--sklearn-color-fitted-level-0);\n",
              "  border: var(--sklearn-color-fitted-level-3);\n",
              "}\n",
              "\n",
              ".sk-estimator-doc-link:hover span {\n",
              "  display: block;\n",
              "}\n",
              "\n",
              "/* \"?\"-specific style due to the `<a>` HTML tag */\n",
              "\n",
              "#sk-container-id-9 a.estimator_doc_link {\n",
              "  float: right;\n",
              "  font-size: 1rem;\n",
              "  line-height: 1em;\n",
              "  font-family: monospace;\n",
              "  background-color: var(--sklearn-color-background);\n",
              "  border-radius: 1rem;\n",
              "  height: 1rem;\n",
              "  width: 1rem;\n",
              "  text-decoration: none;\n",
              "  /* unfitted */\n",
              "  color: var(--sklearn-color-unfitted-level-1);\n",
              "  border: var(--sklearn-color-unfitted-level-1) 1pt solid;\n",
              "}\n",
              "\n",
              "#sk-container-id-9 a.estimator_doc_link.fitted {\n",
              "  /* fitted */\n",
              "  border: var(--sklearn-color-fitted-level-1) 1pt solid;\n",
              "  color: var(--sklearn-color-fitted-level-1);\n",
              "}\n",
              "\n",
              "/* On hover */\n",
              "#sk-container-id-9 a.estimator_doc_link:hover {\n",
              "  /* unfitted */\n",
              "  background-color: var(--sklearn-color-unfitted-level-3);\n",
              "  color: var(--sklearn-color-background);\n",
              "  text-decoration: none;\n",
              "}\n",
              "\n",
              "#sk-container-id-9 a.estimator_doc_link.fitted:hover {\n",
              "  /* fitted */\n",
              "  background-color: var(--sklearn-color-fitted-level-3);\n",
              "}\n",
              "</style><div id=\"sk-container-id-9\" class=\"sk-top-container\"><div class=\"sk-text-repr-fallback\"><pre>SVC(C=0.3, kernel=&#x27;linear&#x27;, random_state=42)</pre><b>In a Jupyter environment, please rerun this cell to show the HTML representation or trust the notebook. <br />On GitHub, the HTML representation is unable to render, please try loading this page with nbviewer.org.</b></div><div class=\"sk-container\" hidden><div class=\"sk-item\"><div class=\"sk-estimator fitted sk-toggleable\"><input class=\"sk-toggleable__control sk-hidden--visually\" id=\"sk-estimator-id-19\" type=\"checkbox\" checked><label for=\"sk-estimator-id-19\" class=\"sk-toggleable__label fitted sk-toggleable__label-arrow\"><div><div>SVC</div></div><div><a class=\"sk-estimator-doc-link fitted\" rel=\"noreferrer\" target=\"_blank\" href=\"https://scikit-learn.org/1.6/modules/generated/sklearn.svm.SVC.html\">?<span>Documentation for SVC</span></a><span class=\"sk-estimator-doc-link fitted\">i<span>Fitted</span></span></div></label><div class=\"sk-toggleable__content fitted\"><pre>SVC(C=0.3, kernel=&#x27;linear&#x27;, random_state=42)</pre></div> </div></div></div></div>"
            ]
          },
          "metadata": {},
          "execution_count": 74
        }
      ],
      "source": [
        "# Train multi-class classifier for Stage 2\n",
        "logistic_classifier =best_clf\n",
        "logistic_classifier = SVC(random_state=42,kernel='linear',C=0.3)\n",
        "\n",
        "logistic_classifier.fit(X_train_tfidf_stage2, y_train_tfidf_stage2)\n"
      ]
    },
    {
      "cell_type": "markdown",
      "metadata": {
        "id": "S7eDIGOfl6_Y"
      },
      "source": [
        "### Classification report on training"
      ]
    },
    {
      "cell_type": "code",
      "execution_count": 75,
      "metadata": {
        "colab": {
          "base_uri": "https://localhost:8080/"
        },
        "id": "cprfGU8-mCol",
        "outputId": "a32ed6fa-66ce-479d-c031-d640223e4df3"
      },
      "outputs": [
        {
          "output_type": "stream",
          "name": "stdout",
          "text": [
            "Stage 1 (Binary Classification) - Normal vs Non-Normal\n",
            "Accuracy: 0.6425160603249854\n",
            "              precision    recall  f1-score   support\n",
            "\n",
            "           0       0.83      0.69      0.76      3086\n",
            "           1       0.92      0.37      0.52      2250\n",
            "           2       0.57      0.85      0.68     12388\n",
            "           3       0.96      0.03      0.06       840\n",
            "           4       0.86      0.18      0.30      2051\n",
            "           5       0.71      0.57      0.63      8494\n",
            "\n",
            "    accuracy                           0.64     29109\n",
            "   macro avg       0.81      0.45      0.49     29109\n",
            "weighted avg       0.70      0.64      0.62     29109\n",
            "\n",
            "Confusion Matrix:\n",
            " [[ 2137     9   850     0    17    73]\n",
            " [   64   827  1278     0     5    76]\n",
            " [  165    50 10493     0    24  1656]\n",
            " [    9     0   757    27     3    44]\n",
            " [  171     5  1389     1   371   114]\n",
            " [   27    12  3597     0    10  4848]]\n"
          ]
        }
      ],
      "source": [
        "# Evaluate binary classifier\n",
        "y_pred_stage2 = logistic_classifier.predict(X_train_tfidf_stage2)\n",
        "print(\"Stage 1 (Binary Classification) - Normal vs Non-Normal\")\n",
        "print(\"Accuracy:\", accuracy_score(y_train_tfidf_stage2, y_pred_stage2))\n",
        "print(classification_report(y_train_tfidf_stage2, y_pred_stage2))\n",
        "print(\"Confusion Matrix:\\n\", confusion_matrix(y_train_tfidf_stage2, y_pred_stage2))\n"
      ]
    },
    {
      "cell_type": "markdown",
      "metadata": {
        "id": "RJYz-psmjdIt"
      },
      "source": [
        "### Classification Report"
      ]
    },
    {
      "cell_type": "code",
      "execution_count": 76,
      "metadata": {
        "colab": {
          "base_uri": "https://localhost:8080/"
        },
        "id": "rBCSAmxlI4m6",
        "outputId": "5d4909cd-3a1b-4150-ee84-af7efdceb849"
      },
      "outputs": [
        {
          "output_type": "stream",
          "name": "stdout",
          "text": [
            "Stage 2 (Multi-Class Classification) - Specific Conditions\n",
            "Accuracy: 0.6278876746437958\n",
            "              precision    recall  f1-score   support\n",
            "\n",
            "           0       0.84      0.71      0.77       755\n",
            "           1       0.92      0.36      0.52       527\n",
            "           2       0.55      0.83      0.66      3016\n",
            "           3       0.78      0.03      0.06       237\n",
            "           4       0.87      0.22      0.35       536\n",
            "           5       0.70      0.55      0.62      2158\n",
            "\n",
            "    accuracy                           0.63      7229\n",
            "   macro avg       0.78      0.45      0.50      7229\n",
            "weighted avg       0.68      0.63      0.61      7229\n",
            "\n",
            "Confusion Matrix:\n",
            " [[ 534    1  205    0    4   11]\n",
            " [  11  190  308    0    1   17]\n",
            " [  46    8 2497    0    9  456]\n",
            " [   6    1  212    7    0   11]\n",
            " [  34    1  359    2  117   23]\n",
            " [   4    5  952    0    3 1194]]\n"
          ]
        }
      ],
      "source": [
        "\n",
        "# Evaluate multi-class classifier\n",
        "y_pred_stage2 = logistic_classifier.predict(X_test_tfidf_stage2)\n",
        "print(\"Stage 2 (Multi-Class Classification) - Specific Conditions\")\n",
        "print(\"Accuracy:\", accuracy_score(y_test_multi, y_pred_stage2))\n",
        "print(classification_report(y_test_multi, y_pred_stage2))\n",
        "conf_matrix_stage2= confusion_matrix(y_test_multi, y_pred_stage2)\n",
        "print(\"Confusion Matrix:\\n\",conf_matrix_stage2)\n"
      ]
    },
    {
      "cell_type": "markdown",
      "metadata": {
        "id": "1SwFykRWj1vm"
      },
      "source": [
        "### Heat Map"
      ]
    },
    {
      "cell_type": "code",
      "execution_count": 77,
      "metadata": {
        "colab": {
          "base_uri": "https://localhost:8080/",
          "height": 842
        },
        "id": "qpQymDjLJkZ9",
        "outputId": "631e8493-87cb-4c9e-ff30-443fbd7a225f"
      },
      "outputs": [
        {
          "output_type": "display_data",
          "data": {
            "text/plain": [
              "<Figure size 1000x800 with 2 Axes>"
            ],
            "image/png": "[encoded data removed]"
          },
          "metadata": {}
        }
      ],
      "source": [
        "# Plot heatmap for Stage 2\n",
        "plt.figure(figsize=(10, 8))\n",
        "sns.heatmap(conf_matrix_stage2, annot=True, fmt=\"d\", cmap=\"Blues\", xticklabels=multi_encoder.classes_, yticklabels=multi_encoder.classes_)\n",
        "plt.title(\"Confusion Matrix - Stage 2 (Non-Normal Classes)\")\n",
        "plt.xlabel(\"Predicted Labels\")\n",
        "plt.ylabel(\"True Labels\")\n",
        "plt.show()\n"
      ]
    },
    {
      "cell_type": "markdown",
      "metadata": {
        "id": "cOvRnG0Gptjg"
      },
      "source": [
        "## 2.3 Best Model"
      ]
    },
    {
      "cell_type": "markdown",
      "metadata": {
        "id": "JNmu1-d-pyKe"
      },
      "source": [
        "choosing the best classfier for this stage"
      ]
    },
    {
      "cell_type": "code",
      "execution_count": 78,
      "metadata": {
        "id": "aGB95rZSqB_V"
      },
      "outputs": [],
      "source": [
        "multi_classifier = logistic_classifier"
      ]
    },
    {
      "cell_type": "markdown",
      "metadata": {
        "id": "nFsqfQ_dI9Sf"
      },
      "source": [
        "# ***combined Two Classifiers***"
      ]
    },
    {
      "cell_type": "markdown",
      "metadata": {
        "id": "o0zTVmgUmqeu"
      },
      "source": [
        "## ***3.1 Predict the test set***"
      ]
    },
    {
      "cell_type": "markdown",
      "metadata": {
        "id": "PT8ue-tVmtkA"
      },
      "source": [
        "### Initialize list for final predictions and true labels\n"
      ]
    },
    {
      "cell_type": "code",
      "execution_count": 79,
      "metadata": {
        "id": "xwudzQE5m0UI"
      },
      "outputs": [],
      "source": [
        "# Initialize list for final predictions and true labels\n",
        "final_predictions = []\n",
        "ground_truth = y_test.tolist()  # Convert y_test to list for easy comparison\n"
      ]
    },
    {
      "cell_type": "markdown",
      "metadata": {
        "id": "FQu5cKSNm3Cc"
      },
      "source": [
        "### Iterate Over the Test Samples"
      ]
    },
    {
      "cell_type": "code",
      "execution_count": 80,
      "metadata": {
        "id": "41MbdUZfUAyg"
      },
      "outputs": [],
      "source": [
        "\n",
        "# Iterate through each sample in X_test\n",
        "for i, test in enumerate(X_test):\n",
        "    # Vectorize the text for Stage 1\n",
        "    # vectorized_text_stage1 = vectorizer_stage1.transform([text])\n",
        "    test = test.reshape(1, -1)\n",
        "    # Stage 1 Prediction (Binary Classification)\n",
        "    stage1_prediction = binary_classifier.predict(test)[0]\n",
        "\n",
        "    if stage1_prediction == binary_encoder.transform(['Normal'])[0]:  # If predicted as \"Normal\"\n",
        "        final_predictions.append('Normal')\n",
        "    else:\n",
        "        # If predicted as \"Non-Normal,\" vectorize for Stage 2 and predict specific condition\n",
        "        # vectorized_text_stage2 = vectorizer_stage2.transform([text])\n",
        "        stage2_prediction = multi_classifier.predict(test)[0]\n",
        "        #stage2_prediction = model.predict(test).argmax(axis=1)\n",
        "\n",
        "        final_predictions.append(multi_encoder.inverse_transform([stage2_prediction])[0])\n"
      ]
    },
    {
      "cell_type": "markdown",
      "metadata": {
        "id": "bJki4GTxm-6c"
      },
      "source": [
        "## ***3.2 Classification Report***"
      ]
    },
    {
      "cell_type": "code",
      "execution_count": 81,
      "metadata": {
        "colab": {
          "base_uri": "https://localhost:8080/"
        },
        "id": "a6X0pg0lnG6r",
        "outputId": "ff47ca2b-0183-49f6-9934-cce0d770e6ea"
      },
      "outputs": [
        {
          "output_type": "stream",
          "name": "stdout",
          "text": [
            "\n",
            "Combined Two-Level Classification Results\n",
            "Overall Accuracy: 0.70\n",
            "                      precision    recall  f1-score   support\n",
            "\n",
            "             Anxiety       0.82      0.70      0.76       755\n",
            "             Bipolar       0.92      0.36      0.51       527\n",
            "          Depression       0.53      0.81      0.64      3016\n",
            "              Normal       0.91      0.90      0.91      3308\n",
            "Personality disorder       0.78      0.03      0.06       237\n",
            "              Stress       0.84      0.21      0.34       536\n",
            "            Suicidal       0.68      0.53      0.59      2158\n",
            "\n",
            "            accuracy                           0.70     10537\n",
            "           macro avg       0.78      0.51      0.54     10537\n",
            "        weighted avg       0.74      0.70      0.69     10537\n",
            "\n"
          ]
        }
      ],
      "source": [
        "accuracy_score_final=accuracy_score(ground_truth, final_predictions)\n",
        "classification_report_final =classification_report(ground_truth, final_predictions)\n",
        "# Final Combined Evaluation\n",
        "print(\"\\nCombined Two-Level Classification Results\")\n",
        "print(f\"Overall Accuracy: {accuracy_score_final:.2f}\")\n",
        "print(classification_report_final)\n"
      ]
    },
    {
      "cell_type": "markdown",
      "metadata": {
        "id": "qdh95cCxnUmc"
      },
      "source": [
        "## ***3.3 Overall Heat Map***"
      ]
    },
    {
      "cell_type": "code",
      "execution_count": 82,
      "metadata": {
        "colab": {
          "base_uri": "https://localhost:8080/",
          "height": 842
        },
        "id": "pGWU3BzTm_xZ",
        "outputId": "54c53bfe-f44f-418f-8d4c-6af17af2fedb"
      },
      "outputs": [
        {
          "output_type": "display_data",
          "data": {
            "text/plain": [
              "<Figure size 1000x800 with 2 Axes>"
            ],
            "image/png": "[encoded data removed]"
          },
          "metadata": {}
        }
      ],
      "source": [
        "# Confusion Matrix and Heatmap for Combined Results\n",
        "conf_matrix_combined = confusion_matrix(ground_truth, final_predictions, labels=df['status'].unique())\n",
        "plt.figure(figsize=(10, 8))\n",
        "sns.heatmap(conf_matrix_combined, annot=True, fmt=\"d\", cmap=\"Blues\", xticklabels=df['status'].unique(), yticklabels=df['status'].unique())\n",
        "plt.title(\"Confusion Matrix - Combined Results (All Classes)\")\n",
        "plt.xlabel(\"Predicted Labels\")\n",
        "plt.ylabel(\"True Labels\")\n",
        "plt.show()\n"
      ]
    },
    {
      "cell_type": "markdown",
      "metadata": {
        "id": "l2uXvCfknp9i"
      },
      "source": [
        "## ***3.4 Conclusion***"
      ]
    },
    {
      "cell_type": "markdown",
      "metadata": {
        "id": "3P1l2O_HnsK6"
      },
      "source": []
    }
  ],
  "metadata": {
    "colab": {
      "collapsed_sections": [
        "m8rEkxRwtt4k",
        "fBOZoO39FiBE",
        "af1gvf4LexF1",
        "NlQxSzrWk51W",
        "G1ZUulIVId-A",
        "2zoEONwt0TYx",
        "iEWYzKrLHM3w",
        "2Bxu6YurHyAY",
        "ppYN2ADdHTkv",
        "QV6rldV9HY6-",
        "wPZehjwhHmay",
        "SNkQWvaYGCGD",
        "Z9EgLsbYGD8v",
        "B39-MI6RGIIx",
        "x2HIGR8TII0_",
        "IsoZkHmzIQTW",
        "00wfz1PalsD0",
        "gzObnP4mk_Kt",
        "1386nu2LeOM3",
        "N6X1q-PhiIKm",
        "A5WCvSq0iW6I",
        "9KMmPGfFq0P_",
        "9Em73VlEj8aH",
        "ijhMxfv0j_xo",
        "cOvRnG0Gptjg",
        "l2uXvCfknp9i"
      ],
      "provenance": []
    },
    "kernelspec": {
      "display_name": "Python 3",
      "name": "python3"
    },
    "language_info": {
      "name": "python"
    }
  },
  "nbformat": 4,
  "nbformat_minor": 0
}